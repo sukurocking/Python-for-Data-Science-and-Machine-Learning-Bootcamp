{
 "cells": [
  {
   "cell_type": "markdown",
   "metadata": {},
   "source": [
    "___\n",
    "\n",
    "<a href='http://www.pieriandata.com'> <img src='../Pierian_Data_Logo.png' /></a>\n",
    "___\n",
    "# Plotly and Cufflinks"
   ]
  },
  {
   "cell_type": "markdown",
   "metadata": {},
   "source": [
    "Plotly is a library that allows you to create interactive plots that you can use in dashboards or websites (you can save them as html files or static images).\n",
    "\n",
    "## Installation\n",
    "\n",
    "In order for this all to work, you'll need to install plotly and cufflinks to call plots directly off of a pandas dataframe. These libraries are not currently available through **conda** but are available through **pip**. Install the libraries at your command line/terminal using:\n",
    "\n",
    "    pip install plotly\n",
    "    pip install cufflinks\n",
    "\n",
    "** NOTE: Make sure you only have one installation of Python on your computer when you do this, otherwise the installation may not work. **\n",
    "\n",
    "## Imports and Set-up"
   ]
  },
  {
   "cell_type": "code",
   "execution_count": 1,
   "metadata": {},
   "outputs": [],
   "source": [
    "import pandas as pd\n",
    "import numpy as np\n",
    "%matplotlib inline"
   ]
  },
  {
   "cell_type": "code",
   "execution_count": 2,
   "metadata": {},
   "outputs": [
    {
     "name": "stdout",
     "output_type": "stream",
     "text": [
      "5.5.0\n"
     ]
    }
   ],
   "source": [
    "from plotly import __version__\n",
    "from plotly.offline import download_plotlyjs, init_notebook_mode, plot, iplot\n",
    "\n",
    "print(__version__) # requires version >= 1.9.0"
   ]
  },
  {
   "cell_type": "code",
   "execution_count": 3,
   "metadata": {},
   "outputs": [],
   "source": [
    "import cufflinks as cf"
   ]
  },
  {
   "cell_type": "code",
   "execution_count": 4,
   "metadata": {},
   "outputs": [
    {
     "data": {
      "text/html": [
       "        <script type=\"text/javascript\">\n",
       "        window.PlotlyConfig = {MathJaxConfig: 'local'};\n",
       "        if (window.MathJax) {MathJax.Hub.Config({SVG: {font: \"STIX-Web\"}});}\n",
       "        if (typeof require !== 'undefined') {\n",
       "        require.undef(\"plotly\");\n",
       "        requirejs.config({\n",
       "            paths: {\n",
       "                'plotly': ['https://cdn.plot.ly/plotly-2.8.3.min']\n",
       "            }\n",
       "        });\n",
       "        require(['plotly'], function(Plotly) {\n",
       "            window._Plotly = Plotly;\n",
       "        });\n",
       "        }\n",
       "        </script>\n",
       "        "
      ]
     },
     "metadata": {},
     "output_type": "display_data"
    }
   ],
   "source": [
    "# For Notebooks\n",
    "init_notebook_mode(connected=True)"
   ]
  },
  {
   "cell_type": "code",
   "execution_count": 5,
   "metadata": {},
   "outputs": [
    {
     "data": {
      "text/html": [
       "        <script type=\"text/javascript\">\n",
       "        window.PlotlyConfig = {MathJaxConfig: 'local'};\n",
       "        if (window.MathJax) {MathJax.Hub.Config({SVG: {font: \"STIX-Web\"}});}\n",
       "        if (typeof require !== 'undefined') {\n",
       "        require.undef(\"plotly\");\n",
       "        requirejs.config({\n",
       "            paths: {\n",
       "                'plotly': ['https://cdn.plot.ly/plotly-2.8.3.min']\n",
       "            }\n",
       "        });\n",
       "        require(['plotly'], function(Plotly) {\n",
       "            window._Plotly = Plotly;\n",
       "        });\n",
       "        }\n",
       "        </script>\n",
       "        "
      ]
     },
     "metadata": {},
     "output_type": "display_data"
    }
   ],
   "source": [
    "# For offline use\n",
    "cf.go_offline()"
   ]
  },
  {
   "cell_type": "markdown",
   "metadata": {},
   "source": [
    "### Fake Data"
   ]
  },
  {
   "cell_type": "code",
   "execution_count": 6,
   "metadata": {},
   "outputs": [],
   "source": [
    "df = pd.DataFrame(np.random.randn(100,4),columns='A B C D'.split())"
   ]
  },
  {
   "cell_type": "code",
   "execution_count": 7,
   "metadata": {},
   "outputs": [
    {
     "data": {
      "text/html": [
       "<div>\n",
       "<style scoped>\n",
       "    .dataframe tbody tr th:only-of-type {\n",
       "        vertical-align: middle;\n",
       "    }\n",
       "\n",
       "    .dataframe tbody tr th {\n",
       "        vertical-align: top;\n",
       "    }\n",
       "\n",
       "    .dataframe thead th {\n",
       "        text-align: right;\n",
       "    }\n",
       "</style>\n",
       "<table border=\"1\" class=\"dataframe\">\n",
       "  <thead>\n",
       "    <tr style=\"text-align: right;\">\n",
       "      <th></th>\n",
       "      <th>A</th>\n",
       "      <th>B</th>\n",
       "      <th>C</th>\n",
       "      <th>D</th>\n",
       "    </tr>\n",
       "  </thead>\n",
       "  <tbody>\n",
       "    <tr>\n",
       "      <th>0</th>\n",
       "      <td>-0.086964</td>\n",
       "      <td>-0.072013</td>\n",
       "      <td>-0.268722</td>\n",
       "      <td>0.815897</td>\n",
       "    </tr>\n",
       "    <tr>\n",
       "      <th>1</th>\n",
       "      <td>0.118293</td>\n",
       "      <td>-1.781337</td>\n",
       "      <td>0.979046</td>\n",
       "      <td>-0.924703</td>\n",
       "    </tr>\n",
       "    <tr>\n",
       "      <th>2</th>\n",
       "      <td>2.342857</td>\n",
       "      <td>-0.820093</td>\n",
       "      <td>1.305313</td>\n",
       "      <td>-0.311305</td>\n",
       "    </tr>\n",
       "    <tr>\n",
       "      <th>3</th>\n",
       "      <td>-1.503777</td>\n",
       "      <td>1.685075</td>\n",
       "      <td>0.029031</td>\n",
       "      <td>0.196492</td>\n",
       "    </tr>\n",
       "    <tr>\n",
       "      <th>4</th>\n",
       "      <td>0.045726</td>\n",
       "      <td>0.143739</td>\n",
       "      <td>-0.824985</td>\n",
       "      <td>-0.491211</td>\n",
       "    </tr>\n",
       "  </tbody>\n",
       "</table>\n",
       "</div>"
      ],
      "text/plain": [
       "          A         B         C         D\n",
       "0 -0.086964 -0.072013 -0.268722  0.815897\n",
       "1  0.118293 -1.781337  0.979046 -0.924703\n",
       "2  2.342857 -0.820093  1.305313 -0.311305\n",
       "3 -1.503777  1.685075  0.029031  0.196492\n",
       "4  0.045726  0.143739 -0.824985 -0.491211"
      ]
     },
     "execution_count": 7,
     "metadata": {},
     "output_type": "execute_result"
    }
   ],
   "source": [
    "df.head()"
   ]
  },
  {
   "cell_type": "code",
   "execution_count": 8,
   "metadata": {},
   "outputs": [],
   "source": [
    "df2 = pd.DataFrame({'Category':['A','B','C'],'Values':[32,43,50]})"
   ]
  },
  {
   "cell_type": "code",
   "execution_count": 9,
   "metadata": {},
   "outputs": [
    {
     "data": {
      "text/html": [
       "<div>\n",
       "<style scoped>\n",
       "    .dataframe tbody tr th:only-of-type {\n",
       "        vertical-align: middle;\n",
       "    }\n",
       "\n",
       "    .dataframe tbody tr th {\n",
       "        vertical-align: top;\n",
       "    }\n",
       "\n",
       "    .dataframe thead th {\n",
       "        text-align: right;\n",
       "    }\n",
       "</style>\n",
       "<table border=\"1\" class=\"dataframe\">\n",
       "  <thead>\n",
       "    <tr style=\"text-align: right;\">\n",
       "      <th></th>\n",
       "      <th>Category</th>\n",
       "      <th>Values</th>\n",
       "    </tr>\n",
       "  </thead>\n",
       "  <tbody>\n",
       "    <tr>\n",
       "      <th>0</th>\n",
       "      <td>A</td>\n",
       "      <td>32</td>\n",
       "    </tr>\n",
       "    <tr>\n",
       "      <th>1</th>\n",
       "      <td>B</td>\n",
       "      <td>43</td>\n",
       "    </tr>\n",
       "    <tr>\n",
       "      <th>2</th>\n",
       "      <td>C</td>\n",
       "      <td>50</td>\n",
       "    </tr>\n",
       "  </tbody>\n",
       "</table>\n",
       "</div>"
      ],
      "text/plain": [
       "  Category  Values\n",
       "0        A      32\n",
       "1        B      43\n",
       "2        C      50"
      ]
     },
     "execution_count": 9,
     "metadata": {},
     "output_type": "execute_result"
    }
   ],
   "source": [
    "df2.head()"
   ]
  },
  {
   "cell_type": "markdown",
   "metadata": {},
   "source": [
    "## Using Cufflinks and iplot()\n",
    "\n",
    "* scatter\n",
    "* bar\n",
    "* box\n",
    "* spread\n",
    "* ratio\n",
    "* heatmap\n",
    "* surface\n",
    "* histogram\n",
    "* bubble"
   ]
  },
  {
   "cell_type": "markdown",
   "metadata": {},
   "source": [
    "## Scatter"
   ]
  },
  {
   "cell_type": "code",
   "execution_count": 10,
   "metadata": {},
   "outputs": [
    {
     "data": {
      "application/vnd.plotly.v1+json": {
       "config": {
        "linkText": "Export to plot.ly",
        "plotlyServerURL": "https://plot.ly",
        "showLink": true
       },
       "data": [
        {
         "line": {
          "color": "rgba(255, 153, 51, 1.0)",
          "dash": "solid",
          "shape": "linear",
          "width": 1.3
         },
         "marker": {
          "size": 10,
          "symbol": "circle"
         },
         "mode": "markers",
         "name": "B",
         "text": "",
         "type": "scatter",
         "x": [
          -0.08696362399272553,
          0.11829315027705818,
          2.342856948597935,
          -1.503776880344004,
          0.045725881655566944,
          -0.12928100391232758,
          -1.036616358261247,
          0.10233820019024022,
          0.7544009950060778,
          1.119361123299176,
          -0.12168280829613869,
          -2.5141385692708162,
          0.8641734038037336,
          0.5615068860097867,
          -0.3618584895915859,
          -0.457493569108614,
          -0.7407705698927969,
          1.1100806879640044,
          -0.8436326812336624,
          -0.48194108799061275,
          -1.4283203300649514,
          -0.005528020954320215,
          0.6545934828776457,
          -0.3764165478866233,
          -0.7019587962207577,
          -2.1331489184945993,
          -1.5599707684625428,
          0.1755715299771797,
          0.13351195861619805,
          1.368573023242335,
          -0.3277442434772406,
          2.0071797704419105,
          1.0348622076293386,
          1.3772601634896795,
          -1.3690674657036475,
          -0.041160364008156404,
          0.3875459772294022,
          0.9653394848516135,
          -0.625061639729154,
          0.3400475723960751,
          0.8627064249099288,
          0.13396042173723252,
          0.4156667557269354,
          0.026797539151673128,
          0.405065409950036,
          0.7292637466264922,
          0.21898544855905366,
          0.2079755266846345,
          1.7031803281598694,
          1.0332873337748185,
          -0.08186366407943726,
          0.31908800200591075,
          -0.0831876976123175,
          -0.6307622500712357,
          0.11880043187804375,
          -0.8245533725750579,
          -0.6781822263791778,
          -0.17005988571480388,
          -1.6516093618334853,
          -0.8238222820076299,
          0.25641890902102926,
          -0.3322067616366865,
          1.4101018248811763,
          -1.1291979327906585,
          1.6890614664254615,
          -2.329076558908018,
          1.0769218217409133,
          0.1745963287674994,
          -0.8317798804560796,
          -1.1970027388103093,
          -3.0019528425038247,
          -0.23762122812809972,
          -0.4972338749701281,
          -0.26093263665920746,
          -1.5160013445449143,
          -0.9359898977334827,
          0.28176566515491647,
          0.25728493779995126,
          -0.1659249477937885,
          -0.13895687610656993,
          -1.997548442478862,
          1.132732545040066,
          1.2739327462477517,
          0.16888236139169427,
          1.5187040036619632,
          -0.774538350480497,
          -0.23137553047304132,
          -2.5810982422012527,
          -1.9447360011477897,
          -0.14078455082043415,
          0.5776488661887422,
          -0.882519133144336,
          0.22691072302708074,
          -0.7011641433638972,
          -0.9519428369511796,
          -0.7660743937480502,
          -2.211696125505859,
          -0.7298692001517896,
          -0.34256034176711875,
          1.0823363602187954
         ],
         "y": [
          -0.07201300572682906,
          -1.7813371536318778,
          -0.8200929720183177,
          1.6850747024543902,
          0.14373920902261458,
          0.9014962704276461,
          -1.0481652514408317,
          0.9677142806092884,
          0.2784556999294692,
          -0.808096455996858,
          0.5972504318570593,
          1.5193397017630752,
          0.1120776473758537,
          0.031459404038649844,
          -0.6419956711923979,
          1.3661547594810273,
          -0.19155366489041692,
          -1.1012658471042815,
          0.6282171051348472,
          -0.8716239697489461,
          -0.5626019647408662,
          0.6519591742110662,
          0.052616620786117244,
          -0.169397506886645,
          -0.5635490785509196,
          -0.22762662898988673,
          -1.2333147800078432,
          -0.7330246424512903,
          0.62354927944434,
          -0.5199034839952482,
          0.5678912530643067,
          0.2055567196710461,
          0.8482662446920417,
          0.8649241351693712,
          0.6677232214596046,
          1.4194969576533518,
          0.05987451399890696,
          0.5364829593269563,
          2.139167152838529,
          0.840048180328241,
          1.6044742679372017,
          0.32314142805402435,
          -0.1615677497467817,
          0.47260106016564707,
          1.0744435776511905,
          0.04847396319960681,
          -0.1508712997263981,
          -0.5759453801733477,
          -0.293997152323099,
          -0.44495079449735675,
          0.10907341855645045,
          1.057057230197365,
          -0.6190450725199533,
          0.17020215249976262,
          0.6415891478844767,
          2.1265419568789854,
          -0.463185134592524,
          2.1374017556563474,
          1.9151279933805916,
          -0.10117463654989918,
          -0.9176696227617764,
          0.40766039857072367,
          1.2898062553730296,
          0.1545348303988453,
          0.24644376482344738,
          1.374650744190713,
          0.10564871875845407,
          0.6408997652220568,
          0.3425626471892363,
          0.04986405193713072,
          -0.6646697915034648,
          -0.09997211172881224,
          0.23521389993867892,
          0.5523179868398935,
          -0.09287699374722193,
          -0.9999106553888348,
          -1.1150659445689572,
          1.737598024647142,
          0.08558665304809565,
          0.44566810012783964,
          0.9790451280395394,
          -0.6081735571910922,
          0.2345712090980208,
          -1.2467094141877713,
          -0.5195244934509475,
          0.7759209695129649,
          -0.955124047948974,
          0.40746936598386513,
          0.23668765547290643,
          -0.02128848593352963,
          1.8956579840616128,
          0.6594859840593594,
          0.4028552358561733,
          -1.0275742681985736,
          -1.0331453939669182,
          -0.28602693038106247,
          1.437346730839855,
          0.689133460013907,
          -1.0303054514876115,
          0.2488420672892611
         ]
        }
       ],
       "layout": {
        "legend": {
         "bgcolor": "#F5F6F9",
         "font": {
          "color": "#4D5663"
         }
        },
        "paper_bgcolor": "#F5F6F9",
        "plot_bgcolor": "#F5F6F9",
        "template": {
         "data": {
          "bar": [
           {
            "error_x": {
             "color": "#2a3f5f"
            },
            "error_y": {
             "color": "#2a3f5f"
            },
            "marker": {
             "line": {
              "color": "#E5ECF6",
              "width": 0.5
             },
             "pattern": {
              "fillmode": "overlay",
              "size": 10,
              "solidity": 0.2
             }
            },
            "type": "bar"
           }
          ],
          "barpolar": [
           {
            "marker": {
             "line": {
              "color": "#E5ECF6",
              "width": 0.5
             },
             "pattern": {
              "fillmode": "overlay",
              "size": 10,
              "solidity": 0.2
             }
            },
            "type": "barpolar"
           }
          ],
          "carpet": [
           {
            "aaxis": {
             "endlinecolor": "#2a3f5f",
             "gridcolor": "white",
             "linecolor": "white",
             "minorgridcolor": "white",
             "startlinecolor": "#2a3f5f"
            },
            "baxis": {
             "endlinecolor": "#2a3f5f",
             "gridcolor": "white",
             "linecolor": "white",
             "minorgridcolor": "white",
             "startlinecolor": "#2a3f5f"
            },
            "type": "carpet"
           }
          ],
          "choropleth": [
           {
            "colorbar": {
             "outlinewidth": 0,
             "ticks": ""
            },
            "type": "choropleth"
           }
          ],
          "contour": [
           {
            "colorbar": {
             "outlinewidth": 0,
             "ticks": ""
            },
            "colorscale": [
             [
              0,
              "#0d0887"
             ],
             [
              0.1111111111111111,
              "#46039f"
             ],
             [
              0.2222222222222222,
              "#7201a8"
             ],
             [
              0.3333333333333333,
              "#9c179e"
             ],
             [
              0.4444444444444444,
              "#bd3786"
             ],
             [
              0.5555555555555556,
              "#d8576b"
             ],
             [
              0.6666666666666666,
              "#ed7953"
             ],
             [
              0.7777777777777778,
              "#fb9f3a"
             ],
             [
              0.8888888888888888,
              "#fdca26"
             ],
             [
              1,
              "#f0f921"
             ]
            ],
            "type": "contour"
           }
          ],
          "contourcarpet": [
           {
            "colorbar": {
             "outlinewidth": 0,
             "ticks": ""
            },
            "type": "contourcarpet"
           }
          ],
          "heatmap": [
           {
            "colorbar": {
             "outlinewidth": 0,
             "ticks": ""
            },
            "colorscale": [
             [
              0,
              "#0d0887"
             ],
             [
              0.1111111111111111,
              "#46039f"
             ],
             [
              0.2222222222222222,
              "#7201a8"
             ],
             [
              0.3333333333333333,
              "#9c179e"
             ],
             [
              0.4444444444444444,
              "#bd3786"
             ],
             [
              0.5555555555555556,
              "#d8576b"
             ],
             [
              0.6666666666666666,
              "#ed7953"
             ],
             [
              0.7777777777777778,
              "#fb9f3a"
             ],
             [
              0.8888888888888888,
              "#fdca26"
             ],
             [
              1,
              "#f0f921"
             ]
            ],
            "type": "heatmap"
           }
          ],
          "heatmapgl": [
           {
            "colorbar": {
             "outlinewidth": 0,
             "ticks": ""
            },
            "colorscale": [
             [
              0,
              "#0d0887"
             ],
             [
              0.1111111111111111,
              "#46039f"
             ],
             [
              0.2222222222222222,
              "#7201a8"
             ],
             [
              0.3333333333333333,
              "#9c179e"
             ],
             [
              0.4444444444444444,
              "#bd3786"
             ],
             [
              0.5555555555555556,
              "#d8576b"
             ],
             [
              0.6666666666666666,
              "#ed7953"
             ],
             [
              0.7777777777777778,
              "#fb9f3a"
             ],
             [
              0.8888888888888888,
              "#fdca26"
             ],
             [
              1,
              "#f0f921"
             ]
            ],
            "type": "heatmapgl"
           }
          ],
          "histogram": [
           {
            "marker": {
             "pattern": {
              "fillmode": "overlay",
              "size": 10,
              "solidity": 0.2
             }
            },
            "type": "histogram"
           }
          ],
          "histogram2d": [
           {
            "colorbar": {
             "outlinewidth": 0,
             "ticks": ""
            },
            "colorscale": [
             [
              0,
              "#0d0887"
             ],
             [
              0.1111111111111111,
              "#46039f"
             ],
             [
              0.2222222222222222,
              "#7201a8"
             ],
             [
              0.3333333333333333,
              "#9c179e"
             ],
             [
              0.4444444444444444,
              "#bd3786"
             ],
             [
              0.5555555555555556,
              "#d8576b"
             ],
             [
              0.6666666666666666,
              "#ed7953"
             ],
             [
              0.7777777777777778,
              "#fb9f3a"
             ],
             [
              0.8888888888888888,
              "#fdca26"
             ],
             [
              1,
              "#f0f921"
             ]
            ],
            "type": "histogram2d"
           }
          ],
          "histogram2dcontour": [
           {
            "colorbar": {
             "outlinewidth": 0,
             "ticks": ""
            },
            "colorscale": [
             [
              0,
              "#0d0887"
             ],
             [
              0.1111111111111111,
              "#46039f"
             ],
             [
              0.2222222222222222,
              "#7201a8"
             ],
             [
              0.3333333333333333,
              "#9c179e"
             ],
             [
              0.4444444444444444,
              "#bd3786"
             ],
             [
              0.5555555555555556,
              "#d8576b"
             ],
             [
              0.6666666666666666,
              "#ed7953"
             ],
             [
              0.7777777777777778,
              "#fb9f3a"
             ],
             [
              0.8888888888888888,
              "#fdca26"
             ],
             [
              1,
              "#f0f921"
             ]
            ],
            "type": "histogram2dcontour"
           }
          ],
          "mesh3d": [
           {
            "colorbar": {
             "outlinewidth": 0,
             "ticks": ""
            },
            "type": "mesh3d"
           }
          ],
          "parcoords": [
           {
            "line": {
             "colorbar": {
              "outlinewidth": 0,
              "ticks": ""
             }
            },
            "type": "parcoords"
           }
          ],
          "pie": [
           {
            "automargin": true,
            "type": "pie"
           }
          ],
          "scatter": [
           {
            "marker": {
             "colorbar": {
              "outlinewidth": 0,
              "ticks": ""
             }
            },
            "type": "scatter"
           }
          ],
          "scatter3d": [
           {
            "line": {
             "colorbar": {
              "outlinewidth": 0,
              "ticks": ""
             }
            },
            "marker": {
             "colorbar": {
              "outlinewidth": 0,
              "ticks": ""
             }
            },
            "type": "scatter3d"
           }
          ],
          "scattercarpet": [
           {
            "marker": {
             "colorbar": {
              "outlinewidth": 0,
              "ticks": ""
             }
            },
            "type": "scattercarpet"
           }
          ],
          "scattergeo": [
           {
            "marker": {
             "colorbar": {
              "outlinewidth": 0,
              "ticks": ""
             }
            },
            "type": "scattergeo"
           }
          ],
          "scattergl": [
           {
            "marker": {
             "colorbar": {
              "outlinewidth": 0,
              "ticks": ""
             }
            },
            "type": "scattergl"
           }
          ],
          "scattermapbox": [
           {
            "marker": {
             "colorbar": {
              "outlinewidth": 0,
              "ticks": ""
             }
            },
            "type": "scattermapbox"
           }
          ],
          "scatterpolar": [
           {
            "marker": {
             "colorbar": {
              "outlinewidth": 0,
              "ticks": ""
             }
            },
            "type": "scatterpolar"
           }
          ],
          "scatterpolargl": [
           {
            "marker": {
             "colorbar": {
              "outlinewidth": 0,
              "ticks": ""
             }
            },
            "type": "scatterpolargl"
           }
          ],
          "scatterternary": [
           {
            "marker": {
             "colorbar": {
              "outlinewidth": 0,
              "ticks": ""
             }
            },
            "type": "scatterternary"
           }
          ],
          "surface": [
           {
            "colorbar": {
             "outlinewidth": 0,
             "ticks": ""
            },
            "colorscale": [
             [
              0,
              "#0d0887"
             ],
             [
              0.1111111111111111,
              "#46039f"
             ],
             [
              0.2222222222222222,
              "#7201a8"
             ],
             [
              0.3333333333333333,
              "#9c179e"
             ],
             [
              0.4444444444444444,
              "#bd3786"
             ],
             [
              0.5555555555555556,
              "#d8576b"
             ],
             [
              0.6666666666666666,
              "#ed7953"
             ],
             [
              0.7777777777777778,
              "#fb9f3a"
             ],
             [
              0.8888888888888888,
              "#fdca26"
             ],
             [
              1,
              "#f0f921"
             ]
            ],
            "type": "surface"
           }
          ],
          "table": [
           {
            "cells": {
             "fill": {
              "color": "#EBF0F8"
             },
             "line": {
              "color": "white"
             }
            },
            "header": {
             "fill": {
              "color": "#C8D4E3"
             },
             "line": {
              "color": "white"
             }
            },
            "type": "table"
           }
          ]
         },
         "layout": {
          "annotationdefaults": {
           "arrowcolor": "#2a3f5f",
           "arrowhead": 0,
           "arrowwidth": 1
          },
          "autotypenumbers": "strict",
          "coloraxis": {
           "colorbar": {
            "outlinewidth": 0,
            "ticks": ""
           }
          },
          "colorscale": {
           "diverging": [
            [
             0,
             "#8e0152"
            ],
            [
             0.1,
             "#c51b7d"
            ],
            [
             0.2,
             "#de77ae"
            ],
            [
             0.3,
             "#f1b6da"
            ],
            [
             0.4,
             "#fde0ef"
            ],
            [
             0.5,
             "#f7f7f7"
            ],
            [
             0.6,
             "#e6f5d0"
            ],
            [
             0.7,
             "#b8e186"
            ],
            [
             0.8,
             "#7fbc41"
            ],
            [
             0.9,
             "#4d9221"
            ],
            [
             1,
             "#276419"
            ]
           ],
           "sequential": [
            [
             0,
             "#0d0887"
            ],
            [
             0.1111111111111111,
             "#46039f"
            ],
            [
             0.2222222222222222,
             "#7201a8"
            ],
            [
             0.3333333333333333,
             "#9c179e"
            ],
            [
             0.4444444444444444,
             "#bd3786"
            ],
            [
             0.5555555555555556,
             "#d8576b"
            ],
            [
             0.6666666666666666,
             "#ed7953"
            ],
            [
             0.7777777777777778,
             "#fb9f3a"
            ],
            [
             0.8888888888888888,
             "#fdca26"
            ],
            [
             1,
             "#f0f921"
            ]
           ],
           "sequentialminus": [
            [
             0,
             "#0d0887"
            ],
            [
             0.1111111111111111,
             "#46039f"
            ],
            [
             0.2222222222222222,
             "#7201a8"
            ],
            [
             0.3333333333333333,
             "#9c179e"
            ],
            [
             0.4444444444444444,
             "#bd3786"
            ],
            [
             0.5555555555555556,
             "#d8576b"
            ],
            [
             0.6666666666666666,
             "#ed7953"
            ],
            [
             0.7777777777777778,
             "#fb9f3a"
            ],
            [
             0.8888888888888888,
             "#fdca26"
            ],
            [
             1,
             "#f0f921"
            ]
           ]
          },
          "colorway": [
           "#636efa",
           "#EF553B",
           "#00cc96",
           "#ab63fa",
           "#FFA15A",
           "#19d3f3",
           "#FF6692",
           "#B6E880",
           "#FF97FF",
           "#FECB52"
          ],
          "font": {
           "color": "#2a3f5f"
          },
          "geo": {
           "bgcolor": "white",
           "lakecolor": "white",
           "landcolor": "#E5ECF6",
           "showlakes": true,
           "showland": true,
           "subunitcolor": "white"
          },
          "hoverlabel": {
           "align": "left"
          },
          "hovermode": "closest",
          "mapbox": {
           "style": "light"
          },
          "paper_bgcolor": "white",
          "plot_bgcolor": "#E5ECF6",
          "polar": {
           "angularaxis": {
            "gridcolor": "white",
            "linecolor": "white",
            "ticks": ""
           },
           "bgcolor": "#E5ECF6",
           "radialaxis": {
            "gridcolor": "white",
            "linecolor": "white",
            "ticks": ""
           }
          },
          "scene": {
           "xaxis": {
            "backgroundcolor": "#E5ECF6",
            "gridcolor": "white",
            "gridwidth": 2,
            "linecolor": "white",
            "showbackground": true,
            "ticks": "",
            "zerolinecolor": "white"
           },
           "yaxis": {
            "backgroundcolor": "#E5ECF6",
            "gridcolor": "white",
            "gridwidth": 2,
            "linecolor": "white",
            "showbackground": true,
            "ticks": "",
            "zerolinecolor": "white"
           },
           "zaxis": {
            "backgroundcolor": "#E5ECF6",
            "gridcolor": "white",
            "gridwidth": 2,
            "linecolor": "white",
            "showbackground": true,
            "ticks": "",
            "zerolinecolor": "white"
           }
          },
          "shapedefaults": {
           "line": {
            "color": "#2a3f5f"
           }
          },
          "ternary": {
           "aaxis": {
            "gridcolor": "white",
            "linecolor": "white",
            "ticks": ""
           },
           "baxis": {
            "gridcolor": "white",
            "linecolor": "white",
            "ticks": ""
           },
           "bgcolor": "#E5ECF6",
           "caxis": {
            "gridcolor": "white",
            "linecolor": "white",
            "ticks": ""
           }
          },
          "title": {
           "x": 0.05
          },
          "xaxis": {
           "automargin": true,
           "gridcolor": "white",
           "linecolor": "white",
           "ticks": "",
           "title": {
            "standoff": 15
           },
           "zerolinecolor": "white",
           "zerolinewidth": 2
          },
          "yaxis": {
           "automargin": true,
           "gridcolor": "white",
           "linecolor": "white",
           "ticks": "",
           "title": {
            "standoff": 15
           },
           "zerolinecolor": "white",
           "zerolinewidth": 2
          }
         }
        },
        "title": {
         "font": {
          "color": "#4D5663"
         }
        },
        "xaxis": {
         "gridcolor": "#E1E5ED",
         "showgrid": true,
         "tickfont": {
          "color": "#4D5663"
         },
         "title": {
          "font": {
           "color": "#4D5663"
          },
          "text": ""
         },
         "zerolinecolor": "#E1E5ED"
        },
        "yaxis": {
         "gridcolor": "#E1E5ED",
         "showgrid": true,
         "tickfont": {
          "color": "#4D5663"
         },
         "title": {
          "font": {
           "color": "#4D5663"
          },
          "text": ""
         },
         "zerolinecolor": "#E1E5ED"
        }
       }
      },
      "text/html": [
       "<div>                            <div id=\"713f6413-8493-47f8-b0db-dd424999666e\" class=\"plotly-graph-div\" style=\"height:525px; width:100%;\"></div>            <script type=\"text/javascript\">                require([\"plotly\"], function(Plotly) {                    window.PLOTLYENV=window.PLOTLYENV || {};\n",
       "                    window.PLOTLYENV.BASE_URL='https://plot.ly';                                    if (document.getElementById(\"713f6413-8493-47f8-b0db-dd424999666e\")) {                    Plotly.newPlot(                        \"713f6413-8493-47f8-b0db-dd424999666e\",                        [{\"line\":{\"color\":\"rgba(255, 153, 51, 1.0)\",\"dash\":\"solid\",\"shape\":\"linear\",\"width\":1.3},\"marker\":{\"size\":10,\"symbol\":\"circle\"},\"mode\":\"markers\",\"name\":\"B\",\"text\":\"\",\"x\":[-0.08696362399272553,0.11829315027705818,2.342856948597935,-1.503776880344004,0.045725881655566944,-0.12928100391232758,-1.036616358261247,0.10233820019024022,0.7544009950060778,1.119361123299176,-0.12168280829613869,-2.5141385692708162,0.8641734038037336,0.5615068860097867,-0.3618584895915859,-0.457493569108614,-0.7407705698927969,1.1100806879640044,-0.8436326812336624,-0.48194108799061275,-1.4283203300649514,-0.005528020954320215,0.6545934828776457,-0.3764165478866233,-0.7019587962207577,-2.1331489184945993,-1.5599707684625428,0.1755715299771797,0.13351195861619805,1.368573023242335,-0.3277442434772406,2.0071797704419105,1.0348622076293386,1.3772601634896795,-1.3690674657036475,-0.041160364008156404,0.3875459772294022,0.9653394848516135,-0.625061639729154,0.3400475723960751,0.8627064249099288,0.13396042173723252,0.4156667557269354,0.026797539151673128,0.405065409950036,0.7292637466264922,0.21898544855905366,0.2079755266846345,1.7031803281598694,1.0332873337748185,-0.08186366407943726,0.31908800200591075,-0.0831876976123175,-0.6307622500712357,0.11880043187804375,-0.8245533725750579,-0.6781822263791778,-0.17005988571480388,-1.6516093618334853,-0.8238222820076299,0.25641890902102926,-0.3322067616366865,1.4101018248811763,-1.1291979327906585,1.6890614664254615,-2.329076558908018,1.0769218217409133,0.1745963287674994,-0.8317798804560796,-1.1970027388103093,-3.0019528425038247,-0.23762122812809972,-0.4972338749701281,-0.26093263665920746,-1.5160013445449143,-0.9359898977334827,0.28176566515491647,0.25728493779995126,-0.1659249477937885,-0.13895687610656993,-1.997548442478862,1.132732545040066,1.2739327462477517,0.16888236139169427,1.5187040036619632,-0.774538350480497,-0.23137553047304132,-2.5810982422012527,-1.9447360011477897,-0.14078455082043415,0.5776488661887422,-0.882519133144336,0.22691072302708074,-0.7011641433638972,-0.9519428369511796,-0.7660743937480502,-2.211696125505859,-0.7298692001517896,-0.34256034176711875,1.0823363602187954],\"y\":[-0.07201300572682906,-1.7813371536318778,-0.8200929720183177,1.6850747024543902,0.14373920902261458,0.9014962704276461,-1.0481652514408317,0.9677142806092884,0.2784556999294692,-0.808096455996858,0.5972504318570593,1.5193397017630752,0.1120776473758537,0.031459404038649844,-0.6419956711923979,1.3661547594810273,-0.19155366489041692,-1.1012658471042815,0.6282171051348472,-0.8716239697489461,-0.5626019647408662,0.6519591742110662,0.052616620786117244,-0.169397506886645,-0.5635490785509196,-0.22762662898988673,-1.2333147800078432,-0.7330246424512903,0.62354927944434,-0.5199034839952482,0.5678912530643067,0.2055567196710461,0.8482662446920417,0.8649241351693712,0.6677232214596046,1.4194969576533518,0.05987451399890696,0.5364829593269563,2.139167152838529,0.840048180328241,1.6044742679372017,0.32314142805402435,-0.1615677497467817,0.47260106016564707,1.0744435776511905,0.04847396319960681,-0.1508712997263981,-0.5759453801733477,-0.293997152323099,-0.44495079449735675,0.10907341855645045,1.057057230197365,-0.6190450725199533,0.17020215249976262,0.6415891478844767,2.1265419568789854,-0.463185134592524,2.1374017556563474,1.9151279933805916,-0.10117463654989918,-0.9176696227617764,0.40766039857072367,1.2898062553730296,0.1545348303988453,0.24644376482344738,1.374650744190713,0.10564871875845407,0.6408997652220568,0.3425626471892363,0.04986405193713072,-0.6646697915034648,-0.09997211172881224,0.23521389993867892,0.5523179868398935,-0.09287699374722193,-0.9999106553888348,-1.1150659445689572,1.737598024647142,0.08558665304809565,0.44566810012783964,0.9790451280395394,-0.6081735571910922,0.2345712090980208,-1.2467094141877713,-0.5195244934509475,0.7759209695129649,-0.955124047948974,0.40746936598386513,0.23668765547290643,-0.02128848593352963,1.8956579840616128,0.6594859840593594,0.4028552358561733,-1.0275742681985736,-1.0331453939669182,-0.28602693038106247,1.437346730839855,0.689133460013907,-1.0303054514876115,0.2488420672892611],\"type\":\"scatter\"}],                        {\"legend\":{\"bgcolor\":\"#F5F6F9\",\"font\":{\"color\":\"#4D5663\"}},\"paper_bgcolor\":\"#F5F6F9\",\"plot_bgcolor\":\"#F5F6F9\",\"template\":{\"data\":{\"barpolar\":[{\"marker\":{\"line\":{\"color\":\"#E5ECF6\",\"width\":0.5},\"pattern\":{\"fillmode\":\"overlay\",\"size\":10,\"solidity\":0.2}},\"type\":\"barpolar\"}],\"bar\":[{\"error_x\":{\"color\":\"#2a3f5f\"},\"error_y\":{\"color\":\"#2a3f5f\"},\"marker\":{\"line\":{\"color\":\"#E5ECF6\",\"width\":0.5},\"pattern\":{\"fillmode\":\"overlay\",\"size\":10,\"solidity\":0.2}},\"type\":\"bar\"}],\"carpet\":[{\"aaxis\":{\"endlinecolor\":\"#2a3f5f\",\"gridcolor\":\"white\",\"linecolor\":\"white\",\"minorgridcolor\":\"white\",\"startlinecolor\":\"#2a3f5f\"},\"baxis\":{\"endlinecolor\":\"#2a3f5f\",\"gridcolor\":\"white\",\"linecolor\":\"white\",\"minorgridcolor\":\"white\",\"startlinecolor\":\"#2a3f5f\"},\"type\":\"carpet\"}],\"choropleth\":[{\"colorbar\":{\"outlinewidth\":0,\"ticks\":\"\"},\"type\":\"choropleth\"}],\"contourcarpet\":[{\"colorbar\":{\"outlinewidth\":0,\"ticks\":\"\"},\"type\":\"contourcarpet\"}],\"contour\":[{\"colorbar\":{\"outlinewidth\":0,\"ticks\":\"\"},\"colorscale\":[[0.0,\"#0d0887\"],[0.1111111111111111,\"#46039f\"],[0.2222222222222222,\"#7201a8\"],[0.3333333333333333,\"#9c179e\"],[0.4444444444444444,\"#bd3786\"],[0.5555555555555556,\"#d8576b\"],[0.6666666666666666,\"#ed7953\"],[0.7777777777777778,\"#fb9f3a\"],[0.8888888888888888,\"#fdca26\"],[1.0,\"#f0f921\"]],\"type\":\"contour\"}],\"heatmapgl\":[{\"colorbar\":{\"outlinewidth\":0,\"ticks\":\"\"},\"colorscale\":[[0.0,\"#0d0887\"],[0.1111111111111111,\"#46039f\"],[0.2222222222222222,\"#7201a8\"],[0.3333333333333333,\"#9c179e\"],[0.4444444444444444,\"#bd3786\"],[0.5555555555555556,\"#d8576b\"],[0.6666666666666666,\"#ed7953\"],[0.7777777777777778,\"#fb9f3a\"],[0.8888888888888888,\"#fdca26\"],[1.0,\"#f0f921\"]],\"type\":\"heatmapgl\"}],\"heatmap\":[{\"colorbar\":{\"outlinewidth\":0,\"ticks\":\"\"},\"colorscale\":[[0.0,\"#0d0887\"],[0.1111111111111111,\"#46039f\"],[0.2222222222222222,\"#7201a8\"],[0.3333333333333333,\"#9c179e\"],[0.4444444444444444,\"#bd3786\"],[0.5555555555555556,\"#d8576b\"],[0.6666666666666666,\"#ed7953\"],[0.7777777777777778,\"#fb9f3a\"],[0.8888888888888888,\"#fdca26\"],[1.0,\"#f0f921\"]],\"type\":\"heatmap\"}],\"histogram2dcontour\":[{\"colorbar\":{\"outlinewidth\":0,\"ticks\":\"\"},\"colorscale\":[[0.0,\"#0d0887\"],[0.1111111111111111,\"#46039f\"],[0.2222222222222222,\"#7201a8\"],[0.3333333333333333,\"#9c179e\"],[0.4444444444444444,\"#bd3786\"],[0.5555555555555556,\"#d8576b\"],[0.6666666666666666,\"#ed7953\"],[0.7777777777777778,\"#fb9f3a\"],[0.8888888888888888,\"#fdca26\"],[1.0,\"#f0f921\"]],\"type\":\"histogram2dcontour\"}],\"histogram2d\":[{\"colorbar\":{\"outlinewidth\":0,\"ticks\":\"\"},\"colorscale\":[[0.0,\"#0d0887\"],[0.1111111111111111,\"#46039f\"],[0.2222222222222222,\"#7201a8\"],[0.3333333333333333,\"#9c179e\"],[0.4444444444444444,\"#bd3786\"],[0.5555555555555556,\"#d8576b\"],[0.6666666666666666,\"#ed7953\"],[0.7777777777777778,\"#fb9f3a\"],[0.8888888888888888,\"#fdca26\"],[1.0,\"#f0f921\"]],\"type\":\"histogram2d\"}],\"histogram\":[{\"marker\":{\"pattern\":{\"fillmode\":\"overlay\",\"size\":10,\"solidity\":0.2}},\"type\":\"histogram\"}],\"mesh3d\":[{\"colorbar\":{\"outlinewidth\":0,\"ticks\":\"\"},\"type\":\"mesh3d\"}],\"parcoords\":[{\"line\":{\"colorbar\":{\"outlinewidth\":0,\"ticks\":\"\"}},\"type\":\"parcoords\"}],\"pie\":[{\"automargin\":true,\"type\":\"pie\"}],\"scatter3d\":[{\"line\":{\"colorbar\":{\"outlinewidth\":0,\"ticks\":\"\"}},\"marker\":{\"colorbar\":{\"outlinewidth\":0,\"ticks\":\"\"}},\"type\":\"scatter3d\"}],\"scattercarpet\":[{\"marker\":{\"colorbar\":{\"outlinewidth\":0,\"ticks\":\"\"}},\"type\":\"scattercarpet\"}],\"scattergeo\":[{\"marker\":{\"colorbar\":{\"outlinewidth\":0,\"ticks\":\"\"}},\"type\":\"scattergeo\"}],\"scattergl\":[{\"marker\":{\"colorbar\":{\"outlinewidth\":0,\"ticks\":\"\"}},\"type\":\"scattergl\"}],\"scattermapbox\":[{\"marker\":{\"colorbar\":{\"outlinewidth\":0,\"ticks\":\"\"}},\"type\":\"scattermapbox\"}],\"scatterpolargl\":[{\"marker\":{\"colorbar\":{\"outlinewidth\":0,\"ticks\":\"\"}},\"type\":\"scatterpolargl\"}],\"scatterpolar\":[{\"marker\":{\"colorbar\":{\"outlinewidth\":0,\"ticks\":\"\"}},\"type\":\"scatterpolar\"}],\"scatter\":[{\"marker\":{\"colorbar\":{\"outlinewidth\":0,\"ticks\":\"\"}},\"type\":\"scatter\"}],\"scatterternary\":[{\"marker\":{\"colorbar\":{\"outlinewidth\":0,\"ticks\":\"\"}},\"type\":\"scatterternary\"}],\"surface\":[{\"colorbar\":{\"outlinewidth\":0,\"ticks\":\"\"},\"colorscale\":[[0.0,\"#0d0887\"],[0.1111111111111111,\"#46039f\"],[0.2222222222222222,\"#7201a8\"],[0.3333333333333333,\"#9c179e\"],[0.4444444444444444,\"#bd3786\"],[0.5555555555555556,\"#d8576b\"],[0.6666666666666666,\"#ed7953\"],[0.7777777777777778,\"#fb9f3a\"],[0.8888888888888888,\"#fdca26\"],[1.0,\"#f0f921\"]],\"type\":\"surface\"}],\"table\":[{\"cells\":{\"fill\":{\"color\":\"#EBF0F8\"},\"line\":{\"color\":\"white\"}},\"header\":{\"fill\":{\"color\":\"#C8D4E3\"},\"line\":{\"color\":\"white\"}},\"type\":\"table\"}]},\"layout\":{\"annotationdefaults\":{\"arrowcolor\":\"#2a3f5f\",\"arrowhead\":0,\"arrowwidth\":1},\"autotypenumbers\":\"strict\",\"coloraxis\":{\"colorbar\":{\"outlinewidth\":0,\"ticks\":\"\"}},\"colorscale\":{\"diverging\":[[0,\"#8e0152\"],[0.1,\"#c51b7d\"],[0.2,\"#de77ae\"],[0.3,\"#f1b6da\"],[0.4,\"#fde0ef\"],[0.5,\"#f7f7f7\"],[0.6,\"#e6f5d0\"],[0.7,\"#b8e186\"],[0.8,\"#7fbc41\"],[0.9,\"#4d9221\"],[1,\"#276419\"]],\"sequential\":[[0.0,\"#0d0887\"],[0.1111111111111111,\"#46039f\"],[0.2222222222222222,\"#7201a8\"],[0.3333333333333333,\"#9c179e\"],[0.4444444444444444,\"#bd3786\"],[0.5555555555555556,\"#d8576b\"],[0.6666666666666666,\"#ed7953\"],[0.7777777777777778,\"#fb9f3a\"],[0.8888888888888888,\"#fdca26\"],[1.0,\"#f0f921\"]],\"sequentialminus\":[[0.0,\"#0d0887\"],[0.1111111111111111,\"#46039f\"],[0.2222222222222222,\"#7201a8\"],[0.3333333333333333,\"#9c179e\"],[0.4444444444444444,\"#bd3786\"],[0.5555555555555556,\"#d8576b\"],[0.6666666666666666,\"#ed7953\"],[0.7777777777777778,\"#fb9f3a\"],[0.8888888888888888,\"#fdca26\"],[1.0,\"#f0f921\"]]},\"colorway\":[\"#636efa\",\"#EF553B\",\"#00cc96\",\"#ab63fa\",\"#FFA15A\",\"#19d3f3\",\"#FF6692\",\"#B6E880\",\"#FF97FF\",\"#FECB52\"],\"font\":{\"color\":\"#2a3f5f\"},\"geo\":{\"bgcolor\":\"white\",\"lakecolor\":\"white\",\"landcolor\":\"#E5ECF6\",\"showlakes\":true,\"showland\":true,\"subunitcolor\":\"white\"},\"hoverlabel\":{\"align\":\"left\"},\"hovermode\":\"closest\",\"mapbox\":{\"style\":\"light\"},\"paper_bgcolor\":\"white\",\"plot_bgcolor\":\"#E5ECF6\",\"polar\":{\"angularaxis\":{\"gridcolor\":\"white\",\"linecolor\":\"white\",\"ticks\":\"\"},\"bgcolor\":\"#E5ECF6\",\"radialaxis\":{\"gridcolor\":\"white\",\"linecolor\":\"white\",\"ticks\":\"\"}},\"scene\":{\"xaxis\":{\"backgroundcolor\":\"#E5ECF6\",\"gridcolor\":\"white\",\"gridwidth\":2,\"linecolor\":\"white\",\"showbackground\":true,\"ticks\":\"\",\"zerolinecolor\":\"white\"},\"yaxis\":{\"backgroundcolor\":\"#E5ECF6\",\"gridcolor\":\"white\",\"gridwidth\":2,\"linecolor\":\"white\",\"showbackground\":true,\"ticks\":\"\",\"zerolinecolor\":\"white\"},\"zaxis\":{\"backgroundcolor\":\"#E5ECF6\",\"gridcolor\":\"white\",\"gridwidth\":2,\"linecolor\":\"white\",\"showbackground\":true,\"ticks\":\"\",\"zerolinecolor\":\"white\"}},\"shapedefaults\":{\"line\":{\"color\":\"#2a3f5f\"}},\"ternary\":{\"aaxis\":{\"gridcolor\":\"white\",\"linecolor\":\"white\",\"ticks\":\"\"},\"baxis\":{\"gridcolor\":\"white\",\"linecolor\":\"white\",\"ticks\":\"\"},\"bgcolor\":\"#E5ECF6\",\"caxis\":{\"gridcolor\":\"white\",\"linecolor\":\"white\",\"ticks\":\"\"}},\"title\":{\"x\":0.05},\"xaxis\":{\"automargin\":true,\"gridcolor\":\"white\",\"linecolor\":\"white\",\"ticks\":\"\",\"title\":{\"standoff\":15},\"zerolinecolor\":\"white\",\"zerolinewidth\":2},\"yaxis\":{\"automargin\":true,\"gridcolor\":\"white\",\"linecolor\":\"white\",\"ticks\":\"\",\"title\":{\"standoff\":15},\"zerolinecolor\":\"white\",\"zerolinewidth\":2}}},\"title\":{\"font\":{\"color\":\"#4D5663\"}},\"xaxis\":{\"gridcolor\":\"#E1E5ED\",\"showgrid\":true,\"tickfont\":{\"color\":\"#4D5663\"},\"title\":{\"font\":{\"color\":\"#4D5663\"},\"text\":\"\"},\"zerolinecolor\":\"#E1E5ED\"},\"yaxis\":{\"gridcolor\":\"#E1E5ED\",\"showgrid\":true,\"tickfont\":{\"color\":\"#4D5663\"},\"title\":{\"font\":{\"color\":\"#4D5663\"},\"text\":\"\"},\"zerolinecolor\":\"#E1E5ED\"}},                        {\"showLink\": true, \"linkText\": \"Export to plot.ly\", \"plotlyServerURL\": \"https://plot.ly\", \"responsive\": true}                    ).then(function(){\n",
       "                            \n",
       "var gd = document.getElementById('713f6413-8493-47f8-b0db-dd424999666e');\n",
       "var x = new MutationObserver(function (mutations, observer) {{\n",
       "        var display = window.getComputedStyle(gd).display;\n",
       "        if (!display || display === 'none') {{\n",
       "            console.log([gd, 'removed!']);\n",
       "            Plotly.purge(gd);\n",
       "            observer.disconnect();\n",
       "        }}\n",
       "}});\n",
       "\n",
       "// Listen for the removal of the full notebook cells\n",
       "var notebookContainer = gd.closest('#notebook-container');\n",
       "if (notebookContainer) {{\n",
       "    x.observe(notebookContainer, {childList: true});\n",
       "}}\n",
       "\n",
       "// Listen for the clearing of the current output cell\n",
       "var outputEl = gd.closest('.output');\n",
       "if (outputEl) {{\n",
       "    x.observe(outputEl, {childList: true});\n",
       "}}\n",
       "\n",
       "                        })                };                });            </script>        </div>"
      ]
     },
     "metadata": {},
     "output_type": "display_data"
    }
   ],
   "source": [
    "df.iplot(kind='scatter',x='A',y='B',mode='markers',size=10)"
   ]
  },
  {
   "cell_type": "markdown",
   "metadata": {},
   "source": [
    "## Bar Plots"
   ]
  },
  {
   "cell_type": "code",
   "execution_count": 11,
   "metadata": {},
   "outputs": [
    {
     "data": {
      "application/vnd.plotly.v1+json": {
       "config": {
        "linkText": "Export to plot.ly",
        "plotlyServerURL": "https://plot.ly",
        "showLink": true
       },
       "data": [
        {
         "marker": {
          "color": "rgba(255, 153, 51, 0.6)",
          "line": {
           "color": "rgba(255, 153, 51, 1.0)",
           "width": 1
          }
         },
         "name": "Values",
         "orientation": "v",
         "text": "",
         "type": "bar",
         "x": [
          "A",
          "B",
          "C"
         ],
         "y": [
          32,
          43,
          50
         ]
        }
       ],
       "layout": {
        "legend": {
         "bgcolor": "#F5F6F9",
         "font": {
          "color": "#4D5663"
         }
        },
        "paper_bgcolor": "#F5F6F9",
        "plot_bgcolor": "#F5F6F9",
        "template": {
         "data": {
          "bar": [
           {
            "error_x": {
             "color": "#2a3f5f"
            },
            "error_y": {
             "color": "#2a3f5f"
            },
            "marker": {
             "line": {
              "color": "#E5ECF6",
              "width": 0.5
             },
             "pattern": {
              "fillmode": "overlay",
              "size": 10,
              "solidity": 0.2
             }
            },
            "type": "bar"
           }
          ],
          "barpolar": [
           {
            "marker": {
             "line": {
              "color": "#E5ECF6",
              "width": 0.5
             },
             "pattern": {
              "fillmode": "overlay",
              "size": 10,
              "solidity": 0.2
             }
            },
            "type": "barpolar"
           }
          ],
          "carpet": [
           {
            "aaxis": {
             "endlinecolor": "#2a3f5f",
             "gridcolor": "white",
             "linecolor": "white",
             "minorgridcolor": "white",
             "startlinecolor": "#2a3f5f"
            },
            "baxis": {
             "endlinecolor": "#2a3f5f",
             "gridcolor": "white",
             "linecolor": "white",
             "minorgridcolor": "white",
             "startlinecolor": "#2a3f5f"
            },
            "type": "carpet"
           }
          ],
          "choropleth": [
           {
            "colorbar": {
             "outlinewidth": 0,
             "ticks": ""
            },
            "type": "choropleth"
           }
          ],
          "contour": [
           {
            "colorbar": {
             "outlinewidth": 0,
             "ticks": ""
            },
            "colorscale": [
             [
              0,
              "#0d0887"
             ],
             [
              0.1111111111111111,
              "#46039f"
             ],
             [
              0.2222222222222222,
              "#7201a8"
             ],
             [
              0.3333333333333333,
              "#9c179e"
             ],
             [
              0.4444444444444444,
              "#bd3786"
             ],
             [
              0.5555555555555556,
              "#d8576b"
             ],
             [
              0.6666666666666666,
              "#ed7953"
             ],
             [
              0.7777777777777778,
              "#fb9f3a"
             ],
             [
              0.8888888888888888,
              "#fdca26"
             ],
             [
              1,
              "#f0f921"
             ]
            ],
            "type": "contour"
           }
          ],
          "contourcarpet": [
           {
            "colorbar": {
             "outlinewidth": 0,
             "ticks": ""
            },
            "type": "contourcarpet"
           }
          ],
          "heatmap": [
           {
            "colorbar": {
             "outlinewidth": 0,
             "ticks": ""
            },
            "colorscale": [
             [
              0,
              "#0d0887"
             ],
             [
              0.1111111111111111,
              "#46039f"
             ],
             [
              0.2222222222222222,
              "#7201a8"
             ],
             [
              0.3333333333333333,
              "#9c179e"
             ],
             [
              0.4444444444444444,
              "#bd3786"
             ],
             [
              0.5555555555555556,
              "#d8576b"
             ],
             [
              0.6666666666666666,
              "#ed7953"
             ],
             [
              0.7777777777777778,
              "#fb9f3a"
             ],
             [
              0.8888888888888888,
              "#fdca26"
             ],
             [
              1,
              "#f0f921"
             ]
            ],
            "type": "heatmap"
           }
          ],
          "heatmapgl": [
           {
            "colorbar": {
             "outlinewidth": 0,
             "ticks": ""
            },
            "colorscale": [
             [
              0,
              "#0d0887"
             ],
             [
              0.1111111111111111,
              "#46039f"
             ],
             [
              0.2222222222222222,
              "#7201a8"
             ],
             [
              0.3333333333333333,
              "#9c179e"
             ],
             [
              0.4444444444444444,
              "#bd3786"
             ],
             [
              0.5555555555555556,
              "#d8576b"
             ],
             [
              0.6666666666666666,
              "#ed7953"
             ],
             [
              0.7777777777777778,
              "#fb9f3a"
             ],
             [
              0.8888888888888888,
              "#fdca26"
             ],
             [
              1,
              "#f0f921"
             ]
            ],
            "type": "heatmapgl"
           }
          ],
          "histogram": [
           {
            "marker": {
             "pattern": {
              "fillmode": "overlay",
              "size": 10,
              "solidity": 0.2
             }
            },
            "type": "histogram"
           }
          ],
          "histogram2d": [
           {
            "colorbar": {
             "outlinewidth": 0,
             "ticks": ""
            },
            "colorscale": [
             [
              0,
              "#0d0887"
             ],
             [
              0.1111111111111111,
              "#46039f"
             ],
             [
              0.2222222222222222,
              "#7201a8"
             ],
             [
              0.3333333333333333,
              "#9c179e"
             ],
             [
              0.4444444444444444,
              "#bd3786"
             ],
             [
              0.5555555555555556,
              "#d8576b"
             ],
             [
              0.6666666666666666,
              "#ed7953"
             ],
             [
              0.7777777777777778,
              "#fb9f3a"
             ],
             [
              0.8888888888888888,
              "#fdca26"
             ],
             [
              1,
              "#f0f921"
             ]
            ],
            "type": "histogram2d"
           }
          ],
          "histogram2dcontour": [
           {
            "colorbar": {
             "outlinewidth": 0,
             "ticks": ""
            },
            "colorscale": [
             [
              0,
              "#0d0887"
             ],
             [
              0.1111111111111111,
              "#46039f"
             ],
             [
              0.2222222222222222,
              "#7201a8"
             ],
             [
              0.3333333333333333,
              "#9c179e"
             ],
             [
              0.4444444444444444,
              "#bd3786"
             ],
             [
              0.5555555555555556,
              "#d8576b"
             ],
             [
              0.6666666666666666,
              "#ed7953"
             ],
             [
              0.7777777777777778,
              "#fb9f3a"
             ],
             [
              0.8888888888888888,
              "#fdca26"
             ],
             [
              1,
              "#f0f921"
             ]
            ],
            "type": "histogram2dcontour"
           }
          ],
          "mesh3d": [
           {
            "colorbar": {
             "outlinewidth": 0,
             "ticks": ""
            },
            "type": "mesh3d"
           }
          ],
          "parcoords": [
           {
            "line": {
             "colorbar": {
              "outlinewidth": 0,
              "ticks": ""
             }
            },
            "type": "parcoords"
           }
          ],
          "pie": [
           {
            "automargin": true,
            "type": "pie"
           }
          ],
          "scatter": [
           {
            "marker": {
             "colorbar": {
              "outlinewidth": 0,
              "ticks": ""
             }
            },
            "type": "scatter"
           }
          ],
          "scatter3d": [
           {
            "line": {
             "colorbar": {
              "outlinewidth": 0,
              "ticks": ""
             }
            },
            "marker": {
             "colorbar": {
              "outlinewidth": 0,
              "ticks": ""
             }
            },
            "type": "scatter3d"
           }
          ],
          "scattercarpet": [
           {
            "marker": {
             "colorbar": {
              "outlinewidth": 0,
              "ticks": ""
             }
            },
            "type": "scattercarpet"
           }
          ],
          "scattergeo": [
           {
            "marker": {
             "colorbar": {
              "outlinewidth": 0,
              "ticks": ""
             }
            },
            "type": "scattergeo"
           }
          ],
          "scattergl": [
           {
            "marker": {
             "colorbar": {
              "outlinewidth": 0,
              "ticks": ""
             }
            },
            "type": "scattergl"
           }
          ],
          "scattermapbox": [
           {
            "marker": {
             "colorbar": {
              "outlinewidth": 0,
              "ticks": ""
             }
            },
            "type": "scattermapbox"
           }
          ],
          "scatterpolar": [
           {
            "marker": {
             "colorbar": {
              "outlinewidth": 0,
              "ticks": ""
             }
            },
            "type": "scatterpolar"
           }
          ],
          "scatterpolargl": [
           {
            "marker": {
             "colorbar": {
              "outlinewidth": 0,
              "ticks": ""
             }
            },
            "type": "scatterpolargl"
           }
          ],
          "scatterternary": [
           {
            "marker": {
             "colorbar": {
              "outlinewidth": 0,
              "ticks": ""
             }
            },
            "type": "scatterternary"
           }
          ],
          "surface": [
           {
            "colorbar": {
             "outlinewidth": 0,
             "ticks": ""
            },
            "colorscale": [
             [
              0,
              "#0d0887"
             ],
             [
              0.1111111111111111,
              "#46039f"
             ],
             [
              0.2222222222222222,
              "#7201a8"
             ],
             [
              0.3333333333333333,
              "#9c179e"
             ],
             [
              0.4444444444444444,
              "#bd3786"
             ],
             [
              0.5555555555555556,
              "#d8576b"
             ],
             [
              0.6666666666666666,
              "#ed7953"
             ],
             [
              0.7777777777777778,
              "#fb9f3a"
             ],
             [
              0.8888888888888888,
              "#fdca26"
             ],
             [
              1,
              "#f0f921"
             ]
            ],
            "type": "surface"
           }
          ],
          "table": [
           {
            "cells": {
             "fill": {
              "color": "#EBF0F8"
             },
             "line": {
              "color": "white"
             }
            },
            "header": {
             "fill": {
              "color": "#C8D4E3"
             },
             "line": {
              "color": "white"
             }
            },
            "type": "table"
           }
          ]
         },
         "layout": {
          "annotationdefaults": {
           "arrowcolor": "#2a3f5f",
           "arrowhead": 0,
           "arrowwidth": 1
          },
          "autotypenumbers": "strict",
          "coloraxis": {
           "colorbar": {
            "outlinewidth": 0,
            "ticks": ""
           }
          },
          "colorscale": {
           "diverging": [
            [
             0,
             "#8e0152"
            ],
            [
             0.1,
             "#c51b7d"
            ],
            [
             0.2,
             "#de77ae"
            ],
            [
             0.3,
             "#f1b6da"
            ],
            [
             0.4,
             "#fde0ef"
            ],
            [
             0.5,
             "#f7f7f7"
            ],
            [
             0.6,
             "#e6f5d0"
            ],
            [
             0.7,
             "#b8e186"
            ],
            [
             0.8,
             "#7fbc41"
            ],
            [
             0.9,
             "#4d9221"
            ],
            [
             1,
             "#276419"
            ]
           ],
           "sequential": [
            [
             0,
             "#0d0887"
            ],
            [
             0.1111111111111111,
             "#46039f"
            ],
            [
             0.2222222222222222,
             "#7201a8"
            ],
            [
             0.3333333333333333,
             "#9c179e"
            ],
            [
             0.4444444444444444,
             "#bd3786"
            ],
            [
             0.5555555555555556,
             "#d8576b"
            ],
            [
             0.6666666666666666,
             "#ed7953"
            ],
            [
             0.7777777777777778,
             "#fb9f3a"
            ],
            [
             0.8888888888888888,
             "#fdca26"
            ],
            [
             1,
             "#f0f921"
            ]
           ],
           "sequentialminus": [
            [
             0,
             "#0d0887"
            ],
            [
             0.1111111111111111,
             "#46039f"
            ],
            [
             0.2222222222222222,
             "#7201a8"
            ],
            [
             0.3333333333333333,
             "#9c179e"
            ],
            [
             0.4444444444444444,
             "#bd3786"
            ],
            [
             0.5555555555555556,
             "#d8576b"
            ],
            [
             0.6666666666666666,
             "#ed7953"
            ],
            [
             0.7777777777777778,
             "#fb9f3a"
            ],
            [
             0.8888888888888888,
             "#fdca26"
            ],
            [
             1,
             "#f0f921"
            ]
           ]
          },
          "colorway": [
           "#636efa",
           "#EF553B",
           "#00cc96",
           "#ab63fa",
           "#FFA15A",
           "#19d3f3",
           "#FF6692",
           "#B6E880",
           "#FF97FF",
           "#FECB52"
          ],
          "font": {
           "color": "#2a3f5f"
          },
          "geo": {
           "bgcolor": "white",
           "lakecolor": "white",
           "landcolor": "#E5ECF6",
           "showlakes": true,
           "showland": true,
           "subunitcolor": "white"
          },
          "hoverlabel": {
           "align": "left"
          },
          "hovermode": "closest",
          "mapbox": {
           "style": "light"
          },
          "paper_bgcolor": "white",
          "plot_bgcolor": "#E5ECF6",
          "polar": {
           "angularaxis": {
            "gridcolor": "white",
            "linecolor": "white",
            "ticks": ""
           },
           "bgcolor": "#E5ECF6",
           "radialaxis": {
            "gridcolor": "white",
            "linecolor": "white",
            "ticks": ""
           }
          },
          "scene": {
           "xaxis": {
            "backgroundcolor": "#E5ECF6",
            "gridcolor": "white",
            "gridwidth": 2,
            "linecolor": "white",
            "showbackground": true,
            "ticks": "",
            "zerolinecolor": "white"
           },
           "yaxis": {
            "backgroundcolor": "#E5ECF6",
            "gridcolor": "white",
            "gridwidth": 2,
            "linecolor": "white",
            "showbackground": true,
            "ticks": "",
            "zerolinecolor": "white"
           },
           "zaxis": {
            "backgroundcolor": "#E5ECF6",
            "gridcolor": "white",
            "gridwidth": 2,
            "linecolor": "white",
            "showbackground": true,
            "ticks": "",
            "zerolinecolor": "white"
           }
          },
          "shapedefaults": {
           "line": {
            "color": "#2a3f5f"
           }
          },
          "ternary": {
           "aaxis": {
            "gridcolor": "white",
            "linecolor": "white",
            "ticks": ""
           },
           "baxis": {
            "gridcolor": "white",
            "linecolor": "white",
            "ticks": ""
           },
           "bgcolor": "#E5ECF6",
           "caxis": {
            "gridcolor": "white",
            "linecolor": "white",
            "ticks": ""
           }
          },
          "title": {
           "x": 0.05
          },
          "xaxis": {
           "automargin": true,
           "gridcolor": "white",
           "linecolor": "white",
           "ticks": "",
           "title": {
            "standoff": 15
           },
           "zerolinecolor": "white",
           "zerolinewidth": 2
          },
          "yaxis": {
           "automargin": true,
           "gridcolor": "white",
           "linecolor": "white",
           "ticks": "",
           "title": {
            "standoff": 15
           },
           "zerolinecolor": "white",
           "zerolinewidth": 2
          }
         }
        },
        "title": {
         "font": {
          "color": "#4D5663"
         }
        },
        "xaxis": {
         "gridcolor": "#E1E5ED",
         "showgrid": true,
         "tickfont": {
          "color": "#4D5663"
         },
         "title": {
          "font": {
           "color": "#4D5663"
          },
          "text": ""
         },
         "zerolinecolor": "#E1E5ED"
        },
        "yaxis": {
         "gridcolor": "#E1E5ED",
         "showgrid": true,
         "tickfont": {
          "color": "#4D5663"
         },
         "title": {
          "font": {
           "color": "#4D5663"
          },
          "text": ""
         },
         "zerolinecolor": "#E1E5ED"
        }
       }
      },
      "text/html": [
       "<div>                            <div id=\"005a6615-6937-4c67-81b6-1c11d543dc16\" class=\"plotly-graph-div\" style=\"height:525px; width:100%;\"></div>            <script type=\"text/javascript\">                require([\"plotly\"], function(Plotly) {                    window.PLOTLYENV=window.PLOTLYENV || {};\n",
       "                    window.PLOTLYENV.BASE_URL='https://plot.ly';                                    if (document.getElementById(\"005a6615-6937-4c67-81b6-1c11d543dc16\")) {                    Plotly.newPlot(                        \"005a6615-6937-4c67-81b6-1c11d543dc16\",                        [{\"marker\":{\"color\":\"rgba(255, 153, 51, 0.6)\",\"line\":{\"color\":\"rgba(255, 153, 51, 1.0)\",\"width\":1}},\"name\":\"Values\",\"orientation\":\"v\",\"text\":\"\",\"x\":[\"A\",\"B\",\"C\"],\"y\":[32,43,50],\"type\":\"bar\"}],                        {\"legend\":{\"bgcolor\":\"#F5F6F9\",\"font\":{\"color\":\"#4D5663\"}},\"paper_bgcolor\":\"#F5F6F9\",\"plot_bgcolor\":\"#F5F6F9\",\"template\":{\"data\":{\"barpolar\":[{\"marker\":{\"line\":{\"color\":\"#E5ECF6\",\"width\":0.5},\"pattern\":{\"fillmode\":\"overlay\",\"size\":10,\"solidity\":0.2}},\"type\":\"barpolar\"}],\"bar\":[{\"error_x\":{\"color\":\"#2a3f5f\"},\"error_y\":{\"color\":\"#2a3f5f\"},\"marker\":{\"line\":{\"color\":\"#E5ECF6\",\"width\":0.5},\"pattern\":{\"fillmode\":\"overlay\",\"size\":10,\"solidity\":0.2}},\"type\":\"bar\"}],\"carpet\":[{\"aaxis\":{\"endlinecolor\":\"#2a3f5f\",\"gridcolor\":\"white\",\"linecolor\":\"white\",\"minorgridcolor\":\"white\",\"startlinecolor\":\"#2a3f5f\"},\"baxis\":{\"endlinecolor\":\"#2a3f5f\",\"gridcolor\":\"white\",\"linecolor\":\"white\",\"minorgridcolor\":\"white\",\"startlinecolor\":\"#2a3f5f\"},\"type\":\"carpet\"}],\"choropleth\":[{\"colorbar\":{\"outlinewidth\":0,\"ticks\":\"\"},\"type\":\"choropleth\"}],\"contourcarpet\":[{\"colorbar\":{\"outlinewidth\":0,\"ticks\":\"\"},\"type\":\"contourcarpet\"}],\"contour\":[{\"colorbar\":{\"outlinewidth\":0,\"ticks\":\"\"},\"colorscale\":[[0.0,\"#0d0887\"],[0.1111111111111111,\"#46039f\"],[0.2222222222222222,\"#7201a8\"],[0.3333333333333333,\"#9c179e\"],[0.4444444444444444,\"#bd3786\"],[0.5555555555555556,\"#d8576b\"],[0.6666666666666666,\"#ed7953\"],[0.7777777777777778,\"#fb9f3a\"],[0.8888888888888888,\"#fdca26\"],[1.0,\"#f0f921\"]],\"type\":\"contour\"}],\"heatmapgl\":[{\"colorbar\":{\"outlinewidth\":0,\"ticks\":\"\"},\"colorscale\":[[0.0,\"#0d0887\"],[0.1111111111111111,\"#46039f\"],[0.2222222222222222,\"#7201a8\"],[0.3333333333333333,\"#9c179e\"],[0.4444444444444444,\"#bd3786\"],[0.5555555555555556,\"#d8576b\"],[0.6666666666666666,\"#ed7953\"],[0.7777777777777778,\"#fb9f3a\"],[0.8888888888888888,\"#fdca26\"],[1.0,\"#f0f921\"]],\"type\":\"heatmapgl\"}],\"heatmap\":[{\"colorbar\":{\"outlinewidth\":0,\"ticks\":\"\"},\"colorscale\":[[0.0,\"#0d0887\"],[0.1111111111111111,\"#46039f\"],[0.2222222222222222,\"#7201a8\"],[0.3333333333333333,\"#9c179e\"],[0.4444444444444444,\"#bd3786\"],[0.5555555555555556,\"#d8576b\"],[0.6666666666666666,\"#ed7953\"],[0.7777777777777778,\"#fb9f3a\"],[0.8888888888888888,\"#fdca26\"],[1.0,\"#f0f921\"]],\"type\":\"heatmap\"}],\"histogram2dcontour\":[{\"colorbar\":{\"outlinewidth\":0,\"ticks\":\"\"},\"colorscale\":[[0.0,\"#0d0887\"],[0.1111111111111111,\"#46039f\"],[0.2222222222222222,\"#7201a8\"],[0.3333333333333333,\"#9c179e\"],[0.4444444444444444,\"#bd3786\"],[0.5555555555555556,\"#d8576b\"],[0.6666666666666666,\"#ed7953\"],[0.7777777777777778,\"#fb9f3a\"],[0.8888888888888888,\"#fdca26\"],[1.0,\"#f0f921\"]],\"type\":\"histogram2dcontour\"}],\"histogram2d\":[{\"colorbar\":{\"outlinewidth\":0,\"ticks\":\"\"},\"colorscale\":[[0.0,\"#0d0887\"],[0.1111111111111111,\"#46039f\"],[0.2222222222222222,\"#7201a8\"],[0.3333333333333333,\"#9c179e\"],[0.4444444444444444,\"#bd3786\"],[0.5555555555555556,\"#d8576b\"],[0.6666666666666666,\"#ed7953\"],[0.7777777777777778,\"#fb9f3a\"],[0.8888888888888888,\"#fdca26\"],[1.0,\"#f0f921\"]],\"type\":\"histogram2d\"}],\"histogram\":[{\"marker\":{\"pattern\":{\"fillmode\":\"overlay\",\"size\":10,\"solidity\":0.2}},\"type\":\"histogram\"}],\"mesh3d\":[{\"colorbar\":{\"outlinewidth\":0,\"ticks\":\"\"},\"type\":\"mesh3d\"}],\"parcoords\":[{\"line\":{\"colorbar\":{\"outlinewidth\":0,\"ticks\":\"\"}},\"type\":\"parcoords\"}],\"pie\":[{\"automargin\":true,\"type\":\"pie\"}],\"scatter3d\":[{\"line\":{\"colorbar\":{\"outlinewidth\":0,\"ticks\":\"\"}},\"marker\":{\"colorbar\":{\"outlinewidth\":0,\"ticks\":\"\"}},\"type\":\"scatter3d\"}],\"scattercarpet\":[{\"marker\":{\"colorbar\":{\"outlinewidth\":0,\"ticks\":\"\"}},\"type\":\"scattercarpet\"}],\"scattergeo\":[{\"marker\":{\"colorbar\":{\"outlinewidth\":0,\"ticks\":\"\"}},\"type\":\"scattergeo\"}],\"scattergl\":[{\"marker\":{\"colorbar\":{\"outlinewidth\":0,\"ticks\":\"\"}},\"type\":\"scattergl\"}],\"scattermapbox\":[{\"marker\":{\"colorbar\":{\"outlinewidth\":0,\"ticks\":\"\"}},\"type\":\"scattermapbox\"}],\"scatterpolargl\":[{\"marker\":{\"colorbar\":{\"outlinewidth\":0,\"ticks\":\"\"}},\"type\":\"scatterpolargl\"}],\"scatterpolar\":[{\"marker\":{\"colorbar\":{\"outlinewidth\":0,\"ticks\":\"\"}},\"type\":\"scatterpolar\"}],\"scatter\":[{\"marker\":{\"colorbar\":{\"outlinewidth\":0,\"ticks\":\"\"}},\"type\":\"scatter\"}],\"scatterternary\":[{\"marker\":{\"colorbar\":{\"outlinewidth\":0,\"ticks\":\"\"}},\"type\":\"scatterternary\"}],\"surface\":[{\"colorbar\":{\"outlinewidth\":0,\"ticks\":\"\"},\"colorscale\":[[0.0,\"#0d0887\"],[0.1111111111111111,\"#46039f\"],[0.2222222222222222,\"#7201a8\"],[0.3333333333333333,\"#9c179e\"],[0.4444444444444444,\"#bd3786\"],[0.5555555555555556,\"#d8576b\"],[0.6666666666666666,\"#ed7953\"],[0.7777777777777778,\"#fb9f3a\"],[0.8888888888888888,\"#fdca26\"],[1.0,\"#f0f921\"]],\"type\":\"surface\"}],\"table\":[{\"cells\":{\"fill\":{\"color\":\"#EBF0F8\"},\"line\":{\"color\":\"white\"}},\"header\":{\"fill\":{\"color\":\"#C8D4E3\"},\"line\":{\"color\":\"white\"}},\"type\":\"table\"}]},\"layout\":{\"annotationdefaults\":{\"arrowcolor\":\"#2a3f5f\",\"arrowhead\":0,\"arrowwidth\":1},\"autotypenumbers\":\"strict\",\"coloraxis\":{\"colorbar\":{\"outlinewidth\":0,\"ticks\":\"\"}},\"colorscale\":{\"diverging\":[[0,\"#8e0152\"],[0.1,\"#c51b7d\"],[0.2,\"#de77ae\"],[0.3,\"#f1b6da\"],[0.4,\"#fde0ef\"],[0.5,\"#f7f7f7\"],[0.6,\"#e6f5d0\"],[0.7,\"#b8e186\"],[0.8,\"#7fbc41\"],[0.9,\"#4d9221\"],[1,\"#276419\"]],\"sequential\":[[0.0,\"#0d0887\"],[0.1111111111111111,\"#46039f\"],[0.2222222222222222,\"#7201a8\"],[0.3333333333333333,\"#9c179e\"],[0.4444444444444444,\"#bd3786\"],[0.5555555555555556,\"#d8576b\"],[0.6666666666666666,\"#ed7953\"],[0.7777777777777778,\"#fb9f3a\"],[0.8888888888888888,\"#fdca26\"],[1.0,\"#f0f921\"]],\"sequentialminus\":[[0.0,\"#0d0887\"],[0.1111111111111111,\"#46039f\"],[0.2222222222222222,\"#7201a8\"],[0.3333333333333333,\"#9c179e\"],[0.4444444444444444,\"#bd3786\"],[0.5555555555555556,\"#d8576b\"],[0.6666666666666666,\"#ed7953\"],[0.7777777777777778,\"#fb9f3a\"],[0.8888888888888888,\"#fdca26\"],[1.0,\"#f0f921\"]]},\"colorway\":[\"#636efa\",\"#EF553B\",\"#00cc96\",\"#ab63fa\",\"#FFA15A\",\"#19d3f3\",\"#FF6692\",\"#B6E880\",\"#FF97FF\",\"#FECB52\"],\"font\":{\"color\":\"#2a3f5f\"},\"geo\":{\"bgcolor\":\"white\",\"lakecolor\":\"white\",\"landcolor\":\"#E5ECF6\",\"showlakes\":true,\"showland\":true,\"subunitcolor\":\"white\"},\"hoverlabel\":{\"align\":\"left\"},\"hovermode\":\"closest\",\"mapbox\":{\"style\":\"light\"},\"paper_bgcolor\":\"white\",\"plot_bgcolor\":\"#E5ECF6\",\"polar\":{\"angularaxis\":{\"gridcolor\":\"white\",\"linecolor\":\"white\",\"ticks\":\"\"},\"bgcolor\":\"#E5ECF6\",\"radialaxis\":{\"gridcolor\":\"white\",\"linecolor\":\"white\",\"ticks\":\"\"}},\"scene\":{\"xaxis\":{\"backgroundcolor\":\"#E5ECF6\",\"gridcolor\":\"white\",\"gridwidth\":2,\"linecolor\":\"white\",\"showbackground\":true,\"ticks\":\"\",\"zerolinecolor\":\"white\"},\"yaxis\":{\"backgroundcolor\":\"#E5ECF6\",\"gridcolor\":\"white\",\"gridwidth\":2,\"linecolor\":\"white\",\"showbackground\":true,\"ticks\":\"\",\"zerolinecolor\":\"white\"},\"zaxis\":{\"backgroundcolor\":\"#E5ECF6\",\"gridcolor\":\"white\",\"gridwidth\":2,\"linecolor\":\"white\",\"showbackground\":true,\"ticks\":\"\",\"zerolinecolor\":\"white\"}},\"shapedefaults\":{\"line\":{\"color\":\"#2a3f5f\"}},\"ternary\":{\"aaxis\":{\"gridcolor\":\"white\",\"linecolor\":\"white\",\"ticks\":\"\"},\"baxis\":{\"gridcolor\":\"white\",\"linecolor\":\"white\",\"ticks\":\"\"},\"bgcolor\":\"#E5ECF6\",\"caxis\":{\"gridcolor\":\"white\",\"linecolor\":\"white\",\"ticks\":\"\"}},\"title\":{\"x\":0.05},\"xaxis\":{\"automargin\":true,\"gridcolor\":\"white\",\"linecolor\":\"white\",\"ticks\":\"\",\"title\":{\"standoff\":15},\"zerolinecolor\":\"white\",\"zerolinewidth\":2},\"yaxis\":{\"automargin\":true,\"gridcolor\":\"white\",\"linecolor\":\"white\",\"ticks\":\"\",\"title\":{\"standoff\":15},\"zerolinecolor\":\"white\",\"zerolinewidth\":2}}},\"title\":{\"font\":{\"color\":\"#4D5663\"}},\"xaxis\":{\"gridcolor\":\"#E1E5ED\",\"showgrid\":true,\"tickfont\":{\"color\":\"#4D5663\"},\"title\":{\"font\":{\"color\":\"#4D5663\"},\"text\":\"\"},\"zerolinecolor\":\"#E1E5ED\"},\"yaxis\":{\"gridcolor\":\"#E1E5ED\",\"showgrid\":true,\"tickfont\":{\"color\":\"#4D5663\"},\"title\":{\"font\":{\"color\":\"#4D5663\"},\"text\":\"\"},\"zerolinecolor\":\"#E1E5ED\"}},                        {\"showLink\": true, \"linkText\": \"Export to plot.ly\", \"plotlyServerURL\": \"https://plot.ly\", \"responsive\": true}                    ).then(function(){\n",
       "                            \n",
       "var gd = document.getElementById('005a6615-6937-4c67-81b6-1c11d543dc16');\n",
       "var x = new MutationObserver(function (mutations, observer) {{\n",
       "        var display = window.getComputedStyle(gd).display;\n",
       "        if (!display || display === 'none') {{\n",
       "            console.log([gd, 'removed!']);\n",
       "            Plotly.purge(gd);\n",
       "            observer.disconnect();\n",
       "        }}\n",
       "}});\n",
       "\n",
       "// Listen for the removal of the full notebook cells\n",
       "var notebookContainer = gd.closest('#notebook-container');\n",
       "if (notebookContainer) {{\n",
       "    x.observe(notebookContainer, {childList: true});\n",
       "}}\n",
       "\n",
       "// Listen for the clearing of the current output cell\n",
       "var outputEl = gd.closest('.output');\n",
       "if (outputEl) {{\n",
       "    x.observe(outputEl, {childList: true});\n",
       "}}\n",
       "\n",
       "                        })                };                });            </script>        </div>"
      ]
     },
     "metadata": {},
     "output_type": "display_data"
    }
   ],
   "source": [
    "df2.iplot(kind='bar',x='Category',y='Values')"
   ]
  },
  {
   "cell_type": "code",
   "execution_count": 12,
   "metadata": {},
   "outputs": [
    {
     "data": {
      "application/vnd.plotly.v1+json": {
       "config": {
        "linkText": "Export to plot.ly",
        "plotlyServerURL": "https://plot.ly",
        "showLink": true
       },
       "data": [
        {
         "marker": {
          "color": "rgba(255, 153, 51, 0.6)",
          "line": {
           "color": "rgba(255, 153, 51, 1.0)",
           "width": 1
          }
         },
         "name": "None",
         "orientation": "v",
         "text": "",
         "type": "bar",
         "x": [
          "A",
          "B",
          "C",
          "D"
         ],
         "y": [
          100,
          100,
          100,
          100
         ]
        }
       ],
       "layout": {
        "legend": {
         "bgcolor": "#F5F6F9",
         "font": {
          "color": "#4D5663"
         }
        },
        "paper_bgcolor": "#F5F6F9",
        "plot_bgcolor": "#F5F6F9",
        "template": {
         "data": {
          "bar": [
           {
            "error_x": {
             "color": "#2a3f5f"
            },
            "error_y": {
             "color": "#2a3f5f"
            },
            "marker": {
             "line": {
              "color": "#E5ECF6",
              "width": 0.5
             },
             "pattern": {
              "fillmode": "overlay",
              "size": 10,
              "solidity": 0.2
             }
            },
            "type": "bar"
           }
          ],
          "barpolar": [
           {
            "marker": {
             "line": {
              "color": "#E5ECF6",
              "width": 0.5
             },
             "pattern": {
              "fillmode": "overlay",
              "size": 10,
              "solidity": 0.2
             }
            },
            "type": "barpolar"
           }
          ],
          "carpet": [
           {
            "aaxis": {
             "endlinecolor": "#2a3f5f",
             "gridcolor": "white",
             "linecolor": "white",
             "minorgridcolor": "white",
             "startlinecolor": "#2a3f5f"
            },
            "baxis": {
             "endlinecolor": "#2a3f5f",
             "gridcolor": "white",
             "linecolor": "white",
             "minorgridcolor": "white",
             "startlinecolor": "#2a3f5f"
            },
            "type": "carpet"
           }
          ],
          "choropleth": [
           {
            "colorbar": {
             "outlinewidth": 0,
             "ticks": ""
            },
            "type": "choropleth"
           }
          ],
          "contour": [
           {
            "colorbar": {
             "outlinewidth": 0,
             "ticks": ""
            },
            "colorscale": [
             [
              0,
              "#0d0887"
             ],
             [
              0.1111111111111111,
              "#46039f"
             ],
             [
              0.2222222222222222,
              "#7201a8"
             ],
             [
              0.3333333333333333,
              "#9c179e"
             ],
             [
              0.4444444444444444,
              "#bd3786"
             ],
             [
              0.5555555555555556,
              "#d8576b"
             ],
             [
              0.6666666666666666,
              "#ed7953"
             ],
             [
              0.7777777777777778,
              "#fb9f3a"
             ],
             [
              0.8888888888888888,
              "#fdca26"
             ],
             [
              1,
              "#f0f921"
             ]
            ],
            "type": "contour"
           }
          ],
          "contourcarpet": [
           {
            "colorbar": {
             "outlinewidth": 0,
             "ticks": ""
            },
            "type": "contourcarpet"
           }
          ],
          "heatmap": [
           {
            "colorbar": {
             "outlinewidth": 0,
             "ticks": ""
            },
            "colorscale": [
             [
              0,
              "#0d0887"
             ],
             [
              0.1111111111111111,
              "#46039f"
             ],
             [
              0.2222222222222222,
              "#7201a8"
             ],
             [
              0.3333333333333333,
              "#9c179e"
             ],
             [
              0.4444444444444444,
              "#bd3786"
             ],
             [
              0.5555555555555556,
              "#d8576b"
             ],
             [
              0.6666666666666666,
              "#ed7953"
             ],
             [
              0.7777777777777778,
              "#fb9f3a"
             ],
             [
              0.8888888888888888,
              "#fdca26"
             ],
             [
              1,
              "#f0f921"
             ]
            ],
            "type": "heatmap"
           }
          ],
          "heatmapgl": [
           {
            "colorbar": {
             "outlinewidth": 0,
             "ticks": ""
            },
            "colorscale": [
             [
              0,
              "#0d0887"
             ],
             [
              0.1111111111111111,
              "#46039f"
             ],
             [
              0.2222222222222222,
              "#7201a8"
             ],
             [
              0.3333333333333333,
              "#9c179e"
             ],
             [
              0.4444444444444444,
              "#bd3786"
             ],
             [
              0.5555555555555556,
              "#d8576b"
             ],
             [
              0.6666666666666666,
              "#ed7953"
             ],
             [
              0.7777777777777778,
              "#fb9f3a"
             ],
             [
              0.8888888888888888,
              "#fdca26"
             ],
             [
              1,
              "#f0f921"
             ]
            ],
            "type": "heatmapgl"
           }
          ],
          "histogram": [
           {
            "marker": {
             "pattern": {
              "fillmode": "overlay",
              "size": 10,
              "solidity": 0.2
             }
            },
            "type": "histogram"
           }
          ],
          "histogram2d": [
           {
            "colorbar": {
             "outlinewidth": 0,
             "ticks": ""
            },
            "colorscale": [
             [
              0,
              "#0d0887"
             ],
             [
              0.1111111111111111,
              "#46039f"
             ],
             [
              0.2222222222222222,
              "#7201a8"
             ],
             [
              0.3333333333333333,
              "#9c179e"
             ],
             [
              0.4444444444444444,
              "#bd3786"
             ],
             [
              0.5555555555555556,
              "#d8576b"
             ],
             [
              0.6666666666666666,
              "#ed7953"
             ],
             [
              0.7777777777777778,
              "#fb9f3a"
             ],
             [
              0.8888888888888888,
              "#fdca26"
             ],
             [
              1,
              "#f0f921"
             ]
            ],
            "type": "histogram2d"
           }
          ],
          "histogram2dcontour": [
           {
            "colorbar": {
             "outlinewidth": 0,
             "ticks": ""
            },
            "colorscale": [
             [
              0,
              "#0d0887"
             ],
             [
              0.1111111111111111,
              "#46039f"
             ],
             [
              0.2222222222222222,
              "#7201a8"
             ],
             [
              0.3333333333333333,
              "#9c179e"
             ],
             [
              0.4444444444444444,
              "#bd3786"
             ],
             [
              0.5555555555555556,
              "#d8576b"
             ],
             [
              0.6666666666666666,
              "#ed7953"
             ],
             [
              0.7777777777777778,
              "#fb9f3a"
             ],
             [
              0.8888888888888888,
              "#fdca26"
             ],
             [
              1,
              "#f0f921"
             ]
            ],
            "type": "histogram2dcontour"
           }
          ],
          "mesh3d": [
           {
            "colorbar": {
             "outlinewidth": 0,
             "ticks": ""
            },
            "type": "mesh3d"
           }
          ],
          "parcoords": [
           {
            "line": {
             "colorbar": {
              "outlinewidth": 0,
              "ticks": ""
             }
            },
            "type": "parcoords"
           }
          ],
          "pie": [
           {
            "automargin": true,
            "type": "pie"
           }
          ],
          "scatter": [
           {
            "marker": {
             "colorbar": {
              "outlinewidth": 0,
              "ticks": ""
             }
            },
            "type": "scatter"
           }
          ],
          "scatter3d": [
           {
            "line": {
             "colorbar": {
              "outlinewidth": 0,
              "ticks": ""
             }
            },
            "marker": {
             "colorbar": {
              "outlinewidth": 0,
              "ticks": ""
             }
            },
            "type": "scatter3d"
           }
          ],
          "scattercarpet": [
           {
            "marker": {
             "colorbar": {
              "outlinewidth": 0,
              "ticks": ""
             }
            },
            "type": "scattercarpet"
           }
          ],
          "scattergeo": [
           {
            "marker": {
             "colorbar": {
              "outlinewidth": 0,
              "ticks": ""
             }
            },
            "type": "scattergeo"
           }
          ],
          "scattergl": [
           {
            "marker": {
             "colorbar": {
              "outlinewidth": 0,
              "ticks": ""
             }
            },
            "type": "scattergl"
           }
          ],
          "scattermapbox": [
           {
            "marker": {
             "colorbar": {
              "outlinewidth": 0,
              "ticks": ""
             }
            },
            "type": "scattermapbox"
           }
          ],
          "scatterpolar": [
           {
            "marker": {
             "colorbar": {
              "outlinewidth": 0,
              "ticks": ""
             }
            },
            "type": "scatterpolar"
           }
          ],
          "scatterpolargl": [
           {
            "marker": {
             "colorbar": {
              "outlinewidth": 0,
              "ticks": ""
             }
            },
            "type": "scatterpolargl"
           }
          ],
          "scatterternary": [
           {
            "marker": {
             "colorbar": {
              "outlinewidth": 0,
              "ticks": ""
             }
            },
            "type": "scatterternary"
           }
          ],
          "surface": [
           {
            "colorbar": {
             "outlinewidth": 0,
             "ticks": ""
            },
            "colorscale": [
             [
              0,
              "#0d0887"
             ],
             [
              0.1111111111111111,
              "#46039f"
             ],
             [
              0.2222222222222222,
              "#7201a8"
             ],
             [
              0.3333333333333333,
              "#9c179e"
             ],
             [
              0.4444444444444444,
              "#bd3786"
             ],
             [
              0.5555555555555556,
              "#d8576b"
             ],
             [
              0.6666666666666666,
              "#ed7953"
             ],
             [
              0.7777777777777778,
              "#fb9f3a"
             ],
             [
              0.8888888888888888,
              "#fdca26"
             ],
             [
              1,
              "#f0f921"
             ]
            ],
            "type": "surface"
           }
          ],
          "table": [
           {
            "cells": {
             "fill": {
              "color": "#EBF0F8"
             },
             "line": {
              "color": "white"
             }
            },
            "header": {
             "fill": {
              "color": "#C8D4E3"
             },
             "line": {
              "color": "white"
             }
            },
            "type": "table"
           }
          ]
         },
         "layout": {
          "annotationdefaults": {
           "arrowcolor": "#2a3f5f",
           "arrowhead": 0,
           "arrowwidth": 1
          },
          "autotypenumbers": "strict",
          "coloraxis": {
           "colorbar": {
            "outlinewidth": 0,
            "ticks": ""
           }
          },
          "colorscale": {
           "diverging": [
            [
             0,
             "#8e0152"
            ],
            [
             0.1,
             "#c51b7d"
            ],
            [
             0.2,
             "#de77ae"
            ],
            [
             0.3,
             "#f1b6da"
            ],
            [
             0.4,
             "#fde0ef"
            ],
            [
             0.5,
             "#f7f7f7"
            ],
            [
             0.6,
             "#e6f5d0"
            ],
            [
             0.7,
             "#b8e186"
            ],
            [
             0.8,
             "#7fbc41"
            ],
            [
             0.9,
             "#4d9221"
            ],
            [
             1,
             "#276419"
            ]
           ],
           "sequential": [
            [
             0,
             "#0d0887"
            ],
            [
             0.1111111111111111,
             "#46039f"
            ],
            [
             0.2222222222222222,
             "#7201a8"
            ],
            [
             0.3333333333333333,
             "#9c179e"
            ],
            [
             0.4444444444444444,
             "#bd3786"
            ],
            [
             0.5555555555555556,
             "#d8576b"
            ],
            [
             0.6666666666666666,
             "#ed7953"
            ],
            [
             0.7777777777777778,
             "#fb9f3a"
            ],
            [
             0.8888888888888888,
             "#fdca26"
            ],
            [
             1,
             "#f0f921"
            ]
           ],
           "sequentialminus": [
            [
             0,
             "#0d0887"
            ],
            [
             0.1111111111111111,
             "#46039f"
            ],
            [
             0.2222222222222222,
             "#7201a8"
            ],
            [
             0.3333333333333333,
             "#9c179e"
            ],
            [
             0.4444444444444444,
             "#bd3786"
            ],
            [
             0.5555555555555556,
             "#d8576b"
            ],
            [
             0.6666666666666666,
             "#ed7953"
            ],
            [
             0.7777777777777778,
             "#fb9f3a"
            ],
            [
             0.8888888888888888,
             "#fdca26"
            ],
            [
             1,
             "#f0f921"
            ]
           ]
          },
          "colorway": [
           "#636efa",
           "#EF553B",
           "#00cc96",
           "#ab63fa",
           "#FFA15A",
           "#19d3f3",
           "#FF6692",
           "#B6E880",
           "#FF97FF",
           "#FECB52"
          ],
          "font": {
           "color": "#2a3f5f"
          },
          "geo": {
           "bgcolor": "white",
           "lakecolor": "white",
           "landcolor": "#E5ECF6",
           "showlakes": true,
           "showland": true,
           "subunitcolor": "white"
          },
          "hoverlabel": {
           "align": "left"
          },
          "hovermode": "closest",
          "mapbox": {
           "style": "light"
          },
          "paper_bgcolor": "white",
          "plot_bgcolor": "#E5ECF6",
          "polar": {
           "angularaxis": {
            "gridcolor": "white",
            "linecolor": "white",
            "ticks": ""
           },
           "bgcolor": "#E5ECF6",
           "radialaxis": {
            "gridcolor": "white",
            "linecolor": "white",
            "ticks": ""
           }
          },
          "scene": {
           "xaxis": {
            "backgroundcolor": "#E5ECF6",
            "gridcolor": "white",
            "gridwidth": 2,
            "linecolor": "white",
            "showbackground": true,
            "ticks": "",
            "zerolinecolor": "white"
           },
           "yaxis": {
            "backgroundcolor": "#E5ECF6",
            "gridcolor": "white",
            "gridwidth": 2,
            "linecolor": "white",
            "showbackground": true,
            "ticks": "",
            "zerolinecolor": "white"
           },
           "zaxis": {
            "backgroundcolor": "#E5ECF6",
            "gridcolor": "white",
            "gridwidth": 2,
            "linecolor": "white",
            "showbackground": true,
            "ticks": "",
            "zerolinecolor": "white"
           }
          },
          "shapedefaults": {
           "line": {
            "color": "#2a3f5f"
           }
          },
          "ternary": {
           "aaxis": {
            "gridcolor": "white",
            "linecolor": "white",
            "ticks": ""
           },
           "baxis": {
            "gridcolor": "white",
            "linecolor": "white",
            "ticks": ""
           },
           "bgcolor": "#E5ECF6",
           "caxis": {
            "gridcolor": "white",
            "linecolor": "white",
            "ticks": ""
           }
          },
          "title": {
           "x": 0.05
          },
          "xaxis": {
           "automargin": true,
           "gridcolor": "white",
           "linecolor": "white",
           "ticks": "",
           "title": {
            "standoff": 15
           },
           "zerolinecolor": "white",
           "zerolinewidth": 2
          },
          "yaxis": {
           "automargin": true,
           "gridcolor": "white",
           "linecolor": "white",
           "ticks": "",
           "title": {
            "standoff": 15
           },
           "zerolinecolor": "white",
           "zerolinewidth": 2
          }
         }
        },
        "title": {
         "font": {
          "color": "#4D5663"
         }
        },
        "xaxis": {
         "gridcolor": "#E1E5ED",
         "showgrid": true,
         "tickfont": {
          "color": "#4D5663"
         },
         "title": {
          "font": {
           "color": "#4D5663"
          },
          "text": ""
         },
         "zerolinecolor": "#E1E5ED"
        },
        "yaxis": {
         "gridcolor": "#E1E5ED",
         "showgrid": true,
         "tickfont": {
          "color": "#4D5663"
         },
         "title": {
          "font": {
           "color": "#4D5663"
          },
          "text": ""
         },
         "zerolinecolor": "#E1E5ED"
        }
       }
      },
      "text/html": [
       "<div>                            <div id=\"8f141038-4d95-4e2e-81e4-80b89b82892e\" class=\"plotly-graph-div\" style=\"height:525px; width:100%;\"></div>            <script type=\"text/javascript\">                require([\"plotly\"], function(Plotly) {                    window.PLOTLYENV=window.PLOTLYENV || {};\n",
       "                    window.PLOTLYENV.BASE_URL='https://plot.ly';                                    if (document.getElementById(\"8f141038-4d95-4e2e-81e4-80b89b82892e\")) {                    Plotly.newPlot(                        \"8f141038-4d95-4e2e-81e4-80b89b82892e\",                        [{\"marker\":{\"color\":\"rgba(255, 153, 51, 0.6)\",\"line\":{\"color\":\"rgba(255, 153, 51, 1.0)\",\"width\":1}},\"name\":\"None\",\"orientation\":\"v\",\"text\":\"\",\"x\":[\"A\",\"B\",\"C\",\"D\"],\"y\":[100,100,100,100],\"type\":\"bar\"}],                        {\"legend\":{\"bgcolor\":\"#F5F6F9\",\"font\":{\"color\":\"#4D5663\"}},\"paper_bgcolor\":\"#F5F6F9\",\"plot_bgcolor\":\"#F5F6F9\",\"template\":{\"data\":{\"barpolar\":[{\"marker\":{\"line\":{\"color\":\"#E5ECF6\",\"width\":0.5},\"pattern\":{\"fillmode\":\"overlay\",\"size\":10,\"solidity\":0.2}},\"type\":\"barpolar\"}],\"bar\":[{\"error_x\":{\"color\":\"#2a3f5f\"},\"error_y\":{\"color\":\"#2a3f5f\"},\"marker\":{\"line\":{\"color\":\"#E5ECF6\",\"width\":0.5},\"pattern\":{\"fillmode\":\"overlay\",\"size\":10,\"solidity\":0.2}},\"type\":\"bar\"}],\"carpet\":[{\"aaxis\":{\"endlinecolor\":\"#2a3f5f\",\"gridcolor\":\"white\",\"linecolor\":\"white\",\"minorgridcolor\":\"white\",\"startlinecolor\":\"#2a3f5f\"},\"baxis\":{\"endlinecolor\":\"#2a3f5f\",\"gridcolor\":\"white\",\"linecolor\":\"white\",\"minorgridcolor\":\"white\",\"startlinecolor\":\"#2a3f5f\"},\"type\":\"carpet\"}],\"choropleth\":[{\"colorbar\":{\"outlinewidth\":0,\"ticks\":\"\"},\"type\":\"choropleth\"}],\"contourcarpet\":[{\"colorbar\":{\"outlinewidth\":0,\"ticks\":\"\"},\"type\":\"contourcarpet\"}],\"contour\":[{\"colorbar\":{\"outlinewidth\":0,\"ticks\":\"\"},\"colorscale\":[[0.0,\"#0d0887\"],[0.1111111111111111,\"#46039f\"],[0.2222222222222222,\"#7201a8\"],[0.3333333333333333,\"#9c179e\"],[0.4444444444444444,\"#bd3786\"],[0.5555555555555556,\"#d8576b\"],[0.6666666666666666,\"#ed7953\"],[0.7777777777777778,\"#fb9f3a\"],[0.8888888888888888,\"#fdca26\"],[1.0,\"#f0f921\"]],\"type\":\"contour\"}],\"heatmapgl\":[{\"colorbar\":{\"outlinewidth\":0,\"ticks\":\"\"},\"colorscale\":[[0.0,\"#0d0887\"],[0.1111111111111111,\"#46039f\"],[0.2222222222222222,\"#7201a8\"],[0.3333333333333333,\"#9c179e\"],[0.4444444444444444,\"#bd3786\"],[0.5555555555555556,\"#d8576b\"],[0.6666666666666666,\"#ed7953\"],[0.7777777777777778,\"#fb9f3a\"],[0.8888888888888888,\"#fdca26\"],[1.0,\"#f0f921\"]],\"type\":\"heatmapgl\"}],\"heatmap\":[{\"colorbar\":{\"outlinewidth\":0,\"ticks\":\"\"},\"colorscale\":[[0.0,\"#0d0887\"],[0.1111111111111111,\"#46039f\"],[0.2222222222222222,\"#7201a8\"],[0.3333333333333333,\"#9c179e\"],[0.4444444444444444,\"#bd3786\"],[0.5555555555555556,\"#d8576b\"],[0.6666666666666666,\"#ed7953\"],[0.7777777777777778,\"#fb9f3a\"],[0.8888888888888888,\"#fdca26\"],[1.0,\"#f0f921\"]],\"type\":\"heatmap\"}],\"histogram2dcontour\":[{\"colorbar\":{\"outlinewidth\":0,\"ticks\":\"\"},\"colorscale\":[[0.0,\"#0d0887\"],[0.1111111111111111,\"#46039f\"],[0.2222222222222222,\"#7201a8\"],[0.3333333333333333,\"#9c179e\"],[0.4444444444444444,\"#bd3786\"],[0.5555555555555556,\"#d8576b\"],[0.6666666666666666,\"#ed7953\"],[0.7777777777777778,\"#fb9f3a\"],[0.8888888888888888,\"#fdca26\"],[1.0,\"#f0f921\"]],\"type\":\"histogram2dcontour\"}],\"histogram2d\":[{\"colorbar\":{\"outlinewidth\":0,\"ticks\":\"\"},\"colorscale\":[[0.0,\"#0d0887\"],[0.1111111111111111,\"#46039f\"],[0.2222222222222222,\"#7201a8\"],[0.3333333333333333,\"#9c179e\"],[0.4444444444444444,\"#bd3786\"],[0.5555555555555556,\"#d8576b\"],[0.6666666666666666,\"#ed7953\"],[0.7777777777777778,\"#fb9f3a\"],[0.8888888888888888,\"#fdca26\"],[1.0,\"#f0f921\"]],\"type\":\"histogram2d\"}],\"histogram\":[{\"marker\":{\"pattern\":{\"fillmode\":\"overlay\",\"size\":10,\"solidity\":0.2}},\"type\":\"histogram\"}],\"mesh3d\":[{\"colorbar\":{\"outlinewidth\":0,\"ticks\":\"\"},\"type\":\"mesh3d\"}],\"parcoords\":[{\"line\":{\"colorbar\":{\"outlinewidth\":0,\"ticks\":\"\"}},\"type\":\"parcoords\"}],\"pie\":[{\"automargin\":true,\"type\":\"pie\"}],\"scatter3d\":[{\"line\":{\"colorbar\":{\"outlinewidth\":0,\"ticks\":\"\"}},\"marker\":{\"colorbar\":{\"outlinewidth\":0,\"ticks\":\"\"}},\"type\":\"scatter3d\"}],\"scattercarpet\":[{\"marker\":{\"colorbar\":{\"outlinewidth\":0,\"ticks\":\"\"}},\"type\":\"scattercarpet\"}],\"scattergeo\":[{\"marker\":{\"colorbar\":{\"outlinewidth\":0,\"ticks\":\"\"}},\"type\":\"scattergeo\"}],\"scattergl\":[{\"marker\":{\"colorbar\":{\"outlinewidth\":0,\"ticks\":\"\"}},\"type\":\"scattergl\"}],\"scattermapbox\":[{\"marker\":{\"colorbar\":{\"outlinewidth\":0,\"ticks\":\"\"}},\"type\":\"scattermapbox\"}],\"scatterpolargl\":[{\"marker\":{\"colorbar\":{\"outlinewidth\":0,\"ticks\":\"\"}},\"type\":\"scatterpolargl\"}],\"scatterpolar\":[{\"marker\":{\"colorbar\":{\"outlinewidth\":0,\"ticks\":\"\"}},\"type\":\"scatterpolar\"}],\"scatter\":[{\"marker\":{\"colorbar\":{\"outlinewidth\":0,\"ticks\":\"\"}},\"type\":\"scatter\"}],\"scatterternary\":[{\"marker\":{\"colorbar\":{\"outlinewidth\":0,\"ticks\":\"\"}},\"type\":\"scatterternary\"}],\"surface\":[{\"colorbar\":{\"outlinewidth\":0,\"ticks\":\"\"},\"colorscale\":[[0.0,\"#0d0887\"],[0.1111111111111111,\"#46039f\"],[0.2222222222222222,\"#7201a8\"],[0.3333333333333333,\"#9c179e\"],[0.4444444444444444,\"#bd3786\"],[0.5555555555555556,\"#d8576b\"],[0.6666666666666666,\"#ed7953\"],[0.7777777777777778,\"#fb9f3a\"],[0.8888888888888888,\"#fdca26\"],[1.0,\"#f0f921\"]],\"type\":\"surface\"}],\"table\":[{\"cells\":{\"fill\":{\"color\":\"#EBF0F8\"},\"line\":{\"color\":\"white\"}},\"header\":{\"fill\":{\"color\":\"#C8D4E3\"},\"line\":{\"color\":\"white\"}},\"type\":\"table\"}]},\"layout\":{\"annotationdefaults\":{\"arrowcolor\":\"#2a3f5f\",\"arrowhead\":0,\"arrowwidth\":1},\"autotypenumbers\":\"strict\",\"coloraxis\":{\"colorbar\":{\"outlinewidth\":0,\"ticks\":\"\"}},\"colorscale\":{\"diverging\":[[0,\"#8e0152\"],[0.1,\"#c51b7d\"],[0.2,\"#de77ae\"],[0.3,\"#f1b6da\"],[0.4,\"#fde0ef\"],[0.5,\"#f7f7f7\"],[0.6,\"#e6f5d0\"],[0.7,\"#b8e186\"],[0.8,\"#7fbc41\"],[0.9,\"#4d9221\"],[1,\"#276419\"]],\"sequential\":[[0.0,\"#0d0887\"],[0.1111111111111111,\"#46039f\"],[0.2222222222222222,\"#7201a8\"],[0.3333333333333333,\"#9c179e\"],[0.4444444444444444,\"#bd3786\"],[0.5555555555555556,\"#d8576b\"],[0.6666666666666666,\"#ed7953\"],[0.7777777777777778,\"#fb9f3a\"],[0.8888888888888888,\"#fdca26\"],[1.0,\"#f0f921\"]],\"sequentialminus\":[[0.0,\"#0d0887\"],[0.1111111111111111,\"#46039f\"],[0.2222222222222222,\"#7201a8\"],[0.3333333333333333,\"#9c179e\"],[0.4444444444444444,\"#bd3786\"],[0.5555555555555556,\"#d8576b\"],[0.6666666666666666,\"#ed7953\"],[0.7777777777777778,\"#fb9f3a\"],[0.8888888888888888,\"#fdca26\"],[1.0,\"#f0f921\"]]},\"colorway\":[\"#636efa\",\"#EF553B\",\"#00cc96\",\"#ab63fa\",\"#FFA15A\",\"#19d3f3\",\"#FF6692\",\"#B6E880\",\"#FF97FF\",\"#FECB52\"],\"font\":{\"color\":\"#2a3f5f\"},\"geo\":{\"bgcolor\":\"white\",\"lakecolor\":\"white\",\"landcolor\":\"#E5ECF6\",\"showlakes\":true,\"showland\":true,\"subunitcolor\":\"white\"},\"hoverlabel\":{\"align\":\"left\"},\"hovermode\":\"closest\",\"mapbox\":{\"style\":\"light\"},\"paper_bgcolor\":\"white\",\"plot_bgcolor\":\"#E5ECF6\",\"polar\":{\"angularaxis\":{\"gridcolor\":\"white\",\"linecolor\":\"white\",\"ticks\":\"\"},\"bgcolor\":\"#E5ECF6\",\"radialaxis\":{\"gridcolor\":\"white\",\"linecolor\":\"white\",\"ticks\":\"\"}},\"scene\":{\"xaxis\":{\"backgroundcolor\":\"#E5ECF6\",\"gridcolor\":\"white\",\"gridwidth\":2,\"linecolor\":\"white\",\"showbackground\":true,\"ticks\":\"\",\"zerolinecolor\":\"white\"},\"yaxis\":{\"backgroundcolor\":\"#E5ECF6\",\"gridcolor\":\"white\",\"gridwidth\":2,\"linecolor\":\"white\",\"showbackground\":true,\"ticks\":\"\",\"zerolinecolor\":\"white\"},\"zaxis\":{\"backgroundcolor\":\"#E5ECF6\",\"gridcolor\":\"white\",\"gridwidth\":2,\"linecolor\":\"white\",\"showbackground\":true,\"ticks\":\"\",\"zerolinecolor\":\"white\"}},\"shapedefaults\":{\"line\":{\"color\":\"#2a3f5f\"}},\"ternary\":{\"aaxis\":{\"gridcolor\":\"white\",\"linecolor\":\"white\",\"ticks\":\"\"},\"baxis\":{\"gridcolor\":\"white\",\"linecolor\":\"white\",\"ticks\":\"\"},\"bgcolor\":\"#E5ECF6\",\"caxis\":{\"gridcolor\":\"white\",\"linecolor\":\"white\",\"ticks\":\"\"}},\"title\":{\"x\":0.05},\"xaxis\":{\"automargin\":true,\"gridcolor\":\"white\",\"linecolor\":\"white\",\"ticks\":\"\",\"title\":{\"standoff\":15},\"zerolinecolor\":\"white\",\"zerolinewidth\":2},\"yaxis\":{\"automargin\":true,\"gridcolor\":\"white\",\"linecolor\":\"white\",\"ticks\":\"\",\"title\":{\"standoff\":15},\"zerolinecolor\":\"white\",\"zerolinewidth\":2}}},\"title\":{\"font\":{\"color\":\"#4D5663\"}},\"xaxis\":{\"gridcolor\":\"#E1E5ED\",\"showgrid\":true,\"tickfont\":{\"color\":\"#4D5663\"},\"title\":{\"font\":{\"color\":\"#4D5663\"},\"text\":\"\"},\"zerolinecolor\":\"#E1E5ED\"},\"yaxis\":{\"gridcolor\":\"#E1E5ED\",\"showgrid\":true,\"tickfont\":{\"color\":\"#4D5663\"},\"title\":{\"font\":{\"color\":\"#4D5663\"},\"text\":\"\"},\"zerolinecolor\":\"#E1E5ED\"}},                        {\"showLink\": true, \"linkText\": \"Export to plot.ly\", \"plotlyServerURL\": \"https://plot.ly\", \"responsive\": true}                    ).then(function(){\n",
       "                            \n",
       "var gd = document.getElementById('8f141038-4d95-4e2e-81e4-80b89b82892e');\n",
       "var x = new MutationObserver(function (mutations, observer) {{\n",
       "        var display = window.getComputedStyle(gd).display;\n",
       "        if (!display || display === 'none') {{\n",
       "            console.log([gd, 'removed!']);\n",
       "            Plotly.purge(gd);\n",
       "            observer.disconnect();\n",
       "        }}\n",
       "}});\n",
       "\n",
       "// Listen for the removal of the full notebook cells\n",
       "var notebookContainer = gd.closest('#notebook-container');\n",
       "if (notebookContainer) {{\n",
       "    x.observe(notebookContainer, {childList: true});\n",
       "}}\n",
       "\n",
       "// Listen for the clearing of the current output cell\n",
       "var outputEl = gd.closest('.output');\n",
       "if (outputEl) {{\n",
       "    x.observe(outputEl, {childList: true});\n",
       "}}\n",
       "\n",
       "                        })                };                });            </script>        </div>"
      ]
     },
     "metadata": {},
     "output_type": "display_data"
    }
   ],
   "source": [
    "df.count().iplot(kind='bar')"
   ]
  },
  {
   "cell_type": "markdown",
   "metadata": {},
   "source": [
    "## Boxplots"
   ]
  },
  {
   "cell_type": "code",
   "execution_count": 13,
   "metadata": {},
   "outputs": [
    {
     "data": {
      "application/vnd.plotly.v1+json": {
       "config": {
        "linkText": "Export to plot.ly",
        "plotlyServerURL": "https://plot.ly",
        "showLink": true
       },
       "data": [
        {
         "boxpoints": false,
         "line": {
          "width": 1.3
         },
         "marker": {
          "color": "rgba(255, 153, 51, 1.0)"
         },
         "name": "A",
         "orientation": "v",
         "type": "box",
         "y": [
          -0.08696362399272553,
          0.11829315027705818,
          2.342856948597935,
          -1.503776880344004,
          0.045725881655566944,
          -0.12928100391232758,
          -1.036616358261247,
          0.10233820019024022,
          0.7544009950060778,
          1.119361123299176,
          -0.12168280829613869,
          -2.5141385692708162,
          0.8641734038037336,
          0.5615068860097867,
          -0.3618584895915859,
          -0.457493569108614,
          -0.7407705698927969,
          1.1100806879640044,
          -0.8436326812336624,
          -0.48194108799061275,
          -1.4283203300649514,
          -0.005528020954320215,
          0.6545934828776457,
          -0.3764165478866233,
          -0.7019587962207577,
          -2.1331489184945993,
          -1.5599707684625428,
          0.1755715299771797,
          0.13351195861619805,
          1.368573023242335,
          -0.3277442434772406,
          2.0071797704419105,
          1.0348622076293386,
          1.3772601634896795,
          -1.3690674657036475,
          -0.041160364008156404,
          0.3875459772294022,
          0.9653394848516135,
          -0.625061639729154,
          0.3400475723960751,
          0.8627064249099288,
          0.13396042173723252,
          0.4156667557269354,
          0.026797539151673128,
          0.405065409950036,
          0.7292637466264922,
          0.21898544855905366,
          0.2079755266846345,
          1.7031803281598694,
          1.0332873337748185,
          -0.08186366407943726,
          0.31908800200591075,
          -0.0831876976123175,
          -0.6307622500712357,
          0.11880043187804375,
          -0.8245533725750579,
          -0.6781822263791778,
          -0.17005988571480388,
          -1.6516093618334853,
          -0.8238222820076299,
          0.25641890902102926,
          -0.3322067616366865,
          1.4101018248811763,
          -1.1291979327906585,
          1.6890614664254615,
          -2.329076558908018,
          1.0769218217409133,
          0.1745963287674994,
          -0.8317798804560796,
          -1.1970027388103093,
          -3.0019528425038247,
          -0.23762122812809972,
          -0.4972338749701281,
          -0.26093263665920746,
          -1.5160013445449143,
          -0.9359898977334827,
          0.28176566515491647,
          0.25728493779995126,
          -0.1659249477937885,
          -0.13895687610656993,
          -1.997548442478862,
          1.132732545040066,
          1.2739327462477517,
          0.16888236139169427,
          1.5187040036619632,
          -0.774538350480497,
          -0.23137553047304132,
          -2.5810982422012527,
          -1.9447360011477897,
          -0.14078455082043415,
          0.5776488661887422,
          -0.882519133144336,
          0.22691072302708074,
          -0.7011641433638972,
          -0.9519428369511796,
          -0.7660743937480502,
          -2.211696125505859,
          -0.7298692001517896,
          -0.34256034176711875,
          1.0823363602187954
         ]
        },
        {
         "boxpoints": false,
         "line": {
          "width": 1.3
         },
         "marker": {
          "color": "rgba(55, 128, 191, 1.0)"
         },
         "name": "B",
         "orientation": "v",
         "type": "box",
         "y": [
          -0.07201300572682906,
          -1.7813371536318778,
          -0.8200929720183177,
          1.6850747024543902,
          0.14373920902261458,
          0.9014962704276461,
          -1.0481652514408317,
          0.9677142806092884,
          0.2784556999294692,
          -0.808096455996858,
          0.5972504318570593,
          1.5193397017630752,
          0.1120776473758537,
          0.031459404038649844,
          -0.6419956711923979,
          1.3661547594810273,
          -0.19155366489041692,
          -1.1012658471042815,
          0.6282171051348472,
          -0.8716239697489461,
          -0.5626019647408662,
          0.6519591742110662,
          0.052616620786117244,
          -0.169397506886645,
          -0.5635490785509196,
          -0.22762662898988673,
          -1.2333147800078432,
          -0.7330246424512903,
          0.62354927944434,
          -0.5199034839952482,
          0.5678912530643067,
          0.2055567196710461,
          0.8482662446920417,
          0.8649241351693712,
          0.6677232214596046,
          1.4194969576533518,
          0.05987451399890696,
          0.5364829593269563,
          2.139167152838529,
          0.840048180328241,
          1.6044742679372017,
          0.32314142805402435,
          -0.1615677497467817,
          0.47260106016564707,
          1.0744435776511905,
          0.04847396319960681,
          -0.1508712997263981,
          -0.5759453801733477,
          -0.293997152323099,
          -0.44495079449735675,
          0.10907341855645045,
          1.057057230197365,
          -0.6190450725199533,
          0.17020215249976262,
          0.6415891478844767,
          2.1265419568789854,
          -0.463185134592524,
          2.1374017556563474,
          1.9151279933805916,
          -0.10117463654989918,
          -0.9176696227617764,
          0.40766039857072367,
          1.2898062553730296,
          0.1545348303988453,
          0.24644376482344738,
          1.374650744190713,
          0.10564871875845407,
          0.6408997652220568,
          0.3425626471892363,
          0.04986405193713072,
          -0.6646697915034648,
          -0.09997211172881224,
          0.23521389993867892,
          0.5523179868398935,
          -0.09287699374722193,
          -0.9999106553888348,
          -1.1150659445689572,
          1.737598024647142,
          0.08558665304809565,
          0.44566810012783964,
          0.9790451280395394,
          -0.6081735571910922,
          0.2345712090980208,
          -1.2467094141877713,
          -0.5195244934509475,
          0.7759209695129649,
          -0.955124047948974,
          0.40746936598386513,
          0.23668765547290643,
          -0.02128848593352963,
          1.8956579840616128,
          0.6594859840593594,
          0.4028552358561733,
          -1.0275742681985736,
          -1.0331453939669182,
          -0.28602693038106247,
          1.437346730839855,
          0.689133460013907,
          -1.0303054514876115,
          0.2488420672892611
         ]
        },
        {
         "boxpoints": false,
         "line": {
          "width": 1.3
         },
         "marker": {
          "color": "rgba(50, 171, 96, 1.0)"
         },
         "name": "C",
         "orientation": "v",
         "type": "box",
         "y": [
          -0.2687222025616364,
          0.9790459071799593,
          1.3053132248573984,
          0.029031443883402463,
          -0.8249852637997415,
          0.25896585569400143,
          0.09353457487812457,
          -0.6549257433321267,
          0.8404127778943362,
          0.5402301024200056,
          1.10960732874297,
          -0.15274023520581026,
          0.17371388758794312,
          -1.9907588451111633,
          0.12872612357135807,
          2.160670717650376,
          -1.7475624525991886,
          -0.03336558578493379,
          0.5178846669857563,
          0.4897598239617059,
          -0.6920258949102948,
          -0.27176227781509704,
          -0.7207298225338928,
          0.07434744133123929,
          -1.460475960869606,
          0.02683886348236559,
          0.6681882011720379,
          0.019275771183780255,
          -0.9621026561212102,
          0.7600942862700305,
          1.2891750222683158,
          -1.8225236726235388,
          -0.7743725389055496,
          0.5736096926037494,
          0.05519744257474495,
          0.3240068780213534,
          0.07530498457075546,
          -1.9044778427939197,
          0.8875999652545417,
          1.5499274224730382,
          -1.7160455021360528,
          0.1339041395482517,
          -0.7971920167666137,
          -0.28631271493709487,
          -0.783173039285525,
          -0.027747165527620066,
          -1.9988239452168048,
          -0.7409776856907827,
          -0.7201730031465646,
          1.335600407260753,
          -0.4224946886228251,
          0.25490106093374937,
          0.1919704932973419,
          -1.1881153388372703,
          -0.7322584440159531,
          -0.31448638964215764,
          -0.3629770382615635,
          2.1045622546051734,
          -0.8296239124628296,
          0.6414351133613407,
          1.1588872311372636,
          0.3809747603204056,
          -1.2149704700002366,
          -1.820316384248371,
          0.9281350154451435,
          -0.3172650849355808,
          -1.0309860047557216,
          1.7831225907492916,
          1.614081403629405,
          -0.6182197635206698,
          0.47856814709054163,
          -0.10440593786332424,
          -0.342259198652757,
          -0.3458284640226747,
          0.9090775504264496,
          -1.618642867168309,
          1.4991548699135433,
          -0.6702021182528046,
          -2.0339441296931087,
          1.1541083897833497,
          -0.23775648512402525,
          -0.10399097731965196,
          1.4335647751010416,
          -0.2111648691027632,
          -0.8023911517541695,
          0.443578093491491,
          -0.5206511148817367,
          0.6737836652916785,
          0.7619298677284297,
          0.25071896003998256,
          1.0748781215006178,
          -0.41297336169250415,
          -0.9786152392537483,
          0.34504994864114796,
          -1.1101943059275852,
          2.296091238792947,
          2.5342978744249933,
          -1.0933397155502977,
          0.5779415537524153,
          -0.42713821751546005
         ]
        },
        {
         "boxpoints": false,
         "line": {
          "width": 1.3
         },
         "marker": {
          "color": "rgba(128, 0, 128, 1.0)"
         },
         "name": "D",
         "orientation": "v",
         "type": "box",
         "y": [
          0.8158971675704957,
          -0.9247032764534023,
          -0.311305343922232,
          0.19649202066341478,
          -0.49121075824855936,
          0.19774851548959338,
          -0.2612112627181056,
          -0.17624261758799198,
          1.8635403345354116,
          0.6435155836696956,
          -0.7725614331558435,
          -1.336661850714919,
          0.5911284727411863,
          -0.419448767421804,
          -1.4973983682062675,
          0.7412503782484586,
          -1.2077590309944715,
          1.1582012051017128,
          1.0475339683672564,
          -0.4926229010721131,
          -1.5682667722785322,
          1.3664900998778577,
          0.1511914245836227,
          0.16325805596625265,
          -0.8404698895977619,
          -0.457062429938257,
          -1.063206144385867,
          -0.6118486038553693,
          0.0554840535356453,
          0.26261236795708387,
          -0.2523452151795576,
          0.6242595967870732,
          0.3447776598437408,
          -0.3725526431666693,
          -0.28705101108689346,
          -0.6858519310562384,
          0.16247053594976332,
          2.8765317724460626,
          -2.563049342297222,
          0.15077909567341413,
          0.812686485174692,
          0.4578237688041664,
          -2.156205618193542,
          0.09851306847411394,
          0.8887460255748875,
          1.8320435641715378,
          0.2661270625818316,
          -0.3857699423820425,
          1.3998015252347111,
          -0.849926770135583,
          -0.6678189878614921,
          0.7428684859628628,
          0.23298751807848125,
          0.1996855347257156,
          -0.5651891338155755,
          0.3305721754433949,
          -0.46398923220845534,
          0.6559841638588461,
          0.675581841004044,
          -2.9152421718179165,
          0.7074993712386847,
          0.41874443391834054,
          0.37612801233207793,
          -1.2354554102353668,
          1.3181834438146,
          -0.18767369030918887,
          0.7430518879982969,
          -0.7281710532574133,
          -0.7641249360162816,
          1.146366546420054,
          -0.3074832875220709,
          -1.518494547065494,
          1.5331728969981846,
          -0.49865985360576587,
          -2.028951010037112,
          0.25613869109616066,
          0.31131046531423406,
          1.4367177434611031,
          -0.21727986429976084,
          -1.1290213083308243,
          -1.300840207892754,
          -0.073615533894691,
          -0.9662138924923768,
          1.6865084893261557,
          0.3947214641259405,
          0.4149588033506848,
          0.7885038245466549,
          1.1435253347699024,
          1.1891186382261552,
          -1.0359643229670896,
          -1.5814202307029128,
          -1.0238146231717786,
          -0.18577665836800164,
          0.5493747432224384,
          -2.098833394118898,
          -0.3059816140305973,
          0.19904612167811447,
          0.04106242727781146,
          -0.8155890802181568,
          1.158218091987929
         ]
        }
       ],
       "layout": {
        "legend": {
         "bgcolor": "#F5F6F9",
         "font": {
          "color": "#4D5663"
         }
        },
        "paper_bgcolor": "#F5F6F9",
        "plot_bgcolor": "#F5F6F9",
        "template": {
         "data": {
          "bar": [
           {
            "error_x": {
             "color": "#2a3f5f"
            },
            "error_y": {
             "color": "#2a3f5f"
            },
            "marker": {
             "line": {
              "color": "#E5ECF6",
              "width": 0.5
             },
             "pattern": {
              "fillmode": "overlay",
              "size": 10,
              "solidity": 0.2
             }
            },
            "type": "bar"
           }
          ],
          "barpolar": [
           {
            "marker": {
             "line": {
              "color": "#E5ECF6",
              "width": 0.5
             },
             "pattern": {
              "fillmode": "overlay",
              "size": 10,
              "solidity": 0.2
             }
            },
            "type": "barpolar"
           }
          ],
          "carpet": [
           {
            "aaxis": {
             "endlinecolor": "#2a3f5f",
             "gridcolor": "white",
             "linecolor": "white",
             "minorgridcolor": "white",
             "startlinecolor": "#2a3f5f"
            },
            "baxis": {
             "endlinecolor": "#2a3f5f",
             "gridcolor": "white",
             "linecolor": "white",
             "minorgridcolor": "white",
             "startlinecolor": "#2a3f5f"
            },
            "type": "carpet"
           }
          ],
          "choropleth": [
           {
            "colorbar": {
             "outlinewidth": 0,
             "ticks": ""
            },
            "type": "choropleth"
           }
          ],
          "contour": [
           {
            "colorbar": {
             "outlinewidth": 0,
             "ticks": ""
            },
            "colorscale": [
             [
              0,
              "#0d0887"
             ],
             [
              0.1111111111111111,
              "#46039f"
             ],
             [
              0.2222222222222222,
              "#7201a8"
             ],
             [
              0.3333333333333333,
              "#9c179e"
             ],
             [
              0.4444444444444444,
              "#bd3786"
             ],
             [
              0.5555555555555556,
              "#d8576b"
             ],
             [
              0.6666666666666666,
              "#ed7953"
             ],
             [
              0.7777777777777778,
              "#fb9f3a"
             ],
             [
              0.8888888888888888,
              "#fdca26"
             ],
             [
              1,
              "#f0f921"
             ]
            ],
            "type": "contour"
           }
          ],
          "contourcarpet": [
           {
            "colorbar": {
             "outlinewidth": 0,
             "ticks": ""
            },
            "type": "contourcarpet"
           }
          ],
          "heatmap": [
           {
            "colorbar": {
             "outlinewidth": 0,
             "ticks": ""
            },
            "colorscale": [
             [
              0,
              "#0d0887"
             ],
             [
              0.1111111111111111,
              "#46039f"
             ],
             [
              0.2222222222222222,
              "#7201a8"
             ],
             [
              0.3333333333333333,
              "#9c179e"
             ],
             [
              0.4444444444444444,
              "#bd3786"
             ],
             [
              0.5555555555555556,
              "#d8576b"
             ],
             [
              0.6666666666666666,
              "#ed7953"
             ],
             [
              0.7777777777777778,
              "#fb9f3a"
             ],
             [
              0.8888888888888888,
              "#fdca26"
             ],
             [
              1,
              "#f0f921"
             ]
            ],
            "type": "heatmap"
           }
          ],
          "heatmapgl": [
           {
            "colorbar": {
             "outlinewidth": 0,
             "ticks": ""
            },
            "colorscale": [
             [
              0,
              "#0d0887"
             ],
             [
              0.1111111111111111,
              "#46039f"
             ],
             [
              0.2222222222222222,
              "#7201a8"
             ],
             [
              0.3333333333333333,
              "#9c179e"
             ],
             [
              0.4444444444444444,
              "#bd3786"
             ],
             [
              0.5555555555555556,
              "#d8576b"
             ],
             [
              0.6666666666666666,
              "#ed7953"
             ],
             [
              0.7777777777777778,
              "#fb9f3a"
             ],
             [
              0.8888888888888888,
              "#fdca26"
             ],
             [
              1,
              "#f0f921"
             ]
            ],
            "type": "heatmapgl"
           }
          ],
          "histogram": [
           {
            "marker": {
             "pattern": {
              "fillmode": "overlay",
              "size": 10,
              "solidity": 0.2
             }
            },
            "type": "histogram"
           }
          ],
          "histogram2d": [
           {
            "colorbar": {
             "outlinewidth": 0,
             "ticks": ""
            },
            "colorscale": [
             [
              0,
              "#0d0887"
             ],
             [
              0.1111111111111111,
              "#46039f"
             ],
             [
              0.2222222222222222,
              "#7201a8"
             ],
             [
              0.3333333333333333,
              "#9c179e"
             ],
             [
              0.4444444444444444,
              "#bd3786"
             ],
             [
              0.5555555555555556,
              "#d8576b"
             ],
             [
              0.6666666666666666,
              "#ed7953"
             ],
             [
              0.7777777777777778,
              "#fb9f3a"
             ],
             [
              0.8888888888888888,
              "#fdca26"
             ],
             [
              1,
              "#f0f921"
             ]
            ],
            "type": "histogram2d"
           }
          ],
          "histogram2dcontour": [
           {
            "colorbar": {
             "outlinewidth": 0,
             "ticks": ""
            },
            "colorscale": [
             [
              0,
              "#0d0887"
             ],
             [
              0.1111111111111111,
              "#46039f"
             ],
             [
              0.2222222222222222,
              "#7201a8"
             ],
             [
              0.3333333333333333,
              "#9c179e"
             ],
             [
              0.4444444444444444,
              "#bd3786"
             ],
             [
              0.5555555555555556,
              "#d8576b"
             ],
             [
              0.6666666666666666,
              "#ed7953"
             ],
             [
              0.7777777777777778,
              "#fb9f3a"
             ],
             [
              0.8888888888888888,
              "#fdca26"
             ],
             [
              1,
              "#f0f921"
             ]
            ],
            "type": "histogram2dcontour"
           }
          ],
          "mesh3d": [
           {
            "colorbar": {
             "outlinewidth": 0,
             "ticks": ""
            },
            "type": "mesh3d"
           }
          ],
          "parcoords": [
           {
            "line": {
             "colorbar": {
              "outlinewidth": 0,
              "ticks": ""
             }
            },
            "type": "parcoords"
           }
          ],
          "pie": [
           {
            "automargin": true,
            "type": "pie"
           }
          ],
          "scatter": [
           {
            "marker": {
             "colorbar": {
              "outlinewidth": 0,
              "ticks": ""
             }
            },
            "type": "scatter"
           }
          ],
          "scatter3d": [
           {
            "line": {
             "colorbar": {
              "outlinewidth": 0,
              "ticks": ""
             }
            },
            "marker": {
             "colorbar": {
              "outlinewidth": 0,
              "ticks": ""
             }
            },
            "type": "scatter3d"
           }
          ],
          "scattercarpet": [
           {
            "marker": {
             "colorbar": {
              "outlinewidth": 0,
              "ticks": ""
             }
            },
            "type": "scattercarpet"
           }
          ],
          "scattergeo": [
           {
            "marker": {
             "colorbar": {
              "outlinewidth": 0,
              "ticks": ""
             }
            },
            "type": "scattergeo"
           }
          ],
          "scattergl": [
           {
            "marker": {
             "colorbar": {
              "outlinewidth": 0,
              "ticks": ""
             }
            },
            "type": "scattergl"
           }
          ],
          "scattermapbox": [
           {
            "marker": {
             "colorbar": {
              "outlinewidth": 0,
              "ticks": ""
             }
            },
            "type": "scattermapbox"
           }
          ],
          "scatterpolar": [
           {
            "marker": {
             "colorbar": {
              "outlinewidth": 0,
              "ticks": ""
             }
            },
            "type": "scatterpolar"
           }
          ],
          "scatterpolargl": [
           {
            "marker": {
             "colorbar": {
              "outlinewidth": 0,
              "ticks": ""
             }
            },
            "type": "scatterpolargl"
           }
          ],
          "scatterternary": [
           {
            "marker": {
             "colorbar": {
              "outlinewidth": 0,
              "ticks": ""
             }
            },
            "type": "scatterternary"
           }
          ],
          "surface": [
           {
            "colorbar": {
             "outlinewidth": 0,
             "ticks": ""
            },
            "colorscale": [
             [
              0,
              "#0d0887"
             ],
             [
              0.1111111111111111,
              "#46039f"
             ],
             [
              0.2222222222222222,
              "#7201a8"
             ],
             [
              0.3333333333333333,
              "#9c179e"
             ],
             [
              0.4444444444444444,
              "#bd3786"
             ],
             [
              0.5555555555555556,
              "#d8576b"
             ],
             [
              0.6666666666666666,
              "#ed7953"
             ],
             [
              0.7777777777777778,
              "#fb9f3a"
             ],
             [
              0.8888888888888888,
              "#fdca26"
             ],
             [
              1,
              "#f0f921"
             ]
            ],
            "type": "surface"
           }
          ],
          "table": [
           {
            "cells": {
             "fill": {
              "color": "#EBF0F8"
             },
             "line": {
              "color": "white"
             }
            },
            "header": {
             "fill": {
              "color": "#C8D4E3"
             },
             "line": {
              "color": "white"
             }
            },
            "type": "table"
           }
          ]
         },
         "layout": {
          "annotationdefaults": {
           "arrowcolor": "#2a3f5f",
           "arrowhead": 0,
           "arrowwidth": 1
          },
          "autotypenumbers": "strict",
          "coloraxis": {
           "colorbar": {
            "outlinewidth": 0,
            "ticks": ""
           }
          },
          "colorscale": {
           "diverging": [
            [
             0,
             "#8e0152"
            ],
            [
             0.1,
             "#c51b7d"
            ],
            [
             0.2,
             "#de77ae"
            ],
            [
             0.3,
             "#f1b6da"
            ],
            [
             0.4,
             "#fde0ef"
            ],
            [
             0.5,
             "#f7f7f7"
            ],
            [
             0.6,
             "#e6f5d0"
            ],
            [
             0.7,
             "#b8e186"
            ],
            [
             0.8,
             "#7fbc41"
            ],
            [
             0.9,
             "#4d9221"
            ],
            [
             1,
             "#276419"
            ]
           ],
           "sequential": [
            [
             0,
             "#0d0887"
            ],
            [
             0.1111111111111111,
             "#46039f"
            ],
            [
             0.2222222222222222,
             "#7201a8"
            ],
            [
             0.3333333333333333,
             "#9c179e"
            ],
            [
             0.4444444444444444,
             "#bd3786"
            ],
            [
             0.5555555555555556,
             "#d8576b"
            ],
            [
             0.6666666666666666,
             "#ed7953"
            ],
            [
             0.7777777777777778,
             "#fb9f3a"
            ],
            [
             0.8888888888888888,
             "#fdca26"
            ],
            [
             1,
             "#f0f921"
            ]
           ],
           "sequentialminus": [
            [
             0,
             "#0d0887"
            ],
            [
             0.1111111111111111,
             "#46039f"
            ],
            [
             0.2222222222222222,
             "#7201a8"
            ],
            [
             0.3333333333333333,
             "#9c179e"
            ],
            [
             0.4444444444444444,
             "#bd3786"
            ],
            [
             0.5555555555555556,
             "#d8576b"
            ],
            [
             0.6666666666666666,
             "#ed7953"
            ],
            [
             0.7777777777777778,
             "#fb9f3a"
            ],
            [
             0.8888888888888888,
             "#fdca26"
            ],
            [
             1,
             "#f0f921"
            ]
           ]
          },
          "colorway": [
           "#636efa",
           "#EF553B",
           "#00cc96",
           "#ab63fa",
           "#FFA15A",
           "#19d3f3",
           "#FF6692",
           "#B6E880",
           "#FF97FF",
           "#FECB52"
          ],
          "font": {
           "color": "#2a3f5f"
          },
          "geo": {
           "bgcolor": "white",
           "lakecolor": "white",
           "landcolor": "#E5ECF6",
           "showlakes": true,
           "showland": true,
           "subunitcolor": "white"
          },
          "hoverlabel": {
           "align": "left"
          },
          "hovermode": "closest",
          "mapbox": {
           "style": "light"
          },
          "paper_bgcolor": "white",
          "plot_bgcolor": "#E5ECF6",
          "polar": {
           "angularaxis": {
            "gridcolor": "white",
            "linecolor": "white",
            "ticks": ""
           },
           "bgcolor": "#E5ECF6",
           "radialaxis": {
            "gridcolor": "white",
            "linecolor": "white",
            "ticks": ""
           }
          },
          "scene": {
           "xaxis": {
            "backgroundcolor": "#E5ECF6",
            "gridcolor": "white",
            "gridwidth": 2,
            "linecolor": "white",
            "showbackground": true,
            "ticks": "",
            "zerolinecolor": "white"
           },
           "yaxis": {
            "backgroundcolor": "#E5ECF6",
            "gridcolor": "white",
            "gridwidth": 2,
            "linecolor": "white",
            "showbackground": true,
            "ticks": "",
            "zerolinecolor": "white"
           },
           "zaxis": {
            "backgroundcolor": "#E5ECF6",
            "gridcolor": "white",
            "gridwidth": 2,
            "linecolor": "white",
            "showbackground": true,
            "ticks": "",
            "zerolinecolor": "white"
           }
          },
          "shapedefaults": {
           "line": {
            "color": "#2a3f5f"
           }
          },
          "ternary": {
           "aaxis": {
            "gridcolor": "white",
            "linecolor": "white",
            "ticks": ""
           },
           "baxis": {
            "gridcolor": "white",
            "linecolor": "white",
            "ticks": ""
           },
           "bgcolor": "#E5ECF6",
           "caxis": {
            "gridcolor": "white",
            "linecolor": "white",
            "ticks": ""
           }
          },
          "title": {
           "x": 0.05
          },
          "xaxis": {
           "automargin": true,
           "gridcolor": "white",
           "linecolor": "white",
           "ticks": "",
           "title": {
            "standoff": 15
           },
           "zerolinecolor": "white",
           "zerolinewidth": 2
          },
          "yaxis": {
           "automargin": true,
           "gridcolor": "white",
           "linecolor": "white",
           "ticks": "",
           "title": {
            "standoff": 15
           },
           "zerolinecolor": "white",
           "zerolinewidth": 2
          }
         }
        },
        "title": {
         "font": {
          "color": "#4D5663"
         }
        },
        "xaxis": {
         "gridcolor": "#E1E5ED",
         "showgrid": true,
         "tickfont": {
          "color": "#4D5663"
         },
         "title": {
          "font": {
           "color": "#4D5663"
          },
          "text": ""
         },
         "zerolinecolor": "#E1E5ED"
        },
        "yaxis": {
         "gridcolor": "#E1E5ED",
         "showgrid": true,
         "tickfont": {
          "color": "#4D5663"
         },
         "title": {
          "font": {
           "color": "#4D5663"
          },
          "text": ""
         },
         "zerolinecolor": "#E1E5ED"
        }
       }
      },
      "text/html": [
       "<div>                            <div id=\"0287ce92-2058-4d67-8fc4-e2d1efac7708\" class=\"plotly-graph-div\" style=\"height:525px; width:100%;\"></div>            <script type=\"text/javascript\">                require([\"plotly\"], function(Plotly) {                    window.PLOTLYENV=window.PLOTLYENV || {};\n",
       "                    window.PLOTLYENV.BASE_URL='https://plot.ly';                                    if (document.getElementById(\"0287ce92-2058-4d67-8fc4-e2d1efac7708\")) {                    Plotly.newPlot(                        \"0287ce92-2058-4d67-8fc4-e2d1efac7708\",                        [{\"boxpoints\":false,\"line\":{\"width\":1.3},\"marker\":{\"color\":\"rgba(255, 153, 51, 1.0)\"},\"name\":\"A\",\"orientation\":\"v\",\"y\":[-0.08696362399272553,0.11829315027705818,2.342856948597935,-1.503776880344004,0.045725881655566944,-0.12928100391232758,-1.036616358261247,0.10233820019024022,0.7544009950060778,1.119361123299176,-0.12168280829613869,-2.5141385692708162,0.8641734038037336,0.5615068860097867,-0.3618584895915859,-0.457493569108614,-0.7407705698927969,1.1100806879640044,-0.8436326812336624,-0.48194108799061275,-1.4283203300649514,-0.005528020954320215,0.6545934828776457,-0.3764165478866233,-0.7019587962207577,-2.1331489184945993,-1.5599707684625428,0.1755715299771797,0.13351195861619805,1.368573023242335,-0.3277442434772406,2.0071797704419105,1.0348622076293386,1.3772601634896795,-1.3690674657036475,-0.041160364008156404,0.3875459772294022,0.9653394848516135,-0.625061639729154,0.3400475723960751,0.8627064249099288,0.13396042173723252,0.4156667557269354,0.026797539151673128,0.405065409950036,0.7292637466264922,0.21898544855905366,0.2079755266846345,1.7031803281598694,1.0332873337748185,-0.08186366407943726,0.31908800200591075,-0.0831876976123175,-0.6307622500712357,0.11880043187804375,-0.8245533725750579,-0.6781822263791778,-0.17005988571480388,-1.6516093618334853,-0.8238222820076299,0.25641890902102926,-0.3322067616366865,1.4101018248811763,-1.1291979327906585,1.6890614664254615,-2.329076558908018,1.0769218217409133,0.1745963287674994,-0.8317798804560796,-1.1970027388103093,-3.0019528425038247,-0.23762122812809972,-0.4972338749701281,-0.26093263665920746,-1.5160013445449143,-0.9359898977334827,0.28176566515491647,0.25728493779995126,-0.1659249477937885,-0.13895687610656993,-1.997548442478862,1.132732545040066,1.2739327462477517,0.16888236139169427,1.5187040036619632,-0.774538350480497,-0.23137553047304132,-2.5810982422012527,-1.9447360011477897,-0.14078455082043415,0.5776488661887422,-0.882519133144336,0.22691072302708074,-0.7011641433638972,-0.9519428369511796,-0.7660743937480502,-2.211696125505859,-0.7298692001517896,-0.34256034176711875,1.0823363602187954],\"type\":\"box\"},{\"boxpoints\":false,\"line\":{\"width\":1.3},\"marker\":{\"color\":\"rgba(55, 128, 191, 1.0)\"},\"name\":\"B\",\"orientation\":\"v\",\"y\":[-0.07201300572682906,-1.7813371536318778,-0.8200929720183177,1.6850747024543902,0.14373920902261458,0.9014962704276461,-1.0481652514408317,0.9677142806092884,0.2784556999294692,-0.808096455996858,0.5972504318570593,1.5193397017630752,0.1120776473758537,0.031459404038649844,-0.6419956711923979,1.3661547594810273,-0.19155366489041692,-1.1012658471042815,0.6282171051348472,-0.8716239697489461,-0.5626019647408662,0.6519591742110662,0.052616620786117244,-0.169397506886645,-0.5635490785509196,-0.22762662898988673,-1.2333147800078432,-0.7330246424512903,0.62354927944434,-0.5199034839952482,0.5678912530643067,0.2055567196710461,0.8482662446920417,0.8649241351693712,0.6677232214596046,1.4194969576533518,0.05987451399890696,0.5364829593269563,2.139167152838529,0.840048180328241,1.6044742679372017,0.32314142805402435,-0.1615677497467817,0.47260106016564707,1.0744435776511905,0.04847396319960681,-0.1508712997263981,-0.5759453801733477,-0.293997152323099,-0.44495079449735675,0.10907341855645045,1.057057230197365,-0.6190450725199533,0.17020215249976262,0.6415891478844767,2.1265419568789854,-0.463185134592524,2.1374017556563474,1.9151279933805916,-0.10117463654989918,-0.9176696227617764,0.40766039857072367,1.2898062553730296,0.1545348303988453,0.24644376482344738,1.374650744190713,0.10564871875845407,0.6408997652220568,0.3425626471892363,0.04986405193713072,-0.6646697915034648,-0.09997211172881224,0.23521389993867892,0.5523179868398935,-0.09287699374722193,-0.9999106553888348,-1.1150659445689572,1.737598024647142,0.08558665304809565,0.44566810012783964,0.9790451280395394,-0.6081735571910922,0.2345712090980208,-1.2467094141877713,-0.5195244934509475,0.7759209695129649,-0.955124047948974,0.40746936598386513,0.23668765547290643,-0.02128848593352963,1.8956579840616128,0.6594859840593594,0.4028552358561733,-1.0275742681985736,-1.0331453939669182,-0.28602693038106247,1.437346730839855,0.689133460013907,-1.0303054514876115,0.2488420672892611],\"type\":\"box\"},{\"boxpoints\":false,\"line\":{\"width\":1.3},\"marker\":{\"color\":\"rgba(50, 171, 96, 1.0)\"},\"name\":\"C\",\"orientation\":\"v\",\"y\":[-0.2687222025616364,0.9790459071799593,1.3053132248573984,0.029031443883402463,-0.8249852637997415,0.25896585569400143,0.09353457487812457,-0.6549257433321267,0.8404127778943362,0.5402301024200056,1.10960732874297,-0.15274023520581026,0.17371388758794312,-1.9907588451111633,0.12872612357135807,2.160670717650376,-1.7475624525991886,-0.03336558578493379,0.5178846669857563,0.4897598239617059,-0.6920258949102948,-0.27176227781509704,-0.7207298225338928,0.07434744133123929,-1.460475960869606,0.02683886348236559,0.6681882011720379,0.019275771183780255,-0.9621026561212102,0.7600942862700305,1.2891750222683158,-1.8225236726235388,-0.7743725389055496,0.5736096926037494,0.05519744257474495,0.3240068780213534,0.07530498457075546,-1.9044778427939197,0.8875999652545417,1.5499274224730382,-1.7160455021360528,0.1339041395482517,-0.7971920167666137,-0.28631271493709487,-0.783173039285525,-0.027747165527620066,-1.9988239452168048,-0.7409776856907827,-0.7201730031465646,1.335600407260753,-0.4224946886228251,0.25490106093374937,0.1919704932973419,-1.1881153388372703,-0.7322584440159531,-0.31448638964215764,-0.3629770382615635,2.1045622546051734,-0.8296239124628296,0.6414351133613407,1.1588872311372636,0.3809747603204056,-1.2149704700002366,-1.820316384248371,0.9281350154451435,-0.3172650849355808,-1.0309860047557216,1.7831225907492916,1.614081403629405,-0.6182197635206698,0.47856814709054163,-0.10440593786332424,-0.342259198652757,-0.3458284640226747,0.9090775504264496,-1.618642867168309,1.4991548699135433,-0.6702021182528046,-2.0339441296931087,1.1541083897833497,-0.23775648512402525,-0.10399097731965196,1.4335647751010416,-0.2111648691027632,-0.8023911517541695,0.443578093491491,-0.5206511148817367,0.6737836652916785,0.7619298677284297,0.25071896003998256,1.0748781215006178,-0.41297336169250415,-0.9786152392537483,0.34504994864114796,-1.1101943059275852,2.296091238792947,2.5342978744249933,-1.0933397155502977,0.5779415537524153,-0.42713821751546005],\"type\":\"box\"},{\"boxpoints\":false,\"line\":{\"width\":1.3},\"marker\":{\"color\":\"rgba(128, 0, 128, 1.0)\"},\"name\":\"D\",\"orientation\":\"v\",\"y\":[0.8158971675704957,-0.9247032764534023,-0.311305343922232,0.19649202066341478,-0.49121075824855936,0.19774851548959338,-0.2612112627181056,-0.17624261758799198,1.8635403345354116,0.6435155836696956,-0.7725614331558435,-1.336661850714919,0.5911284727411863,-0.419448767421804,-1.4973983682062675,0.7412503782484586,-1.2077590309944715,1.1582012051017128,1.0475339683672564,-0.4926229010721131,-1.5682667722785322,1.3664900998778577,0.1511914245836227,0.16325805596625265,-0.8404698895977619,-0.457062429938257,-1.063206144385867,-0.6118486038553693,0.0554840535356453,0.26261236795708387,-0.2523452151795576,0.6242595967870732,0.3447776598437408,-0.3725526431666693,-0.28705101108689346,-0.6858519310562384,0.16247053594976332,2.8765317724460626,-2.563049342297222,0.15077909567341413,0.812686485174692,0.4578237688041664,-2.156205618193542,0.09851306847411394,0.8887460255748875,1.8320435641715378,0.2661270625818316,-0.3857699423820425,1.3998015252347111,-0.849926770135583,-0.6678189878614921,0.7428684859628628,0.23298751807848125,0.1996855347257156,-0.5651891338155755,0.3305721754433949,-0.46398923220845534,0.6559841638588461,0.675581841004044,-2.9152421718179165,0.7074993712386847,0.41874443391834054,0.37612801233207793,-1.2354554102353668,1.3181834438146,-0.18767369030918887,0.7430518879982969,-0.7281710532574133,-0.7641249360162816,1.146366546420054,-0.3074832875220709,-1.518494547065494,1.5331728969981846,-0.49865985360576587,-2.028951010037112,0.25613869109616066,0.31131046531423406,1.4367177434611031,-0.21727986429976084,-1.1290213083308243,-1.300840207892754,-0.073615533894691,-0.9662138924923768,1.6865084893261557,0.3947214641259405,0.4149588033506848,0.7885038245466549,1.1435253347699024,1.1891186382261552,-1.0359643229670896,-1.5814202307029128,-1.0238146231717786,-0.18577665836800164,0.5493747432224384,-2.098833394118898,-0.3059816140305973,0.19904612167811447,0.04106242727781146,-0.8155890802181568,1.158218091987929],\"type\":\"box\"}],                        {\"legend\":{\"bgcolor\":\"#F5F6F9\",\"font\":{\"color\":\"#4D5663\"}},\"paper_bgcolor\":\"#F5F6F9\",\"plot_bgcolor\":\"#F5F6F9\",\"template\":{\"data\":{\"barpolar\":[{\"marker\":{\"line\":{\"color\":\"#E5ECF6\",\"width\":0.5},\"pattern\":{\"fillmode\":\"overlay\",\"size\":10,\"solidity\":0.2}},\"type\":\"barpolar\"}],\"bar\":[{\"error_x\":{\"color\":\"#2a3f5f\"},\"error_y\":{\"color\":\"#2a3f5f\"},\"marker\":{\"line\":{\"color\":\"#E5ECF6\",\"width\":0.5},\"pattern\":{\"fillmode\":\"overlay\",\"size\":10,\"solidity\":0.2}},\"type\":\"bar\"}],\"carpet\":[{\"aaxis\":{\"endlinecolor\":\"#2a3f5f\",\"gridcolor\":\"white\",\"linecolor\":\"white\",\"minorgridcolor\":\"white\",\"startlinecolor\":\"#2a3f5f\"},\"baxis\":{\"endlinecolor\":\"#2a3f5f\",\"gridcolor\":\"white\",\"linecolor\":\"white\",\"minorgridcolor\":\"white\",\"startlinecolor\":\"#2a3f5f\"},\"type\":\"carpet\"}],\"choropleth\":[{\"colorbar\":{\"outlinewidth\":0,\"ticks\":\"\"},\"type\":\"choropleth\"}],\"contourcarpet\":[{\"colorbar\":{\"outlinewidth\":0,\"ticks\":\"\"},\"type\":\"contourcarpet\"}],\"contour\":[{\"colorbar\":{\"outlinewidth\":0,\"ticks\":\"\"},\"colorscale\":[[0.0,\"#0d0887\"],[0.1111111111111111,\"#46039f\"],[0.2222222222222222,\"#7201a8\"],[0.3333333333333333,\"#9c179e\"],[0.4444444444444444,\"#bd3786\"],[0.5555555555555556,\"#d8576b\"],[0.6666666666666666,\"#ed7953\"],[0.7777777777777778,\"#fb9f3a\"],[0.8888888888888888,\"#fdca26\"],[1.0,\"#f0f921\"]],\"type\":\"contour\"}],\"heatmapgl\":[{\"colorbar\":{\"outlinewidth\":0,\"ticks\":\"\"},\"colorscale\":[[0.0,\"#0d0887\"],[0.1111111111111111,\"#46039f\"],[0.2222222222222222,\"#7201a8\"],[0.3333333333333333,\"#9c179e\"],[0.4444444444444444,\"#bd3786\"],[0.5555555555555556,\"#d8576b\"],[0.6666666666666666,\"#ed7953\"],[0.7777777777777778,\"#fb9f3a\"],[0.8888888888888888,\"#fdca26\"],[1.0,\"#f0f921\"]],\"type\":\"heatmapgl\"}],\"heatmap\":[{\"colorbar\":{\"outlinewidth\":0,\"ticks\":\"\"},\"colorscale\":[[0.0,\"#0d0887\"],[0.1111111111111111,\"#46039f\"],[0.2222222222222222,\"#7201a8\"],[0.3333333333333333,\"#9c179e\"],[0.4444444444444444,\"#bd3786\"],[0.5555555555555556,\"#d8576b\"],[0.6666666666666666,\"#ed7953\"],[0.7777777777777778,\"#fb9f3a\"],[0.8888888888888888,\"#fdca26\"],[1.0,\"#f0f921\"]],\"type\":\"heatmap\"}],\"histogram2dcontour\":[{\"colorbar\":{\"outlinewidth\":0,\"ticks\":\"\"},\"colorscale\":[[0.0,\"#0d0887\"],[0.1111111111111111,\"#46039f\"],[0.2222222222222222,\"#7201a8\"],[0.3333333333333333,\"#9c179e\"],[0.4444444444444444,\"#bd3786\"],[0.5555555555555556,\"#d8576b\"],[0.6666666666666666,\"#ed7953\"],[0.7777777777777778,\"#fb9f3a\"],[0.8888888888888888,\"#fdca26\"],[1.0,\"#f0f921\"]],\"type\":\"histogram2dcontour\"}],\"histogram2d\":[{\"colorbar\":{\"outlinewidth\":0,\"ticks\":\"\"},\"colorscale\":[[0.0,\"#0d0887\"],[0.1111111111111111,\"#46039f\"],[0.2222222222222222,\"#7201a8\"],[0.3333333333333333,\"#9c179e\"],[0.4444444444444444,\"#bd3786\"],[0.5555555555555556,\"#d8576b\"],[0.6666666666666666,\"#ed7953\"],[0.7777777777777778,\"#fb9f3a\"],[0.8888888888888888,\"#fdca26\"],[1.0,\"#f0f921\"]],\"type\":\"histogram2d\"}],\"histogram\":[{\"marker\":{\"pattern\":{\"fillmode\":\"overlay\",\"size\":10,\"solidity\":0.2}},\"type\":\"histogram\"}],\"mesh3d\":[{\"colorbar\":{\"outlinewidth\":0,\"ticks\":\"\"},\"type\":\"mesh3d\"}],\"parcoords\":[{\"line\":{\"colorbar\":{\"outlinewidth\":0,\"ticks\":\"\"}},\"type\":\"parcoords\"}],\"pie\":[{\"automargin\":true,\"type\":\"pie\"}],\"scatter3d\":[{\"line\":{\"colorbar\":{\"outlinewidth\":0,\"ticks\":\"\"}},\"marker\":{\"colorbar\":{\"outlinewidth\":0,\"ticks\":\"\"}},\"type\":\"scatter3d\"}],\"scattercarpet\":[{\"marker\":{\"colorbar\":{\"outlinewidth\":0,\"ticks\":\"\"}},\"type\":\"scattercarpet\"}],\"scattergeo\":[{\"marker\":{\"colorbar\":{\"outlinewidth\":0,\"ticks\":\"\"}},\"type\":\"scattergeo\"}],\"scattergl\":[{\"marker\":{\"colorbar\":{\"outlinewidth\":0,\"ticks\":\"\"}},\"type\":\"scattergl\"}],\"scattermapbox\":[{\"marker\":{\"colorbar\":{\"outlinewidth\":0,\"ticks\":\"\"}},\"type\":\"scattermapbox\"}],\"scatterpolargl\":[{\"marker\":{\"colorbar\":{\"outlinewidth\":0,\"ticks\":\"\"}},\"type\":\"scatterpolargl\"}],\"scatterpolar\":[{\"marker\":{\"colorbar\":{\"outlinewidth\":0,\"ticks\":\"\"}},\"type\":\"scatterpolar\"}],\"scatter\":[{\"marker\":{\"colorbar\":{\"outlinewidth\":0,\"ticks\":\"\"}},\"type\":\"scatter\"}],\"scatterternary\":[{\"marker\":{\"colorbar\":{\"outlinewidth\":0,\"ticks\":\"\"}},\"type\":\"scatterternary\"}],\"surface\":[{\"colorbar\":{\"outlinewidth\":0,\"ticks\":\"\"},\"colorscale\":[[0.0,\"#0d0887\"],[0.1111111111111111,\"#46039f\"],[0.2222222222222222,\"#7201a8\"],[0.3333333333333333,\"#9c179e\"],[0.4444444444444444,\"#bd3786\"],[0.5555555555555556,\"#d8576b\"],[0.6666666666666666,\"#ed7953\"],[0.7777777777777778,\"#fb9f3a\"],[0.8888888888888888,\"#fdca26\"],[1.0,\"#f0f921\"]],\"type\":\"surface\"}],\"table\":[{\"cells\":{\"fill\":{\"color\":\"#EBF0F8\"},\"line\":{\"color\":\"white\"}},\"header\":{\"fill\":{\"color\":\"#C8D4E3\"},\"line\":{\"color\":\"white\"}},\"type\":\"table\"}]},\"layout\":{\"annotationdefaults\":{\"arrowcolor\":\"#2a3f5f\",\"arrowhead\":0,\"arrowwidth\":1},\"autotypenumbers\":\"strict\",\"coloraxis\":{\"colorbar\":{\"outlinewidth\":0,\"ticks\":\"\"}},\"colorscale\":{\"diverging\":[[0,\"#8e0152\"],[0.1,\"#c51b7d\"],[0.2,\"#de77ae\"],[0.3,\"#f1b6da\"],[0.4,\"#fde0ef\"],[0.5,\"#f7f7f7\"],[0.6,\"#e6f5d0\"],[0.7,\"#b8e186\"],[0.8,\"#7fbc41\"],[0.9,\"#4d9221\"],[1,\"#276419\"]],\"sequential\":[[0.0,\"#0d0887\"],[0.1111111111111111,\"#46039f\"],[0.2222222222222222,\"#7201a8\"],[0.3333333333333333,\"#9c179e\"],[0.4444444444444444,\"#bd3786\"],[0.5555555555555556,\"#d8576b\"],[0.6666666666666666,\"#ed7953\"],[0.7777777777777778,\"#fb9f3a\"],[0.8888888888888888,\"#fdca26\"],[1.0,\"#f0f921\"]],\"sequentialminus\":[[0.0,\"#0d0887\"],[0.1111111111111111,\"#46039f\"],[0.2222222222222222,\"#7201a8\"],[0.3333333333333333,\"#9c179e\"],[0.4444444444444444,\"#bd3786\"],[0.5555555555555556,\"#d8576b\"],[0.6666666666666666,\"#ed7953\"],[0.7777777777777778,\"#fb9f3a\"],[0.8888888888888888,\"#fdca26\"],[1.0,\"#f0f921\"]]},\"colorway\":[\"#636efa\",\"#EF553B\",\"#00cc96\",\"#ab63fa\",\"#FFA15A\",\"#19d3f3\",\"#FF6692\",\"#B6E880\",\"#FF97FF\",\"#FECB52\"],\"font\":{\"color\":\"#2a3f5f\"},\"geo\":{\"bgcolor\":\"white\",\"lakecolor\":\"white\",\"landcolor\":\"#E5ECF6\",\"showlakes\":true,\"showland\":true,\"subunitcolor\":\"white\"},\"hoverlabel\":{\"align\":\"left\"},\"hovermode\":\"closest\",\"mapbox\":{\"style\":\"light\"},\"paper_bgcolor\":\"white\",\"plot_bgcolor\":\"#E5ECF6\",\"polar\":{\"angularaxis\":{\"gridcolor\":\"white\",\"linecolor\":\"white\",\"ticks\":\"\"},\"bgcolor\":\"#E5ECF6\",\"radialaxis\":{\"gridcolor\":\"white\",\"linecolor\":\"white\",\"ticks\":\"\"}},\"scene\":{\"xaxis\":{\"backgroundcolor\":\"#E5ECF6\",\"gridcolor\":\"white\",\"gridwidth\":2,\"linecolor\":\"white\",\"showbackground\":true,\"ticks\":\"\",\"zerolinecolor\":\"white\"},\"yaxis\":{\"backgroundcolor\":\"#E5ECF6\",\"gridcolor\":\"white\",\"gridwidth\":2,\"linecolor\":\"white\",\"showbackground\":true,\"ticks\":\"\",\"zerolinecolor\":\"white\"},\"zaxis\":{\"backgroundcolor\":\"#E5ECF6\",\"gridcolor\":\"white\",\"gridwidth\":2,\"linecolor\":\"white\",\"showbackground\":true,\"ticks\":\"\",\"zerolinecolor\":\"white\"}},\"shapedefaults\":{\"line\":{\"color\":\"#2a3f5f\"}},\"ternary\":{\"aaxis\":{\"gridcolor\":\"white\",\"linecolor\":\"white\",\"ticks\":\"\"},\"baxis\":{\"gridcolor\":\"white\",\"linecolor\":\"white\",\"ticks\":\"\"},\"bgcolor\":\"#E5ECF6\",\"caxis\":{\"gridcolor\":\"white\",\"linecolor\":\"white\",\"ticks\":\"\"}},\"title\":{\"x\":0.05},\"xaxis\":{\"automargin\":true,\"gridcolor\":\"white\",\"linecolor\":\"white\",\"ticks\":\"\",\"title\":{\"standoff\":15},\"zerolinecolor\":\"white\",\"zerolinewidth\":2},\"yaxis\":{\"automargin\":true,\"gridcolor\":\"white\",\"linecolor\":\"white\",\"ticks\":\"\",\"title\":{\"standoff\":15},\"zerolinecolor\":\"white\",\"zerolinewidth\":2}}},\"title\":{\"font\":{\"color\":\"#4D5663\"}},\"xaxis\":{\"gridcolor\":\"#E1E5ED\",\"showgrid\":true,\"tickfont\":{\"color\":\"#4D5663\"},\"title\":{\"font\":{\"color\":\"#4D5663\"},\"text\":\"\"},\"zerolinecolor\":\"#E1E5ED\"},\"yaxis\":{\"gridcolor\":\"#E1E5ED\",\"showgrid\":true,\"tickfont\":{\"color\":\"#4D5663\"},\"title\":{\"font\":{\"color\":\"#4D5663\"},\"text\":\"\"},\"zerolinecolor\":\"#E1E5ED\"}},                        {\"showLink\": true, \"linkText\": \"Export to plot.ly\", \"plotlyServerURL\": \"https://plot.ly\", \"responsive\": true}                    ).then(function(){\n",
       "                            \n",
       "var gd = document.getElementById('0287ce92-2058-4d67-8fc4-e2d1efac7708');\n",
       "var x = new MutationObserver(function (mutations, observer) {{\n",
       "        var display = window.getComputedStyle(gd).display;\n",
       "        if (!display || display === 'none') {{\n",
       "            console.log([gd, 'removed!']);\n",
       "            Plotly.purge(gd);\n",
       "            observer.disconnect();\n",
       "        }}\n",
       "}});\n",
       "\n",
       "// Listen for the removal of the full notebook cells\n",
       "var notebookContainer = gd.closest('#notebook-container');\n",
       "if (notebookContainer) {{\n",
       "    x.observe(notebookContainer, {childList: true});\n",
       "}}\n",
       "\n",
       "// Listen for the clearing of the current output cell\n",
       "var outputEl = gd.closest('.output');\n",
       "if (outputEl) {{\n",
       "    x.observe(outputEl, {childList: true});\n",
       "}}\n",
       "\n",
       "                        })                };                });            </script>        </div>"
      ]
     },
     "metadata": {},
     "output_type": "display_data"
    }
   ],
   "source": [
    "df.iplot(kind='box')"
   ]
  },
  {
   "cell_type": "markdown",
   "metadata": {},
   "source": [
    "## 3d Surface"
   ]
  },
  {
   "cell_type": "code",
   "execution_count": 14,
   "metadata": {},
   "outputs": [
    {
     "data": {
      "application/vnd.plotly.v1+json": {
       "config": {
        "linkText": "Export to plot.ly",
        "plotlyServerURL": "https://plot.ly",
        "showLink": true
       },
       "data": [
        {
         "colorscale": [
          [
           0,
           "rgb(165,0,38)"
          ],
          [
           0.1,
           "rgb(215,48,39)"
          ],
          [
           0.2,
           "rgb(244,109,67)"
          ],
          [
           0.3,
           "rgb(253,174,97)"
          ],
          [
           0.4,
           "rgb(254,224,144)"
          ],
          [
           0.5,
           "rgb(255,255,191)"
          ],
          [
           0.6,
           "rgb(224,243,248)"
          ],
          [
           0.7,
           "rgb(171,217,233)"
          ],
          [
           0.8,
           "rgb(116,173,209)"
          ],
          [
           0.9,
           "rgb(69,117,180)"
          ],
          [
           1,
           "rgb(49,54,149)"
          ]
         ],
         "type": "surface",
         "x": [
          0,
          1,
          2,
          3,
          4
         ],
         "y": [
          "x",
          "y",
          "z"
         ],
         "z": [
          [
           1,
           2,
           3,
           4,
           5
          ],
          [
           10,
           20,
           30,
           20,
           10
          ],
          [
           5,
           4,
           3,
           2,
           1
          ]
         ]
        }
       ],
       "layout": {
        "legend": {
         "bgcolor": "#F5F6F9",
         "font": {
          "color": "#4D5663"
         }
        },
        "paper_bgcolor": "#F5F6F9",
        "plot_bgcolor": "#F5F6F9",
        "template": {
         "data": {
          "bar": [
           {
            "error_x": {
             "color": "#2a3f5f"
            },
            "error_y": {
             "color": "#2a3f5f"
            },
            "marker": {
             "line": {
              "color": "#E5ECF6",
              "width": 0.5
             },
             "pattern": {
              "fillmode": "overlay",
              "size": 10,
              "solidity": 0.2
             }
            },
            "type": "bar"
           }
          ],
          "barpolar": [
           {
            "marker": {
             "line": {
              "color": "#E5ECF6",
              "width": 0.5
             },
             "pattern": {
              "fillmode": "overlay",
              "size": 10,
              "solidity": 0.2
             }
            },
            "type": "barpolar"
           }
          ],
          "carpet": [
           {
            "aaxis": {
             "endlinecolor": "#2a3f5f",
             "gridcolor": "white",
             "linecolor": "white",
             "minorgridcolor": "white",
             "startlinecolor": "#2a3f5f"
            },
            "baxis": {
             "endlinecolor": "#2a3f5f",
             "gridcolor": "white",
             "linecolor": "white",
             "minorgridcolor": "white",
             "startlinecolor": "#2a3f5f"
            },
            "type": "carpet"
           }
          ],
          "choropleth": [
           {
            "colorbar": {
             "outlinewidth": 0,
             "ticks": ""
            },
            "type": "choropleth"
           }
          ],
          "contour": [
           {
            "colorbar": {
             "outlinewidth": 0,
             "ticks": ""
            },
            "colorscale": [
             [
              0,
              "#0d0887"
             ],
             [
              0.1111111111111111,
              "#46039f"
             ],
             [
              0.2222222222222222,
              "#7201a8"
             ],
             [
              0.3333333333333333,
              "#9c179e"
             ],
             [
              0.4444444444444444,
              "#bd3786"
             ],
             [
              0.5555555555555556,
              "#d8576b"
             ],
             [
              0.6666666666666666,
              "#ed7953"
             ],
             [
              0.7777777777777778,
              "#fb9f3a"
             ],
             [
              0.8888888888888888,
              "#fdca26"
             ],
             [
              1,
              "#f0f921"
             ]
            ],
            "type": "contour"
           }
          ],
          "contourcarpet": [
           {
            "colorbar": {
             "outlinewidth": 0,
             "ticks": ""
            },
            "type": "contourcarpet"
           }
          ],
          "heatmap": [
           {
            "colorbar": {
             "outlinewidth": 0,
             "ticks": ""
            },
            "colorscale": [
             [
              0,
              "#0d0887"
             ],
             [
              0.1111111111111111,
              "#46039f"
             ],
             [
              0.2222222222222222,
              "#7201a8"
             ],
             [
              0.3333333333333333,
              "#9c179e"
             ],
             [
              0.4444444444444444,
              "#bd3786"
             ],
             [
              0.5555555555555556,
              "#d8576b"
             ],
             [
              0.6666666666666666,
              "#ed7953"
             ],
             [
              0.7777777777777778,
              "#fb9f3a"
             ],
             [
              0.8888888888888888,
              "#fdca26"
             ],
             [
              1,
              "#f0f921"
             ]
            ],
            "type": "heatmap"
           }
          ],
          "heatmapgl": [
           {
            "colorbar": {
             "outlinewidth": 0,
             "ticks": ""
            },
            "colorscale": [
             [
              0,
              "#0d0887"
             ],
             [
              0.1111111111111111,
              "#46039f"
             ],
             [
              0.2222222222222222,
              "#7201a8"
             ],
             [
              0.3333333333333333,
              "#9c179e"
             ],
             [
              0.4444444444444444,
              "#bd3786"
             ],
             [
              0.5555555555555556,
              "#d8576b"
             ],
             [
              0.6666666666666666,
              "#ed7953"
             ],
             [
              0.7777777777777778,
              "#fb9f3a"
             ],
             [
              0.8888888888888888,
              "#fdca26"
             ],
             [
              1,
              "#f0f921"
             ]
            ],
            "type": "heatmapgl"
           }
          ],
          "histogram": [
           {
            "marker": {
             "pattern": {
              "fillmode": "overlay",
              "size": 10,
              "solidity": 0.2
             }
            },
            "type": "histogram"
           }
          ],
          "histogram2d": [
           {
            "colorbar": {
             "outlinewidth": 0,
             "ticks": ""
            },
            "colorscale": [
             [
              0,
              "#0d0887"
             ],
             [
              0.1111111111111111,
              "#46039f"
             ],
             [
              0.2222222222222222,
              "#7201a8"
             ],
             [
              0.3333333333333333,
              "#9c179e"
             ],
             [
              0.4444444444444444,
              "#bd3786"
             ],
             [
              0.5555555555555556,
              "#d8576b"
             ],
             [
              0.6666666666666666,
              "#ed7953"
             ],
             [
              0.7777777777777778,
              "#fb9f3a"
             ],
             [
              0.8888888888888888,
              "#fdca26"
             ],
             [
              1,
              "#f0f921"
             ]
            ],
            "type": "histogram2d"
           }
          ],
          "histogram2dcontour": [
           {
            "colorbar": {
             "outlinewidth": 0,
             "ticks": ""
            },
            "colorscale": [
             [
              0,
              "#0d0887"
             ],
             [
              0.1111111111111111,
              "#46039f"
             ],
             [
              0.2222222222222222,
              "#7201a8"
             ],
             [
              0.3333333333333333,
              "#9c179e"
             ],
             [
              0.4444444444444444,
              "#bd3786"
             ],
             [
              0.5555555555555556,
              "#d8576b"
             ],
             [
              0.6666666666666666,
              "#ed7953"
             ],
             [
              0.7777777777777778,
              "#fb9f3a"
             ],
             [
              0.8888888888888888,
              "#fdca26"
             ],
             [
              1,
              "#f0f921"
             ]
            ],
            "type": "histogram2dcontour"
           }
          ],
          "mesh3d": [
           {
            "colorbar": {
             "outlinewidth": 0,
             "ticks": ""
            },
            "type": "mesh3d"
           }
          ],
          "parcoords": [
           {
            "line": {
             "colorbar": {
              "outlinewidth": 0,
              "ticks": ""
             }
            },
            "type": "parcoords"
           }
          ],
          "pie": [
           {
            "automargin": true,
            "type": "pie"
           }
          ],
          "scatter": [
           {
            "marker": {
             "colorbar": {
              "outlinewidth": 0,
              "ticks": ""
             }
            },
            "type": "scatter"
           }
          ],
          "scatter3d": [
           {
            "line": {
             "colorbar": {
              "outlinewidth": 0,
              "ticks": ""
             }
            },
            "marker": {
             "colorbar": {
              "outlinewidth": 0,
              "ticks": ""
             }
            },
            "type": "scatter3d"
           }
          ],
          "scattercarpet": [
           {
            "marker": {
             "colorbar": {
              "outlinewidth": 0,
              "ticks": ""
             }
            },
            "type": "scattercarpet"
           }
          ],
          "scattergeo": [
           {
            "marker": {
             "colorbar": {
              "outlinewidth": 0,
              "ticks": ""
             }
            },
            "type": "scattergeo"
           }
          ],
          "scattergl": [
           {
            "marker": {
             "colorbar": {
              "outlinewidth": 0,
              "ticks": ""
             }
            },
            "type": "scattergl"
           }
          ],
          "scattermapbox": [
           {
            "marker": {
             "colorbar": {
              "outlinewidth": 0,
              "ticks": ""
             }
            },
            "type": "scattermapbox"
           }
          ],
          "scatterpolar": [
           {
            "marker": {
             "colorbar": {
              "outlinewidth": 0,
              "ticks": ""
             }
            },
            "type": "scatterpolar"
           }
          ],
          "scatterpolargl": [
           {
            "marker": {
             "colorbar": {
              "outlinewidth": 0,
              "ticks": ""
             }
            },
            "type": "scatterpolargl"
           }
          ],
          "scatterternary": [
           {
            "marker": {
             "colorbar": {
              "outlinewidth": 0,
              "ticks": ""
             }
            },
            "type": "scatterternary"
           }
          ],
          "surface": [
           {
            "colorbar": {
             "outlinewidth": 0,
             "ticks": ""
            },
            "colorscale": [
             [
              0,
              "#0d0887"
             ],
             [
              0.1111111111111111,
              "#46039f"
             ],
             [
              0.2222222222222222,
              "#7201a8"
             ],
             [
              0.3333333333333333,
              "#9c179e"
             ],
             [
              0.4444444444444444,
              "#bd3786"
             ],
             [
              0.5555555555555556,
              "#d8576b"
             ],
             [
              0.6666666666666666,
              "#ed7953"
             ],
             [
              0.7777777777777778,
              "#fb9f3a"
             ],
             [
              0.8888888888888888,
              "#fdca26"
             ],
             [
              1,
              "#f0f921"
             ]
            ],
            "type": "surface"
           }
          ],
          "table": [
           {
            "cells": {
             "fill": {
              "color": "#EBF0F8"
             },
             "line": {
              "color": "white"
             }
            },
            "header": {
             "fill": {
              "color": "#C8D4E3"
             },
             "line": {
              "color": "white"
             }
            },
            "type": "table"
           }
          ]
         },
         "layout": {
          "annotationdefaults": {
           "arrowcolor": "#2a3f5f",
           "arrowhead": 0,
           "arrowwidth": 1
          },
          "autotypenumbers": "strict",
          "coloraxis": {
           "colorbar": {
            "outlinewidth": 0,
            "ticks": ""
           }
          },
          "colorscale": {
           "diverging": [
            [
             0,
             "#8e0152"
            ],
            [
             0.1,
             "#c51b7d"
            ],
            [
             0.2,
             "#de77ae"
            ],
            [
             0.3,
             "#f1b6da"
            ],
            [
             0.4,
             "#fde0ef"
            ],
            [
             0.5,
             "#f7f7f7"
            ],
            [
             0.6,
             "#e6f5d0"
            ],
            [
             0.7,
             "#b8e186"
            ],
            [
             0.8,
             "#7fbc41"
            ],
            [
             0.9,
             "#4d9221"
            ],
            [
             1,
             "#276419"
            ]
           ],
           "sequential": [
            [
             0,
             "#0d0887"
            ],
            [
             0.1111111111111111,
             "#46039f"
            ],
            [
             0.2222222222222222,
             "#7201a8"
            ],
            [
             0.3333333333333333,
             "#9c179e"
            ],
            [
             0.4444444444444444,
             "#bd3786"
            ],
            [
             0.5555555555555556,
             "#d8576b"
            ],
            [
             0.6666666666666666,
             "#ed7953"
            ],
            [
             0.7777777777777778,
             "#fb9f3a"
            ],
            [
             0.8888888888888888,
             "#fdca26"
            ],
            [
             1,
             "#f0f921"
            ]
           ],
           "sequentialminus": [
            [
             0,
             "#0d0887"
            ],
            [
             0.1111111111111111,
             "#46039f"
            ],
            [
             0.2222222222222222,
             "#7201a8"
            ],
            [
             0.3333333333333333,
             "#9c179e"
            ],
            [
             0.4444444444444444,
             "#bd3786"
            ],
            [
             0.5555555555555556,
             "#d8576b"
            ],
            [
             0.6666666666666666,
             "#ed7953"
            ],
            [
             0.7777777777777778,
             "#fb9f3a"
            ],
            [
             0.8888888888888888,
             "#fdca26"
            ],
            [
             1,
             "#f0f921"
            ]
           ]
          },
          "colorway": [
           "#636efa",
           "#EF553B",
           "#00cc96",
           "#ab63fa",
           "#FFA15A",
           "#19d3f3",
           "#FF6692",
           "#B6E880",
           "#FF97FF",
           "#FECB52"
          ],
          "font": {
           "color": "#2a3f5f"
          },
          "geo": {
           "bgcolor": "white",
           "lakecolor": "white",
           "landcolor": "#E5ECF6",
           "showlakes": true,
           "showland": true,
           "subunitcolor": "white"
          },
          "hoverlabel": {
           "align": "left"
          },
          "hovermode": "closest",
          "mapbox": {
           "style": "light"
          },
          "paper_bgcolor": "white",
          "plot_bgcolor": "#E5ECF6",
          "polar": {
           "angularaxis": {
            "gridcolor": "white",
            "linecolor": "white",
            "ticks": ""
           },
           "bgcolor": "#E5ECF6",
           "radialaxis": {
            "gridcolor": "white",
            "linecolor": "white",
            "ticks": ""
           }
          },
          "scene": {
           "xaxis": {
            "backgroundcolor": "#E5ECF6",
            "gridcolor": "white",
            "gridwidth": 2,
            "linecolor": "white",
            "showbackground": true,
            "ticks": "",
            "zerolinecolor": "white"
           },
           "yaxis": {
            "backgroundcolor": "#E5ECF6",
            "gridcolor": "white",
            "gridwidth": 2,
            "linecolor": "white",
            "showbackground": true,
            "ticks": "",
            "zerolinecolor": "white"
           },
           "zaxis": {
            "backgroundcolor": "#E5ECF6",
            "gridcolor": "white",
            "gridwidth": 2,
            "linecolor": "white",
            "showbackground": true,
            "ticks": "",
            "zerolinecolor": "white"
           }
          },
          "shapedefaults": {
           "line": {
            "color": "#2a3f5f"
           }
          },
          "ternary": {
           "aaxis": {
            "gridcolor": "white",
            "linecolor": "white",
            "ticks": ""
           },
           "baxis": {
            "gridcolor": "white",
            "linecolor": "white",
            "ticks": ""
           },
           "bgcolor": "#E5ECF6",
           "caxis": {
            "gridcolor": "white",
            "linecolor": "white",
            "ticks": ""
           }
          },
          "title": {
           "x": 0.05
          },
          "xaxis": {
           "automargin": true,
           "gridcolor": "white",
           "linecolor": "white",
           "ticks": "",
           "title": {
            "standoff": 15
           },
           "zerolinecolor": "white",
           "zerolinewidth": 2
          },
          "yaxis": {
           "automargin": true,
           "gridcolor": "white",
           "linecolor": "white",
           "ticks": "",
           "title": {
            "standoff": 15
           },
           "zerolinecolor": "white",
           "zerolinewidth": 2
          }
         }
        },
        "title": {
         "font": {
          "color": "#4D5663"
         }
        },
        "xaxis": {
         "gridcolor": "#E1E5ED",
         "showgrid": true,
         "tickfont": {
          "color": "#4D5663"
         },
         "title": {
          "font": {
           "color": "#4D5663"
          },
          "text": ""
         },
         "zerolinecolor": "#E1E5ED"
        },
        "yaxis": {
         "gridcolor": "#E1E5ED",
         "showgrid": true,
         "tickfont": {
          "color": "#4D5663"
         },
         "title": {
          "font": {
           "color": "#4D5663"
          },
          "text": ""
         },
         "zerolinecolor": "#E1E5ED"
        }
       }
      },
      "text/html": [
       "<div>                            <div id=\"38085059-f936-4fe5-80a7-5ff4c04feee2\" class=\"plotly-graph-div\" style=\"height:525px; width:100%;\"></div>            <script type=\"text/javascript\">                require([\"plotly\"], function(Plotly) {                    window.PLOTLYENV=window.PLOTLYENV || {};\n",
       "                    window.PLOTLYENV.BASE_URL='https://plot.ly';                                    if (document.getElementById(\"38085059-f936-4fe5-80a7-5ff4c04feee2\")) {                    Plotly.newPlot(                        \"38085059-f936-4fe5-80a7-5ff4c04feee2\",                        [{\"colorscale\":[[0.0,\"rgb(165,0,38)\"],[0.1,\"rgb(215,48,39)\"],[0.2,\"rgb(244,109,67)\"],[0.3,\"rgb(253,174,97)\"],[0.4,\"rgb(254,224,144)\"],[0.5,\"rgb(255,255,191)\"],[0.6,\"rgb(224,243,248)\"],[0.7,\"rgb(171,217,233)\"],[0.8,\"rgb(116,173,209)\"],[0.9,\"rgb(69,117,180)\"],[1.0,\"rgb(49,54,149)\"]],\"x\":[0,1,2,3,4],\"y\":[\"x\",\"y\",\"z\"],\"z\":[[1,2,3,4,5],[10,20,30,20,10],[5,4,3,2,1]],\"type\":\"surface\"}],                        {\"legend\":{\"bgcolor\":\"#F5F6F9\",\"font\":{\"color\":\"#4D5663\"}},\"paper_bgcolor\":\"#F5F6F9\",\"plot_bgcolor\":\"#F5F6F9\",\"template\":{\"data\":{\"barpolar\":[{\"marker\":{\"line\":{\"color\":\"#E5ECF6\",\"width\":0.5},\"pattern\":{\"fillmode\":\"overlay\",\"size\":10,\"solidity\":0.2}},\"type\":\"barpolar\"}],\"bar\":[{\"error_x\":{\"color\":\"#2a3f5f\"},\"error_y\":{\"color\":\"#2a3f5f\"},\"marker\":{\"line\":{\"color\":\"#E5ECF6\",\"width\":0.5},\"pattern\":{\"fillmode\":\"overlay\",\"size\":10,\"solidity\":0.2}},\"type\":\"bar\"}],\"carpet\":[{\"aaxis\":{\"endlinecolor\":\"#2a3f5f\",\"gridcolor\":\"white\",\"linecolor\":\"white\",\"minorgridcolor\":\"white\",\"startlinecolor\":\"#2a3f5f\"},\"baxis\":{\"endlinecolor\":\"#2a3f5f\",\"gridcolor\":\"white\",\"linecolor\":\"white\",\"minorgridcolor\":\"white\",\"startlinecolor\":\"#2a3f5f\"},\"type\":\"carpet\"}],\"choropleth\":[{\"colorbar\":{\"outlinewidth\":0,\"ticks\":\"\"},\"type\":\"choropleth\"}],\"contourcarpet\":[{\"colorbar\":{\"outlinewidth\":0,\"ticks\":\"\"},\"type\":\"contourcarpet\"}],\"contour\":[{\"colorbar\":{\"outlinewidth\":0,\"ticks\":\"\"},\"colorscale\":[[0.0,\"#0d0887\"],[0.1111111111111111,\"#46039f\"],[0.2222222222222222,\"#7201a8\"],[0.3333333333333333,\"#9c179e\"],[0.4444444444444444,\"#bd3786\"],[0.5555555555555556,\"#d8576b\"],[0.6666666666666666,\"#ed7953\"],[0.7777777777777778,\"#fb9f3a\"],[0.8888888888888888,\"#fdca26\"],[1.0,\"#f0f921\"]],\"type\":\"contour\"}],\"heatmapgl\":[{\"colorbar\":{\"outlinewidth\":0,\"ticks\":\"\"},\"colorscale\":[[0.0,\"#0d0887\"],[0.1111111111111111,\"#46039f\"],[0.2222222222222222,\"#7201a8\"],[0.3333333333333333,\"#9c179e\"],[0.4444444444444444,\"#bd3786\"],[0.5555555555555556,\"#d8576b\"],[0.6666666666666666,\"#ed7953\"],[0.7777777777777778,\"#fb9f3a\"],[0.8888888888888888,\"#fdca26\"],[1.0,\"#f0f921\"]],\"type\":\"heatmapgl\"}],\"heatmap\":[{\"colorbar\":{\"outlinewidth\":0,\"ticks\":\"\"},\"colorscale\":[[0.0,\"#0d0887\"],[0.1111111111111111,\"#46039f\"],[0.2222222222222222,\"#7201a8\"],[0.3333333333333333,\"#9c179e\"],[0.4444444444444444,\"#bd3786\"],[0.5555555555555556,\"#d8576b\"],[0.6666666666666666,\"#ed7953\"],[0.7777777777777778,\"#fb9f3a\"],[0.8888888888888888,\"#fdca26\"],[1.0,\"#f0f921\"]],\"type\":\"heatmap\"}],\"histogram2dcontour\":[{\"colorbar\":{\"outlinewidth\":0,\"ticks\":\"\"},\"colorscale\":[[0.0,\"#0d0887\"],[0.1111111111111111,\"#46039f\"],[0.2222222222222222,\"#7201a8\"],[0.3333333333333333,\"#9c179e\"],[0.4444444444444444,\"#bd3786\"],[0.5555555555555556,\"#d8576b\"],[0.6666666666666666,\"#ed7953\"],[0.7777777777777778,\"#fb9f3a\"],[0.8888888888888888,\"#fdca26\"],[1.0,\"#f0f921\"]],\"type\":\"histogram2dcontour\"}],\"histogram2d\":[{\"colorbar\":{\"outlinewidth\":0,\"ticks\":\"\"},\"colorscale\":[[0.0,\"#0d0887\"],[0.1111111111111111,\"#46039f\"],[0.2222222222222222,\"#7201a8\"],[0.3333333333333333,\"#9c179e\"],[0.4444444444444444,\"#bd3786\"],[0.5555555555555556,\"#d8576b\"],[0.6666666666666666,\"#ed7953\"],[0.7777777777777778,\"#fb9f3a\"],[0.8888888888888888,\"#fdca26\"],[1.0,\"#f0f921\"]],\"type\":\"histogram2d\"}],\"histogram\":[{\"marker\":{\"pattern\":{\"fillmode\":\"overlay\",\"size\":10,\"solidity\":0.2}},\"type\":\"histogram\"}],\"mesh3d\":[{\"colorbar\":{\"outlinewidth\":0,\"ticks\":\"\"},\"type\":\"mesh3d\"}],\"parcoords\":[{\"line\":{\"colorbar\":{\"outlinewidth\":0,\"ticks\":\"\"}},\"type\":\"parcoords\"}],\"pie\":[{\"automargin\":true,\"type\":\"pie\"}],\"scatter3d\":[{\"line\":{\"colorbar\":{\"outlinewidth\":0,\"ticks\":\"\"}},\"marker\":{\"colorbar\":{\"outlinewidth\":0,\"ticks\":\"\"}},\"type\":\"scatter3d\"}],\"scattercarpet\":[{\"marker\":{\"colorbar\":{\"outlinewidth\":0,\"ticks\":\"\"}},\"type\":\"scattercarpet\"}],\"scattergeo\":[{\"marker\":{\"colorbar\":{\"outlinewidth\":0,\"ticks\":\"\"}},\"type\":\"scattergeo\"}],\"scattergl\":[{\"marker\":{\"colorbar\":{\"outlinewidth\":0,\"ticks\":\"\"}},\"type\":\"scattergl\"}],\"scattermapbox\":[{\"marker\":{\"colorbar\":{\"outlinewidth\":0,\"ticks\":\"\"}},\"type\":\"scattermapbox\"}],\"scatterpolargl\":[{\"marker\":{\"colorbar\":{\"outlinewidth\":0,\"ticks\":\"\"}},\"type\":\"scatterpolargl\"}],\"scatterpolar\":[{\"marker\":{\"colorbar\":{\"outlinewidth\":0,\"ticks\":\"\"}},\"type\":\"scatterpolar\"}],\"scatter\":[{\"marker\":{\"colorbar\":{\"outlinewidth\":0,\"ticks\":\"\"}},\"type\":\"scatter\"}],\"scatterternary\":[{\"marker\":{\"colorbar\":{\"outlinewidth\":0,\"ticks\":\"\"}},\"type\":\"scatterternary\"}],\"surface\":[{\"colorbar\":{\"outlinewidth\":0,\"ticks\":\"\"},\"colorscale\":[[0.0,\"#0d0887\"],[0.1111111111111111,\"#46039f\"],[0.2222222222222222,\"#7201a8\"],[0.3333333333333333,\"#9c179e\"],[0.4444444444444444,\"#bd3786\"],[0.5555555555555556,\"#d8576b\"],[0.6666666666666666,\"#ed7953\"],[0.7777777777777778,\"#fb9f3a\"],[0.8888888888888888,\"#fdca26\"],[1.0,\"#f0f921\"]],\"type\":\"surface\"}],\"table\":[{\"cells\":{\"fill\":{\"color\":\"#EBF0F8\"},\"line\":{\"color\":\"white\"}},\"header\":{\"fill\":{\"color\":\"#C8D4E3\"},\"line\":{\"color\":\"white\"}},\"type\":\"table\"}]},\"layout\":{\"annotationdefaults\":{\"arrowcolor\":\"#2a3f5f\",\"arrowhead\":0,\"arrowwidth\":1},\"autotypenumbers\":\"strict\",\"coloraxis\":{\"colorbar\":{\"outlinewidth\":0,\"ticks\":\"\"}},\"colorscale\":{\"diverging\":[[0,\"#8e0152\"],[0.1,\"#c51b7d\"],[0.2,\"#de77ae\"],[0.3,\"#f1b6da\"],[0.4,\"#fde0ef\"],[0.5,\"#f7f7f7\"],[0.6,\"#e6f5d0\"],[0.7,\"#b8e186\"],[0.8,\"#7fbc41\"],[0.9,\"#4d9221\"],[1,\"#276419\"]],\"sequential\":[[0.0,\"#0d0887\"],[0.1111111111111111,\"#46039f\"],[0.2222222222222222,\"#7201a8\"],[0.3333333333333333,\"#9c179e\"],[0.4444444444444444,\"#bd3786\"],[0.5555555555555556,\"#d8576b\"],[0.6666666666666666,\"#ed7953\"],[0.7777777777777778,\"#fb9f3a\"],[0.8888888888888888,\"#fdca26\"],[1.0,\"#f0f921\"]],\"sequentialminus\":[[0.0,\"#0d0887\"],[0.1111111111111111,\"#46039f\"],[0.2222222222222222,\"#7201a8\"],[0.3333333333333333,\"#9c179e\"],[0.4444444444444444,\"#bd3786\"],[0.5555555555555556,\"#d8576b\"],[0.6666666666666666,\"#ed7953\"],[0.7777777777777778,\"#fb9f3a\"],[0.8888888888888888,\"#fdca26\"],[1.0,\"#f0f921\"]]},\"colorway\":[\"#636efa\",\"#EF553B\",\"#00cc96\",\"#ab63fa\",\"#FFA15A\",\"#19d3f3\",\"#FF6692\",\"#B6E880\",\"#FF97FF\",\"#FECB52\"],\"font\":{\"color\":\"#2a3f5f\"},\"geo\":{\"bgcolor\":\"white\",\"lakecolor\":\"white\",\"landcolor\":\"#E5ECF6\",\"showlakes\":true,\"showland\":true,\"subunitcolor\":\"white\"},\"hoverlabel\":{\"align\":\"left\"},\"hovermode\":\"closest\",\"mapbox\":{\"style\":\"light\"},\"paper_bgcolor\":\"white\",\"plot_bgcolor\":\"#E5ECF6\",\"polar\":{\"angularaxis\":{\"gridcolor\":\"white\",\"linecolor\":\"white\",\"ticks\":\"\"},\"bgcolor\":\"#E5ECF6\",\"radialaxis\":{\"gridcolor\":\"white\",\"linecolor\":\"white\",\"ticks\":\"\"}},\"scene\":{\"xaxis\":{\"backgroundcolor\":\"#E5ECF6\",\"gridcolor\":\"white\",\"gridwidth\":2,\"linecolor\":\"white\",\"showbackground\":true,\"ticks\":\"\",\"zerolinecolor\":\"white\"},\"yaxis\":{\"backgroundcolor\":\"#E5ECF6\",\"gridcolor\":\"white\",\"gridwidth\":2,\"linecolor\":\"white\",\"showbackground\":true,\"ticks\":\"\",\"zerolinecolor\":\"white\"},\"zaxis\":{\"backgroundcolor\":\"#E5ECF6\",\"gridcolor\":\"white\",\"gridwidth\":2,\"linecolor\":\"white\",\"showbackground\":true,\"ticks\":\"\",\"zerolinecolor\":\"white\"}},\"shapedefaults\":{\"line\":{\"color\":\"#2a3f5f\"}},\"ternary\":{\"aaxis\":{\"gridcolor\":\"white\",\"linecolor\":\"white\",\"ticks\":\"\"},\"baxis\":{\"gridcolor\":\"white\",\"linecolor\":\"white\",\"ticks\":\"\"},\"bgcolor\":\"#E5ECF6\",\"caxis\":{\"gridcolor\":\"white\",\"linecolor\":\"white\",\"ticks\":\"\"}},\"title\":{\"x\":0.05},\"xaxis\":{\"automargin\":true,\"gridcolor\":\"white\",\"linecolor\":\"white\",\"ticks\":\"\",\"title\":{\"standoff\":15},\"zerolinecolor\":\"white\",\"zerolinewidth\":2},\"yaxis\":{\"automargin\":true,\"gridcolor\":\"white\",\"linecolor\":\"white\",\"ticks\":\"\",\"title\":{\"standoff\":15},\"zerolinecolor\":\"white\",\"zerolinewidth\":2}}},\"title\":{\"font\":{\"color\":\"#4D5663\"}},\"xaxis\":{\"gridcolor\":\"#E1E5ED\",\"showgrid\":true,\"tickfont\":{\"color\":\"#4D5663\"},\"title\":{\"font\":{\"color\":\"#4D5663\"},\"text\":\"\"},\"zerolinecolor\":\"#E1E5ED\"},\"yaxis\":{\"gridcolor\":\"#E1E5ED\",\"showgrid\":true,\"tickfont\":{\"color\":\"#4D5663\"},\"title\":{\"font\":{\"color\":\"#4D5663\"},\"text\":\"\"},\"zerolinecolor\":\"#E1E5ED\"}},                        {\"showLink\": true, \"linkText\": \"Export to plot.ly\", \"plotlyServerURL\": \"https://plot.ly\", \"responsive\": true}                    ).then(function(){\n",
       "                            \n",
       "var gd = document.getElementById('38085059-f936-4fe5-80a7-5ff4c04feee2');\n",
       "var x = new MutationObserver(function (mutations, observer) {{\n",
       "        var display = window.getComputedStyle(gd).display;\n",
       "        if (!display || display === 'none') {{\n",
       "            console.log([gd, 'removed!']);\n",
       "            Plotly.purge(gd);\n",
       "            observer.disconnect();\n",
       "        }}\n",
       "}});\n",
       "\n",
       "// Listen for the removal of the full notebook cells\n",
       "var notebookContainer = gd.closest('#notebook-container');\n",
       "if (notebookContainer) {{\n",
       "    x.observe(notebookContainer, {childList: true});\n",
       "}}\n",
       "\n",
       "// Listen for the clearing of the current output cell\n",
       "var outputEl = gd.closest('.output');\n",
       "if (outputEl) {{\n",
       "    x.observe(outputEl, {childList: true});\n",
       "}}\n",
       "\n",
       "                        })                };                });            </script>        </div>"
      ]
     },
     "metadata": {},
     "output_type": "display_data"
    }
   ],
   "source": [
    "df3 = pd.DataFrame({'x':[1,2,3,4,5],'y':[10,20,30,20,10],'z':[5,4,3,2,1]})\n",
    "df3.iplot(kind='surface',colorscale='rdylbu')"
   ]
  },
  {
   "cell_type": "markdown",
   "metadata": {},
   "source": [
    "## Spread"
   ]
  },
  {
   "cell_type": "code",
   "execution_count": 15,
   "metadata": {},
   "outputs": [
    {
     "name": "stderr",
     "output_type": "stream",
     "text": [
      "/Users/sukumarsubudhi/opt/anaconda3/lib/python3.8/site-packages/cufflinks/plotlytools.py:849: FutureWarning:\n",
      "\n",
      "The pandas.np module is deprecated and will be removed from pandas in a future version. Import numpy directly instead\n",
      "\n",
      "/Users/sukumarsubudhi/opt/anaconda3/lib/python3.8/site-packages/cufflinks/plotlytools.py:850: FutureWarning:\n",
      "\n",
      "The pandas.np module is deprecated and will be removed from pandas in a future version. Import numpy directly instead\n",
      "\n"
     ]
    },
    {
     "data": {
      "application/vnd.plotly.v1+json": {
       "config": {
        "linkText": "Export to plot.ly",
        "plotlyServerURL": "https://plot.ly",
        "showLink": true
       },
       "data": [
        {
         "line": {
          "color": "rgba(255, 153, 51, 1.0)",
          "dash": "solid",
          "shape": "linear",
          "width": 1.3
         },
         "mode": "lines",
         "name": "A",
         "text": "",
         "type": "scatter",
         "x": [
          0,
          1,
          2,
          3,
          4,
          5,
          6,
          7,
          8,
          9,
          10,
          11,
          12,
          13,
          14,
          15,
          16,
          17,
          18,
          19,
          20,
          21,
          22,
          23,
          24,
          25,
          26,
          27,
          28,
          29,
          30,
          31,
          32,
          33,
          34,
          35,
          36,
          37,
          38,
          39,
          40,
          41,
          42,
          43,
          44,
          45,
          46,
          47,
          48,
          49,
          50,
          51,
          52,
          53,
          54,
          55,
          56,
          57,
          58,
          59,
          60,
          61,
          62,
          63,
          64,
          65,
          66,
          67,
          68,
          69,
          70,
          71,
          72,
          73,
          74,
          75,
          76,
          77,
          78,
          79,
          80,
          81,
          82,
          83,
          84,
          85,
          86,
          87,
          88,
          89,
          90,
          91,
          92,
          93,
          94,
          95,
          96,
          97,
          98,
          99
         ],
         "y": [
          -0.08696362399272553,
          0.11829315027705818,
          2.342856948597935,
          -1.503776880344004,
          0.045725881655566944,
          -0.12928100391232758,
          -1.036616358261247,
          0.10233820019024022,
          0.7544009950060778,
          1.119361123299176,
          -0.12168280829613869,
          -2.5141385692708162,
          0.8641734038037336,
          0.5615068860097867,
          -0.3618584895915859,
          -0.457493569108614,
          -0.7407705698927969,
          1.1100806879640044,
          -0.8436326812336624,
          -0.48194108799061275,
          -1.4283203300649514,
          -0.005528020954320215,
          0.6545934828776457,
          -0.3764165478866233,
          -0.7019587962207577,
          -2.1331489184945993,
          -1.5599707684625428,
          0.1755715299771797,
          0.13351195861619805,
          1.368573023242335,
          -0.3277442434772406,
          2.0071797704419105,
          1.0348622076293386,
          1.3772601634896795,
          -1.3690674657036475,
          -0.041160364008156404,
          0.3875459772294022,
          0.9653394848516135,
          -0.625061639729154,
          0.3400475723960751,
          0.8627064249099288,
          0.13396042173723252,
          0.4156667557269354,
          0.026797539151673128,
          0.405065409950036,
          0.7292637466264922,
          0.21898544855905366,
          0.2079755266846345,
          1.7031803281598694,
          1.0332873337748185,
          -0.08186366407943726,
          0.31908800200591075,
          -0.0831876976123175,
          -0.6307622500712357,
          0.11880043187804375,
          -0.8245533725750579,
          -0.6781822263791778,
          -0.17005988571480388,
          -1.6516093618334853,
          -0.8238222820076299,
          0.25641890902102926,
          -0.3322067616366865,
          1.4101018248811763,
          -1.1291979327906585,
          1.6890614664254615,
          -2.329076558908018,
          1.0769218217409133,
          0.1745963287674994,
          -0.8317798804560796,
          -1.1970027388103093,
          -3.0019528425038247,
          -0.23762122812809972,
          -0.4972338749701281,
          -0.26093263665920746,
          -1.5160013445449143,
          -0.9359898977334827,
          0.28176566515491647,
          0.25728493779995126,
          -0.1659249477937885,
          -0.13895687610656993,
          -1.997548442478862,
          1.132732545040066,
          1.2739327462477517,
          0.16888236139169427,
          1.5187040036619632,
          -0.774538350480497,
          -0.23137553047304132,
          -2.5810982422012527,
          -1.9447360011477897,
          -0.14078455082043415,
          0.5776488661887422,
          -0.882519133144336,
          0.22691072302708074,
          -0.7011641433638972,
          -0.9519428369511796,
          -0.7660743937480502,
          -2.211696125505859,
          -0.7298692001517896,
          -0.34256034176711875,
          1.0823363602187954
         ]
        },
        {
         "line": {
          "color": "rgba(55, 128, 191, 1.0)",
          "dash": "solid",
          "shape": "linear",
          "width": 1.3
         },
         "mode": "lines",
         "name": "B",
         "text": "",
         "type": "scatter",
         "x": [
          0,
          1,
          2,
          3,
          4,
          5,
          6,
          7,
          8,
          9,
          10,
          11,
          12,
          13,
          14,
          15,
          16,
          17,
          18,
          19,
          20,
          21,
          22,
          23,
          24,
          25,
          26,
          27,
          28,
          29,
          30,
          31,
          32,
          33,
          34,
          35,
          36,
          37,
          38,
          39,
          40,
          41,
          42,
          43,
          44,
          45,
          46,
          47,
          48,
          49,
          50,
          51,
          52,
          53,
          54,
          55,
          56,
          57,
          58,
          59,
          60,
          61,
          62,
          63,
          64,
          65,
          66,
          67,
          68,
          69,
          70,
          71,
          72,
          73,
          74,
          75,
          76,
          77,
          78,
          79,
          80,
          81,
          82,
          83,
          84,
          85,
          86,
          87,
          88,
          89,
          90,
          91,
          92,
          93,
          94,
          95,
          96,
          97,
          98,
          99
         ],
         "y": [
          -0.07201300572682906,
          -1.7813371536318778,
          -0.8200929720183177,
          1.6850747024543902,
          0.14373920902261458,
          0.9014962704276461,
          -1.0481652514408317,
          0.9677142806092884,
          0.2784556999294692,
          -0.808096455996858,
          0.5972504318570593,
          1.5193397017630752,
          0.1120776473758537,
          0.031459404038649844,
          -0.6419956711923979,
          1.3661547594810273,
          -0.19155366489041692,
          -1.1012658471042815,
          0.6282171051348472,
          -0.8716239697489461,
          -0.5626019647408662,
          0.6519591742110662,
          0.052616620786117244,
          -0.169397506886645,
          -0.5635490785509196,
          -0.22762662898988673,
          -1.2333147800078432,
          -0.7330246424512903,
          0.62354927944434,
          -0.5199034839952482,
          0.5678912530643067,
          0.2055567196710461,
          0.8482662446920417,
          0.8649241351693712,
          0.6677232214596046,
          1.4194969576533518,
          0.05987451399890696,
          0.5364829593269563,
          2.139167152838529,
          0.840048180328241,
          1.6044742679372017,
          0.32314142805402435,
          -0.1615677497467817,
          0.47260106016564707,
          1.0744435776511905,
          0.04847396319960681,
          -0.1508712997263981,
          -0.5759453801733477,
          -0.293997152323099,
          -0.44495079449735675,
          0.10907341855645045,
          1.057057230197365,
          -0.6190450725199533,
          0.17020215249976262,
          0.6415891478844767,
          2.1265419568789854,
          -0.463185134592524,
          2.1374017556563474,
          1.9151279933805916,
          -0.10117463654989918,
          -0.9176696227617764,
          0.40766039857072367,
          1.2898062553730296,
          0.1545348303988453,
          0.24644376482344738,
          1.374650744190713,
          0.10564871875845407,
          0.6408997652220568,
          0.3425626471892363,
          0.04986405193713072,
          -0.6646697915034648,
          -0.09997211172881224,
          0.23521389993867892,
          0.5523179868398935,
          -0.09287699374722193,
          -0.9999106553888348,
          -1.1150659445689572,
          1.737598024647142,
          0.08558665304809565,
          0.44566810012783964,
          0.9790451280395394,
          -0.6081735571910922,
          0.2345712090980208,
          -1.2467094141877713,
          -0.5195244934509475,
          0.7759209695129649,
          -0.955124047948974,
          0.40746936598386513,
          0.23668765547290643,
          -0.02128848593352963,
          1.8956579840616128,
          0.6594859840593594,
          0.4028552358561733,
          -1.0275742681985736,
          -1.0331453939669182,
          -0.28602693038106247,
          1.437346730839855,
          0.689133460013907,
          -1.0303054514876115,
          0.2488420672892611
         ]
        },
        {
         "connectgaps": false,
         "fill": "tozeroy",
         "line": {
          "color": "green",
          "dash": "solid",
          "shape": "linear",
          "width": 0.5
         },
         "mode": "lines",
         "name": "Spread",
         "showlegend": false,
         "type": "scatter",
         "x": [
          0,
          1,
          2,
          3,
          4,
          5,
          6,
          7,
          8,
          9,
          10,
          11,
          12,
          13,
          14,
          15,
          16,
          17,
          18,
          19,
          20,
          21,
          22,
          23,
          24,
          25,
          26,
          27,
          28,
          29,
          30,
          31,
          32,
          33,
          34,
          35,
          36,
          37,
          38,
          39,
          40,
          41,
          42,
          43,
          44,
          45,
          46,
          47,
          48,
          49,
          50,
          51,
          52,
          53,
          54,
          55,
          56,
          57,
          58,
          59,
          60,
          61,
          62,
          63,
          64,
          65,
          66,
          67,
          68,
          69,
          70,
          71,
          72,
          73,
          74,
          75,
          76,
          77,
          78,
          79,
          80,
          81,
          82,
          83,
          84,
          85,
          86,
          87,
          88,
          89,
          90,
          91,
          92,
          93,
          94,
          95,
          96,
          97,
          98,
          99
         ],
         "xaxis": "x2",
         "y": [
          "",
          1.899630303908936,
          3.162949920616253,
          "",
          "",
          "",
          0.01154889317958463,
          "",
          0.4759452950766086,
          1.927457579296034,
          "",
          "",
          0.75209575642788,
          0.5300474819711368,
          0.28013718160081197,
          "",
          "",
          2.211346535068286,
          "",
          0.3896828817583333,
          "",
          "",
          0.6019768620915285,
          "",
          "",
          "",
          "",
          0.90859617242847,
          "",
          1.8884765072375833,
          "",
          1.8016230507708644,
          0.18659596293729686,
          0.5123360283203083,
          "",
          "",
          0.32767146323049523,
          0.42885652552465714,
          "",
          "",
          "",
          "",
          0.5772345054737171,
          "",
          "",
          0.6807897834268853,
          0.3698567482854518,
          0.7839209068579822,
          1.9971774804829683,
          1.4782381282721753,
          "",
          "",
          0.5358573749076359,
          "",
          "",
          "",
          "",
          "",
          "",
          "",
          1.1740885317828056,
          "",
          0.12029556950814668,
          "",
          1.442617701602014,
          "",
          0.9712731029824593,
          "",
          "",
          "",
          "",
          "",
          "",
          "",
          "",
          0.0639207576553521,
          1.3968316097238738,
          "",
          "",
          "",
          "",
          1.7409061022311583,
          1.039361537149731,
          1.4155917755794656,
          2.038228497112911,
          "",
          0.7237485174759326,
          "",
          "",
          "",
          "",
          "",
          "",
          0.32641012483467635,
          0.08120255701573853,
          "",
          "",
          "",
          0.6877451097204927,
          0.8334942929295344
         ],
         "yaxis": "y2"
        },
        {
         "connectgaps": false,
         "fill": "tozeroy",
         "line": {
          "color": "red",
          "dash": "solid",
          "shape": "linear",
          "width": 0.5
         },
         "mode": "lines",
         "name": "Spread",
         "showlegend": false,
         "type": "scatter",
         "x": [
          0,
          1,
          2,
          3,
          4,
          5,
          6,
          7,
          8,
          9,
          10,
          11,
          12,
          13,
          14,
          15,
          16,
          17,
          18,
          19,
          20,
          21,
          22,
          23,
          24,
          25,
          26,
          27,
          28,
          29,
          30,
          31,
          32,
          33,
          34,
          35,
          36,
          37,
          38,
          39,
          40,
          41,
          42,
          43,
          44,
          45,
          46,
          47,
          48,
          49,
          50,
          51,
          52,
          53,
          54,
          55,
          56,
          57,
          58,
          59,
          60,
          61,
          62,
          63,
          64,
          65,
          66,
          67,
          68,
          69,
          70,
          71,
          72,
          73,
          74,
          75,
          76,
          77,
          78,
          79,
          80,
          81,
          82,
          83,
          84,
          85,
          86,
          87,
          88,
          89,
          90,
          91,
          92,
          93,
          94,
          95,
          96,
          97,
          98,
          99
         ],
         "xaxis": "x2",
         "y": [
          -0.01495061826589647,
          "",
          "",
          -3.188851582798394,
          -0.09801332736704764,
          -1.0307772743399737,
          "",
          -0.8653760804190482,
          "",
          "",
          -0.7189332401531979,
          -4.033478271033891,
          "",
          "",
          "",
          -1.8236483285896412,
          -0.54921690500238,
          "",
          -1.4718497863685096,
          "",
          -0.8657183653240852,
          -0.6574871951653865,
          "",
          -0.2070190409999783,
          -0.13840971766983812,
          -1.9055222895047126,
          -0.32665598845469956,
          "",
          -0.490037320828142,
          "",
          -0.8956354965415473,
          "",
          "",
          "",
          -2.036790687163252,
          -1.4606573216615082,
          "",
          "",
          -2.7642287925676827,
          -0.5000006079321659,
          -0.7417678430272729,
          -0.18918100631679183,
          "",
          -0.4458035210139739,
          -0.6693781677011545,
          "",
          "",
          "",
          "",
          "",
          -0.1909370826358877,
          -0.7379692281914543,
          "",
          -0.8009644025709983,
          -0.522788716006433,
          -2.951095329454043,
          -0.21499709178665383,
          -2.3074616413711513,
          -3.5667373552140766,
          -0.7226476454577306,
          "",
          -0.7398671602074102,
          "",
          -1.2837327631895037,
          "",
          -3.7037273030987308,
          "",
          -0.4663034364545574,
          -1.1743425276453159,
          -1.24686679074744,
          -2.3372830510003597,
          -0.13764911639928748,
          -0.732447774908807,
          -0.813250623499101,
          -1.4231243507976923,
          "",
          "",
          -1.4803130868471908,
          -0.2515116008418842,
          -0.5846249762344096,
          -2.9765935705184017,
          "",
          "",
          "",
          "",
          -1.550459319993462,
          "",
          -2.988567608185118,
          -2.181423656620696,
          -0.11949606488690451,
          -1.3180091178728706,
          -1.5420051172036955,
          -0.17594451282909254,
          "",
          "",
          -0.4800474633669877,
          -3.649042856345714,
          -1.4190026601656966,
          "",
          ""
         ],
         "yaxis": "y2"
        }
       ],
       "layout": {
        "hovermode": "x",
        "legend": {
         "bgcolor": "#F5F6F9",
         "font": {
          "color": "#4D5663"
         }
        },
        "paper_bgcolor": "#F5F6F9",
        "plot_bgcolor": "#F5F6F9",
        "template": {
         "data": {
          "bar": [
           {
            "error_x": {
             "color": "#2a3f5f"
            },
            "error_y": {
             "color": "#2a3f5f"
            },
            "marker": {
             "line": {
              "color": "#E5ECF6",
              "width": 0.5
             },
             "pattern": {
              "fillmode": "overlay",
              "size": 10,
              "solidity": 0.2
             }
            },
            "type": "bar"
           }
          ],
          "barpolar": [
           {
            "marker": {
             "line": {
              "color": "#E5ECF6",
              "width": 0.5
             },
             "pattern": {
              "fillmode": "overlay",
              "size": 10,
              "solidity": 0.2
             }
            },
            "type": "barpolar"
           }
          ],
          "carpet": [
           {
            "aaxis": {
             "endlinecolor": "#2a3f5f",
             "gridcolor": "white",
             "linecolor": "white",
             "minorgridcolor": "white",
             "startlinecolor": "#2a3f5f"
            },
            "baxis": {
             "endlinecolor": "#2a3f5f",
             "gridcolor": "white",
             "linecolor": "white",
             "minorgridcolor": "white",
             "startlinecolor": "#2a3f5f"
            },
            "type": "carpet"
           }
          ],
          "choropleth": [
           {
            "colorbar": {
             "outlinewidth": 0,
             "ticks": ""
            },
            "type": "choropleth"
           }
          ],
          "contour": [
           {
            "colorbar": {
             "outlinewidth": 0,
             "ticks": ""
            },
            "colorscale": [
             [
              0,
              "#0d0887"
             ],
             [
              0.1111111111111111,
              "#46039f"
             ],
             [
              0.2222222222222222,
              "#7201a8"
             ],
             [
              0.3333333333333333,
              "#9c179e"
             ],
             [
              0.4444444444444444,
              "#bd3786"
             ],
             [
              0.5555555555555556,
              "#d8576b"
             ],
             [
              0.6666666666666666,
              "#ed7953"
             ],
             [
              0.7777777777777778,
              "#fb9f3a"
             ],
             [
              0.8888888888888888,
              "#fdca26"
             ],
             [
              1,
              "#f0f921"
             ]
            ],
            "type": "contour"
           }
          ],
          "contourcarpet": [
           {
            "colorbar": {
             "outlinewidth": 0,
             "ticks": ""
            },
            "type": "contourcarpet"
           }
          ],
          "heatmap": [
           {
            "colorbar": {
             "outlinewidth": 0,
             "ticks": ""
            },
            "colorscale": [
             [
              0,
              "#0d0887"
             ],
             [
              0.1111111111111111,
              "#46039f"
             ],
             [
              0.2222222222222222,
              "#7201a8"
             ],
             [
              0.3333333333333333,
              "#9c179e"
             ],
             [
              0.4444444444444444,
              "#bd3786"
             ],
             [
              0.5555555555555556,
              "#d8576b"
             ],
             [
              0.6666666666666666,
              "#ed7953"
             ],
             [
              0.7777777777777778,
              "#fb9f3a"
             ],
             [
              0.8888888888888888,
              "#fdca26"
             ],
             [
              1,
              "#f0f921"
             ]
            ],
            "type": "heatmap"
           }
          ],
          "heatmapgl": [
           {
            "colorbar": {
             "outlinewidth": 0,
             "ticks": ""
            },
            "colorscale": [
             [
              0,
              "#0d0887"
             ],
             [
              0.1111111111111111,
              "#46039f"
             ],
             [
              0.2222222222222222,
              "#7201a8"
             ],
             [
              0.3333333333333333,
              "#9c179e"
             ],
             [
              0.4444444444444444,
              "#bd3786"
             ],
             [
              0.5555555555555556,
              "#d8576b"
             ],
             [
              0.6666666666666666,
              "#ed7953"
             ],
             [
              0.7777777777777778,
              "#fb9f3a"
             ],
             [
              0.8888888888888888,
              "#fdca26"
             ],
             [
              1,
              "#f0f921"
             ]
            ],
            "type": "heatmapgl"
           }
          ],
          "histogram": [
           {
            "marker": {
             "pattern": {
              "fillmode": "overlay",
              "size": 10,
              "solidity": 0.2
             }
            },
            "type": "histogram"
           }
          ],
          "histogram2d": [
           {
            "colorbar": {
             "outlinewidth": 0,
             "ticks": ""
            },
            "colorscale": [
             [
              0,
              "#0d0887"
             ],
             [
              0.1111111111111111,
              "#46039f"
             ],
             [
              0.2222222222222222,
              "#7201a8"
             ],
             [
              0.3333333333333333,
              "#9c179e"
             ],
             [
              0.4444444444444444,
              "#bd3786"
             ],
             [
              0.5555555555555556,
              "#d8576b"
             ],
             [
              0.6666666666666666,
              "#ed7953"
             ],
             [
              0.7777777777777778,
              "#fb9f3a"
             ],
             [
              0.8888888888888888,
              "#fdca26"
             ],
             [
              1,
              "#f0f921"
             ]
            ],
            "type": "histogram2d"
           }
          ],
          "histogram2dcontour": [
           {
            "colorbar": {
             "outlinewidth": 0,
             "ticks": ""
            },
            "colorscale": [
             [
              0,
              "#0d0887"
             ],
             [
              0.1111111111111111,
              "#46039f"
             ],
             [
              0.2222222222222222,
              "#7201a8"
             ],
             [
              0.3333333333333333,
              "#9c179e"
             ],
             [
              0.4444444444444444,
              "#bd3786"
             ],
             [
              0.5555555555555556,
              "#d8576b"
             ],
             [
              0.6666666666666666,
              "#ed7953"
             ],
             [
              0.7777777777777778,
              "#fb9f3a"
             ],
             [
              0.8888888888888888,
              "#fdca26"
             ],
             [
              1,
              "#f0f921"
             ]
            ],
            "type": "histogram2dcontour"
           }
          ],
          "mesh3d": [
           {
            "colorbar": {
             "outlinewidth": 0,
             "ticks": ""
            },
            "type": "mesh3d"
           }
          ],
          "parcoords": [
           {
            "line": {
             "colorbar": {
              "outlinewidth": 0,
              "ticks": ""
             }
            },
            "type": "parcoords"
           }
          ],
          "pie": [
           {
            "automargin": true,
            "type": "pie"
           }
          ],
          "scatter": [
           {
            "marker": {
             "colorbar": {
              "outlinewidth": 0,
              "ticks": ""
             }
            },
            "type": "scatter"
           }
          ],
          "scatter3d": [
           {
            "line": {
             "colorbar": {
              "outlinewidth": 0,
              "ticks": ""
             }
            },
            "marker": {
             "colorbar": {
              "outlinewidth": 0,
              "ticks": ""
             }
            },
            "type": "scatter3d"
           }
          ],
          "scattercarpet": [
           {
            "marker": {
             "colorbar": {
              "outlinewidth": 0,
              "ticks": ""
             }
            },
            "type": "scattercarpet"
           }
          ],
          "scattergeo": [
           {
            "marker": {
             "colorbar": {
              "outlinewidth": 0,
              "ticks": ""
             }
            },
            "type": "scattergeo"
           }
          ],
          "scattergl": [
           {
            "marker": {
             "colorbar": {
              "outlinewidth": 0,
              "ticks": ""
             }
            },
            "type": "scattergl"
           }
          ],
          "scattermapbox": [
           {
            "marker": {
             "colorbar": {
              "outlinewidth": 0,
              "ticks": ""
             }
            },
            "type": "scattermapbox"
           }
          ],
          "scatterpolar": [
           {
            "marker": {
             "colorbar": {
              "outlinewidth": 0,
              "ticks": ""
             }
            },
            "type": "scatterpolar"
           }
          ],
          "scatterpolargl": [
           {
            "marker": {
             "colorbar": {
              "outlinewidth": 0,
              "ticks": ""
             }
            },
            "type": "scatterpolargl"
           }
          ],
          "scatterternary": [
           {
            "marker": {
             "colorbar": {
              "outlinewidth": 0,
              "ticks": ""
             }
            },
            "type": "scatterternary"
           }
          ],
          "surface": [
           {
            "colorbar": {
             "outlinewidth": 0,
             "ticks": ""
            },
            "colorscale": [
             [
              0,
              "#0d0887"
             ],
             [
              0.1111111111111111,
              "#46039f"
             ],
             [
              0.2222222222222222,
              "#7201a8"
             ],
             [
              0.3333333333333333,
              "#9c179e"
             ],
             [
              0.4444444444444444,
              "#bd3786"
             ],
             [
              0.5555555555555556,
              "#d8576b"
             ],
             [
              0.6666666666666666,
              "#ed7953"
             ],
             [
              0.7777777777777778,
              "#fb9f3a"
             ],
             [
              0.8888888888888888,
              "#fdca26"
             ],
             [
              1,
              "#f0f921"
             ]
            ],
            "type": "surface"
           }
          ],
          "table": [
           {
            "cells": {
             "fill": {
              "color": "#EBF0F8"
             },
             "line": {
              "color": "white"
             }
            },
            "header": {
             "fill": {
              "color": "#C8D4E3"
             },
             "line": {
              "color": "white"
             }
            },
            "type": "table"
           }
          ]
         },
         "layout": {
          "annotationdefaults": {
           "arrowcolor": "#2a3f5f",
           "arrowhead": 0,
           "arrowwidth": 1
          },
          "autotypenumbers": "strict",
          "coloraxis": {
           "colorbar": {
            "outlinewidth": 0,
            "ticks": ""
           }
          },
          "colorscale": {
           "diverging": [
            [
             0,
             "#8e0152"
            ],
            [
             0.1,
             "#c51b7d"
            ],
            [
             0.2,
             "#de77ae"
            ],
            [
             0.3,
             "#f1b6da"
            ],
            [
             0.4,
             "#fde0ef"
            ],
            [
             0.5,
             "#f7f7f7"
            ],
            [
             0.6,
             "#e6f5d0"
            ],
            [
             0.7,
             "#b8e186"
            ],
            [
             0.8,
             "#7fbc41"
            ],
            [
             0.9,
             "#4d9221"
            ],
            [
             1,
             "#276419"
            ]
           ],
           "sequential": [
            [
             0,
             "#0d0887"
            ],
            [
             0.1111111111111111,
             "#46039f"
            ],
            [
             0.2222222222222222,
             "#7201a8"
            ],
            [
             0.3333333333333333,
             "#9c179e"
            ],
            [
             0.4444444444444444,
             "#bd3786"
            ],
            [
             0.5555555555555556,
             "#d8576b"
            ],
            [
             0.6666666666666666,
             "#ed7953"
            ],
            [
             0.7777777777777778,
             "#fb9f3a"
            ],
            [
             0.8888888888888888,
             "#fdca26"
            ],
            [
             1,
             "#f0f921"
            ]
           ],
           "sequentialminus": [
            [
             0,
             "#0d0887"
            ],
            [
             0.1111111111111111,
             "#46039f"
            ],
            [
             0.2222222222222222,
             "#7201a8"
            ],
            [
             0.3333333333333333,
             "#9c179e"
            ],
            [
             0.4444444444444444,
             "#bd3786"
            ],
            [
             0.5555555555555556,
             "#d8576b"
            ],
            [
             0.6666666666666666,
             "#ed7953"
            ],
            [
             0.7777777777777778,
             "#fb9f3a"
            ],
            [
             0.8888888888888888,
             "#fdca26"
            ],
            [
             1,
             "#f0f921"
            ]
           ]
          },
          "colorway": [
           "#636efa",
           "#EF553B",
           "#00cc96",
           "#ab63fa",
           "#FFA15A",
           "#19d3f3",
           "#FF6692",
           "#B6E880",
           "#FF97FF",
           "#FECB52"
          ],
          "font": {
           "color": "#2a3f5f"
          },
          "geo": {
           "bgcolor": "white",
           "lakecolor": "white",
           "landcolor": "#E5ECF6",
           "showlakes": true,
           "showland": true,
           "subunitcolor": "white"
          },
          "hoverlabel": {
           "align": "left"
          },
          "hovermode": "closest",
          "mapbox": {
           "style": "light"
          },
          "paper_bgcolor": "white",
          "plot_bgcolor": "#E5ECF6",
          "polar": {
           "angularaxis": {
            "gridcolor": "white",
            "linecolor": "white",
            "ticks": ""
           },
           "bgcolor": "#E5ECF6",
           "radialaxis": {
            "gridcolor": "white",
            "linecolor": "white",
            "ticks": ""
           }
          },
          "scene": {
           "xaxis": {
            "backgroundcolor": "#E5ECF6",
            "gridcolor": "white",
            "gridwidth": 2,
            "linecolor": "white",
            "showbackground": true,
            "ticks": "",
            "zerolinecolor": "white"
           },
           "yaxis": {
            "backgroundcolor": "#E5ECF6",
            "gridcolor": "white",
            "gridwidth": 2,
            "linecolor": "white",
            "showbackground": true,
            "ticks": "",
            "zerolinecolor": "white"
           },
           "zaxis": {
            "backgroundcolor": "#E5ECF6",
            "gridcolor": "white",
            "gridwidth": 2,
            "linecolor": "white",
            "showbackground": true,
            "ticks": "",
            "zerolinecolor": "white"
           }
          },
          "shapedefaults": {
           "line": {
            "color": "#2a3f5f"
           }
          },
          "ternary": {
           "aaxis": {
            "gridcolor": "white",
            "linecolor": "white",
            "ticks": ""
           },
           "baxis": {
            "gridcolor": "white",
            "linecolor": "white",
            "ticks": ""
           },
           "bgcolor": "#E5ECF6",
           "caxis": {
            "gridcolor": "white",
            "linecolor": "white",
            "ticks": ""
           }
          },
          "title": {
           "x": 0.05
          },
          "xaxis": {
           "automargin": true,
           "gridcolor": "white",
           "linecolor": "white",
           "ticks": "",
           "title": {
            "standoff": 15
           },
           "zerolinecolor": "white",
           "zerolinewidth": 2
          },
          "yaxis": {
           "automargin": true,
           "gridcolor": "white",
           "linecolor": "white",
           "ticks": "",
           "title": {
            "standoff": 15
           },
           "zerolinecolor": "white",
           "zerolinewidth": 2
          }
         }
        },
        "title": {
         "font": {
          "color": "#4D5663"
         }
        },
        "xaxis": {
         "gridcolor": "#E1E5ED",
         "showgrid": true,
         "tickfont": {
          "color": "#4D5663"
         },
         "title": {
          "font": {
           "color": "#4D5663"
          },
          "text": ""
         },
         "zerolinecolor": "#E1E5ED"
        },
        "xaxis2": {
         "anchor": "y2",
         "gridcolor": "#E1E5ED",
         "showgrid": true,
         "showticklabels": false,
         "tickfont": {
          "color": "#4D5663"
         },
         "title": {
          "font": {
           "color": "#4D5663"
          },
          "text": ""
         },
         "zerolinecolor": "#E1E5ED"
        },
        "yaxis": {
         "domain": [
          0.3,
          1
         ],
         "gridcolor": "#E1E5ED",
         "showgrid": true,
         "tickfont": {
          "color": "#4D5663"
         },
         "title": {
          "font": {
           "color": "#4D5663"
          },
          "text": ""
         },
         "zerolinecolor": "#E1E5ED"
        },
        "yaxis2": {
         "domain": [
          0,
          0.25
         ],
         "gridcolor": "#E1E5ED",
         "showgrid": true,
         "tickfont": {
          "color": "#4D5663"
         },
         "title": {
          "font": {
           "color": "#4D5663"
          },
          "text": "Spread"
         },
         "zerolinecolor": "#E1E5ED"
        }
       }
      },
      "text/html": [
       "<div>                            <div id=\"37f15def-fca2-4591-a596-e74d98e93683\" class=\"plotly-graph-div\" style=\"height:525px; width:100%;\"></div>            <script type=\"text/javascript\">                require([\"plotly\"], function(Plotly) {                    window.PLOTLYENV=window.PLOTLYENV || {};\n",
       "                    window.PLOTLYENV.BASE_URL='https://plot.ly';                                    if (document.getElementById(\"37f15def-fca2-4591-a596-e74d98e93683\")) {                    Plotly.newPlot(                        \"37f15def-fca2-4591-a596-e74d98e93683\",                        [{\"line\":{\"color\":\"rgba(255, 153, 51, 1.0)\",\"dash\":\"solid\",\"shape\":\"linear\",\"width\":1.3},\"mode\":\"lines\",\"name\":\"A\",\"text\":\"\",\"x\":[0,1,2,3,4,5,6,7,8,9,10,11,12,13,14,15,16,17,18,19,20,21,22,23,24,25,26,27,28,29,30,31,32,33,34,35,36,37,38,39,40,41,42,43,44,45,46,47,48,49,50,51,52,53,54,55,56,57,58,59,60,61,62,63,64,65,66,67,68,69,70,71,72,73,74,75,76,77,78,79,80,81,82,83,84,85,86,87,88,89,90,91,92,93,94,95,96,97,98,99],\"y\":[-0.08696362399272553,0.11829315027705818,2.342856948597935,-1.503776880344004,0.045725881655566944,-0.12928100391232758,-1.036616358261247,0.10233820019024022,0.7544009950060778,1.119361123299176,-0.12168280829613869,-2.5141385692708162,0.8641734038037336,0.5615068860097867,-0.3618584895915859,-0.457493569108614,-0.7407705698927969,1.1100806879640044,-0.8436326812336624,-0.48194108799061275,-1.4283203300649514,-0.005528020954320215,0.6545934828776457,-0.3764165478866233,-0.7019587962207577,-2.1331489184945993,-1.5599707684625428,0.1755715299771797,0.13351195861619805,1.368573023242335,-0.3277442434772406,2.0071797704419105,1.0348622076293386,1.3772601634896795,-1.3690674657036475,-0.041160364008156404,0.3875459772294022,0.9653394848516135,-0.625061639729154,0.3400475723960751,0.8627064249099288,0.13396042173723252,0.4156667557269354,0.026797539151673128,0.405065409950036,0.7292637466264922,0.21898544855905366,0.2079755266846345,1.7031803281598694,1.0332873337748185,-0.08186366407943726,0.31908800200591075,-0.0831876976123175,-0.6307622500712357,0.11880043187804375,-0.8245533725750579,-0.6781822263791778,-0.17005988571480388,-1.6516093618334853,-0.8238222820076299,0.25641890902102926,-0.3322067616366865,1.4101018248811763,-1.1291979327906585,1.6890614664254615,-2.329076558908018,1.0769218217409133,0.1745963287674994,-0.8317798804560796,-1.1970027388103093,-3.0019528425038247,-0.23762122812809972,-0.4972338749701281,-0.26093263665920746,-1.5160013445449143,-0.9359898977334827,0.28176566515491647,0.25728493779995126,-0.1659249477937885,-0.13895687610656993,-1.997548442478862,1.132732545040066,1.2739327462477517,0.16888236139169427,1.5187040036619632,-0.774538350480497,-0.23137553047304132,-2.5810982422012527,-1.9447360011477897,-0.14078455082043415,0.5776488661887422,-0.882519133144336,0.22691072302708074,-0.7011641433638972,-0.9519428369511796,-0.7660743937480502,-2.211696125505859,-0.7298692001517896,-0.34256034176711875,1.0823363602187954],\"type\":\"scatter\"},{\"line\":{\"color\":\"rgba(55, 128, 191, 1.0)\",\"dash\":\"solid\",\"shape\":\"linear\",\"width\":1.3},\"mode\":\"lines\",\"name\":\"B\",\"text\":\"\",\"x\":[0,1,2,3,4,5,6,7,8,9,10,11,12,13,14,15,16,17,18,19,20,21,22,23,24,25,26,27,28,29,30,31,32,33,34,35,36,37,38,39,40,41,42,43,44,45,46,47,48,49,50,51,52,53,54,55,56,57,58,59,60,61,62,63,64,65,66,67,68,69,70,71,72,73,74,75,76,77,78,79,80,81,82,83,84,85,86,87,88,89,90,91,92,93,94,95,96,97,98,99],\"y\":[-0.07201300572682906,-1.7813371536318778,-0.8200929720183177,1.6850747024543902,0.14373920902261458,0.9014962704276461,-1.0481652514408317,0.9677142806092884,0.2784556999294692,-0.808096455996858,0.5972504318570593,1.5193397017630752,0.1120776473758537,0.031459404038649844,-0.6419956711923979,1.3661547594810273,-0.19155366489041692,-1.1012658471042815,0.6282171051348472,-0.8716239697489461,-0.5626019647408662,0.6519591742110662,0.052616620786117244,-0.169397506886645,-0.5635490785509196,-0.22762662898988673,-1.2333147800078432,-0.7330246424512903,0.62354927944434,-0.5199034839952482,0.5678912530643067,0.2055567196710461,0.8482662446920417,0.8649241351693712,0.6677232214596046,1.4194969576533518,0.05987451399890696,0.5364829593269563,2.139167152838529,0.840048180328241,1.6044742679372017,0.32314142805402435,-0.1615677497467817,0.47260106016564707,1.0744435776511905,0.04847396319960681,-0.1508712997263981,-0.5759453801733477,-0.293997152323099,-0.44495079449735675,0.10907341855645045,1.057057230197365,-0.6190450725199533,0.17020215249976262,0.6415891478844767,2.1265419568789854,-0.463185134592524,2.1374017556563474,1.9151279933805916,-0.10117463654989918,-0.9176696227617764,0.40766039857072367,1.2898062553730296,0.1545348303988453,0.24644376482344738,1.374650744190713,0.10564871875845407,0.6408997652220568,0.3425626471892363,0.04986405193713072,-0.6646697915034648,-0.09997211172881224,0.23521389993867892,0.5523179868398935,-0.09287699374722193,-0.9999106553888348,-1.1150659445689572,1.737598024647142,0.08558665304809565,0.44566810012783964,0.9790451280395394,-0.6081735571910922,0.2345712090980208,-1.2467094141877713,-0.5195244934509475,0.7759209695129649,-0.955124047948974,0.40746936598386513,0.23668765547290643,-0.02128848593352963,1.8956579840616128,0.6594859840593594,0.4028552358561733,-1.0275742681985736,-1.0331453939669182,-0.28602693038106247,1.437346730839855,0.689133460013907,-1.0303054514876115,0.2488420672892611],\"type\":\"scatter\"},{\"connectgaps\":false,\"fill\":\"tozeroy\",\"line\":{\"color\":\"green\",\"dash\":\"solid\",\"shape\":\"linear\",\"width\":0.5},\"mode\":\"lines\",\"name\":\"Spread\",\"showlegend\":false,\"x\":[0,1,2,3,4,5,6,7,8,9,10,11,12,13,14,15,16,17,18,19,20,21,22,23,24,25,26,27,28,29,30,31,32,33,34,35,36,37,38,39,40,41,42,43,44,45,46,47,48,49,50,51,52,53,54,55,56,57,58,59,60,61,62,63,64,65,66,67,68,69,70,71,72,73,74,75,76,77,78,79,80,81,82,83,84,85,86,87,88,89,90,91,92,93,94,95,96,97,98,99],\"xaxis\":\"x2\",\"y\":[\"\",1.899630303908936,3.162949920616253,\"\",\"\",\"\",0.01154889317958463,\"\",0.4759452950766086,1.927457579296034,\"\",\"\",0.75209575642788,0.5300474819711368,0.28013718160081197,\"\",\"\",2.211346535068286,\"\",0.3896828817583333,\"\",\"\",0.6019768620915285,\"\",\"\",\"\",\"\",0.90859617242847,\"\",1.8884765072375833,\"\",1.8016230507708644,0.18659596293729686,0.5123360283203083,\"\",\"\",0.32767146323049523,0.42885652552465714,\"\",\"\",\"\",\"\",0.5772345054737171,\"\",\"\",0.6807897834268853,0.3698567482854518,0.7839209068579822,1.9971774804829683,1.4782381282721753,\"\",\"\",0.5358573749076359,\"\",\"\",\"\",\"\",\"\",\"\",\"\",1.1740885317828056,\"\",0.12029556950814668,\"\",1.442617701602014,\"\",0.9712731029824593,\"\",\"\",\"\",\"\",\"\",\"\",\"\",\"\",0.0639207576553521,1.3968316097238738,\"\",\"\",\"\",\"\",1.7409061022311583,1.039361537149731,1.4155917755794656,2.038228497112911,\"\",0.7237485174759326,\"\",\"\",\"\",\"\",\"\",\"\",0.32641012483467635,0.08120255701573853,\"\",\"\",\"\",0.6877451097204927,0.8334942929295344],\"yaxis\":\"y2\",\"type\":\"scatter\"},{\"connectgaps\":false,\"fill\":\"tozeroy\",\"line\":{\"color\":\"red\",\"dash\":\"solid\",\"shape\":\"linear\",\"width\":0.5},\"mode\":\"lines\",\"name\":\"Spread\",\"showlegend\":false,\"x\":[0,1,2,3,4,5,6,7,8,9,10,11,12,13,14,15,16,17,18,19,20,21,22,23,24,25,26,27,28,29,30,31,32,33,34,35,36,37,38,39,40,41,42,43,44,45,46,47,48,49,50,51,52,53,54,55,56,57,58,59,60,61,62,63,64,65,66,67,68,69,70,71,72,73,74,75,76,77,78,79,80,81,82,83,84,85,86,87,88,89,90,91,92,93,94,95,96,97,98,99],\"xaxis\":\"x2\",\"y\":[-0.01495061826589647,\"\",\"\",-3.188851582798394,-0.09801332736704764,-1.0307772743399737,\"\",-0.8653760804190482,\"\",\"\",-0.7189332401531979,-4.033478271033891,\"\",\"\",\"\",-1.8236483285896412,-0.54921690500238,\"\",-1.4718497863685096,\"\",-0.8657183653240852,-0.6574871951653865,\"\",-0.2070190409999783,-0.13840971766983812,-1.9055222895047126,-0.32665598845469956,\"\",-0.490037320828142,\"\",-0.8956354965415473,\"\",\"\",\"\",-2.036790687163252,-1.4606573216615082,\"\",\"\",-2.7642287925676827,-0.5000006079321659,-0.7417678430272729,-0.18918100631679183,\"\",-0.4458035210139739,-0.6693781677011545,\"\",\"\",\"\",\"\",\"\",-0.1909370826358877,-0.7379692281914543,\"\",-0.8009644025709983,-0.522788716006433,-2.951095329454043,-0.21499709178665383,-2.3074616413711513,-3.5667373552140766,-0.7226476454577306,\"\",-0.7398671602074102,\"\",-1.2837327631895037,\"\",-3.7037273030987308,\"\",-0.4663034364545574,-1.1743425276453159,-1.24686679074744,-2.3372830510003597,-0.13764911639928748,-0.732447774908807,-0.813250623499101,-1.4231243507976923,\"\",\"\",-1.4803130868471908,-0.2515116008418842,-0.5846249762344096,-2.9765935705184017,\"\",\"\",\"\",\"\",-1.550459319993462,\"\",-2.988567608185118,-2.181423656620696,-0.11949606488690451,-1.3180091178728706,-1.5420051172036955,-0.17594451282909254,\"\",\"\",-0.4800474633669877,-3.649042856345714,-1.4190026601656966,\"\",\"\"],\"yaxis\":\"y2\",\"type\":\"scatter\"}],                        {\"hovermode\":\"x\",\"legend\":{\"bgcolor\":\"#F5F6F9\",\"font\":{\"color\":\"#4D5663\"}},\"paper_bgcolor\":\"#F5F6F9\",\"plot_bgcolor\":\"#F5F6F9\",\"template\":{\"data\":{\"barpolar\":[{\"marker\":{\"line\":{\"color\":\"#E5ECF6\",\"width\":0.5},\"pattern\":{\"fillmode\":\"overlay\",\"size\":10,\"solidity\":0.2}},\"type\":\"barpolar\"}],\"bar\":[{\"error_x\":{\"color\":\"#2a3f5f\"},\"error_y\":{\"color\":\"#2a3f5f\"},\"marker\":{\"line\":{\"color\":\"#E5ECF6\",\"width\":0.5},\"pattern\":{\"fillmode\":\"overlay\",\"size\":10,\"solidity\":0.2}},\"type\":\"bar\"}],\"carpet\":[{\"aaxis\":{\"endlinecolor\":\"#2a3f5f\",\"gridcolor\":\"white\",\"linecolor\":\"white\",\"minorgridcolor\":\"white\",\"startlinecolor\":\"#2a3f5f\"},\"baxis\":{\"endlinecolor\":\"#2a3f5f\",\"gridcolor\":\"white\",\"linecolor\":\"white\",\"minorgridcolor\":\"white\",\"startlinecolor\":\"#2a3f5f\"},\"type\":\"carpet\"}],\"choropleth\":[{\"colorbar\":{\"outlinewidth\":0,\"ticks\":\"\"},\"type\":\"choropleth\"}],\"contourcarpet\":[{\"colorbar\":{\"outlinewidth\":0,\"ticks\":\"\"},\"type\":\"contourcarpet\"}],\"contour\":[{\"colorbar\":{\"outlinewidth\":0,\"ticks\":\"\"},\"colorscale\":[[0.0,\"#0d0887\"],[0.1111111111111111,\"#46039f\"],[0.2222222222222222,\"#7201a8\"],[0.3333333333333333,\"#9c179e\"],[0.4444444444444444,\"#bd3786\"],[0.5555555555555556,\"#d8576b\"],[0.6666666666666666,\"#ed7953\"],[0.7777777777777778,\"#fb9f3a\"],[0.8888888888888888,\"#fdca26\"],[1.0,\"#f0f921\"]],\"type\":\"contour\"}],\"heatmapgl\":[{\"colorbar\":{\"outlinewidth\":0,\"ticks\":\"\"},\"colorscale\":[[0.0,\"#0d0887\"],[0.1111111111111111,\"#46039f\"],[0.2222222222222222,\"#7201a8\"],[0.3333333333333333,\"#9c179e\"],[0.4444444444444444,\"#bd3786\"],[0.5555555555555556,\"#d8576b\"],[0.6666666666666666,\"#ed7953\"],[0.7777777777777778,\"#fb9f3a\"],[0.8888888888888888,\"#fdca26\"],[1.0,\"#f0f921\"]],\"type\":\"heatmapgl\"}],\"heatmap\":[{\"colorbar\":{\"outlinewidth\":0,\"ticks\":\"\"},\"colorscale\":[[0.0,\"#0d0887\"],[0.1111111111111111,\"#46039f\"],[0.2222222222222222,\"#7201a8\"],[0.3333333333333333,\"#9c179e\"],[0.4444444444444444,\"#bd3786\"],[0.5555555555555556,\"#d8576b\"],[0.6666666666666666,\"#ed7953\"],[0.7777777777777778,\"#fb9f3a\"],[0.8888888888888888,\"#fdca26\"],[1.0,\"#f0f921\"]],\"type\":\"heatmap\"}],\"histogram2dcontour\":[{\"colorbar\":{\"outlinewidth\":0,\"ticks\":\"\"},\"colorscale\":[[0.0,\"#0d0887\"],[0.1111111111111111,\"#46039f\"],[0.2222222222222222,\"#7201a8\"],[0.3333333333333333,\"#9c179e\"],[0.4444444444444444,\"#bd3786\"],[0.5555555555555556,\"#d8576b\"],[0.6666666666666666,\"#ed7953\"],[0.7777777777777778,\"#fb9f3a\"],[0.8888888888888888,\"#fdca26\"],[1.0,\"#f0f921\"]],\"type\":\"histogram2dcontour\"}],\"histogram2d\":[{\"colorbar\":{\"outlinewidth\":0,\"ticks\":\"\"},\"colorscale\":[[0.0,\"#0d0887\"],[0.1111111111111111,\"#46039f\"],[0.2222222222222222,\"#7201a8\"],[0.3333333333333333,\"#9c179e\"],[0.4444444444444444,\"#bd3786\"],[0.5555555555555556,\"#d8576b\"],[0.6666666666666666,\"#ed7953\"],[0.7777777777777778,\"#fb9f3a\"],[0.8888888888888888,\"#fdca26\"],[1.0,\"#f0f921\"]],\"type\":\"histogram2d\"}],\"histogram\":[{\"marker\":{\"pattern\":{\"fillmode\":\"overlay\",\"size\":10,\"solidity\":0.2}},\"type\":\"histogram\"}],\"mesh3d\":[{\"colorbar\":{\"outlinewidth\":0,\"ticks\":\"\"},\"type\":\"mesh3d\"}],\"parcoords\":[{\"line\":{\"colorbar\":{\"outlinewidth\":0,\"ticks\":\"\"}},\"type\":\"parcoords\"}],\"pie\":[{\"automargin\":true,\"type\":\"pie\"}],\"scatter3d\":[{\"line\":{\"colorbar\":{\"outlinewidth\":0,\"ticks\":\"\"}},\"marker\":{\"colorbar\":{\"outlinewidth\":0,\"ticks\":\"\"}},\"type\":\"scatter3d\"}],\"scattercarpet\":[{\"marker\":{\"colorbar\":{\"outlinewidth\":0,\"ticks\":\"\"}},\"type\":\"scattercarpet\"}],\"scattergeo\":[{\"marker\":{\"colorbar\":{\"outlinewidth\":0,\"ticks\":\"\"}},\"type\":\"scattergeo\"}],\"scattergl\":[{\"marker\":{\"colorbar\":{\"outlinewidth\":0,\"ticks\":\"\"}},\"type\":\"scattergl\"}],\"scattermapbox\":[{\"marker\":{\"colorbar\":{\"outlinewidth\":0,\"ticks\":\"\"}},\"type\":\"scattermapbox\"}],\"scatterpolargl\":[{\"marker\":{\"colorbar\":{\"outlinewidth\":0,\"ticks\":\"\"}},\"type\":\"scatterpolargl\"}],\"scatterpolar\":[{\"marker\":{\"colorbar\":{\"outlinewidth\":0,\"ticks\":\"\"}},\"type\":\"scatterpolar\"}],\"scatter\":[{\"marker\":{\"colorbar\":{\"outlinewidth\":0,\"ticks\":\"\"}},\"type\":\"scatter\"}],\"scatterternary\":[{\"marker\":{\"colorbar\":{\"outlinewidth\":0,\"ticks\":\"\"}},\"type\":\"scatterternary\"}],\"surface\":[{\"colorbar\":{\"outlinewidth\":0,\"ticks\":\"\"},\"colorscale\":[[0.0,\"#0d0887\"],[0.1111111111111111,\"#46039f\"],[0.2222222222222222,\"#7201a8\"],[0.3333333333333333,\"#9c179e\"],[0.4444444444444444,\"#bd3786\"],[0.5555555555555556,\"#d8576b\"],[0.6666666666666666,\"#ed7953\"],[0.7777777777777778,\"#fb9f3a\"],[0.8888888888888888,\"#fdca26\"],[1.0,\"#f0f921\"]],\"type\":\"surface\"}],\"table\":[{\"cells\":{\"fill\":{\"color\":\"#EBF0F8\"},\"line\":{\"color\":\"white\"}},\"header\":{\"fill\":{\"color\":\"#C8D4E3\"},\"line\":{\"color\":\"white\"}},\"type\":\"table\"}]},\"layout\":{\"annotationdefaults\":{\"arrowcolor\":\"#2a3f5f\",\"arrowhead\":0,\"arrowwidth\":1},\"autotypenumbers\":\"strict\",\"coloraxis\":{\"colorbar\":{\"outlinewidth\":0,\"ticks\":\"\"}},\"colorscale\":{\"diverging\":[[0,\"#8e0152\"],[0.1,\"#c51b7d\"],[0.2,\"#de77ae\"],[0.3,\"#f1b6da\"],[0.4,\"#fde0ef\"],[0.5,\"#f7f7f7\"],[0.6,\"#e6f5d0\"],[0.7,\"#b8e186\"],[0.8,\"#7fbc41\"],[0.9,\"#4d9221\"],[1,\"#276419\"]],\"sequential\":[[0.0,\"#0d0887\"],[0.1111111111111111,\"#46039f\"],[0.2222222222222222,\"#7201a8\"],[0.3333333333333333,\"#9c179e\"],[0.4444444444444444,\"#bd3786\"],[0.5555555555555556,\"#d8576b\"],[0.6666666666666666,\"#ed7953\"],[0.7777777777777778,\"#fb9f3a\"],[0.8888888888888888,\"#fdca26\"],[1.0,\"#f0f921\"]],\"sequentialminus\":[[0.0,\"#0d0887\"],[0.1111111111111111,\"#46039f\"],[0.2222222222222222,\"#7201a8\"],[0.3333333333333333,\"#9c179e\"],[0.4444444444444444,\"#bd3786\"],[0.5555555555555556,\"#d8576b\"],[0.6666666666666666,\"#ed7953\"],[0.7777777777777778,\"#fb9f3a\"],[0.8888888888888888,\"#fdca26\"],[1.0,\"#f0f921\"]]},\"colorway\":[\"#636efa\",\"#EF553B\",\"#00cc96\",\"#ab63fa\",\"#FFA15A\",\"#19d3f3\",\"#FF6692\",\"#B6E880\",\"#FF97FF\",\"#FECB52\"],\"font\":{\"color\":\"#2a3f5f\"},\"geo\":{\"bgcolor\":\"white\",\"lakecolor\":\"white\",\"landcolor\":\"#E5ECF6\",\"showlakes\":true,\"showland\":true,\"subunitcolor\":\"white\"},\"hoverlabel\":{\"align\":\"left\"},\"hovermode\":\"closest\",\"mapbox\":{\"style\":\"light\"},\"paper_bgcolor\":\"white\",\"plot_bgcolor\":\"#E5ECF6\",\"polar\":{\"angularaxis\":{\"gridcolor\":\"white\",\"linecolor\":\"white\",\"ticks\":\"\"},\"bgcolor\":\"#E5ECF6\",\"radialaxis\":{\"gridcolor\":\"white\",\"linecolor\":\"white\",\"ticks\":\"\"}},\"scene\":{\"xaxis\":{\"backgroundcolor\":\"#E5ECF6\",\"gridcolor\":\"white\",\"gridwidth\":2,\"linecolor\":\"white\",\"showbackground\":true,\"ticks\":\"\",\"zerolinecolor\":\"white\"},\"yaxis\":{\"backgroundcolor\":\"#E5ECF6\",\"gridcolor\":\"white\",\"gridwidth\":2,\"linecolor\":\"white\",\"showbackground\":true,\"ticks\":\"\",\"zerolinecolor\":\"white\"},\"zaxis\":{\"backgroundcolor\":\"#E5ECF6\",\"gridcolor\":\"white\",\"gridwidth\":2,\"linecolor\":\"white\",\"showbackground\":true,\"ticks\":\"\",\"zerolinecolor\":\"white\"}},\"shapedefaults\":{\"line\":{\"color\":\"#2a3f5f\"}},\"ternary\":{\"aaxis\":{\"gridcolor\":\"white\",\"linecolor\":\"white\",\"ticks\":\"\"},\"baxis\":{\"gridcolor\":\"white\",\"linecolor\":\"white\",\"ticks\":\"\"},\"bgcolor\":\"#E5ECF6\",\"caxis\":{\"gridcolor\":\"white\",\"linecolor\":\"white\",\"ticks\":\"\"}},\"title\":{\"x\":0.05},\"xaxis\":{\"automargin\":true,\"gridcolor\":\"white\",\"linecolor\":\"white\",\"ticks\":\"\",\"title\":{\"standoff\":15},\"zerolinecolor\":\"white\",\"zerolinewidth\":2},\"yaxis\":{\"automargin\":true,\"gridcolor\":\"white\",\"linecolor\":\"white\",\"ticks\":\"\",\"title\":{\"standoff\":15},\"zerolinecolor\":\"white\",\"zerolinewidth\":2}}},\"title\":{\"font\":{\"color\":\"#4D5663\"}},\"xaxis\":{\"gridcolor\":\"#E1E5ED\",\"showgrid\":true,\"tickfont\":{\"color\":\"#4D5663\"},\"title\":{\"font\":{\"color\":\"#4D5663\"},\"text\":\"\"},\"zerolinecolor\":\"#E1E5ED\"},\"yaxis\":{\"domain\":[0.3,1],\"gridcolor\":\"#E1E5ED\",\"showgrid\":true,\"tickfont\":{\"color\":\"#4D5663\"},\"title\":{\"font\":{\"color\":\"#4D5663\"},\"text\":\"\"},\"zerolinecolor\":\"#E1E5ED\"},\"yaxis2\":{\"domain\":[0,0.25],\"gridcolor\":\"#E1E5ED\",\"showgrid\":true,\"tickfont\":{\"color\":\"#4D5663\"},\"title\":{\"font\":{\"color\":\"#4D5663\"},\"text\":\"Spread\"},\"zerolinecolor\":\"#E1E5ED\"},\"xaxis2\":{\"anchor\":\"y2\",\"gridcolor\":\"#E1E5ED\",\"showgrid\":true,\"showticklabels\":false,\"tickfont\":{\"color\":\"#4D5663\"},\"title\":{\"font\":{\"color\":\"#4D5663\"},\"text\":\"\"},\"zerolinecolor\":\"#E1E5ED\"}},                        {\"showLink\": true, \"linkText\": \"Export to plot.ly\", \"plotlyServerURL\": \"https://plot.ly\", \"responsive\": true}                    ).then(function(){\n",
       "                            \n",
       "var gd = document.getElementById('37f15def-fca2-4591-a596-e74d98e93683');\n",
       "var x = new MutationObserver(function (mutations, observer) {{\n",
       "        var display = window.getComputedStyle(gd).display;\n",
       "        if (!display || display === 'none') {{\n",
       "            console.log([gd, 'removed!']);\n",
       "            Plotly.purge(gd);\n",
       "            observer.disconnect();\n",
       "        }}\n",
       "}});\n",
       "\n",
       "// Listen for the removal of the full notebook cells\n",
       "var notebookContainer = gd.closest('#notebook-container');\n",
       "if (notebookContainer) {{\n",
       "    x.observe(notebookContainer, {childList: true});\n",
       "}}\n",
       "\n",
       "// Listen for the clearing of the current output cell\n",
       "var outputEl = gd.closest('.output');\n",
       "if (outputEl) {{\n",
       "    x.observe(outputEl, {childList: true});\n",
       "}}\n",
       "\n",
       "                        })                };                });            </script>        </div>"
      ]
     },
     "metadata": {},
     "output_type": "display_data"
    }
   ],
   "source": [
    "df[['A','B']].iplot(kind='spread')"
   ]
  },
  {
   "cell_type": "markdown",
   "metadata": {},
   "source": [
    "## histogram"
   ]
  },
  {
   "cell_type": "code",
   "execution_count": 16,
   "metadata": {},
   "outputs": [
    {
     "data": {
      "application/vnd.plotly.v1+json": {
       "config": {
        "linkText": "Export to plot.ly",
        "plotlyServerURL": "https://plot.ly",
        "showLink": true
       },
       "data": [
        {
         "histfunc": "count",
         "histnorm": "",
         "marker": {
          "color": "rgba(255, 153, 51, 1.0)",
          "line": {
           "color": "#4D5663",
           "width": 1.3
          }
         },
         "name": "A",
         "nbinsx": 25,
         "opacity": 0.8,
         "orientation": "v",
         "type": "histogram",
         "x": [
          -0.08696362399272553,
          0.11829315027705818,
          2.342856948597935,
          -1.503776880344004,
          0.045725881655566944,
          -0.12928100391232758,
          -1.036616358261247,
          0.10233820019024022,
          0.7544009950060778,
          1.119361123299176,
          -0.12168280829613869,
          -2.5141385692708162,
          0.8641734038037336,
          0.5615068860097867,
          -0.3618584895915859,
          -0.457493569108614,
          -0.7407705698927969,
          1.1100806879640044,
          -0.8436326812336624,
          -0.48194108799061275,
          -1.4283203300649514,
          -0.005528020954320215,
          0.6545934828776457,
          -0.3764165478866233,
          -0.7019587962207577,
          -2.1331489184945993,
          -1.5599707684625428,
          0.1755715299771797,
          0.13351195861619805,
          1.368573023242335,
          -0.3277442434772406,
          2.0071797704419105,
          1.0348622076293386,
          1.3772601634896795,
          -1.3690674657036475,
          -0.041160364008156404,
          0.3875459772294022,
          0.9653394848516135,
          -0.625061639729154,
          0.3400475723960751,
          0.8627064249099288,
          0.13396042173723252,
          0.4156667557269354,
          0.026797539151673128,
          0.405065409950036,
          0.7292637466264922,
          0.21898544855905366,
          0.2079755266846345,
          1.7031803281598694,
          1.0332873337748185,
          -0.08186366407943726,
          0.31908800200591075,
          -0.0831876976123175,
          -0.6307622500712357,
          0.11880043187804375,
          -0.8245533725750579,
          -0.6781822263791778,
          -0.17005988571480388,
          -1.6516093618334853,
          -0.8238222820076299,
          0.25641890902102926,
          -0.3322067616366865,
          1.4101018248811763,
          -1.1291979327906585,
          1.6890614664254615,
          -2.329076558908018,
          1.0769218217409133,
          0.1745963287674994,
          -0.8317798804560796,
          -1.1970027388103093,
          -3.0019528425038247,
          -0.23762122812809972,
          -0.4972338749701281,
          -0.26093263665920746,
          -1.5160013445449143,
          -0.9359898977334827,
          0.28176566515491647,
          0.25728493779995126,
          -0.1659249477937885,
          -0.13895687610656993,
          -1.997548442478862,
          1.132732545040066,
          1.2739327462477517,
          0.16888236139169427,
          1.5187040036619632,
          -0.774538350480497,
          -0.23137553047304132,
          -2.5810982422012527,
          -1.9447360011477897,
          -0.14078455082043415,
          0.5776488661887422,
          -0.882519133144336,
          0.22691072302708074,
          -0.7011641433638972,
          -0.9519428369511796,
          -0.7660743937480502,
          -2.211696125505859,
          -0.7298692001517896,
          -0.34256034176711875,
          1.0823363602187954
         ]
        }
       ],
       "layout": {
        "barmode": "overlay",
        "legend": {
         "bgcolor": "#F5F6F9",
         "font": {
          "color": "#4D5663"
         }
        },
        "paper_bgcolor": "#F5F6F9",
        "plot_bgcolor": "#F5F6F9",
        "template": {
         "data": {
          "bar": [
           {
            "error_x": {
             "color": "#2a3f5f"
            },
            "error_y": {
             "color": "#2a3f5f"
            },
            "marker": {
             "line": {
              "color": "#E5ECF6",
              "width": 0.5
             },
             "pattern": {
              "fillmode": "overlay",
              "size": 10,
              "solidity": 0.2
             }
            },
            "type": "bar"
           }
          ],
          "barpolar": [
           {
            "marker": {
             "line": {
              "color": "#E5ECF6",
              "width": 0.5
             },
             "pattern": {
              "fillmode": "overlay",
              "size": 10,
              "solidity": 0.2
             }
            },
            "type": "barpolar"
           }
          ],
          "carpet": [
           {
            "aaxis": {
             "endlinecolor": "#2a3f5f",
             "gridcolor": "white",
             "linecolor": "white",
             "minorgridcolor": "white",
             "startlinecolor": "#2a3f5f"
            },
            "baxis": {
             "endlinecolor": "#2a3f5f",
             "gridcolor": "white",
             "linecolor": "white",
             "minorgridcolor": "white",
             "startlinecolor": "#2a3f5f"
            },
            "type": "carpet"
           }
          ],
          "choropleth": [
           {
            "colorbar": {
             "outlinewidth": 0,
             "ticks": ""
            },
            "type": "choropleth"
           }
          ],
          "contour": [
           {
            "colorbar": {
             "outlinewidth": 0,
             "ticks": ""
            },
            "colorscale": [
             [
              0,
              "#0d0887"
             ],
             [
              0.1111111111111111,
              "#46039f"
             ],
             [
              0.2222222222222222,
              "#7201a8"
             ],
             [
              0.3333333333333333,
              "#9c179e"
             ],
             [
              0.4444444444444444,
              "#bd3786"
             ],
             [
              0.5555555555555556,
              "#d8576b"
             ],
             [
              0.6666666666666666,
              "#ed7953"
             ],
             [
              0.7777777777777778,
              "#fb9f3a"
             ],
             [
              0.8888888888888888,
              "#fdca26"
             ],
             [
              1,
              "#f0f921"
             ]
            ],
            "type": "contour"
           }
          ],
          "contourcarpet": [
           {
            "colorbar": {
             "outlinewidth": 0,
             "ticks": ""
            },
            "type": "contourcarpet"
           }
          ],
          "heatmap": [
           {
            "colorbar": {
             "outlinewidth": 0,
             "ticks": ""
            },
            "colorscale": [
             [
              0,
              "#0d0887"
             ],
             [
              0.1111111111111111,
              "#46039f"
             ],
             [
              0.2222222222222222,
              "#7201a8"
             ],
             [
              0.3333333333333333,
              "#9c179e"
             ],
             [
              0.4444444444444444,
              "#bd3786"
             ],
             [
              0.5555555555555556,
              "#d8576b"
             ],
             [
              0.6666666666666666,
              "#ed7953"
             ],
             [
              0.7777777777777778,
              "#fb9f3a"
             ],
             [
              0.8888888888888888,
              "#fdca26"
             ],
             [
              1,
              "#f0f921"
             ]
            ],
            "type": "heatmap"
           }
          ],
          "heatmapgl": [
           {
            "colorbar": {
             "outlinewidth": 0,
             "ticks": ""
            },
            "colorscale": [
             [
              0,
              "#0d0887"
             ],
             [
              0.1111111111111111,
              "#46039f"
             ],
             [
              0.2222222222222222,
              "#7201a8"
             ],
             [
              0.3333333333333333,
              "#9c179e"
             ],
             [
              0.4444444444444444,
              "#bd3786"
             ],
             [
              0.5555555555555556,
              "#d8576b"
             ],
             [
              0.6666666666666666,
              "#ed7953"
             ],
             [
              0.7777777777777778,
              "#fb9f3a"
             ],
             [
              0.8888888888888888,
              "#fdca26"
             ],
             [
              1,
              "#f0f921"
             ]
            ],
            "type": "heatmapgl"
           }
          ],
          "histogram": [
           {
            "marker": {
             "pattern": {
              "fillmode": "overlay",
              "size": 10,
              "solidity": 0.2
             }
            },
            "type": "histogram"
           }
          ],
          "histogram2d": [
           {
            "colorbar": {
             "outlinewidth": 0,
             "ticks": ""
            },
            "colorscale": [
             [
              0,
              "#0d0887"
             ],
             [
              0.1111111111111111,
              "#46039f"
             ],
             [
              0.2222222222222222,
              "#7201a8"
             ],
             [
              0.3333333333333333,
              "#9c179e"
             ],
             [
              0.4444444444444444,
              "#bd3786"
             ],
             [
              0.5555555555555556,
              "#d8576b"
             ],
             [
              0.6666666666666666,
              "#ed7953"
             ],
             [
              0.7777777777777778,
              "#fb9f3a"
             ],
             [
              0.8888888888888888,
              "#fdca26"
             ],
             [
              1,
              "#f0f921"
             ]
            ],
            "type": "histogram2d"
           }
          ],
          "histogram2dcontour": [
           {
            "colorbar": {
             "outlinewidth": 0,
             "ticks": ""
            },
            "colorscale": [
             [
              0,
              "#0d0887"
             ],
             [
              0.1111111111111111,
              "#46039f"
             ],
             [
              0.2222222222222222,
              "#7201a8"
             ],
             [
              0.3333333333333333,
              "#9c179e"
             ],
             [
              0.4444444444444444,
              "#bd3786"
             ],
             [
              0.5555555555555556,
              "#d8576b"
             ],
             [
              0.6666666666666666,
              "#ed7953"
             ],
             [
              0.7777777777777778,
              "#fb9f3a"
             ],
             [
              0.8888888888888888,
              "#fdca26"
             ],
             [
              1,
              "#f0f921"
             ]
            ],
            "type": "histogram2dcontour"
           }
          ],
          "mesh3d": [
           {
            "colorbar": {
             "outlinewidth": 0,
             "ticks": ""
            },
            "type": "mesh3d"
           }
          ],
          "parcoords": [
           {
            "line": {
             "colorbar": {
              "outlinewidth": 0,
              "ticks": ""
             }
            },
            "type": "parcoords"
           }
          ],
          "pie": [
           {
            "automargin": true,
            "type": "pie"
           }
          ],
          "scatter": [
           {
            "marker": {
             "colorbar": {
              "outlinewidth": 0,
              "ticks": ""
             }
            },
            "type": "scatter"
           }
          ],
          "scatter3d": [
           {
            "line": {
             "colorbar": {
              "outlinewidth": 0,
              "ticks": ""
             }
            },
            "marker": {
             "colorbar": {
              "outlinewidth": 0,
              "ticks": ""
             }
            },
            "type": "scatter3d"
           }
          ],
          "scattercarpet": [
           {
            "marker": {
             "colorbar": {
              "outlinewidth": 0,
              "ticks": ""
             }
            },
            "type": "scattercarpet"
           }
          ],
          "scattergeo": [
           {
            "marker": {
             "colorbar": {
              "outlinewidth": 0,
              "ticks": ""
             }
            },
            "type": "scattergeo"
           }
          ],
          "scattergl": [
           {
            "marker": {
             "colorbar": {
              "outlinewidth": 0,
              "ticks": ""
             }
            },
            "type": "scattergl"
           }
          ],
          "scattermapbox": [
           {
            "marker": {
             "colorbar": {
              "outlinewidth": 0,
              "ticks": ""
             }
            },
            "type": "scattermapbox"
           }
          ],
          "scatterpolar": [
           {
            "marker": {
             "colorbar": {
              "outlinewidth": 0,
              "ticks": ""
             }
            },
            "type": "scatterpolar"
           }
          ],
          "scatterpolargl": [
           {
            "marker": {
             "colorbar": {
              "outlinewidth": 0,
              "ticks": ""
             }
            },
            "type": "scatterpolargl"
           }
          ],
          "scatterternary": [
           {
            "marker": {
             "colorbar": {
              "outlinewidth": 0,
              "ticks": ""
             }
            },
            "type": "scatterternary"
           }
          ],
          "surface": [
           {
            "colorbar": {
             "outlinewidth": 0,
             "ticks": ""
            },
            "colorscale": [
             [
              0,
              "#0d0887"
             ],
             [
              0.1111111111111111,
              "#46039f"
             ],
             [
              0.2222222222222222,
              "#7201a8"
             ],
             [
              0.3333333333333333,
              "#9c179e"
             ],
             [
              0.4444444444444444,
              "#bd3786"
             ],
             [
              0.5555555555555556,
              "#d8576b"
             ],
             [
              0.6666666666666666,
              "#ed7953"
             ],
             [
              0.7777777777777778,
              "#fb9f3a"
             ],
             [
              0.8888888888888888,
              "#fdca26"
             ],
             [
              1,
              "#f0f921"
             ]
            ],
            "type": "surface"
           }
          ],
          "table": [
           {
            "cells": {
             "fill": {
              "color": "#EBF0F8"
             },
             "line": {
              "color": "white"
             }
            },
            "header": {
             "fill": {
              "color": "#C8D4E3"
             },
             "line": {
              "color": "white"
             }
            },
            "type": "table"
           }
          ]
         },
         "layout": {
          "annotationdefaults": {
           "arrowcolor": "#2a3f5f",
           "arrowhead": 0,
           "arrowwidth": 1
          },
          "autotypenumbers": "strict",
          "coloraxis": {
           "colorbar": {
            "outlinewidth": 0,
            "ticks": ""
           }
          },
          "colorscale": {
           "diverging": [
            [
             0,
             "#8e0152"
            ],
            [
             0.1,
             "#c51b7d"
            ],
            [
             0.2,
             "#de77ae"
            ],
            [
             0.3,
             "#f1b6da"
            ],
            [
             0.4,
             "#fde0ef"
            ],
            [
             0.5,
             "#f7f7f7"
            ],
            [
             0.6,
             "#e6f5d0"
            ],
            [
             0.7,
             "#b8e186"
            ],
            [
             0.8,
             "#7fbc41"
            ],
            [
             0.9,
             "#4d9221"
            ],
            [
             1,
             "#276419"
            ]
           ],
           "sequential": [
            [
             0,
             "#0d0887"
            ],
            [
             0.1111111111111111,
             "#46039f"
            ],
            [
             0.2222222222222222,
             "#7201a8"
            ],
            [
             0.3333333333333333,
             "#9c179e"
            ],
            [
             0.4444444444444444,
             "#bd3786"
            ],
            [
             0.5555555555555556,
             "#d8576b"
            ],
            [
             0.6666666666666666,
             "#ed7953"
            ],
            [
             0.7777777777777778,
             "#fb9f3a"
            ],
            [
             0.8888888888888888,
             "#fdca26"
            ],
            [
             1,
             "#f0f921"
            ]
           ],
           "sequentialminus": [
            [
             0,
             "#0d0887"
            ],
            [
             0.1111111111111111,
             "#46039f"
            ],
            [
             0.2222222222222222,
             "#7201a8"
            ],
            [
             0.3333333333333333,
             "#9c179e"
            ],
            [
             0.4444444444444444,
             "#bd3786"
            ],
            [
             0.5555555555555556,
             "#d8576b"
            ],
            [
             0.6666666666666666,
             "#ed7953"
            ],
            [
             0.7777777777777778,
             "#fb9f3a"
            ],
            [
             0.8888888888888888,
             "#fdca26"
            ],
            [
             1,
             "#f0f921"
            ]
           ]
          },
          "colorway": [
           "#636efa",
           "#EF553B",
           "#00cc96",
           "#ab63fa",
           "#FFA15A",
           "#19d3f3",
           "#FF6692",
           "#B6E880",
           "#FF97FF",
           "#FECB52"
          ],
          "font": {
           "color": "#2a3f5f"
          },
          "geo": {
           "bgcolor": "white",
           "lakecolor": "white",
           "landcolor": "#E5ECF6",
           "showlakes": true,
           "showland": true,
           "subunitcolor": "white"
          },
          "hoverlabel": {
           "align": "left"
          },
          "hovermode": "closest",
          "mapbox": {
           "style": "light"
          },
          "paper_bgcolor": "white",
          "plot_bgcolor": "#E5ECF6",
          "polar": {
           "angularaxis": {
            "gridcolor": "white",
            "linecolor": "white",
            "ticks": ""
           },
           "bgcolor": "#E5ECF6",
           "radialaxis": {
            "gridcolor": "white",
            "linecolor": "white",
            "ticks": ""
           }
          },
          "scene": {
           "xaxis": {
            "backgroundcolor": "#E5ECF6",
            "gridcolor": "white",
            "gridwidth": 2,
            "linecolor": "white",
            "showbackground": true,
            "ticks": "",
            "zerolinecolor": "white"
           },
           "yaxis": {
            "backgroundcolor": "#E5ECF6",
            "gridcolor": "white",
            "gridwidth": 2,
            "linecolor": "white",
            "showbackground": true,
            "ticks": "",
            "zerolinecolor": "white"
           },
           "zaxis": {
            "backgroundcolor": "#E5ECF6",
            "gridcolor": "white",
            "gridwidth": 2,
            "linecolor": "white",
            "showbackground": true,
            "ticks": "",
            "zerolinecolor": "white"
           }
          },
          "shapedefaults": {
           "line": {
            "color": "#2a3f5f"
           }
          },
          "ternary": {
           "aaxis": {
            "gridcolor": "white",
            "linecolor": "white",
            "ticks": ""
           },
           "baxis": {
            "gridcolor": "white",
            "linecolor": "white",
            "ticks": ""
           },
           "bgcolor": "#E5ECF6",
           "caxis": {
            "gridcolor": "white",
            "linecolor": "white",
            "ticks": ""
           }
          },
          "title": {
           "x": 0.05
          },
          "xaxis": {
           "automargin": true,
           "gridcolor": "white",
           "linecolor": "white",
           "ticks": "",
           "title": {
            "standoff": 15
           },
           "zerolinecolor": "white",
           "zerolinewidth": 2
          },
          "yaxis": {
           "automargin": true,
           "gridcolor": "white",
           "linecolor": "white",
           "ticks": "",
           "title": {
            "standoff": 15
           },
           "zerolinecolor": "white",
           "zerolinewidth": 2
          }
         }
        },
        "title": {
         "font": {
          "color": "#4D5663"
         }
        },
        "xaxis": {
         "gridcolor": "#E1E5ED",
         "showgrid": true,
         "tickfont": {
          "color": "#4D5663"
         },
         "title": {
          "font": {
           "color": "#4D5663"
          },
          "text": ""
         },
         "zerolinecolor": "#E1E5ED"
        },
        "yaxis": {
         "gridcolor": "#E1E5ED",
         "showgrid": true,
         "tickfont": {
          "color": "#4D5663"
         },
         "title": {
          "font": {
           "color": "#4D5663"
          },
          "text": ""
         },
         "zerolinecolor": "#E1E5ED"
        }
       }
      },
      "text/html": [
       "<div>                            <div id=\"a130b4b3-6ce9-4563-9ffa-d66ae2534227\" class=\"plotly-graph-div\" style=\"height:525px; width:100%;\"></div>            <script type=\"text/javascript\">                require([\"plotly\"], function(Plotly) {                    window.PLOTLYENV=window.PLOTLYENV || {};\n",
       "                    window.PLOTLYENV.BASE_URL='https://plot.ly';                                    if (document.getElementById(\"a130b4b3-6ce9-4563-9ffa-d66ae2534227\")) {                    Plotly.newPlot(                        \"a130b4b3-6ce9-4563-9ffa-d66ae2534227\",                        [{\"histfunc\":\"count\",\"histnorm\":\"\",\"marker\":{\"color\":\"rgba(255, 153, 51, 1.0)\",\"line\":{\"color\":\"#4D5663\",\"width\":1.3}},\"name\":\"A\",\"nbinsx\":25,\"opacity\":0.8,\"orientation\":\"v\",\"x\":[-0.08696362399272553,0.11829315027705818,2.342856948597935,-1.503776880344004,0.045725881655566944,-0.12928100391232758,-1.036616358261247,0.10233820019024022,0.7544009950060778,1.119361123299176,-0.12168280829613869,-2.5141385692708162,0.8641734038037336,0.5615068860097867,-0.3618584895915859,-0.457493569108614,-0.7407705698927969,1.1100806879640044,-0.8436326812336624,-0.48194108799061275,-1.4283203300649514,-0.005528020954320215,0.6545934828776457,-0.3764165478866233,-0.7019587962207577,-2.1331489184945993,-1.5599707684625428,0.1755715299771797,0.13351195861619805,1.368573023242335,-0.3277442434772406,2.0071797704419105,1.0348622076293386,1.3772601634896795,-1.3690674657036475,-0.041160364008156404,0.3875459772294022,0.9653394848516135,-0.625061639729154,0.3400475723960751,0.8627064249099288,0.13396042173723252,0.4156667557269354,0.026797539151673128,0.405065409950036,0.7292637466264922,0.21898544855905366,0.2079755266846345,1.7031803281598694,1.0332873337748185,-0.08186366407943726,0.31908800200591075,-0.0831876976123175,-0.6307622500712357,0.11880043187804375,-0.8245533725750579,-0.6781822263791778,-0.17005988571480388,-1.6516093618334853,-0.8238222820076299,0.25641890902102926,-0.3322067616366865,1.4101018248811763,-1.1291979327906585,1.6890614664254615,-2.329076558908018,1.0769218217409133,0.1745963287674994,-0.8317798804560796,-1.1970027388103093,-3.0019528425038247,-0.23762122812809972,-0.4972338749701281,-0.26093263665920746,-1.5160013445449143,-0.9359898977334827,0.28176566515491647,0.25728493779995126,-0.1659249477937885,-0.13895687610656993,-1.997548442478862,1.132732545040066,1.2739327462477517,0.16888236139169427,1.5187040036619632,-0.774538350480497,-0.23137553047304132,-2.5810982422012527,-1.9447360011477897,-0.14078455082043415,0.5776488661887422,-0.882519133144336,0.22691072302708074,-0.7011641433638972,-0.9519428369511796,-0.7660743937480502,-2.211696125505859,-0.7298692001517896,-0.34256034176711875,1.0823363602187954],\"type\":\"histogram\"}],                        {\"barmode\":\"overlay\",\"legend\":{\"bgcolor\":\"#F5F6F9\",\"font\":{\"color\":\"#4D5663\"}},\"paper_bgcolor\":\"#F5F6F9\",\"plot_bgcolor\":\"#F5F6F9\",\"template\":{\"data\":{\"barpolar\":[{\"marker\":{\"line\":{\"color\":\"#E5ECF6\",\"width\":0.5},\"pattern\":{\"fillmode\":\"overlay\",\"size\":10,\"solidity\":0.2}},\"type\":\"barpolar\"}],\"bar\":[{\"error_x\":{\"color\":\"#2a3f5f\"},\"error_y\":{\"color\":\"#2a3f5f\"},\"marker\":{\"line\":{\"color\":\"#E5ECF6\",\"width\":0.5},\"pattern\":{\"fillmode\":\"overlay\",\"size\":10,\"solidity\":0.2}},\"type\":\"bar\"}],\"carpet\":[{\"aaxis\":{\"endlinecolor\":\"#2a3f5f\",\"gridcolor\":\"white\",\"linecolor\":\"white\",\"minorgridcolor\":\"white\",\"startlinecolor\":\"#2a3f5f\"},\"baxis\":{\"endlinecolor\":\"#2a3f5f\",\"gridcolor\":\"white\",\"linecolor\":\"white\",\"minorgridcolor\":\"white\",\"startlinecolor\":\"#2a3f5f\"},\"type\":\"carpet\"}],\"choropleth\":[{\"colorbar\":{\"outlinewidth\":0,\"ticks\":\"\"},\"type\":\"choropleth\"}],\"contourcarpet\":[{\"colorbar\":{\"outlinewidth\":0,\"ticks\":\"\"},\"type\":\"contourcarpet\"}],\"contour\":[{\"colorbar\":{\"outlinewidth\":0,\"ticks\":\"\"},\"colorscale\":[[0.0,\"#0d0887\"],[0.1111111111111111,\"#46039f\"],[0.2222222222222222,\"#7201a8\"],[0.3333333333333333,\"#9c179e\"],[0.4444444444444444,\"#bd3786\"],[0.5555555555555556,\"#d8576b\"],[0.6666666666666666,\"#ed7953\"],[0.7777777777777778,\"#fb9f3a\"],[0.8888888888888888,\"#fdca26\"],[1.0,\"#f0f921\"]],\"type\":\"contour\"}],\"heatmapgl\":[{\"colorbar\":{\"outlinewidth\":0,\"ticks\":\"\"},\"colorscale\":[[0.0,\"#0d0887\"],[0.1111111111111111,\"#46039f\"],[0.2222222222222222,\"#7201a8\"],[0.3333333333333333,\"#9c179e\"],[0.4444444444444444,\"#bd3786\"],[0.5555555555555556,\"#d8576b\"],[0.6666666666666666,\"#ed7953\"],[0.7777777777777778,\"#fb9f3a\"],[0.8888888888888888,\"#fdca26\"],[1.0,\"#f0f921\"]],\"type\":\"heatmapgl\"}],\"heatmap\":[{\"colorbar\":{\"outlinewidth\":0,\"ticks\":\"\"},\"colorscale\":[[0.0,\"#0d0887\"],[0.1111111111111111,\"#46039f\"],[0.2222222222222222,\"#7201a8\"],[0.3333333333333333,\"#9c179e\"],[0.4444444444444444,\"#bd3786\"],[0.5555555555555556,\"#d8576b\"],[0.6666666666666666,\"#ed7953\"],[0.7777777777777778,\"#fb9f3a\"],[0.8888888888888888,\"#fdca26\"],[1.0,\"#f0f921\"]],\"type\":\"heatmap\"}],\"histogram2dcontour\":[{\"colorbar\":{\"outlinewidth\":0,\"ticks\":\"\"},\"colorscale\":[[0.0,\"#0d0887\"],[0.1111111111111111,\"#46039f\"],[0.2222222222222222,\"#7201a8\"],[0.3333333333333333,\"#9c179e\"],[0.4444444444444444,\"#bd3786\"],[0.5555555555555556,\"#d8576b\"],[0.6666666666666666,\"#ed7953\"],[0.7777777777777778,\"#fb9f3a\"],[0.8888888888888888,\"#fdca26\"],[1.0,\"#f0f921\"]],\"type\":\"histogram2dcontour\"}],\"histogram2d\":[{\"colorbar\":{\"outlinewidth\":0,\"ticks\":\"\"},\"colorscale\":[[0.0,\"#0d0887\"],[0.1111111111111111,\"#46039f\"],[0.2222222222222222,\"#7201a8\"],[0.3333333333333333,\"#9c179e\"],[0.4444444444444444,\"#bd3786\"],[0.5555555555555556,\"#d8576b\"],[0.6666666666666666,\"#ed7953\"],[0.7777777777777778,\"#fb9f3a\"],[0.8888888888888888,\"#fdca26\"],[1.0,\"#f0f921\"]],\"type\":\"histogram2d\"}],\"histogram\":[{\"marker\":{\"pattern\":{\"fillmode\":\"overlay\",\"size\":10,\"solidity\":0.2}},\"type\":\"histogram\"}],\"mesh3d\":[{\"colorbar\":{\"outlinewidth\":0,\"ticks\":\"\"},\"type\":\"mesh3d\"}],\"parcoords\":[{\"line\":{\"colorbar\":{\"outlinewidth\":0,\"ticks\":\"\"}},\"type\":\"parcoords\"}],\"pie\":[{\"automargin\":true,\"type\":\"pie\"}],\"scatter3d\":[{\"line\":{\"colorbar\":{\"outlinewidth\":0,\"ticks\":\"\"}},\"marker\":{\"colorbar\":{\"outlinewidth\":0,\"ticks\":\"\"}},\"type\":\"scatter3d\"}],\"scattercarpet\":[{\"marker\":{\"colorbar\":{\"outlinewidth\":0,\"ticks\":\"\"}},\"type\":\"scattercarpet\"}],\"scattergeo\":[{\"marker\":{\"colorbar\":{\"outlinewidth\":0,\"ticks\":\"\"}},\"type\":\"scattergeo\"}],\"scattergl\":[{\"marker\":{\"colorbar\":{\"outlinewidth\":0,\"ticks\":\"\"}},\"type\":\"scattergl\"}],\"scattermapbox\":[{\"marker\":{\"colorbar\":{\"outlinewidth\":0,\"ticks\":\"\"}},\"type\":\"scattermapbox\"}],\"scatterpolargl\":[{\"marker\":{\"colorbar\":{\"outlinewidth\":0,\"ticks\":\"\"}},\"type\":\"scatterpolargl\"}],\"scatterpolar\":[{\"marker\":{\"colorbar\":{\"outlinewidth\":0,\"ticks\":\"\"}},\"type\":\"scatterpolar\"}],\"scatter\":[{\"marker\":{\"colorbar\":{\"outlinewidth\":0,\"ticks\":\"\"}},\"type\":\"scatter\"}],\"scatterternary\":[{\"marker\":{\"colorbar\":{\"outlinewidth\":0,\"ticks\":\"\"}},\"type\":\"scatterternary\"}],\"surface\":[{\"colorbar\":{\"outlinewidth\":0,\"ticks\":\"\"},\"colorscale\":[[0.0,\"#0d0887\"],[0.1111111111111111,\"#46039f\"],[0.2222222222222222,\"#7201a8\"],[0.3333333333333333,\"#9c179e\"],[0.4444444444444444,\"#bd3786\"],[0.5555555555555556,\"#d8576b\"],[0.6666666666666666,\"#ed7953\"],[0.7777777777777778,\"#fb9f3a\"],[0.8888888888888888,\"#fdca26\"],[1.0,\"#f0f921\"]],\"type\":\"surface\"}],\"table\":[{\"cells\":{\"fill\":{\"color\":\"#EBF0F8\"},\"line\":{\"color\":\"white\"}},\"header\":{\"fill\":{\"color\":\"#C8D4E3\"},\"line\":{\"color\":\"white\"}},\"type\":\"table\"}]},\"layout\":{\"annotationdefaults\":{\"arrowcolor\":\"#2a3f5f\",\"arrowhead\":0,\"arrowwidth\":1},\"autotypenumbers\":\"strict\",\"coloraxis\":{\"colorbar\":{\"outlinewidth\":0,\"ticks\":\"\"}},\"colorscale\":{\"diverging\":[[0,\"#8e0152\"],[0.1,\"#c51b7d\"],[0.2,\"#de77ae\"],[0.3,\"#f1b6da\"],[0.4,\"#fde0ef\"],[0.5,\"#f7f7f7\"],[0.6,\"#e6f5d0\"],[0.7,\"#b8e186\"],[0.8,\"#7fbc41\"],[0.9,\"#4d9221\"],[1,\"#276419\"]],\"sequential\":[[0.0,\"#0d0887\"],[0.1111111111111111,\"#46039f\"],[0.2222222222222222,\"#7201a8\"],[0.3333333333333333,\"#9c179e\"],[0.4444444444444444,\"#bd3786\"],[0.5555555555555556,\"#d8576b\"],[0.6666666666666666,\"#ed7953\"],[0.7777777777777778,\"#fb9f3a\"],[0.8888888888888888,\"#fdca26\"],[1.0,\"#f0f921\"]],\"sequentialminus\":[[0.0,\"#0d0887\"],[0.1111111111111111,\"#46039f\"],[0.2222222222222222,\"#7201a8\"],[0.3333333333333333,\"#9c179e\"],[0.4444444444444444,\"#bd3786\"],[0.5555555555555556,\"#d8576b\"],[0.6666666666666666,\"#ed7953\"],[0.7777777777777778,\"#fb9f3a\"],[0.8888888888888888,\"#fdca26\"],[1.0,\"#f0f921\"]]},\"colorway\":[\"#636efa\",\"#EF553B\",\"#00cc96\",\"#ab63fa\",\"#FFA15A\",\"#19d3f3\",\"#FF6692\",\"#B6E880\",\"#FF97FF\",\"#FECB52\"],\"font\":{\"color\":\"#2a3f5f\"},\"geo\":{\"bgcolor\":\"white\",\"lakecolor\":\"white\",\"landcolor\":\"#E5ECF6\",\"showlakes\":true,\"showland\":true,\"subunitcolor\":\"white\"},\"hoverlabel\":{\"align\":\"left\"},\"hovermode\":\"closest\",\"mapbox\":{\"style\":\"light\"},\"paper_bgcolor\":\"white\",\"plot_bgcolor\":\"#E5ECF6\",\"polar\":{\"angularaxis\":{\"gridcolor\":\"white\",\"linecolor\":\"white\",\"ticks\":\"\"},\"bgcolor\":\"#E5ECF6\",\"radialaxis\":{\"gridcolor\":\"white\",\"linecolor\":\"white\",\"ticks\":\"\"}},\"scene\":{\"xaxis\":{\"backgroundcolor\":\"#E5ECF6\",\"gridcolor\":\"white\",\"gridwidth\":2,\"linecolor\":\"white\",\"showbackground\":true,\"ticks\":\"\",\"zerolinecolor\":\"white\"},\"yaxis\":{\"backgroundcolor\":\"#E5ECF6\",\"gridcolor\":\"white\",\"gridwidth\":2,\"linecolor\":\"white\",\"showbackground\":true,\"ticks\":\"\",\"zerolinecolor\":\"white\"},\"zaxis\":{\"backgroundcolor\":\"#E5ECF6\",\"gridcolor\":\"white\",\"gridwidth\":2,\"linecolor\":\"white\",\"showbackground\":true,\"ticks\":\"\",\"zerolinecolor\":\"white\"}},\"shapedefaults\":{\"line\":{\"color\":\"#2a3f5f\"}},\"ternary\":{\"aaxis\":{\"gridcolor\":\"white\",\"linecolor\":\"white\",\"ticks\":\"\"},\"baxis\":{\"gridcolor\":\"white\",\"linecolor\":\"white\",\"ticks\":\"\"},\"bgcolor\":\"#E5ECF6\",\"caxis\":{\"gridcolor\":\"white\",\"linecolor\":\"white\",\"ticks\":\"\"}},\"title\":{\"x\":0.05},\"xaxis\":{\"automargin\":true,\"gridcolor\":\"white\",\"linecolor\":\"white\",\"ticks\":\"\",\"title\":{\"standoff\":15},\"zerolinecolor\":\"white\",\"zerolinewidth\":2},\"yaxis\":{\"automargin\":true,\"gridcolor\":\"white\",\"linecolor\":\"white\",\"ticks\":\"\",\"title\":{\"standoff\":15},\"zerolinecolor\":\"white\",\"zerolinewidth\":2}}},\"title\":{\"font\":{\"color\":\"#4D5663\"}},\"xaxis\":{\"gridcolor\":\"#E1E5ED\",\"showgrid\":true,\"tickfont\":{\"color\":\"#4D5663\"},\"title\":{\"font\":{\"color\":\"#4D5663\"},\"text\":\"\"},\"zerolinecolor\":\"#E1E5ED\"},\"yaxis\":{\"gridcolor\":\"#E1E5ED\",\"showgrid\":true,\"tickfont\":{\"color\":\"#4D5663\"},\"title\":{\"font\":{\"color\":\"#4D5663\"},\"text\":\"\"},\"zerolinecolor\":\"#E1E5ED\"}},                        {\"showLink\": true, \"linkText\": \"Export to plot.ly\", \"plotlyServerURL\": \"https://plot.ly\", \"responsive\": true}                    ).then(function(){\n",
       "                            \n",
       "var gd = document.getElementById('a130b4b3-6ce9-4563-9ffa-d66ae2534227');\n",
       "var x = new MutationObserver(function (mutations, observer) {{\n",
       "        var display = window.getComputedStyle(gd).display;\n",
       "        if (!display || display === 'none') {{\n",
       "            console.log([gd, 'removed!']);\n",
       "            Plotly.purge(gd);\n",
       "            observer.disconnect();\n",
       "        }}\n",
       "}});\n",
       "\n",
       "// Listen for the removal of the full notebook cells\n",
       "var notebookContainer = gd.closest('#notebook-container');\n",
       "if (notebookContainer) {{\n",
       "    x.observe(notebookContainer, {childList: true});\n",
       "}}\n",
       "\n",
       "// Listen for the clearing of the current output cell\n",
       "var outputEl = gd.closest('.output');\n",
       "if (outputEl) {{\n",
       "    x.observe(outputEl, {childList: true});\n",
       "}}\n",
       "\n",
       "                        })                };                });            </script>        </div>"
      ]
     },
     "metadata": {},
     "output_type": "display_data"
    }
   ],
   "source": [
    "df['A'].iplot(kind='hist',bins=25)"
   ]
  },
  {
   "cell_type": "code",
   "execution_count": 17,
   "metadata": {},
   "outputs": [
    {
     "data": {
      "application/vnd.plotly.v1+json": {
       "config": {
        "linkText": "Export to plot.ly",
        "plotlyServerURL": "https://plot.ly",
        "showLink": true
       },
       "data": [
        {
         "marker": {
          "color": [
           "rgb(255, 153, 51)",
           "rgb(55, 128, 191)",
           "rgb(50, 171, 96)",
           "rgb(128, 0, 128)",
           "rgb(219, 64, 82)",
           "rgb(0, 128, 128)",
           "rgb(255, 255, 51)",
           "rgb(128, 128, 0)",
           "rgb(251, 128, 114)",
           "rgb(128, 177, 211)"
          ],
          "line": {
           "width": 1.3
          },
          "size": [
           50,
           77,
           85,
           57,
           38,
           62,
           58,
           42,
           74,
           68,
           80,
           53,
           60,
           12,
           59,
           103,
           18,
           55,
           67,
           67,
           41,
           50,
           40,
           58,
           24,
           57,
           71,
           56,
           35,
           73,
           84,
           16,
           39,
           69,
           57,
           63,
           58,
           14,
           75,
           90,
           18,
           59,
           39,
           50,
           39,
           55,
           12,
           40,
           40,
           85,
           47,
           62,
           60,
           30,
           40,
           49,
           48,
           102,
           38,
           70,
           81,
           64,
           29,
           16,
           76,
           49,
           33,
           95,
           91,
           42,
           66,
           54,
           49,
           48,
           76,
           21,
           89,
           41,
           12,
           81,
           51,
           54,
           87,
           51,
           38,
           66,
           45,
           71,
           73,
           62,
           80,
           47,
           35,
           64,
           32,
           106,
           112,
           32,
           69,
           47
          ],
          "symbol": "circle"
         },
         "mode": "markers",
         "text": "",
         "type": "scatter",
         "x": [
          -0.08696362399272553,
          0.11829315027705818,
          2.342856948597935,
          -1.503776880344004,
          0.045725881655566944,
          -0.12928100391232758,
          -1.036616358261247,
          0.10233820019024022,
          0.7544009950060778,
          1.119361123299176,
          -0.12168280829613869,
          -2.5141385692708162,
          0.8641734038037336,
          0.5615068860097867,
          -0.3618584895915859,
          -0.457493569108614,
          -0.7407705698927969,
          1.1100806879640044,
          -0.8436326812336624,
          -0.48194108799061275,
          -1.4283203300649514,
          -0.005528020954320215,
          0.6545934828776457,
          -0.3764165478866233,
          -0.7019587962207577,
          -2.1331489184945993,
          -1.5599707684625428,
          0.1755715299771797,
          0.13351195861619805,
          1.368573023242335,
          -0.3277442434772406,
          2.0071797704419105,
          1.0348622076293386,
          1.3772601634896795,
          -1.3690674657036475,
          -0.041160364008156404,
          0.3875459772294022,
          0.9653394848516135,
          -0.625061639729154,
          0.3400475723960751,
          0.8627064249099288,
          0.13396042173723252,
          0.4156667557269354,
          0.026797539151673128,
          0.405065409950036,
          0.7292637466264922,
          0.21898544855905366,
          0.2079755266846345,
          1.7031803281598694,
          1.0332873337748185,
          -0.08186366407943726,
          0.31908800200591075,
          -0.0831876976123175,
          -0.6307622500712357,
          0.11880043187804375,
          -0.8245533725750579,
          -0.6781822263791778,
          -0.17005988571480388,
          -1.6516093618334853,
          -0.8238222820076299,
          0.25641890902102926,
          -0.3322067616366865,
          1.4101018248811763,
          -1.1291979327906585,
          1.6890614664254615,
          -2.329076558908018,
          1.0769218217409133,
          0.1745963287674994,
          -0.8317798804560796,
          -1.1970027388103093,
          -3.0019528425038247,
          -0.23762122812809972,
          -0.4972338749701281,
          -0.26093263665920746,
          -1.5160013445449143,
          -0.9359898977334827,
          0.28176566515491647,
          0.25728493779995126,
          -0.1659249477937885,
          -0.13895687610656993,
          -1.997548442478862,
          1.132732545040066,
          1.2739327462477517,
          0.16888236139169427,
          1.5187040036619632,
          -0.774538350480497,
          -0.23137553047304132,
          -2.5810982422012527,
          -1.9447360011477897,
          -0.14078455082043415,
          0.5776488661887422,
          -0.882519133144336,
          0.22691072302708074,
          -0.7011641433638972,
          -0.9519428369511796,
          -0.7660743937480502,
          -2.211696125505859,
          -0.7298692001517896,
          -0.34256034176711875,
          1.0823363602187954
         ],
         "y": [
          -0.07201300572682906,
          -1.7813371536318778,
          -0.8200929720183177,
          1.6850747024543902,
          0.14373920902261458,
          0.9014962704276461,
          -1.0481652514408317,
          0.9677142806092884,
          0.2784556999294692,
          -0.808096455996858,
          0.5972504318570593,
          1.5193397017630752,
          0.1120776473758537,
          0.031459404038649844,
          -0.6419956711923979,
          1.3661547594810273,
          -0.19155366489041692,
          -1.1012658471042815,
          0.6282171051348472,
          -0.8716239697489461,
          -0.5626019647408662,
          0.6519591742110662,
          0.052616620786117244,
          -0.169397506886645,
          -0.5635490785509196,
          -0.22762662898988673,
          -1.2333147800078432,
          -0.7330246424512903,
          0.62354927944434,
          -0.5199034839952482,
          0.5678912530643067,
          0.2055567196710461,
          0.8482662446920417,
          0.8649241351693712,
          0.6677232214596046,
          1.4194969576533518,
          0.05987451399890696,
          0.5364829593269563,
          2.139167152838529,
          0.840048180328241,
          1.6044742679372017,
          0.32314142805402435,
          -0.1615677497467817,
          0.47260106016564707,
          1.0744435776511905,
          0.04847396319960681,
          -0.1508712997263981,
          -0.5759453801733477,
          -0.293997152323099,
          -0.44495079449735675,
          0.10907341855645045,
          1.057057230197365,
          -0.6190450725199533,
          0.17020215249976262,
          0.6415891478844767,
          2.1265419568789854,
          -0.463185134592524,
          2.1374017556563474,
          1.9151279933805916,
          -0.10117463654989918,
          -0.9176696227617764,
          0.40766039857072367,
          1.2898062553730296,
          0.1545348303988453,
          0.24644376482344738,
          1.374650744190713,
          0.10564871875845407,
          0.6408997652220568,
          0.3425626471892363,
          0.04986405193713072,
          -0.6646697915034648,
          -0.09997211172881224,
          0.23521389993867892,
          0.5523179868398935,
          -0.09287699374722193,
          -0.9999106553888348,
          -1.1150659445689572,
          1.737598024647142,
          0.08558665304809565,
          0.44566810012783964,
          0.9790451280395394,
          -0.6081735571910922,
          0.2345712090980208,
          -1.2467094141877713,
          -0.5195244934509475,
          0.7759209695129649,
          -0.955124047948974,
          0.40746936598386513,
          0.23668765547290643,
          -0.02128848593352963,
          1.8956579840616128,
          0.6594859840593594,
          0.4028552358561733,
          -1.0275742681985736,
          -1.0331453939669182,
          -0.28602693038106247,
          1.437346730839855,
          0.689133460013907,
          -1.0303054514876115,
          0.2488420672892611
         ]
        }
       ],
       "layout": {
        "legend": {
         "bgcolor": "#F5F6F9",
         "font": {
          "color": "#4D5663"
         }
        },
        "paper_bgcolor": "#F5F6F9",
        "plot_bgcolor": "#F5F6F9",
        "template": {
         "data": {
          "bar": [
           {
            "error_x": {
             "color": "#2a3f5f"
            },
            "error_y": {
             "color": "#2a3f5f"
            },
            "marker": {
             "line": {
              "color": "#E5ECF6",
              "width": 0.5
             },
             "pattern": {
              "fillmode": "overlay",
              "size": 10,
              "solidity": 0.2
             }
            },
            "type": "bar"
           }
          ],
          "barpolar": [
           {
            "marker": {
             "line": {
              "color": "#E5ECF6",
              "width": 0.5
             },
             "pattern": {
              "fillmode": "overlay",
              "size": 10,
              "solidity": 0.2
             }
            },
            "type": "barpolar"
           }
          ],
          "carpet": [
           {
            "aaxis": {
             "endlinecolor": "#2a3f5f",
             "gridcolor": "white",
             "linecolor": "white",
             "minorgridcolor": "white",
             "startlinecolor": "#2a3f5f"
            },
            "baxis": {
             "endlinecolor": "#2a3f5f",
             "gridcolor": "white",
             "linecolor": "white",
             "minorgridcolor": "white",
             "startlinecolor": "#2a3f5f"
            },
            "type": "carpet"
           }
          ],
          "choropleth": [
           {
            "colorbar": {
             "outlinewidth": 0,
             "ticks": ""
            },
            "type": "choropleth"
           }
          ],
          "contour": [
           {
            "colorbar": {
             "outlinewidth": 0,
             "ticks": ""
            },
            "colorscale": [
             [
              0,
              "#0d0887"
             ],
             [
              0.1111111111111111,
              "#46039f"
             ],
             [
              0.2222222222222222,
              "#7201a8"
             ],
             [
              0.3333333333333333,
              "#9c179e"
             ],
             [
              0.4444444444444444,
              "#bd3786"
             ],
             [
              0.5555555555555556,
              "#d8576b"
             ],
             [
              0.6666666666666666,
              "#ed7953"
             ],
             [
              0.7777777777777778,
              "#fb9f3a"
             ],
             [
              0.8888888888888888,
              "#fdca26"
             ],
             [
              1,
              "#f0f921"
             ]
            ],
            "type": "contour"
           }
          ],
          "contourcarpet": [
           {
            "colorbar": {
             "outlinewidth": 0,
             "ticks": ""
            },
            "type": "contourcarpet"
           }
          ],
          "heatmap": [
           {
            "colorbar": {
             "outlinewidth": 0,
             "ticks": ""
            },
            "colorscale": [
             [
              0,
              "#0d0887"
             ],
             [
              0.1111111111111111,
              "#46039f"
             ],
             [
              0.2222222222222222,
              "#7201a8"
             ],
             [
              0.3333333333333333,
              "#9c179e"
             ],
             [
              0.4444444444444444,
              "#bd3786"
             ],
             [
              0.5555555555555556,
              "#d8576b"
             ],
             [
              0.6666666666666666,
              "#ed7953"
             ],
             [
              0.7777777777777778,
              "#fb9f3a"
             ],
             [
              0.8888888888888888,
              "#fdca26"
             ],
             [
              1,
              "#f0f921"
             ]
            ],
            "type": "heatmap"
           }
          ],
          "heatmapgl": [
           {
            "colorbar": {
             "outlinewidth": 0,
             "ticks": ""
            },
            "colorscale": [
             [
              0,
              "#0d0887"
             ],
             [
              0.1111111111111111,
              "#46039f"
             ],
             [
              0.2222222222222222,
              "#7201a8"
             ],
             [
              0.3333333333333333,
              "#9c179e"
             ],
             [
              0.4444444444444444,
              "#bd3786"
             ],
             [
              0.5555555555555556,
              "#d8576b"
             ],
             [
              0.6666666666666666,
              "#ed7953"
             ],
             [
              0.7777777777777778,
              "#fb9f3a"
             ],
             [
              0.8888888888888888,
              "#fdca26"
             ],
             [
              1,
              "#f0f921"
             ]
            ],
            "type": "heatmapgl"
           }
          ],
          "histogram": [
           {
            "marker": {
             "pattern": {
              "fillmode": "overlay",
              "size": 10,
              "solidity": 0.2
             }
            },
            "type": "histogram"
           }
          ],
          "histogram2d": [
           {
            "colorbar": {
             "outlinewidth": 0,
             "ticks": ""
            },
            "colorscale": [
             [
              0,
              "#0d0887"
             ],
             [
              0.1111111111111111,
              "#46039f"
             ],
             [
              0.2222222222222222,
              "#7201a8"
             ],
             [
              0.3333333333333333,
              "#9c179e"
             ],
             [
              0.4444444444444444,
              "#bd3786"
             ],
             [
              0.5555555555555556,
              "#d8576b"
             ],
             [
              0.6666666666666666,
              "#ed7953"
             ],
             [
              0.7777777777777778,
              "#fb9f3a"
             ],
             [
              0.8888888888888888,
              "#fdca26"
             ],
             [
              1,
              "#f0f921"
             ]
            ],
            "type": "histogram2d"
           }
          ],
          "histogram2dcontour": [
           {
            "colorbar": {
             "outlinewidth": 0,
             "ticks": ""
            },
            "colorscale": [
             [
              0,
              "#0d0887"
             ],
             [
              0.1111111111111111,
              "#46039f"
             ],
             [
              0.2222222222222222,
              "#7201a8"
             ],
             [
              0.3333333333333333,
              "#9c179e"
             ],
             [
              0.4444444444444444,
              "#bd3786"
             ],
             [
              0.5555555555555556,
              "#d8576b"
             ],
             [
              0.6666666666666666,
              "#ed7953"
             ],
             [
              0.7777777777777778,
              "#fb9f3a"
             ],
             [
              0.8888888888888888,
              "#fdca26"
             ],
             [
              1,
              "#f0f921"
             ]
            ],
            "type": "histogram2dcontour"
           }
          ],
          "mesh3d": [
           {
            "colorbar": {
             "outlinewidth": 0,
             "ticks": ""
            },
            "type": "mesh3d"
           }
          ],
          "parcoords": [
           {
            "line": {
             "colorbar": {
              "outlinewidth": 0,
              "ticks": ""
             }
            },
            "type": "parcoords"
           }
          ],
          "pie": [
           {
            "automargin": true,
            "type": "pie"
           }
          ],
          "scatter": [
           {
            "marker": {
             "colorbar": {
              "outlinewidth": 0,
              "ticks": ""
             }
            },
            "type": "scatter"
           }
          ],
          "scatter3d": [
           {
            "line": {
             "colorbar": {
              "outlinewidth": 0,
              "ticks": ""
             }
            },
            "marker": {
             "colorbar": {
              "outlinewidth": 0,
              "ticks": ""
             }
            },
            "type": "scatter3d"
           }
          ],
          "scattercarpet": [
           {
            "marker": {
             "colorbar": {
              "outlinewidth": 0,
              "ticks": ""
             }
            },
            "type": "scattercarpet"
           }
          ],
          "scattergeo": [
           {
            "marker": {
             "colorbar": {
              "outlinewidth": 0,
              "ticks": ""
             }
            },
            "type": "scattergeo"
           }
          ],
          "scattergl": [
           {
            "marker": {
             "colorbar": {
              "outlinewidth": 0,
              "ticks": ""
             }
            },
            "type": "scattergl"
           }
          ],
          "scattermapbox": [
           {
            "marker": {
             "colorbar": {
              "outlinewidth": 0,
              "ticks": ""
             }
            },
            "type": "scattermapbox"
           }
          ],
          "scatterpolar": [
           {
            "marker": {
             "colorbar": {
              "outlinewidth": 0,
              "ticks": ""
             }
            },
            "type": "scatterpolar"
           }
          ],
          "scatterpolargl": [
           {
            "marker": {
             "colorbar": {
              "outlinewidth": 0,
              "ticks": ""
             }
            },
            "type": "scatterpolargl"
           }
          ],
          "scatterternary": [
           {
            "marker": {
             "colorbar": {
              "outlinewidth": 0,
              "ticks": ""
             }
            },
            "type": "scatterternary"
           }
          ],
          "surface": [
           {
            "colorbar": {
             "outlinewidth": 0,
             "ticks": ""
            },
            "colorscale": [
             [
              0,
              "#0d0887"
             ],
             [
              0.1111111111111111,
              "#46039f"
             ],
             [
              0.2222222222222222,
              "#7201a8"
             ],
             [
              0.3333333333333333,
              "#9c179e"
             ],
             [
              0.4444444444444444,
              "#bd3786"
             ],
             [
              0.5555555555555556,
              "#d8576b"
             ],
             [
              0.6666666666666666,
              "#ed7953"
             ],
             [
              0.7777777777777778,
              "#fb9f3a"
             ],
             [
              0.8888888888888888,
              "#fdca26"
             ],
             [
              1,
              "#f0f921"
             ]
            ],
            "type": "surface"
           }
          ],
          "table": [
           {
            "cells": {
             "fill": {
              "color": "#EBF0F8"
             },
             "line": {
              "color": "white"
             }
            },
            "header": {
             "fill": {
              "color": "#C8D4E3"
             },
             "line": {
              "color": "white"
             }
            },
            "type": "table"
           }
          ]
         },
         "layout": {
          "annotationdefaults": {
           "arrowcolor": "#2a3f5f",
           "arrowhead": 0,
           "arrowwidth": 1
          },
          "autotypenumbers": "strict",
          "coloraxis": {
           "colorbar": {
            "outlinewidth": 0,
            "ticks": ""
           }
          },
          "colorscale": {
           "diverging": [
            [
             0,
             "#8e0152"
            ],
            [
             0.1,
             "#c51b7d"
            ],
            [
             0.2,
             "#de77ae"
            ],
            [
             0.3,
             "#f1b6da"
            ],
            [
             0.4,
             "#fde0ef"
            ],
            [
             0.5,
             "#f7f7f7"
            ],
            [
             0.6,
             "#e6f5d0"
            ],
            [
             0.7,
             "#b8e186"
            ],
            [
             0.8,
             "#7fbc41"
            ],
            [
             0.9,
             "#4d9221"
            ],
            [
             1,
             "#276419"
            ]
           ],
           "sequential": [
            [
             0,
             "#0d0887"
            ],
            [
             0.1111111111111111,
             "#46039f"
            ],
            [
             0.2222222222222222,
             "#7201a8"
            ],
            [
             0.3333333333333333,
             "#9c179e"
            ],
            [
             0.4444444444444444,
             "#bd3786"
            ],
            [
             0.5555555555555556,
             "#d8576b"
            ],
            [
             0.6666666666666666,
             "#ed7953"
            ],
            [
             0.7777777777777778,
             "#fb9f3a"
            ],
            [
             0.8888888888888888,
             "#fdca26"
            ],
            [
             1,
             "#f0f921"
            ]
           ],
           "sequentialminus": [
            [
             0,
             "#0d0887"
            ],
            [
             0.1111111111111111,
             "#46039f"
            ],
            [
             0.2222222222222222,
             "#7201a8"
            ],
            [
             0.3333333333333333,
             "#9c179e"
            ],
            [
             0.4444444444444444,
             "#bd3786"
            ],
            [
             0.5555555555555556,
             "#d8576b"
            ],
            [
             0.6666666666666666,
             "#ed7953"
            ],
            [
             0.7777777777777778,
             "#fb9f3a"
            ],
            [
             0.8888888888888888,
             "#fdca26"
            ],
            [
             1,
             "#f0f921"
            ]
           ]
          },
          "colorway": [
           "#636efa",
           "#EF553B",
           "#00cc96",
           "#ab63fa",
           "#FFA15A",
           "#19d3f3",
           "#FF6692",
           "#B6E880",
           "#FF97FF",
           "#FECB52"
          ],
          "font": {
           "color": "#2a3f5f"
          },
          "geo": {
           "bgcolor": "white",
           "lakecolor": "white",
           "landcolor": "#E5ECF6",
           "showlakes": true,
           "showland": true,
           "subunitcolor": "white"
          },
          "hoverlabel": {
           "align": "left"
          },
          "hovermode": "closest",
          "mapbox": {
           "style": "light"
          },
          "paper_bgcolor": "white",
          "plot_bgcolor": "#E5ECF6",
          "polar": {
           "angularaxis": {
            "gridcolor": "white",
            "linecolor": "white",
            "ticks": ""
           },
           "bgcolor": "#E5ECF6",
           "radialaxis": {
            "gridcolor": "white",
            "linecolor": "white",
            "ticks": ""
           }
          },
          "scene": {
           "xaxis": {
            "backgroundcolor": "#E5ECF6",
            "gridcolor": "white",
            "gridwidth": 2,
            "linecolor": "white",
            "showbackground": true,
            "ticks": "",
            "zerolinecolor": "white"
           },
           "yaxis": {
            "backgroundcolor": "#E5ECF6",
            "gridcolor": "white",
            "gridwidth": 2,
            "linecolor": "white",
            "showbackground": true,
            "ticks": "",
            "zerolinecolor": "white"
           },
           "zaxis": {
            "backgroundcolor": "#E5ECF6",
            "gridcolor": "white",
            "gridwidth": 2,
            "linecolor": "white",
            "showbackground": true,
            "ticks": "",
            "zerolinecolor": "white"
           }
          },
          "shapedefaults": {
           "line": {
            "color": "#2a3f5f"
           }
          },
          "ternary": {
           "aaxis": {
            "gridcolor": "white",
            "linecolor": "white",
            "ticks": ""
           },
           "baxis": {
            "gridcolor": "white",
            "linecolor": "white",
            "ticks": ""
           },
           "bgcolor": "#E5ECF6",
           "caxis": {
            "gridcolor": "white",
            "linecolor": "white",
            "ticks": ""
           }
          },
          "title": {
           "x": 0.05
          },
          "xaxis": {
           "automargin": true,
           "gridcolor": "white",
           "linecolor": "white",
           "ticks": "",
           "title": {
            "standoff": 15
           },
           "zerolinecolor": "white",
           "zerolinewidth": 2
          },
          "yaxis": {
           "automargin": true,
           "gridcolor": "white",
           "linecolor": "white",
           "ticks": "",
           "title": {
            "standoff": 15
           },
           "zerolinecolor": "white",
           "zerolinewidth": 2
          }
         }
        },
        "title": {
         "font": {
          "color": "#4D5663"
         }
        },
        "xaxis": {
         "gridcolor": "#E1E5ED",
         "showgrid": true,
         "tickfont": {
          "color": "#4D5663"
         },
         "title": {
          "font": {
           "color": "#4D5663"
          },
          "text": ""
         },
         "zerolinecolor": "#E1E5ED"
        },
        "yaxis": {
         "gridcolor": "#E1E5ED",
         "showgrid": true,
         "tickfont": {
          "color": "#4D5663"
         },
         "title": {
          "font": {
           "color": "#4D5663"
          },
          "text": ""
         },
         "zerolinecolor": "#E1E5ED"
        }
       }
      },
      "text/html": [
       "<div>                            <div id=\"a1796bde-c09d-4e0d-b2f4-0371136d4255\" class=\"plotly-graph-div\" style=\"height:525px; width:100%;\"></div>            <script type=\"text/javascript\">                require([\"plotly\"], function(Plotly) {                    window.PLOTLYENV=window.PLOTLYENV || {};\n",
       "                    window.PLOTLYENV.BASE_URL='https://plot.ly';                                    if (document.getElementById(\"a1796bde-c09d-4e0d-b2f4-0371136d4255\")) {                    Plotly.newPlot(                        \"a1796bde-c09d-4e0d-b2f4-0371136d4255\",                        [{\"marker\":{\"color\":[\"rgb(255, 153, 51)\",\"rgb(55, 128, 191)\",\"rgb(50, 171, 96)\",\"rgb(128, 0, 128)\",\"rgb(219, 64, 82)\",\"rgb(0, 128, 128)\",\"rgb(255, 255, 51)\",\"rgb(128, 128, 0)\",\"rgb(251, 128, 114)\",\"rgb(128, 177, 211)\"],\"line\":{\"width\":1.3},\"size\":[50,77,85,57,38,62,58,42,74,68,80,53,60,12,59,103,18,55,67,67,41,50,40,58,24,57,71,56,35,73,84,16,39,69,57,63,58,14,75,90,18,59,39,50,39,55,12,40,40,85,47,62,60,30,40,49,48,102,38,70,81,64,29,16,76,49,33,95,91,42,66,54,49,48,76,21,89,41,12,81,51,54,87,51,38,66,45,71,73,62,80,47,35,64,32,106,112,32,69,47],\"symbol\":\"circle\"},\"mode\":\"markers\",\"text\":\"\",\"x\":[-0.08696362399272553,0.11829315027705818,2.342856948597935,-1.503776880344004,0.045725881655566944,-0.12928100391232758,-1.036616358261247,0.10233820019024022,0.7544009950060778,1.119361123299176,-0.12168280829613869,-2.5141385692708162,0.8641734038037336,0.5615068860097867,-0.3618584895915859,-0.457493569108614,-0.7407705698927969,1.1100806879640044,-0.8436326812336624,-0.48194108799061275,-1.4283203300649514,-0.005528020954320215,0.6545934828776457,-0.3764165478866233,-0.7019587962207577,-2.1331489184945993,-1.5599707684625428,0.1755715299771797,0.13351195861619805,1.368573023242335,-0.3277442434772406,2.0071797704419105,1.0348622076293386,1.3772601634896795,-1.3690674657036475,-0.041160364008156404,0.3875459772294022,0.9653394848516135,-0.625061639729154,0.3400475723960751,0.8627064249099288,0.13396042173723252,0.4156667557269354,0.026797539151673128,0.405065409950036,0.7292637466264922,0.21898544855905366,0.2079755266846345,1.7031803281598694,1.0332873337748185,-0.08186366407943726,0.31908800200591075,-0.0831876976123175,-0.6307622500712357,0.11880043187804375,-0.8245533725750579,-0.6781822263791778,-0.17005988571480388,-1.6516093618334853,-0.8238222820076299,0.25641890902102926,-0.3322067616366865,1.4101018248811763,-1.1291979327906585,1.6890614664254615,-2.329076558908018,1.0769218217409133,0.1745963287674994,-0.8317798804560796,-1.1970027388103093,-3.0019528425038247,-0.23762122812809972,-0.4972338749701281,-0.26093263665920746,-1.5160013445449143,-0.9359898977334827,0.28176566515491647,0.25728493779995126,-0.1659249477937885,-0.13895687610656993,-1.997548442478862,1.132732545040066,1.2739327462477517,0.16888236139169427,1.5187040036619632,-0.774538350480497,-0.23137553047304132,-2.5810982422012527,-1.9447360011477897,-0.14078455082043415,0.5776488661887422,-0.882519133144336,0.22691072302708074,-0.7011641433638972,-0.9519428369511796,-0.7660743937480502,-2.211696125505859,-0.7298692001517896,-0.34256034176711875,1.0823363602187954],\"y\":[-0.07201300572682906,-1.7813371536318778,-0.8200929720183177,1.6850747024543902,0.14373920902261458,0.9014962704276461,-1.0481652514408317,0.9677142806092884,0.2784556999294692,-0.808096455996858,0.5972504318570593,1.5193397017630752,0.1120776473758537,0.031459404038649844,-0.6419956711923979,1.3661547594810273,-0.19155366489041692,-1.1012658471042815,0.6282171051348472,-0.8716239697489461,-0.5626019647408662,0.6519591742110662,0.052616620786117244,-0.169397506886645,-0.5635490785509196,-0.22762662898988673,-1.2333147800078432,-0.7330246424512903,0.62354927944434,-0.5199034839952482,0.5678912530643067,0.2055567196710461,0.8482662446920417,0.8649241351693712,0.6677232214596046,1.4194969576533518,0.05987451399890696,0.5364829593269563,2.139167152838529,0.840048180328241,1.6044742679372017,0.32314142805402435,-0.1615677497467817,0.47260106016564707,1.0744435776511905,0.04847396319960681,-0.1508712997263981,-0.5759453801733477,-0.293997152323099,-0.44495079449735675,0.10907341855645045,1.057057230197365,-0.6190450725199533,0.17020215249976262,0.6415891478844767,2.1265419568789854,-0.463185134592524,2.1374017556563474,1.9151279933805916,-0.10117463654989918,-0.9176696227617764,0.40766039857072367,1.2898062553730296,0.1545348303988453,0.24644376482344738,1.374650744190713,0.10564871875845407,0.6408997652220568,0.3425626471892363,0.04986405193713072,-0.6646697915034648,-0.09997211172881224,0.23521389993867892,0.5523179868398935,-0.09287699374722193,-0.9999106553888348,-1.1150659445689572,1.737598024647142,0.08558665304809565,0.44566810012783964,0.9790451280395394,-0.6081735571910922,0.2345712090980208,-1.2467094141877713,-0.5195244934509475,0.7759209695129649,-0.955124047948974,0.40746936598386513,0.23668765547290643,-0.02128848593352963,1.8956579840616128,0.6594859840593594,0.4028552358561733,-1.0275742681985736,-1.0331453939669182,-0.28602693038106247,1.437346730839855,0.689133460013907,-1.0303054514876115,0.2488420672892611],\"type\":\"scatter\"}],                        {\"legend\":{\"bgcolor\":\"#F5F6F9\",\"font\":{\"color\":\"#4D5663\"}},\"paper_bgcolor\":\"#F5F6F9\",\"plot_bgcolor\":\"#F5F6F9\",\"template\":{\"data\":{\"barpolar\":[{\"marker\":{\"line\":{\"color\":\"#E5ECF6\",\"width\":0.5},\"pattern\":{\"fillmode\":\"overlay\",\"size\":10,\"solidity\":0.2}},\"type\":\"barpolar\"}],\"bar\":[{\"error_x\":{\"color\":\"#2a3f5f\"},\"error_y\":{\"color\":\"#2a3f5f\"},\"marker\":{\"line\":{\"color\":\"#E5ECF6\",\"width\":0.5},\"pattern\":{\"fillmode\":\"overlay\",\"size\":10,\"solidity\":0.2}},\"type\":\"bar\"}],\"carpet\":[{\"aaxis\":{\"endlinecolor\":\"#2a3f5f\",\"gridcolor\":\"white\",\"linecolor\":\"white\",\"minorgridcolor\":\"white\",\"startlinecolor\":\"#2a3f5f\"},\"baxis\":{\"endlinecolor\":\"#2a3f5f\",\"gridcolor\":\"white\",\"linecolor\":\"white\",\"minorgridcolor\":\"white\",\"startlinecolor\":\"#2a3f5f\"},\"type\":\"carpet\"}],\"choropleth\":[{\"colorbar\":{\"outlinewidth\":0,\"ticks\":\"\"},\"type\":\"choropleth\"}],\"contourcarpet\":[{\"colorbar\":{\"outlinewidth\":0,\"ticks\":\"\"},\"type\":\"contourcarpet\"}],\"contour\":[{\"colorbar\":{\"outlinewidth\":0,\"ticks\":\"\"},\"colorscale\":[[0.0,\"#0d0887\"],[0.1111111111111111,\"#46039f\"],[0.2222222222222222,\"#7201a8\"],[0.3333333333333333,\"#9c179e\"],[0.4444444444444444,\"#bd3786\"],[0.5555555555555556,\"#d8576b\"],[0.6666666666666666,\"#ed7953\"],[0.7777777777777778,\"#fb9f3a\"],[0.8888888888888888,\"#fdca26\"],[1.0,\"#f0f921\"]],\"type\":\"contour\"}],\"heatmapgl\":[{\"colorbar\":{\"outlinewidth\":0,\"ticks\":\"\"},\"colorscale\":[[0.0,\"#0d0887\"],[0.1111111111111111,\"#46039f\"],[0.2222222222222222,\"#7201a8\"],[0.3333333333333333,\"#9c179e\"],[0.4444444444444444,\"#bd3786\"],[0.5555555555555556,\"#d8576b\"],[0.6666666666666666,\"#ed7953\"],[0.7777777777777778,\"#fb9f3a\"],[0.8888888888888888,\"#fdca26\"],[1.0,\"#f0f921\"]],\"type\":\"heatmapgl\"}],\"heatmap\":[{\"colorbar\":{\"outlinewidth\":0,\"ticks\":\"\"},\"colorscale\":[[0.0,\"#0d0887\"],[0.1111111111111111,\"#46039f\"],[0.2222222222222222,\"#7201a8\"],[0.3333333333333333,\"#9c179e\"],[0.4444444444444444,\"#bd3786\"],[0.5555555555555556,\"#d8576b\"],[0.6666666666666666,\"#ed7953\"],[0.7777777777777778,\"#fb9f3a\"],[0.8888888888888888,\"#fdca26\"],[1.0,\"#f0f921\"]],\"type\":\"heatmap\"}],\"histogram2dcontour\":[{\"colorbar\":{\"outlinewidth\":0,\"ticks\":\"\"},\"colorscale\":[[0.0,\"#0d0887\"],[0.1111111111111111,\"#46039f\"],[0.2222222222222222,\"#7201a8\"],[0.3333333333333333,\"#9c179e\"],[0.4444444444444444,\"#bd3786\"],[0.5555555555555556,\"#d8576b\"],[0.6666666666666666,\"#ed7953\"],[0.7777777777777778,\"#fb9f3a\"],[0.8888888888888888,\"#fdca26\"],[1.0,\"#f0f921\"]],\"type\":\"histogram2dcontour\"}],\"histogram2d\":[{\"colorbar\":{\"outlinewidth\":0,\"ticks\":\"\"},\"colorscale\":[[0.0,\"#0d0887\"],[0.1111111111111111,\"#46039f\"],[0.2222222222222222,\"#7201a8\"],[0.3333333333333333,\"#9c179e\"],[0.4444444444444444,\"#bd3786\"],[0.5555555555555556,\"#d8576b\"],[0.6666666666666666,\"#ed7953\"],[0.7777777777777778,\"#fb9f3a\"],[0.8888888888888888,\"#fdca26\"],[1.0,\"#f0f921\"]],\"type\":\"histogram2d\"}],\"histogram\":[{\"marker\":{\"pattern\":{\"fillmode\":\"overlay\",\"size\":10,\"solidity\":0.2}},\"type\":\"histogram\"}],\"mesh3d\":[{\"colorbar\":{\"outlinewidth\":0,\"ticks\":\"\"},\"type\":\"mesh3d\"}],\"parcoords\":[{\"line\":{\"colorbar\":{\"outlinewidth\":0,\"ticks\":\"\"}},\"type\":\"parcoords\"}],\"pie\":[{\"automargin\":true,\"type\":\"pie\"}],\"scatter3d\":[{\"line\":{\"colorbar\":{\"outlinewidth\":0,\"ticks\":\"\"}},\"marker\":{\"colorbar\":{\"outlinewidth\":0,\"ticks\":\"\"}},\"type\":\"scatter3d\"}],\"scattercarpet\":[{\"marker\":{\"colorbar\":{\"outlinewidth\":0,\"ticks\":\"\"}},\"type\":\"scattercarpet\"}],\"scattergeo\":[{\"marker\":{\"colorbar\":{\"outlinewidth\":0,\"ticks\":\"\"}},\"type\":\"scattergeo\"}],\"scattergl\":[{\"marker\":{\"colorbar\":{\"outlinewidth\":0,\"ticks\":\"\"}},\"type\":\"scattergl\"}],\"scattermapbox\":[{\"marker\":{\"colorbar\":{\"outlinewidth\":0,\"ticks\":\"\"}},\"type\":\"scattermapbox\"}],\"scatterpolargl\":[{\"marker\":{\"colorbar\":{\"outlinewidth\":0,\"ticks\":\"\"}},\"type\":\"scatterpolargl\"}],\"scatterpolar\":[{\"marker\":{\"colorbar\":{\"outlinewidth\":0,\"ticks\":\"\"}},\"type\":\"scatterpolar\"}],\"scatter\":[{\"marker\":{\"colorbar\":{\"outlinewidth\":0,\"ticks\":\"\"}},\"type\":\"scatter\"}],\"scatterternary\":[{\"marker\":{\"colorbar\":{\"outlinewidth\":0,\"ticks\":\"\"}},\"type\":\"scatterternary\"}],\"surface\":[{\"colorbar\":{\"outlinewidth\":0,\"ticks\":\"\"},\"colorscale\":[[0.0,\"#0d0887\"],[0.1111111111111111,\"#46039f\"],[0.2222222222222222,\"#7201a8\"],[0.3333333333333333,\"#9c179e\"],[0.4444444444444444,\"#bd3786\"],[0.5555555555555556,\"#d8576b\"],[0.6666666666666666,\"#ed7953\"],[0.7777777777777778,\"#fb9f3a\"],[0.8888888888888888,\"#fdca26\"],[1.0,\"#f0f921\"]],\"type\":\"surface\"}],\"table\":[{\"cells\":{\"fill\":{\"color\":\"#EBF0F8\"},\"line\":{\"color\":\"white\"}},\"header\":{\"fill\":{\"color\":\"#C8D4E3\"},\"line\":{\"color\":\"white\"}},\"type\":\"table\"}]},\"layout\":{\"annotationdefaults\":{\"arrowcolor\":\"#2a3f5f\",\"arrowhead\":0,\"arrowwidth\":1},\"autotypenumbers\":\"strict\",\"coloraxis\":{\"colorbar\":{\"outlinewidth\":0,\"ticks\":\"\"}},\"colorscale\":{\"diverging\":[[0,\"#8e0152\"],[0.1,\"#c51b7d\"],[0.2,\"#de77ae\"],[0.3,\"#f1b6da\"],[0.4,\"#fde0ef\"],[0.5,\"#f7f7f7\"],[0.6,\"#e6f5d0\"],[0.7,\"#b8e186\"],[0.8,\"#7fbc41\"],[0.9,\"#4d9221\"],[1,\"#276419\"]],\"sequential\":[[0.0,\"#0d0887\"],[0.1111111111111111,\"#46039f\"],[0.2222222222222222,\"#7201a8\"],[0.3333333333333333,\"#9c179e\"],[0.4444444444444444,\"#bd3786\"],[0.5555555555555556,\"#d8576b\"],[0.6666666666666666,\"#ed7953\"],[0.7777777777777778,\"#fb9f3a\"],[0.8888888888888888,\"#fdca26\"],[1.0,\"#f0f921\"]],\"sequentialminus\":[[0.0,\"#0d0887\"],[0.1111111111111111,\"#46039f\"],[0.2222222222222222,\"#7201a8\"],[0.3333333333333333,\"#9c179e\"],[0.4444444444444444,\"#bd3786\"],[0.5555555555555556,\"#d8576b\"],[0.6666666666666666,\"#ed7953\"],[0.7777777777777778,\"#fb9f3a\"],[0.8888888888888888,\"#fdca26\"],[1.0,\"#f0f921\"]]},\"colorway\":[\"#636efa\",\"#EF553B\",\"#00cc96\",\"#ab63fa\",\"#FFA15A\",\"#19d3f3\",\"#FF6692\",\"#B6E880\",\"#FF97FF\",\"#FECB52\"],\"font\":{\"color\":\"#2a3f5f\"},\"geo\":{\"bgcolor\":\"white\",\"lakecolor\":\"white\",\"landcolor\":\"#E5ECF6\",\"showlakes\":true,\"showland\":true,\"subunitcolor\":\"white\"},\"hoverlabel\":{\"align\":\"left\"},\"hovermode\":\"closest\",\"mapbox\":{\"style\":\"light\"},\"paper_bgcolor\":\"white\",\"plot_bgcolor\":\"#E5ECF6\",\"polar\":{\"angularaxis\":{\"gridcolor\":\"white\",\"linecolor\":\"white\",\"ticks\":\"\"},\"bgcolor\":\"#E5ECF6\",\"radialaxis\":{\"gridcolor\":\"white\",\"linecolor\":\"white\",\"ticks\":\"\"}},\"scene\":{\"xaxis\":{\"backgroundcolor\":\"#E5ECF6\",\"gridcolor\":\"white\",\"gridwidth\":2,\"linecolor\":\"white\",\"showbackground\":true,\"ticks\":\"\",\"zerolinecolor\":\"white\"},\"yaxis\":{\"backgroundcolor\":\"#E5ECF6\",\"gridcolor\":\"white\",\"gridwidth\":2,\"linecolor\":\"white\",\"showbackground\":true,\"ticks\":\"\",\"zerolinecolor\":\"white\"},\"zaxis\":{\"backgroundcolor\":\"#E5ECF6\",\"gridcolor\":\"white\",\"gridwidth\":2,\"linecolor\":\"white\",\"showbackground\":true,\"ticks\":\"\",\"zerolinecolor\":\"white\"}},\"shapedefaults\":{\"line\":{\"color\":\"#2a3f5f\"}},\"ternary\":{\"aaxis\":{\"gridcolor\":\"white\",\"linecolor\":\"white\",\"ticks\":\"\"},\"baxis\":{\"gridcolor\":\"white\",\"linecolor\":\"white\",\"ticks\":\"\"},\"bgcolor\":\"#E5ECF6\",\"caxis\":{\"gridcolor\":\"white\",\"linecolor\":\"white\",\"ticks\":\"\"}},\"title\":{\"x\":0.05},\"xaxis\":{\"automargin\":true,\"gridcolor\":\"white\",\"linecolor\":\"white\",\"ticks\":\"\",\"title\":{\"standoff\":15},\"zerolinecolor\":\"white\",\"zerolinewidth\":2},\"yaxis\":{\"automargin\":true,\"gridcolor\":\"white\",\"linecolor\":\"white\",\"ticks\":\"\",\"title\":{\"standoff\":15},\"zerolinecolor\":\"white\",\"zerolinewidth\":2}}},\"title\":{\"font\":{\"color\":\"#4D5663\"}},\"xaxis\":{\"gridcolor\":\"#E1E5ED\",\"showgrid\":true,\"tickfont\":{\"color\":\"#4D5663\"},\"title\":{\"font\":{\"color\":\"#4D5663\"},\"text\":\"\"},\"zerolinecolor\":\"#E1E5ED\"},\"yaxis\":{\"gridcolor\":\"#E1E5ED\",\"showgrid\":true,\"tickfont\":{\"color\":\"#4D5663\"},\"title\":{\"font\":{\"color\":\"#4D5663\"},\"text\":\"\"},\"zerolinecolor\":\"#E1E5ED\"}},                        {\"showLink\": true, \"linkText\": \"Export to plot.ly\", \"plotlyServerURL\": \"https://plot.ly\", \"responsive\": true}                    ).then(function(){\n",
       "                            \n",
       "var gd = document.getElementById('a1796bde-c09d-4e0d-b2f4-0371136d4255');\n",
       "var x = new MutationObserver(function (mutations, observer) {{\n",
       "        var display = window.getComputedStyle(gd).display;\n",
       "        if (!display || display === 'none') {{\n",
       "            console.log([gd, 'removed!']);\n",
       "            Plotly.purge(gd);\n",
       "            observer.disconnect();\n",
       "        }}\n",
       "}});\n",
       "\n",
       "// Listen for the removal of the full notebook cells\n",
       "var notebookContainer = gd.closest('#notebook-container');\n",
       "if (notebookContainer) {{\n",
       "    x.observe(notebookContainer, {childList: true});\n",
       "}}\n",
       "\n",
       "// Listen for the clearing of the current output cell\n",
       "var outputEl = gd.closest('.output');\n",
       "if (outputEl) {{\n",
       "    x.observe(outputEl, {childList: true});\n",
       "}}\n",
       "\n",
       "                        })                };                });            </script>        </div>"
      ]
     },
     "metadata": {},
     "output_type": "display_data"
    }
   ],
   "source": [
    "df.iplot(kind='bubble',x='A',y='B',size='C')"
   ]
  },
  {
   "cell_type": "markdown",
   "metadata": {},
   "source": [
    "## scatter_matrix()\n",
    "\n",
    "Similar to sns.pairplot()"
   ]
  },
  {
   "cell_type": "code",
   "execution_count": 18,
   "metadata": {
    "scrolled": true
   },
   "outputs": [
    {
     "data": {
      "application/vnd.plotly.v1+json": {
       "config": {
        "linkText": "Export to plot.ly",
        "plotlyServerURL": "https://plot.ly",
        "showLink": true
       },
       "data": [
        {
         "histfunc": "count",
         "histnorm": "",
         "marker": {
          "color": "rgba(255, 153, 51, 1.0)",
          "line": {
           "color": "#4D5663",
           "width": 1.3
          }
         },
         "name": "A",
         "nbinsx": 10,
         "opacity": 0.8,
         "orientation": "v",
         "type": "histogram",
         "x": [
          -0.08696362399272553,
          0.11829315027705818,
          2.342856948597935,
          -1.503776880344004,
          0.045725881655566944,
          -0.12928100391232758,
          -1.036616358261247,
          0.10233820019024022,
          0.7544009950060778,
          1.119361123299176,
          -0.12168280829613869,
          -2.5141385692708162,
          0.8641734038037336,
          0.5615068860097867,
          -0.3618584895915859,
          -0.457493569108614,
          -0.7407705698927969,
          1.1100806879640044,
          -0.8436326812336624,
          -0.48194108799061275,
          -1.4283203300649514,
          -0.005528020954320215,
          0.6545934828776457,
          -0.3764165478866233,
          -0.7019587962207577,
          -2.1331489184945993,
          -1.5599707684625428,
          0.1755715299771797,
          0.13351195861619805,
          1.368573023242335,
          -0.3277442434772406,
          2.0071797704419105,
          1.0348622076293386,
          1.3772601634896795,
          -1.3690674657036475,
          -0.041160364008156404,
          0.3875459772294022,
          0.9653394848516135,
          -0.625061639729154,
          0.3400475723960751,
          0.8627064249099288,
          0.13396042173723252,
          0.4156667557269354,
          0.026797539151673128,
          0.405065409950036,
          0.7292637466264922,
          0.21898544855905366,
          0.2079755266846345,
          1.7031803281598694,
          1.0332873337748185,
          -0.08186366407943726,
          0.31908800200591075,
          -0.0831876976123175,
          -0.6307622500712357,
          0.11880043187804375,
          -0.8245533725750579,
          -0.6781822263791778,
          -0.17005988571480388,
          -1.6516093618334853,
          -0.8238222820076299,
          0.25641890902102926,
          -0.3322067616366865,
          1.4101018248811763,
          -1.1291979327906585,
          1.6890614664254615,
          -2.329076558908018,
          1.0769218217409133,
          0.1745963287674994,
          -0.8317798804560796,
          -1.1970027388103093,
          -3.0019528425038247,
          -0.23762122812809972,
          -0.4972338749701281,
          -0.26093263665920746,
          -1.5160013445449143,
          -0.9359898977334827,
          0.28176566515491647,
          0.25728493779995126,
          -0.1659249477937885,
          -0.13895687610656993,
          -1.997548442478862,
          1.132732545040066,
          1.2739327462477517,
          0.16888236139169427,
          1.5187040036619632,
          -0.774538350480497,
          -0.23137553047304132,
          -2.5810982422012527,
          -1.9447360011477897,
          -0.14078455082043415,
          0.5776488661887422,
          -0.882519133144336,
          0.22691072302708074,
          -0.7011641433638972,
          -0.9519428369511796,
          -0.7660743937480502,
          -2.211696125505859,
          -0.7298692001517896,
          -0.34256034176711875,
          1.0823363602187954
         ],
         "xaxis": "x",
         "yaxis": "y"
        },
        {
         "line": {
          "color": "rgba(128, 128, 128, 1.0)",
          "dash": "solid",
          "shape": "linear",
          "width": 1.3
         },
         "marker": {
          "size": 2,
          "symbol": "circle"
         },
         "mode": "markers",
         "name": "A",
         "text": "",
         "type": "scatter",
         "x": [
          -0.07201300572682906,
          -1.7813371536318778,
          -0.8200929720183177,
          1.6850747024543902,
          0.14373920902261458,
          0.9014962704276461,
          -1.0481652514408317,
          0.9677142806092884,
          0.2784556999294692,
          -0.808096455996858,
          0.5972504318570593,
          1.5193397017630752,
          0.1120776473758537,
          0.031459404038649844,
          -0.6419956711923979,
          1.3661547594810273,
          -0.19155366489041692,
          -1.1012658471042815,
          0.6282171051348472,
          -0.8716239697489461,
          -0.5626019647408662,
          0.6519591742110662,
          0.052616620786117244,
          -0.169397506886645,
          -0.5635490785509196,
          -0.22762662898988673,
          -1.2333147800078432,
          -0.7330246424512903,
          0.62354927944434,
          -0.5199034839952482,
          0.5678912530643067,
          0.2055567196710461,
          0.8482662446920417,
          0.8649241351693712,
          0.6677232214596046,
          1.4194969576533518,
          0.05987451399890696,
          0.5364829593269563,
          2.139167152838529,
          0.840048180328241,
          1.6044742679372017,
          0.32314142805402435,
          -0.1615677497467817,
          0.47260106016564707,
          1.0744435776511905,
          0.04847396319960681,
          -0.1508712997263981,
          -0.5759453801733477,
          -0.293997152323099,
          -0.44495079449735675,
          0.10907341855645045,
          1.057057230197365,
          -0.6190450725199533,
          0.17020215249976262,
          0.6415891478844767,
          2.1265419568789854,
          -0.463185134592524,
          2.1374017556563474,
          1.9151279933805916,
          -0.10117463654989918,
          -0.9176696227617764,
          0.40766039857072367,
          1.2898062553730296,
          0.1545348303988453,
          0.24644376482344738,
          1.374650744190713,
          0.10564871875845407,
          0.6408997652220568,
          0.3425626471892363,
          0.04986405193713072,
          -0.6646697915034648,
          -0.09997211172881224,
          0.23521389993867892,
          0.5523179868398935,
          -0.09287699374722193,
          -0.9999106553888348,
          -1.1150659445689572,
          1.737598024647142,
          0.08558665304809565,
          0.44566810012783964,
          0.9790451280395394,
          -0.6081735571910922,
          0.2345712090980208,
          -1.2467094141877713,
          -0.5195244934509475,
          0.7759209695129649,
          -0.955124047948974,
          0.40746936598386513,
          0.23668765547290643,
          -0.02128848593352963,
          1.8956579840616128,
          0.6594859840593594,
          0.4028552358561733,
          -1.0275742681985736,
          -1.0331453939669182,
          -0.28602693038106247,
          1.437346730839855,
          0.689133460013907,
          -1.0303054514876115,
          0.2488420672892611
         ],
         "xaxis": "x2",
         "y": [
          -0.08696362399272553,
          0.11829315027705818,
          2.342856948597935,
          -1.503776880344004,
          0.045725881655566944,
          -0.12928100391232758,
          -1.036616358261247,
          0.10233820019024022,
          0.7544009950060778,
          1.119361123299176,
          -0.12168280829613869,
          -2.5141385692708162,
          0.8641734038037336,
          0.5615068860097867,
          -0.3618584895915859,
          -0.457493569108614,
          -0.7407705698927969,
          1.1100806879640044,
          -0.8436326812336624,
          -0.48194108799061275,
          -1.4283203300649514,
          -0.005528020954320215,
          0.6545934828776457,
          -0.3764165478866233,
          -0.7019587962207577,
          -2.1331489184945993,
          -1.5599707684625428,
          0.1755715299771797,
          0.13351195861619805,
          1.368573023242335,
          -0.3277442434772406,
          2.0071797704419105,
          1.0348622076293386,
          1.3772601634896795,
          -1.3690674657036475,
          -0.041160364008156404,
          0.3875459772294022,
          0.9653394848516135,
          -0.625061639729154,
          0.3400475723960751,
          0.8627064249099288,
          0.13396042173723252,
          0.4156667557269354,
          0.026797539151673128,
          0.405065409950036,
          0.7292637466264922,
          0.21898544855905366,
          0.2079755266846345,
          1.7031803281598694,
          1.0332873337748185,
          -0.08186366407943726,
          0.31908800200591075,
          -0.0831876976123175,
          -0.6307622500712357,
          0.11880043187804375,
          -0.8245533725750579,
          -0.6781822263791778,
          -0.17005988571480388,
          -1.6516093618334853,
          -0.8238222820076299,
          0.25641890902102926,
          -0.3322067616366865,
          1.4101018248811763,
          -1.1291979327906585,
          1.6890614664254615,
          -2.329076558908018,
          1.0769218217409133,
          0.1745963287674994,
          -0.8317798804560796,
          -1.1970027388103093,
          -3.0019528425038247,
          -0.23762122812809972,
          -0.4972338749701281,
          -0.26093263665920746,
          -1.5160013445449143,
          -0.9359898977334827,
          0.28176566515491647,
          0.25728493779995126,
          -0.1659249477937885,
          -0.13895687610656993,
          -1.997548442478862,
          1.132732545040066,
          1.2739327462477517,
          0.16888236139169427,
          1.5187040036619632,
          -0.774538350480497,
          -0.23137553047304132,
          -2.5810982422012527,
          -1.9447360011477897,
          -0.14078455082043415,
          0.5776488661887422,
          -0.882519133144336,
          0.22691072302708074,
          -0.7011641433638972,
          -0.9519428369511796,
          -0.7660743937480502,
          -2.211696125505859,
          -0.7298692001517896,
          -0.34256034176711875,
          1.0823363602187954
         ],
         "yaxis": "y2"
        },
        {
         "line": {
          "color": "rgba(128, 128, 128, 1.0)",
          "dash": "solid",
          "shape": "linear",
          "width": 1.3
         },
         "marker": {
          "size": 2,
          "symbol": "circle"
         },
         "mode": "markers",
         "name": "A",
         "text": "",
         "type": "scatter",
         "x": [
          -0.2687222025616364,
          0.9790459071799593,
          1.3053132248573984,
          0.029031443883402463,
          -0.8249852637997415,
          0.25896585569400143,
          0.09353457487812457,
          -0.6549257433321267,
          0.8404127778943362,
          0.5402301024200056,
          1.10960732874297,
          -0.15274023520581026,
          0.17371388758794312,
          -1.9907588451111633,
          0.12872612357135807,
          2.160670717650376,
          -1.7475624525991886,
          -0.03336558578493379,
          0.5178846669857563,
          0.4897598239617059,
          -0.6920258949102948,
          -0.27176227781509704,
          -0.7207298225338928,
          0.07434744133123929,
          -1.460475960869606,
          0.02683886348236559,
          0.6681882011720379,
          0.019275771183780255,
          -0.9621026561212102,
          0.7600942862700305,
          1.2891750222683158,
          -1.8225236726235388,
          -0.7743725389055496,
          0.5736096926037494,
          0.05519744257474495,
          0.3240068780213534,
          0.07530498457075546,
          -1.9044778427939197,
          0.8875999652545417,
          1.5499274224730382,
          -1.7160455021360528,
          0.1339041395482517,
          -0.7971920167666137,
          -0.28631271493709487,
          -0.783173039285525,
          -0.027747165527620066,
          -1.9988239452168048,
          -0.7409776856907827,
          -0.7201730031465646,
          1.335600407260753,
          -0.4224946886228251,
          0.25490106093374937,
          0.1919704932973419,
          -1.1881153388372703,
          -0.7322584440159531,
          -0.31448638964215764,
          -0.3629770382615635,
          2.1045622546051734,
          -0.8296239124628296,
          0.6414351133613407,
          1.1588872311372636,
          0.3809747603204056,
          -1.2149704700002366,
          -1.820316384248371,
          0.9281350154451435,
          -0.3172650849355808,
          -1.0309860047557216,
          1.7831225907492916,
          1.614081403629405,
          -0.6182197635206698,
          0.47856814709054163,
          -0.10440593786332424,
          -0.342259198652757,
          -0.3458284640226747,
          0.9090775504264496,
          -1.618642867168309,
          1.4991548699135433,
          -0.6702021182528046,
          -2.0339441296931087,
          1.1541083897833497,
          -0.23775648512402525,
          -0.10399097731965196,
          1.4335647751010416,
          -0.2111648691027632,
          -0.8023911517541695,
          0.443578093491491,
          -0.5206511148817367,
          0.6737836652916785,
          0.7619298677284297,
          0.25071896003998256,
          1.0748781215006178,
          -0.41297336169250415,
          -0.9786152392537483,
          0.34504994864114796,
          -1.1101943059275852,
          2.296091238792947,
          2.5342978744249933,
          -1.0933397155502977,
          0.5779415537524153,
          -0.42713821751546005
         ],
         "xaxis": "x3",
         "y": [
          -0.08696362399272553,
          0.11829315027705818,
          2.342856948597935,
          -1.503776880344004,
          0.045725881655566944,
          -0.12928100391232758,
          -1.036616358261247,
          0.10233820019024022,
          0.7544009950060778,
          1.119361123299176,
          -0.12168280829613869,
          -2.5141385692708162,
          0.8641734038037336,
          0.5615068860097867,
          -0.3618584895915859,
          -0.457493569108614,
          -0.7407705698927969,
          1.1100806879640044,
          -0.8436326812336624,
          -0.48194108799061275,
          -1.4283203300649514,
          -0.005528020954320215,
          0.6545934828776457,
          -0.3764165478866233,
          -0.7019587962207577,
          -2.1331489184945993,
          -1.5599707684625428,
          0.1755715299771797,
          0.13351195861619805,
          1.368573023242335,
          -0.3277442434772406,
          2.0071797704419105,
          1.0348622076293386,
          1.3772601634896795,
          -1.3690674657036475,
          -0.041160364008156404,
          0.3875459772294022,
          0.9653394848516135,
          -0.625061639729154,
          0.3400475723960751,
          0.8627064249099288,
          0.13396042173723252,
          0.4156667557269354,
          0.026797539151673128,
          0.405065409950036,
          0.7292637466264922,
          0.21898544855905366,
          0.2079755266846345,
          1.7031803281598694,
          1.0332873337748185,
          -0.08186366407943726,
          0.31908800200591075,
          -0.0831876976123175,
          -0.6307622500712357,
          0.11880043187804375,
          -0.8245533725750579,
          -0.6781822263791778,
          -0.17005988571480388,
          -1.6516093618334853,
          -0.8238222820076299,
          0.25641890902102926,
          -0.3322067616366865,
          1.4101018248811763,
          -1.1291979327906585,
          1.6890614664254615,
          -2.329076558908018,
          1.0769218217409133,
          0.1745963287674994,
          -0.8317798804560796,
          -1.1970027388103093,
          -3.0019528425038247,
          -0.23762122812809972,
          -0.4972338749701281,
          -0.26093263665920746,
          -1.5160013445449143,
          -0.9359898977334827,
          0.28176566515491647,
          0.25728493779995126,
          -0.1659249477937885,
          -0.13895687610656993,
          -1.997548442478862,
          1.132732545040066,
          1.2739327462477517,
          0.16888236139169427,
          1.5187040036619632,
          -0.774538350480497,
          -0.23137553047304132,
          -2.5810982422012527,
          -1.9447360011477897,
          -0.14078455082043415,
          0.5776488661887422,
          -0.882519133144336,
          0.22691072302708074,
          -0.7011641433638972,
          -0.9519428369511796,
          -0.7660743937480502,
          -2.211696125505859,
          -0.7298692001517896,
          -0.34256034176711875,
          1.0823363602187954
         ],
         "yaxis": "y3"
        },
        {
         "line": {
          "color": "rgba(128, 128, 128, 1.0)",
          "dash": "solid",
          "shape": "linear",
          "width": 1.3
         },
         "marker": {
          "size": 2,
          "symbol": "circle"
         },
         "mode": "markers",
         "name": "A",
         "text": "",
         "type": "scatter",
         "x": [
          0.8158971675704957,
          -0.9247032764534023,
          -0.311305343922232,
          0.19649202066341478,
          -0.49121075824855936,
          0.19774851548959338,
          -0.2612112627181056,
          -0.17624261758799198,
          1.8635403345354116,
          0.6435155836696956,
          -0.7725614331558435,
          -1.336661850714919,
          0.5911284727411863,
          -0.419448767421804,
          -1.4973983682062675,
          0.7412503782484586,
          -1.2077590309944715,
          1.1582012051017128,
          1.0475339683672564,
          -0.4926229010721131,
          -1.5682667722785322,
          1.3664900998778577,
          0.1511914245836227,
          0.16325805596625265,
          -0.8404698895977619,
          -0.457062429938257,
          -1.063206144385867,
          -0.6118486038553693,
          0.0554840535356453,
          0.26261236795708387,
          -0.2523452151795576,
          0.6242595967870732,
          0.3447776598437408,
          -0.3725526431666693,
          -0.28705101108689346,
          -0.6858519310562384,
          0.16247053594976332,
          2.8765317724460626,
          -2.563049342297222,
          0.15077909567341413,
          0.812686485174692,
          0.4578237688041664,
          -2.156205618193542,
          0.09851306847411394,
          0.8887460255748875,
          1.8320435641715378,
          0.2661270625818316,
          -0.3857699423820425,
          1.3998015252347111,
          -0.849926770135583,
          -0.6678189878614921,
          0.7428684859628628,
          0.23298751807848125,
          0.1996855347257156,
          -0.5651891338155755,
          0.3305721754433949,
          -0.46398923220845534,
          0.6559841638588461,
          0.675581841004044,
          -2.9152421718179165,
          0.7074993712386847,
          0.41874443391834054,
          0.37612801233207793,
          -1.2354554102353668,
          1.3181834438146,
          -0.18767369030918887,
          0.7430518879982969,
          -0.7281710532574133,
          -0.7641249360162816,
          1.146366546420054,
          -0.3074832875220709,
          -1.518494547065494,
          1.5331728969981846,
          -0.49865985360576587,
          -2.028951010037112,
          0.25613869109616066,
          0.31131046531423406,
          1.4367177434611031,
          -0.21727986429976084,
          -1.1290213083308243,
          -1.300840207892754,
          -0.073615533894691,
          -0.9662138924923768,
          1.6865084893261557,
          0.3947214641259405,
          0.4149588033506848,
          0.7885038245466549,
          1.1435253347699024,
          1.1891186382261552,
          -1.0359643229670896,
          -1.5814202307029128,
          -1.0238146231717786,
          -0.18577665836800164,
          0.5493747432224384,
          -2.098833394118898,
          -0.3059816140305973,
          0.19904612167811447,
          0.04106242727781146,
          -0.8155890802181568,
          1.158218091987929
         ],
         "xaxis": "x4",
         "y": [
          -0.08696362399272553,
          0.11829315027705818,
          2.342856948597935,
          -1.503776880344004,
          0.045725881655566944,
          -0.12928100391232758,
          -1.036616358261247,
          0.10233820019024022,
          0.7544009950060778,
          1.119361123299176,
          -0.12168280829613869,
          -2.5141385692708162,
          0.8641734038037336,
          0.5615068860097867,
          -0.3618584895915859,
          -0.457493569108614,
          -0.7407705698927969,
          1.1100806879640044,
          -0.8436326812336624,
          -0.48194108799061275,
          -1.4283203300649514,
          -0.005528020954320215,
          0.6545934828776457,
          -0.3764165478866233,
          -0.7019587962207577,
          -2.1331489184945993,
          -1.5599707684625428,
          0.1755715299771797,
          0.13351195861619805,
          1.368573023242335,
          -0.3277442434772406,
          2.0071797704419105,
          1.0348622076293386,
          1.3772601634896795,
          -1.3690674657036475,
          -0.041160364008156404,
          0.3875459772294022,
          0.9653394848516135,
          -0.625061639729154,
          0.3400475723960751,
          0.8627064249099288,
          0.13396042173723252,
          0.4156667557269354,
          0.026797539151673128,
          0.405065409950036,
          0.7292637466264922,
          0.21898544855905366,
          0.2079755266846345,
          1.7031803281598694,
          1.0332873337748185,
          -0.08186366407943726,
          0.31908800200591075,
          -0.0831876976123175,
          -0.6307622500712357,
          0.11880043187804375,
          -0.8245533725750579,
          -0.6781822263791778,
          -0.17005988571480388,
          -1.6516093618334853,
          -0.8238222820076299,
          0.25641890902102926,
          -0.3322067616366865,
          1.4101018248811763,
          -1.1291979327906585,
          1.6890614664254615,
          -2.329076558908018,
          1.0769218217409133,
          0.1745963287674994,
          -0.8317798804560796,
          -1.1970027388103093,
          -3.0019528425038247,
          -0.23762122812809972,
          -0.4972338749701281,
          -0.26093263665920746,
          -1.5160013445449143,
          -0.9359898977334827,
          0.28176566515491647,
          0.25728493779995126,
          -0.1659249477937885,
          -0.13895687610656993,
          -1.997548442478862,
          1.132732545040066,
          1.2739327462477517,
          0.16888236139169427,
          1.5187040036619632,
          -0.774538350480497,
          -0.23137553047304132,
          -2.5810982422012527,
          -1.9447360011477897,
          -0.14078455082043415,
          0.5776488661887422,
          -0.882519133144336,
          0.22691072302708074,
          -0.7011641433638972,
          -0.9519428369511796,
          -0.7660743937480502,
          -2.211696125505859,
          -0.7298692001517896,
          -0.34256034176711875,
          1.0823363602187954
         ],
         "yaxis": "y4"
        },
        {
         "line": {
          "color": "rgba(128, 128, 128, 1.0)",
          "dash": "solid",
          "shape": "linear",
          "width": 1.3
         },
         "marker": {
          "size": 2,
          "symbol": "circle"
         },
         "mode": "markers",
         "name": "B",
         "text": "",
         "type": "scatter",
         "x": [
          -0.08696362399272553,
          0.11829315027705818,
          2.342856948597935,
          -1.503776880344004,
          0.045725881655566944,
          -0.12928100391232758,
          -1.036616358261247,
          0.10233820019024022,
          0.7544009950060778,
          1.119361123299176,
          -0.12168280829613869,
          -2.5141385692708162,
          0.8641734038037336,
          0.5615068860097867,
          -0.3618584895915859,
          -0.457493569108614,
          -0.7407705698927969,
          1.1100806879640044,
          -0.8436326812336624,
          -0.48194108799061275,
          -1.4283203300649514,
          -0.005528020954320215,
          0.6545934828776457,
          -0.3764165478866233,
          -0.7019587962207577,
          -2.1331489184945993,
          -1.5599707684625428,
          0.1755715299771797,
          0.13351195861619805,
          1.368573023242335,
          -0.3277442434772406,
          2.0071797704419105,
          1.0348622076293386,
          1.3772601634896795,
          -1.3690674657036475,
          -0.041160364008156404,
          0.3875459772294022,
          0.9653394848516135,
          -0.625061639729154,
          0.3400475723960751,
          0.8627064249099288,
          0.13396042173723252,
          0.4156667557269354,
          0.026797539151673128,
          0.405065409950036,
          0.7292637466264922,
          0.21898544855905366,
          0.2079755266846345,
          1.7031803281598694,
          1.0332873337748185,
          -0.08186366407943726,
          0.31908800200591075,
          -0.0831876976123175,
          -0.6307622500712357,
          0.11880043187804375,
          -0.8245533725750579,
          -0.6781822263791778,
          -0.17005988571480388,
          -1.6516093618334853,
          -0.8238222820076299,
          0.25641890902102926,
          -0.3322067616366865,
          1.4101018248811763,
          -1.1291979327906585,
          1.6890614664254615,
          -2.329076558908018,
          1.0769218217409133,
          0.1745963287674994,
          -0.8317798804560796,
          -1.1970027388103093,
          -3.0019528425038247,
          -0.23762122812809972,
          -0.4972338749701281,
          -0.26093263665920746,
          -1.5160013445449143,
          -0.9359898977334827,
          0.28176566515491647,
          0.25728493779995126,
          -0.1659249477937885,
          -0.13895687610656993,
          -1.997548442478862,
          1.132732545040066,
          1.2739327462477517,
          0.16888236139169427,
          1.5187040036619632,
          -0.774538350480497,
          -0.23137553047304132,
          -2.5810982422012527,
          -1.9447360011477897,
          -0.14078455082043415,
          0.5776488661887422,
          -0.882519133144336,
          0.22691072302708074,
          -0.7011641433638972,
          -0.9519428369511796,
          -0.7660743937480502,
          -2.211696125505859,
          -0.7298692001517896,
          -0.34256034176711875,
          1.0823363602187954
         ],
         "xaxis": "x5",
         "y": [
          -0.07201300572682906,
          -1.7813371536318778,
          -0.8200929720183177,
          1.6850747024543902,
          0.14373920902261458,
          0.9014962704276461,
          -1.0481652514408317,
          0.9677142806092884,
          0.2784556999294692,
          -0.808096455996858,
          0.5972504318570593,
          1.5193397017630752,
          0.1120776473758537,
          0.031459404038649844,
          -0.6419956711923979,
          1.3661547594810273,
          -0.19155366489041692,
          -1.1012658471042815,
          0.6282171051348472,
          -0.8716239697489461,
          -0.5626019647408662,
          0.6519591742110662,
          0.052616620786117244,
          -0.169397506886645,
          -0.5635490785509196,
          -0.22762662898988673,
          -1.2333147800078432,
          -0.7330246424512903,
          0.62354927944434,
          -0.5199034839952482,
          0.5678912530643067,
          0.2055567196710461,
          0.8482662446920417,
          0.8649241351693712,
          0.6677232214596046,
          1.4194969576533518,
          0.05987451399890696,
          0.5364829593269563,
          2.139167152838529,
          0.840048180328241,
          1.6044742679372017,
          0.32314142805402435,
          -0.1615677497467817,
          0.47260106016564707,
          1.0744435776511905,
          0.04847396319960681,
          -0.1508712997263981,
          -0.5759453801733477,
          -0.293997152323099,
          -0.44495079449735675,
          0.10907341855645045,
          1.057057230197365,
          -0.6190450725199533,
          0.17020215249976262,
          0.6415891478844767,
          2.1265419568789854,
          -0.463185134592524,
          2.1374017556563474,
          1.9151279933805916,
          -0.10117463654989918,
          -0.9176696227617764,
          0.40766039857072367,
          1.2898062553730296,
          0.1545348303988453,
          0.24644376482344738,
          1.374650744190713,
          0.10564871875845407,
          0.6408997652220568,
          0.3425626471892363,
          0.04986405193713072,
          -0.6646697915034648,
          -0.09997211172881224,
          0.23521389993867892,
          0.5523179868398935,
          -0.09287699374722193,
          -0.9999106553888348,
          -1.1150659445689572,
          1.737598024647142,
          0.08558665304809565,
          0.44566810012783964,
          0.9790451280395394,
          -0.6081735571910922,
          0.2345712090980208,
          -1.2467094141877713,
          -0.5195244934509475,
          0.7759209695129649,
          -0.955124047948974,
          0.40746936598386513,
          0.23668765547290643,
          -0.02128848593352963,
          1.8956579840616128,
          0.6594859840593594,
          0.4028552358561733,
          -1.0275742681985736,
          -1.0331453939669182,
          -0.28602693038106247,
          1.437346730839855,
          0.689133460013907,
          -1.0303054514876115,
          0.2488420672892611
         ],
         "yaxis": "y5"
        },
        {
         "histfunc": "count",
         "histnorm": "",
         "marker": {
          "color": "rgba(55, 128, 191, 1.0)",
          "line": {
           "color": "#4D5663",
           "width": 1.3
          }
         },
         "name": "B",
         "nbinsx": 10,
         "opacity": 0.8,
         "orientation": "v",
         "type": "histogram",
         "x": [
          -0.07201300572682906,
          -1.7813371536318778,
          -0.8200929720183177,
          1.6850747024543902,
          0.14373920902261458,
          0.9014962704276461,
          -1.0481652514408317,
          0.9677142806092884,
          0.2784556999294692,
          -0.808096455996858,
          0.5972504318570593,
          1.5193397017630752,
          0.1120776473758537,
          0.031459404038649844,
          -0.6419956711923979,
          1.3661547594810273,
          -0.19155366489041692,
          -1.1012658471042815,
          0.6282171051348472,
          -0.8716239697489461,
          -0.5626019647408662,
          0.6519591742110662,
          0.052616620786117244,
          -0.169397506886645,
          -0.5635490785509196,
          -0.22762662898988673,
          -1.2333147800078432,
          -0.7330246424512903,
          0.62354927944434,
          -0.5199034839952482,
          0.5678912530643067,
          0.2055567196710461,
          0.8482662446920417,
          0.8649241351693712,
          0.6677232214596046,
          1.4194969576533518,
          0.05987451399890696,
          0.5364829593269563,
          2.139167152838529,
          0.840048180328241,
          1.6044742679372017,
          0.32314142805402435,
          -0.1615677497467817,
          0.47260106016564707,
          1.0744435776511905,
          0.04847396319960681,
          -0.1508712997263981,
          -0.5759453801733477,
          -0.293997152323099,
          -0.44495079449735675,
          0.10907341855645045,
          1.057057230197365,
          -0.6190450725199533,
          0.17020215249976262,
          0.6415891478844767,
          2.1265419568789854,
          -0.463185134592524,
          2.1374017556563474,
          1.9151279933805916,
          -0.10117463654989918,
          -0.9176696227617764,
          0.40766039857072367,
          1.2898062553730296,
          0.1545348303988453,
          0.24644376482344738,
          1.374650744190713,
          0.10564871875845407,
          0.6408997652220568,
          0.3425626471892363,
          0.04986405193713072,
          -0.6646697915034648,
          -0.09997211172881224,
          0.23521389993867892,
          0.5523179868398935,
          -0.09287699374722193,
          -0.9999106553888348,
          -1.1150659445689572,
          1.737598024647142,
          0.08558665304809565,
          0.44566810012783964,
          0.9790451280395394,
          -0.6081735571910922,
          0.2345712090980208,
          -1.2467094141877713,
          -0.5195244934509475,
          0.7759209695129649,
          -0.955124047948974,
          0.40746936598386513,
          0.23668765547290643,
          -0.02128848593352963,
          1.8956579840616128,
          0.6594859840593594,
          0.4028552358561733,
          -1.0275742681985736,
          -1.0331453939669182,
          -0.28602693038106247,
          1.437346730839855,
          0.689133460013907,
          -1.0303054514876115,
          0.2488420672892611
         ],
         "xaxis": "x6",
         "yaxis": "y6"
        },
        {
         "line": {
          "color": "rgba(128, 128, 128, 1.0)",
          "dash": "solid",
          "shape": "linear",
          "width": 1.3
         },
         "marker": {
          "size": 2,
          "symbol": "circle"
         },
         "mode": "markers",
         "name": "B",
         "text": "",
         "type": "scatter",
         "x": [
          -0.2687222025616364,
          0.9790459071799593,
          1.3053132248573984,
          0.029031443883402463,
          -0.8249852637997415,
          0.25896585569400143,
          0.09353457487812457,
          -0.6549257433321267,
          0.8404127778943362,
          0.5402301024200056,
          1.10960732874297,
          -0.15274023520581026,
          0.17371388758794312,
          -1.9907588451111633,
          0.12872612357135807,
          2.160670717650376,
          -1.7475624525991886,
          -0.03336558578493379,
          0.5178846669857563,
          0.4897598239617059,
          -0.6920258949102948,
          -0.27176227781509704,
          -0.7207298225338928,
          0.07434744133123929,
          -1.460475960869606,
          0.02683886348236559,
          0.6681882011720379,
          0.019275771183780255,
          -0.9621026561212102,
          0.7600942862700305,
          1.2891750222683158,
          -1.8225236726235388,
          -0.7743725389055496,
          0.5736096926037494,
          0.05519744257474495,
          0.3240068780213534,
          0.07530498457075546,
          -1.9044778427939197,
          0.8875999652545417,
          1.5499274224730382,
          -1.7160455021360528,
          0.1339041395482517,
          -0.7971920167666137,
          -0.28631271493709487,
          -0.783173039285525,
          -0.027747165527620066,
          -1.9988239452168048,
          -0.7409776856907827,
          -0.7201730031465646,
          1.335600407260753,
          -0.4224946886228251,
          0.25490106093374937,
          0.1919704932973419,
          -1.1881153388372703,
          -0.7322584440159531,
          -0.31448638964215764,
          -0.3629770382615635,
          2.1045622546051734,
          -0.8296239124628296,
          0.6414351133613407,
          1.1588872311372636,
          0.3809747603204056,
          -1.2149704700002366,
          -1.820316384248371,
          0.9281350154451435,
          -0.3172650849355808,
          -1.0309860047557216,
          1.7831225907492916,
          1.614081403629405,
          -0.6182197635206698,
          0.47856814709054163,
          -0.10440593786332424,
          -0.342259198652757,
          -0.3458284640226747,
          0.9090775504264496,
          -1.618642867168309,
          1.4991548699135433,
          -0.6702021182528046,
          -2.0339441296931087,
          1.1541083897833497,
          -0.23775648512402525,
          -0.10399097731965196,
          1.4335647751010416,
          -0.2111648691027632,
          -0.8023911517541695,
          0.443578093491491,
          -0.5206511148817367,
          0.6737836652916785,
          0.7619298677284297,
          0.25071896003998256,
          1.0748781215006178,
          -0.41297336169250415,
          -0.9786152392537483,
          0.34504994864114796,
          -1.1101943059275852,
          2.296091238792947,
          2.5342978744249933,
          -1.0933397155502977,
          0.5779415537524153,
          -0.42713821751546005
         ],
         "xaxis": "x7",
         "y": [
          -0.07201300572682906,
          -1.7813371536318778,
          -0.8200929720183177,
          1.6850747024543902,
          0.14373920902261458,
          0.9014962704276461,
          -1.0481652514408317,
          0.9677142806092884,
          0.2784556999294692,
          -0.808096455996858,
          0.5972504318570593,
          1.5193397017630752,
          0.1120776473758537,
          0.031459404038649844,
          -0.6419956711923979,
          1.3661547594810273,
          -0.19155366489041692,
          -1.1012658471042815,
          0.6282171051348472,
          -0.8716239697489461,
          -0.5626019647408662,
          0.6519591742110662,
          0.052616620786117244,
          -0.169397506886645,
          -0.5635490785509196,
          -0.22762662898988673,
          -1.2333147800078432,
          -0.7330246424512903,
          0.62354927944434,
          -0.5199034839952482,
          0.5678912530643067,
          0.2055567196710461,
          0.8482662446920417,
          0.8649241351693712,
          0.6677232214596046,
          1.4194969576533518,
          0.05987451399890696,
          0.5364829593269563,
          2.139167152838529,
          0.840048180328241,
          1.6044742679372017,
          0.32314142805402435,
          -0.1615677497467817,
          0.47260106016564707,
          1.0744435776511905,
          0.04847396319960681,
          -0.1508712997263981,
          -0.5759453801733477,
          -0.293997152323099,
          -0.44495079449735675,
          0.10907341855645045,
          1.057057230197365,
          -0.6190450725199533,
          0.17020215249976262,
          0.6415891478844767,
          2.1265419568789854,
          -0.463185134592524,
          2.1374017556563474,
          1.9151279933805916,
          -0.10117463654989918,
          -0.9176696227617764,
          0.40766039857072367,
          1.2898062553730296,
          0.1545348303988453,
          0.24644376482344738,
          1.374650744190713,
          0.10564871875845407,
          0.6408997652220568,
          0.3425626471892363,
          0.04986405193713072,
          -0.6646697915034648,
          -0.09997211172881224,
          0.23521389993867892,
          0.5523179868398935,
          -0.09287699374722193,
          -0.9999106553888348,
          -1.1150659445689572,
          1.737598024647142,
          0.08558665304809565,
          0.44566810012783964,
          0.9790451280395394,
          -0.6081735571910922,
          0.2345712090980208,
          -1.2467094141877713,
          -0.5195244934509475,
          0.7759209695129649,
          -0.955124047948974,
          0.40746936598386513,
          0.23668765547290643,
          -0.02128848593352963,
          1.8956579840616128,
          0.6594859840593594,
          0.4028552358561733,
          -1.0275742681985736,
          -1.0331453939669182,
          -0.28602693038106247,
          1.437346730839855,
          0.689133460013907,
          -1.0303054514876115,
          0.2488420672892611
         ],
         "yaxis": "y7"
        },
        {
         "line": {
          "color": "rgba(128, 128, 128, 1.0)",
          "dash": "solid",
          "shape": "linear",
          "width": 1.3
         },
         "marker": {
          "size": 2,
          "symbol": "circle"
         },
         "mode": "markers",
         "name": "B",
         "text": "",
         "type": "scatter",
         "x": [
          0.8158971675704957,
          -0.9247032764534023,
          -0.311305343922232,
          0.19649202066341478,
          -0.49121075824855936,
          0.19774851548959338,
          -0.2612112627181056,
          -0.17624261758799198,
          1.8635403345354116,
          0.6435155836696956,
          -0.7725614331558435,
          -1.336661850714919,
          0.5911284727411863,
          -0.419448767421804,
          -1.4973983682062675,
          0.7412503782484586,
          -1.2077590309944715,
          1.1582012051017128,
          1.0475339683672564,
          -0.4926229010721131,
          -1.5682667722785322,
          1.3664900998778577,
          0.1511914245836227,
          0.16325805596625265,
          -0.8404698895977619,
          -0.457062429938257,
          -1.063206144385867,
          -0.6118486038553693,
          0.0554840535356453,
          0.26261236795708387,
          -0.2523452151795576,
          0.6242595967870732,
          0.3447776598437408,
          -0.3725526431666693,
          -0.28705101108689346,
          -0.6858519310562384,
          0.16247053594976332,
          2.8765317724460626,
          -2.563049342297222,
          0.15077909567341413,
          0.812686485174692,
          0.4578237688041664,
          -2.156205618193542,
          0.09851306847411394,
          0.8887460255748875,
          1.8320435641715378,
          0.2661270625818316,
          -0.3857699423820425,
          1.3998015252347111,
          -0.849926770135583,
          -0.6678189878614921,
          0.7428684859628628,
          0.23298751807848125,
          0.1996855347257156,
          -0.5651891338155755,
          0.3305721754433949,
          -0.46398923220845534,
          0.6559841638588461,
          0.675581841004044,
          -2.9152421718179165,
          0.7074993712386847,
          0.41874443391834054,
          0.37612801233207793,
          -1.2354554102353668,
          1.3181834438146,
          -0.18767369030918887,
          0.7430518879982969,
          -0.7281710532574133,
          -0.7641249360162816,
          1.146366546420054,
          -0.3074832875220709,
          -1.518494547065494,
          1.5331728969981846,
          -0.49865985360576587,
          -2.028951010037112,
          0.25613869109616066,
          0.31131046531423406,
          1.4367177434611031,
          -0.21727986429976084,
          -1.1290213083308243,
          -1.300840207892754,
          -0.073615533894691,
          -0.9662138924923768,
          1.6865084893261557,
          0.3947214641259405,
          0.4149588033506848,
          0.7885038245466549,
          1.1435253347699024,
          1.1891186382261552,
          -1.0359643229670896,
          -1.5814202307029128,
          -1.0238146231717786,
          -0.18577665836800164,
          0.5493747432224384,
          -2.098833394118898,
          -0.3059816140305973,
          0.19904612167811447,
          0.04106242727781146,
          -0.8155890802181568,
          1.158218091987929
         ],
         "xaxis": "x8",
         "y": [
          -0.07201300572682906,
          -1.7813371536318778,
          -0.8200929720183177,
          1.6850747024543902,
          0.14373920902261458,
          0.9014962704276461,
          -1.0481652514408317,
          0.9677142806092884,
          0.2784556999294692,
          -0.808096455996858,
          0.5972504318570593,
          1.5193397017630752,
          0.1120776473758537,
          0.031459404038649844,
          -0.6419956711923979,
          1.3661547594810273,
          -0.19155366489041692,
          -1.1012658471042815,
          0.6282171051348472,
          -0.8716239697489461,
          -0.5626019647408662,
          0.6519591742110662,
          0.052616620786117244,
          -0.169397506886645,
          -0.5635490785509196,
          -0.22762662898988673,
          -1.2333147800078432,
          -0.7330246424512903,
          0.62354927944434,
          -0.5199034839952482,
          0.5678912530643067,
          0.2055567196710461,
          0.8482662446920417,
          0.8649241351693712,
          0.6677232214596046,
          1.4194969576533518,
          0.05987451399890696,
          0.5364829593269563,
          2.139167152838529,
          0.840048180328241,
          1.6044742679372017,
          0.32314142805402435,
          -0.1615677497467817,
          0.47260106016564707,
          1.0744435776511905,
          0.04847396319960681,
          -0.1508712997263981,
          -0.5759453801733477,
          -0.293997152323099,
          -0.44495079449735675,
          0.10907341855645045,
          1.057057230197365,
          -0.6190450725199533,
          0.17020215249976262,
          0.6415891478844767,
          2.1265419568789854,
          -0.463185134592524,
          2.1374017556563474,
          1.9151279933805916,
          -0.10117463654989918,
          -0.9176696227617764,
          0.40766039857072367,
          1.2898062553730296,
          0.1545348303988453,
          0.24644376482344738,
          1.374650744190713,
          0.10564871875845407,
          0.6408997652220568,
          0.3425626471892363,
          0.04986405193713072,
          -0.6646697915034648,
          -0.09997211172881224,
          0.23521389993867892,
          0.5523179868398935,
          -0.09287699374722193,
          -0.9999106553888348,
          -1.1150659445689572,
          1.737598024647142,
          0.08558665304809565,
          0.44566810012783964,
          0.9790451280395394,
          -0.6081735571910922,
          0.2345712090980208,
          -1.2467094141877713,
          -0.5195244934509475,
          0.7759209695129649,
          -0.955124047948974,
          0.40746936598386513,
          0.23668765547290643,
          -0.02128848593352963,
          1.8956579840616128,
          0.6594859840593594,
          0.4028552358561733,
          -1.0275742681985736,
          -1.0331453939669182,
          -0.28602693038106247,
          1.437346730839855,
          0.689133460013907,
          -1.0303054514876115,
          0.2488420672892611
         ],
         "yaxis": "y8"
        },
        {
         "line": {
          "color": "rgba(128, 128, 128, 1.0)",
          "dash": "solid",
          "shape": "linear",
          "width": 1.3
         },
         "marker": {
          "size": 2,
          "symbol": "circle"
         },
         "mode": "markers",
         "name": "C",
         "text": "",
         "type": "scatter",
         "x": [
          -0.08696362399272553,
          0.11829315027705818,
          2.342856948597935,
          -1.503776880344004,
          0.045725881655566944,
          -0.12928100391232758,
          -1.036616358261247,
          0.10233820019024022,
          0.7544009950060778,
          1.119361123299176,
          -0.12168280829613869,
          -2.5141385692708162,
          0.8641734038037336,
          0.5615068860097867,
          -0.3618584895915859,
          -0.457493569108614,
          -0.7407705698927969,
          1.1100806879640044,
          -0.8436326812336624,
          -0.48194108799061275,
          -1.4283203300649514,
          -0.005528020954320215,
          0.6545934828776457,
          -0.3764165478866233,
          -0.7019587962207577,
          -2.1331489184945993,
          -1.5599707684625428,
          0.1755715299771797,
          0.13351195861619805,
          1.368573023242335,
          -0.3277442434772406,
          2.0071797704419105,
          1.0348622076293386,
          1.3772601634896795,
          -1.3690674657036475,
          -0.041160364008156404,
          0.3875459772294022,
          0.9653394848516135,
          -0.625061639729154,
          0.3400475723960751,
          0.8627064249099288,
          0.13396042173723252,
          0.4156667557269354,
          0.026797539151673128,
          0.405065409950036,
          0.7292637466264922,
          0.21898544855905366,
          0.2079755266846345,
          1.7031803281598694,
          1.0332873337748185,
          -0.08186366407943726,
          0.31908800200591075,
          -0.0831876976123175,
          -0.6307622500712357,
          0.11880043187804375,
          -0.8245533725750579,
          -0.6781822263791778,
          -0.17005988571480388,
          -1.6516093618334853,
          -0.8238222820076299,
          0.25641890902102926,
          -0.3322067616366865,
          1.4101018248811763,
          -1.1291979327906585,
          1.6890614664254615,
          -2.329076558908018,
          1.0769218217409133,
          0.1745963287674994,
          -0.8317798804560796,
          -1.1970027388103093,
          -3.0019528425038247,
          -0.23762122812809972,
          -0.4972338749701281,
          -0.26093263665920746,
          -1.5160013445449143,
          -0.9359898977334827,
          0.28176566515491647,
          0.25728493779995126,
          -0.1659249477937885,
          -0.13895687610656993,
          -1.997548442478862,
          1.132732545040066,
          1.2739327462477517,
          0.16888236139169427,
          1.5187040036619632,
          -0.774538350480497,
          -0.23137553047304132,
          -2.5810982422012527,
          -1.9447360011477897,
          -0.14078455082043415,
          0.5776488661887422,
          -0.882519133144336,
          0.22691072302708074,
          -0.7011641433638972,
          -0.9519428369511796,
          -0.7660743937480502,
          -2.211696125505859,
          -0.7298692001517896,
          -0.34256034176711875,
          1.0823363602187954
         ],
         "xaxis": "x9",
         "y": [
          -0.2687222025616364,
          0.9790459071799593,
          1.3053132248573984,
          0.029031443883402463,
          -0.8249852637997415,
          0.25896585569400143,
          0.09353457487812457,
          -0.6549257433321267,
          0.8404127778943362,
          0.5402301024200056,
          1.10960732874297,
          -0.15274023520581026,
          0.17371388758794312,
          -1.9907588451111633,
          0.12872612357135807,
          2.160670717650376,
          -1.7475624525991886,
          -0.03336558578493379,
          0.5178846669857563,
          0.4897598239617059,
          -0.6920258949102948,
          -0.27176227781509704,
          -0.7207298225338928,
          0.07434744133123929,
          -1.460475960869606,
          0.02683886348236559,
          0.6681882011720379,
          0.019275771183780255,
          -0.9621026561212102,
          0.7600942862700305,
          1.2891750222683158,
          -1.8225236726235388,
          -0.7743725389055496,
          0.5736096926037494,
          0.05519744257474495,
          0.3240068780213534,
          0.07530498457075546,
          -1.9044778427939197,
          0.8875999652545417,
          1.5499274224730382,
          -1.7160455021360528,
          0.1339041395482517,
          -0.7971920167666137,
          -0.28631271493709487,
          -0.783173039285525,
          -0.027747165527620066,
          -1.9988239452168048,
          -0.7409776856907827,
          -0.7201730031465646,
          1.335600407260753,
          -0.4224946886228251,
          0.25490106093374937,
          0.1919704932973419,
          -1.1881153388372703,
          -0.7322584440159531,
          -0.31448638964215764,
          -0.3629770382615635,
          2.1045622546051734,
          -0.8296239124628296,
          0.6414351133613407,
          1.1588872311372636,
          0.3809747603204056,
          -1.2149704700002366,
          -1.820316384248371,
          0.9281350154451435,
          -0.3172650849355808,
          -1.0309860047557216,
          1.7831225907492916,
          1.614081403629405,
          -0.6182197635206698,
          0.47856814709054163,
          -0.10440593786332424,
          -0.342259198652757,
          -0.3458284640226747,
          0.9090775504264496,
          -1.618642867168309,
          1.4991548699135433,
          -0.6702021182528046,
          -2.0339441296931087,
          1.1541083897833497,
          -0.23775648512402525,
          -0.10399097731965196,
          1.4335647751010416,
          -0.2111648691027632,
          -0.8023911517541695,
          0.443578093491491,
          -0.5206511148817367,
          0.6737836652916785,
          0.7619298677284297,
          0.25071896003998256,
          1.0748781215006178,
          -0.41297336169250415,
          -0.9786152392537483,
          0.34504994864114796,
          -1.1101943059275852,
          2.296091238792947,
          2.5342978744249933,
          -1.0933397155502977,
          0.5779415537524153,
          -0.42713821751546005
         ],
         "yaxis": "y9"
        },
        {
         "line": {
          "color": "rgba(128, 128, 128, 1.0)",
          "dash": "solid",
          "shape": "linear",
          "width": 1.3
         },
         "marker": {
          "size": 2,
          "symbol": "circle"
         },
         "mode": "markers",
         "name": "C",
         "text": "",
         "type": "scatter",
         "x": [
          -0.07201300572682906,
          -1.7813371536318778,
          -0.8200929720183177,
          1.6850747024543902,
          0.14373920902261458,
          0.9014962704276461,
          -1.0481652514408317,
          0.9677142806092884,
          0.2784556999294692,
          -0.808096455996858,
          0.5972504318570593,
          1.5193397017630752,
          0.1120776473758537,
          0.031459404038649844,
          -0.6419956711923979,
          1.3661547594810273,
          -0.19155366489041692,
          -1.1012658471042815,
          0.6282171051348472,
          -0.8716239697489461,
          -0.5626019647408662,
          0.6519591742110662,
          0.052616620786117244,
          -0.169397506886645,
          -0.5635490785509196,
          -0.22762662898988673,
          -1.2333147800078432,
          -0.7330246424512903,
          0.62354927944434,
          -0.5199034839952482,
          0.5678912530643067,
          0.2055567196710461,
          0.8482662446920417,
          0.8649241351693712,
          0.6677232214596046,
          1.4194969576533518,
          0.05987451399890696,
          0.5364829593269563,
          2.139167152838529,
          0.840048180328241,
          1.6044742679372017,
          0.32314142805402435,
          -0.1615677497467817,
          0.47260106016564707,
          1.0744435776511905,
          0.04847396319960681,
          -0.1508712997263981,
          -0.5759453801733477,
          -0.293997152323099,
          -0.44495079449735675,
          0.10907341855645045,
          1.057057230197365,
          -0.6190450725199533,
          0.17020215249976262,
          0.6415891478844767,
          2.1265419568789854,
          -0.463185134592524,
          2.1374017556563474,
          1.9151279933805916,
          -0.10117463654989918,
          -0.9176696227617764,
          0.40766039857072367,
          1.2898062553730296,
          0.1545348303988453,
          0.24644376482344738,
          1.374650744190713,
          0.10564871875845407,
          0.6408997652220568,
          0.3425626471892363,
          0.04986405193713072,
          -0.6646697915034648,
          -0.09997211172881224,
          0.23521389993867892,
          0.5523179868398935,
          -0.09287699374722193,
          -0.9999106553888348,
          -1.1150659445689572,
          1.737598024647142,
          0.08558665304809565,
          0.44566810012783964,
          0.9790451280395394,
          -0.6081735571910922,
          0.2345712090980208,
          -1.2467094141877713,
          -0.5195244934509475,
          0.7759209695129649,
          -0.955124047948974,
          0.40746936598386513,
          0.23668765547290643,
          -0.02128848593352963,
          1.8956579840616128,
          0.6594859840593594,
          0.4028552358561733,
          -1.0275742681985736,
          -1.0331453939669182,
          -0.28602693038106247,
          1.437346730839855,
          0.689133460013907,
          -1.0303054514876115,
          0.2488420672892611
         ],
         "xaxis": "x10",
         "y": [
          -0.2687222025616364,
          0.9790459071799593,
          1.3053132248573984,
          0.029031443883402463,
          -0.8249852637997415,
          0.25896585569400143,
          0.09353457487812457,
          -0.6549257433321267,
          0.8404127778943362,
          0.5402301024200056,
          1.10960732874297,
          -0.15274023520581026,
          0.17371388758794312,
          -1.9907588451111633,
          0.12872612357135807,
          2.160670717650376,
          -1.7475624525991886,
          -0.03336558578493379,
          0.5178846669857563,
          0.4897598239617059,
          -0.6920258949102948,
          -0.27176227781509704,
          -0.7207298225338928,
          0.07434744133123929,
          -1.460475960869606,
          0.02683886348236559,
          0.6681882011720379,
          0.019275771183780255,
          -0.9621026561212102,
          0.7600942862700305,
          1.2891750222683158,
          -1.8225236726235388,
          -0.7743725389055496,
          0.5736096926037494,
          0.05519744257474495,
          0.3240068780213534,
          0.07530498457075546,
          -1.9044778427939197,
          0.8875999652545417,
          1.5499274224730382,
          -1.7160455021360528,
          0.1339041395482517,
          -0.7971920167666137,
          -0.28631271493709487,
          -0.783173039285525,
          -0.027747165527620066,
          -1.9988239452168048,
          -0.7409776856907827,
          -0.7201730031465646,
          1.335600407260753,
          -0.4224946886228251,
          0.25490106093374937,
          0.1919704932973419,
          -1.1881153388372703,
          -0.7322584440159531,
          -0.31448638964215764,
          -0.3629770382615635,
          2.1045622546051734,
          -0.8296239124628296,
          0.6414351133613407,
          1.1588872311372636,
          0.3809747603204056,
          -1.2149704700002366,
          -1.820316384248371,
          0.9281350154451435,
          -0.3172650849355808,
          -1.0309860047557216,
          1.7831225907492916,
          1.614081403629405,
          -0.6182197635206698,
          0.47856814709054163,
          -0.10440593786332424,
          -0.342259198652757,
          -0.3458284640226747,
          0.9090775504264496,
          -1.618642867168309,
          1.4991548699135433,
          -0.6702021182528046,
          -2.0339441296931087,
          1.1541083897833497,
          -0.23775648512402525,
          -0.10399097731965196,
          1.4335647751010416,
          -0.2111648691027632,
          -0.8023911517541695,
          0.443578093491491,
          -0.5206511148817367,
          0.6737836652916785,
          0.7619298677284297,
          0.25071896003998256,
          1.0748781215006178,
          -0.41297336169250415,
          -0.9786152392537483,
          0.34504994864114796,
          -1.1101943059275852,
          2.296091238792947,
          2.5342978744249933,
          -1.0933397155502977,
          0.5779415537524153,
          -0.42713821751546005
         ],
         "yaxis": "y10"
        },
        {
         "histfunc": "count",
         "histnorm": "",
         "marker": {
          "color": "rgba(50, 171, 96, 1.0)",
          "line": {
           "color": "#4D5663",
           "width": 1.3
          }
         },
         "name": "C",
         "nbinsx": 10,
         "opacity": 0.8,
         "orientation": "v",
         "type": "histogram",
         "x": [
          -0.2687222025616364,
          0.9790459071799593,
          1.3053132248573984,
          0.029031443883402463,
          -0.8249852637997415,
          0.25896585569400143,
          0.09353457487812457,
          -0.6549257433321267,
          0.8404127778943362,
          0.5402301024200056,
          1.10960732874297,
          -0.15274023520581026,
          0.17371388758794312,
          -1.9907588451111633,
          0.12872612357135807,
          2.160670717650376,
          -1.7475624525991886,
          -0.03336558578493379,
          0.5178846669857563,
          0.4897598239617059,
          -0.6920258949102948,
          -0.27176227781509704,
          -0.7207298225338928,
          0.07434744133123929,
          -1.460475960869606,
          0.02683886348236559,
          0.6681882011720379,
          0.019275771183780255,
          -0.9621026561212102,
          0.7600942862700305,
          1.2891750222683158,
          -1.8225236726235388,
          -0.7743725389055496,
          0.5736096926037494,
          0.05519744257474495,
          0.3240068780213534,
          0.07530498457075546,
          -1.9044778427939197,
          0.8875999652545417,
          1.5499274224730382,
          -1.7160455021360528,
          0.1339041395482517,
          -0.7971920167666137,
          -0.28631271493709487,
          -0.783173039285525,
          -0.027747165527620066,
          -1.9988239452168048,
          -0.7409776856907827,
          -0.7201730031465646,
          1.335600407260753,
          -0.4224946886228251,
          0.25490106093374937,
          0.1919704932973419,
          -1.1881153388372703,
          -0.7322584440159531,
          -0.31448638964215764,
          -0.3629770382615635,
          2.1045622546051734,
          -0.8296239124628296,
          0.6414351133613407,
          1.1588872311372636,
          0.3809747603204056,
          -1.2149704700002366,
          -1.820316384248371,
          0.9281350154451435,
          -0.3172650849355808,
          -1.0309860047557216,
          1.7831225907492916,
          1.614081403629405,
          -0.6182197635206698,
          0.47856814709054163,
          -0.10440593786332424,
          -0.342259198652757,
          -0.3458284640226747,
          0.9090775504264496,
          -1.618642867168309,
          1.4991548699135433,
          -0.6702021182528046,
          -2.0339441296931087,
          1.1541083897833497,
          -0.23775648512402525,
          -0.10399097731965196,
          1.4335647751010416,
          -0.2111648691027632,
          -0.8023911517541695,
          0.443578093491491,
          -0.5206511148817367,
          0.6737836652916785,
          0.7619298677284297,
          0.25071896003998256,
          1.0748781215006178,
          -0.41297336169250415,
          -0.9786152392537483,
          0.34504994864114796,
          -1.1101943059275852,
          2.296091238792947,
          2.5342978744249933,
          -1.0933397155502977,
          0.5779415537524153,
          -0.42713821751546005
         ],
         "xaxis": "x11",
         "yaxis": "y11"
        },
        {
         "line": {
          "color": "rgba(128, 128, 128, 1.0)",
          "dash": "solid",
          "shape": "linear",
          "width": 1.3
         },
         "marker": {
          "size": 2,
          "symbol": "circle"
         },
         "mode": "markers",
         "name": "C",
         "text": "",
         "type": "scatter",
         "x": [
          0.8158971675704957,
          -0.9247032764534023,
          -0.311305343922232,
          0.19649202066341478,
          -0.49121075824855936,
          0.19774851548959338,
          -0.2612112627181056,
          -0.17624261758799198,
          1.8635403345354116,
          0.6435155836696956,
          -0.7725614331558435,
          -1.336661850714919,
          0.5911284727411863,
          -0.419448767421804,
          -1.4973983682062675,
          0.7412503782484586,
          -1.2077590309944715,
          1.1582012051017128,
          1.0475339683672564,
          -0.4926229010721131,
          -1.5682667722785322,
          1.3664900998778577,
          0.1511914245836227,
          0.16325805596625265,
          -0.8404698895977619,
          -0.457062429938257,
          -1.063206144385867,
          -0.6118486038553693,
          0.0554840535356453,
          0.26261236795708387,
          -0.2523452151795576,
          0.6242595967870732,
          0.3447776598437408,
          -0.3725526431666693,
          -0.28705101108689346,
          -0.6858519310562384,
          0.16247053594976332,
          2.8765317724460626,
          -2.563049342297222,
          0.15077909567341413,
          0.812686485174692,
          0.4578237688041664,
          -2.156205618193542,
          0.09851306847411394,
          0.8887460255748875,
          1.8320435641715378,
          0.2661270625818316,
          -0.3857699423820425,
          1.3998015252347111,
          -0.849926770135583,
          -0.6678189878614921,
          0.7428684859628628,
          0.23298751807848125,
          0.1996855347257156,
          -0.5651891338155755,
          0.3305721754433949,
          -0.46398923220845534,
          0.6559841638588461,
          0.675581841004044,
          -2.9152421718179165,
          0.7074993712386847,
          0.41874443391834054,
          0.37612801233207793,
          -1.2354554102353668,
          1.3181834438146,
          -0.18767369030918887,
          0.7430518879982969,
          -0.7281710532574133,
          -0.7641249360162816,
          1.146366546420054,
          -0.3074832875220709,
          -1.518494547065494,
          1.5331728969981846,
          -0.49865985360576587,
          -2.028951010037112,
          0.25613869109616066,
          0.31131046531423406,
          1.4367177434611031,
          -0.21727986429976084,
          -1.1290213083308243,
          -1.300840207892754,
          -0.073615533894691,
          -0.9662138924923768,
          1.6865084893261557,
          0.3947214641259405,
          0.4149588033506848,
          0.7885038245466549,
          1.1435253347699024,
          1.1891186382261552,
          -1.0359643229670896,
          -1.5814202307029128,
          -1.0238146231717786,
          -0.18577665836800164,
          0.5493747432224384,
          -2.098833394118898,
          -0.3059816140305973,
          0.19904612167811447,
          0.04106242727781146,
          -0.8155890802181568,
          1.158218091987929
         ],
         "xaxis": "x12",
         "y": [
          -0.2687222025616364,
          0.9790459071799593,
          1.3053132248573984,
          0.029031443883402463,
          -0.8249852637997415,
          0.25896585569400143,
          0.09353457487812457,
          -0.6549257433321267,
          0.8404127778943362,
          0.5402301024200056,
          1.10960732874297,
          -0.15274023520581026,
          0.17371388758794312,
          -1.9907588451111633,
          0.12872612357135807,
          2.160670717650376,
          -1.7475624525991886,
          -0.03336558578493379,
          0.5178846669857563,
          0.4897598239617059,
          -0.6920258949102948,
          -0.27176227781509704,
          -0.7207298225338928,
          0.07434744133123929,
          -1.460475960869606,
          0.02683886348236559,
          0.6681882011720379,
          0.019275771183780255,
          -0.9621026561212102,
          0.7600942862700305,
          1.2891750222683158,
          -1.8225236726235388,
          -0.7743725389055496,
          0.5736096926037494,
          0.05519744257474495,
          0.3240068780213534,
          0.07530498457075546,
          -1.9044778427939197,
          0.8875999652545417,
          1.5499274224730382,
          -1.7160455021360528,
          0.1339041395482517,
          -0.7971920167666137,
          -0.28631271493709487,
          -0.783173039285525,
          -0.027747165527620066,
          -1.9988239452168048,
          -0.7409776856907827,
          -0.7201730031465646,
          1.335600407260753,
          -0.4224946886228251,
          0.25490106093374937,
          0.1919704932973419,
          -1.1881153388372703,
          -0.7322584440159531,
          -0.31448638964215764,
          -0.3629770382615635,
          2.1045622546051734,
          -0.8296239124628296,
          0.6414351133613407,
          1.1588872311372636,
          0.3809747603204056,
          -1.2149704700002366,
          -1.820316384248371,
          0.9281350154451435,
          -0.3172650849355808,
          -1.0309860047557216,
          1.7831225907492916,
          1.614081403629405,
          -0.6182197635206698,
          0.47856814709054163,
          -0.10440593786332424,
          -0.342259198652757,
          -0.3458284640226747,
          0.9090775504264496,
          -1.618642867168309,
          1.4991548699135433,
          -0.6702021182528046,
          -2.0339441296931087,
          1.1541083897833497,
          -0.23775648512402525,
          -0.10399097731965196,
          1.4335647751010416,
          -0.2111648691027632,
          -0.8023911517541695,
          0.443578093491491,
          -0.5206511148817367,
          0.6737836652916785,
          0.7619298677284297,
          0.25071896003998256,
          1.0748781215006178,
          -0.41297336169250415,
          -0.9786152392537483,
          0.34504994864114796,
          -1.1101943059275852,
          2.296091238792947,
          2.5342978744249933,
          -1.0933397155502977,
          0.5779415537524153,
          -0.42713821751546005
         ],
         "yaxis": "y12"
        },
        {
         "line": {
          "color": "rgba(128, 128, 128, 1.0)",
          "dash": "solid",
          "shape": "linear",
          "width": 1.3
         },
         "marker": {
          "size": 2,
          "symbol": "circle"
         },
         "mode": "markers",
         "name": "D",
         "text": "",
         "type": "scatter",
         "x": [
          -0.08696362399272553,
          0.11829315027705818,
          2.342856948597935,
          -1.503776880344004,
          0.045725881655566944,
          -0.12928100391232758,
          -1.036616358261247,
          0.10233820019024022,
          0.7544009950060778,
          1.119361123299176,
          -0.12168280829613869,
          -2.5141385692708162,
          0.8641734038037336,
          0.5615068860097867,
          -0.3618584895915859,
          -0.457493569108614,
          -0.7407705698927969,
          1.1100806879640044,
          -0.8436326812336624,
          -0.48194108799061275,
          -1.4283203300649514,
          -0.005528020954320215,
          0.6545934828776457,
          -0.3764165478866233,
          -0.7019587962207577,
          -2.1331489184945993,
          -1.5599707684625428,
          0.1755715299771797,
          0.13351195861619805,
          1.368573023242335,
          -0.3277442434772406,
          2.0071797704419105,
          1.0348622076293386,
          1.3772601634896795,
          -1.3690674657036475,
          -0.041160364008156404,
          0.3875459772294022,
          0.9653394848516135,
          -0.625061639729154,
          0.3400475723960751,
          0.8627064249099288,
          0.13396042173723252,
          0.4156667557269354,
          0.026797539151673128,
          0.405065409950036,
          0.7292637466264922,
          0.21898544855905366,
          0.2079755266846345,
          1.7031803281598694,
          1.0332873337748185,
          -0.08186366407943726,
          0.31908800200591075,
          -0.0831876976123175,
          -0.6307622500712357,
          0.11880043187804375,
          -0.8245533725750579,
          -0.6781822263791778,
          -0.17005988571480388,
          -1.6516093618334853,
          -0.8238222820076299,
          0.25641890902102926,
          -0.3322067616366865,
          1.4101018248811763,
          -1.1291979327906585,
          1.6890614664254615,
          -2.329076558908018,
          1.0769218217409133,
          0.1745963287674994,
          -0.8317798804560796,
          -1.1970027388103093,
          -3.0019528425038247,
          -0.23762122812809972,
          -0.4972338749701281,
          -0.26093263665920746,
          -1.5160013445449143,
          -0.9359898977334827,
          0.28176566515491647,
          0.25728493779995126,
          -0.1659249477937885,
          -0.13895687610656993,
          -1.997548442478862,
          1.132732545040066,
          1.2739327462477517,
          0.16888236139169427,
          1.5187040036619632,
          -0.774538350480497,
          -0.23137553047304132,
          -2.5810982422012527,
          -1.9447360011477897,
          -0.14078455082043415,
          0.5776488661887422,
          -0.882519133144336,
          0.22691072302708074,
          -0.7011641433638972,
          -0.9519428369511796,
          -0.7660743937480502,
          -2.211696125505859,
          -0.7298692001517896,
          -0.34256034176711875,
          1.0823363602187954
         ],
         "xaxis": "x13",
         "y": [
          0.8158971675704957,
          -0.9247032764534023,
          -0.311305343922232,
          0.19649202066341478,
          -0.49121075824855936,
          0.19774851548959338,
          -0.2612112627181056,
          -0.17624261758799198,
          1.8635403345354116,
          0.6435155836696956,
          -0.7725614331558435,
          -1.336661850714919,
          0.5911284727411863,
          -0.419448767421804,
          -1.4973983682062675,
          0.7412503782484586,
          -1.2077590309944715,
          1.1582012051017128,
          1.0475339683672564,
          -0.4926229010721131,
          -1.5682667722785322,
          1.3664900998778577,
          0.1511914245836227,
          0.16325805596625265,
          -0.8404698895977619,
          -0.457062429938257,
          -1.063206144385867,
          -0.6118486038553693,
          0.0554840535356453,
          0.26261236795708387,
          -0.2523452151795576,
          0.6242595967870732,
          0.3447776598437408,
          -0.3725526431666693,
          -0.28705101108689346,
          -0.6858519310562384,
          0.16247053594976332,
          2.8765317724460626,
          -2.563049342297222,
          0.15077909567341413,
          0.812686485174692,
          0.4578237688041664,
          -2.156205618193542,
          0.09851306847411394,
          0.8887460255748875,
          1.8320435641715378,
          0.2661270625818316,
          -0.3857699423820425,
          1.3998015252347111,
          -0.849926770135583,
          -0.6678189878614921,
          0.7428684859628628,
          0.23298751807848125,
          0.1996855347257156,
          -0.5651891338155755,
          0.3305721754433949,
          -0.46398923220845534,
          0.6559841638588461,
          0.675581841004044,
          -2.9152421718179165,
          0.7074993712386847,
          0.41874443391834054,
          0.37612801233207793,
          -1.2354554102353668,
          1.3181834438146,
          -0.18767369030918887,
          0.7430518879982969,
          -0.7281710532574133,
          -0.7641249360162816,
          1.146366546420054,
          -0.3074832875220709,
          -1.518494547065494,
          1.5331728969981846,
          -0.49865985360576587,
          -2.028951010037112,
          0.25613869109616066,
          0.31131046531423406,
          1.4367177434611031,
          -0.21727986429976084,
          -1.1290213083308243,
          -1.300840207892754,
          -0.073615533894691,
          -0.9662138924923768,
          1.6865084893261557,
          0.3947214641259405,
          0.4149588033506848,
          0.7885038245466549,
          1.1435253347699024,
          1.1891186382261552,
          -1.0359643229670896,
          -1.5814202307029128,
          -1.0238146231717786,
          -0.18577665836800164,
          0.5493747432224384,
          -2.098833394118898,
          -0.3059816140305973,
          0.19904612167811447,
          0.04106242727781146,
          -0.8155890802181568,
          1.158218091987929
         ],
         "yaxis": "y13"
        },
        {
         "line": {
          "color": "rgba(128, 128, 128, 1.0)",
          "dash": "solid",
          "shape": "linear",
          "width": 1.3
         },
         "marker": {
          "size": 2,
          "symbol": "circle"
         },
         "mode": "markers",
         "name": "D",
         "text": "",
         "type": "scatter",
         "x": [
          -0.07201300572682906,
          -1.7813371536318778,
          -0.8200929720183177,
          1.6850747024543902,
          0.14373920902261458,
          0.9014962704276461,
          -1.0481652514408317,
          0.9677142806092884,
          0.2784556999294692,
          -0.808096455996858,
          0.5972504318570593,
          1.5193397017630752,
          0.1120776473758537,
          0.031459404038649844,
          -0.6419956711923979,
          1.3661547594810273,
          -0.19155366489041692,
          -1.1012658471042815,
          0.6282171051348472,
          -0.8716239697489461,
          -0.5626019647408662,
          0.6519591742110662,
          0.052616620786117244,
          -0.169397506886645,
          -0.5635490785509196,
          -0.22762662898988673,
          -1.2333147800078432,
          -0.7330246424512903,
          0.62354927944434,
          -0.5199034839952482,
          0.5678912530643067,
          0.2055567196710461,
          0.8482662446920417,
          0.8649241351693712,
          0.6677232214596046,
          1.4194969576533518,
          0.05987451399890696,
          0.5364829593269563,
          2.139167152838529,
          0.840048180328241,
          1.6044742679372017,
          0.32314142805402435,
          -0.1615677497467817,
          0.47260106016564707,
          1.0744435776511905,
          0.04847396319960681,
          -0.1508712997263981,
          -0.5759453801733477,
          -0.293997152323099,
          -0.44495079449735675,
          0.10907341855645045,
          1.057057230197365,
          -0.6190450725199533,
          0.17020215249976262,
          0.6415891478844767,
          2.1265419568789854,
          -0.463185134592524,
          2.1374017556563474,
          1.9151279933805916,
          -0.10117463654989918,
          -0.9176696227617764,
          0.40766039857072367,
          1.2898062553730296,
          0.1545348303988453,
          0.24644376482344738,
          1.374650744190713,
          0.10564871875845407,
          0.6408997652220568,
          0.3425626471892363,
          0.04986405193713072,
          -0.6646697915034648,
          -0.09997211172881224,
          0.23521389993867892,
          0.5523179868398935,
          -0.09287699374722193,
          -0.9999106553888348,
          -1.1150659445689572,
          1.737598024647142,
          0.08558665304809565,
          0.44566810012783964,
          0.9790451280395394,
          -0.6081735571910922,
          0.2345712090980208,
          -1.2467094141877713,
          -0.5195244934509475,
          0.7759209695129649,
          -0.955124047948974,
          0.40746936598386513,
          0.23668765547290643,
          -0.02128848593352963,
          1.8956579840616128,
          0.6594859840593594,
          0.4028552358561733,
          -1.0275742681985736,
          -1.0331453939669182,
          -0.28602693038106247,
          1.437346730839855,
          0.689133460013907,
          -1.0303054514876115,
          0.2488420672892611
         ],
         "xaxis": "x14",
         "y": [
          0.8158971675704957,
          -0.9247032764534023,
          -0.311305343922232,
          0.19649202066341478,
          -0.49121075824855936,
          0.19774851548959338,
          -0.2612112627181056,
          -0.17624261758799198,
          1.8635403345354116,
          0.6435155836696956,
          -0.7725614331558435,
          -1.336661850714919,
          0.5911284727411863,
          -0.419448767421804,
          -1.4973983682062675,
          0.7412503782484586,
          -1.2077590309944715,
          1.1582012051017128,
          1.0475339683672564,
          -0.4926229010721131,
          -1.5682667722785322,
          1.3664900998778577,
          0.1511914245836227,
          0.16325805596625265,
          -0.8404698895977619,
          -0.457062429938257,
          -1.063206144385867,
          -0.6118486038553693,
          0.0554840535356453,
          0.26261236795708387,
          -0.2523452151795576,
          0.6242595967870732,
          0.3447776598437408,
          -0.3725526431666693,
          -0.28705101108689346,
          -0.6858519310562384,
          0.16247053594976332,
          2.8765317724460626,
          -2.563049342297222,
          0.15077909567341413,
          0.812686485174692,
          0.4578237688041664,
          -2.156205618193542,
          0.09851306847411394,
          0.8887460255748875,
          1.8320435641715378,
          0.2661270625818316,
          -0.3857699423820425,
          1.3998015252347111,
          -0.849926770135583,
          -0.6678189878614921,
          0.7428684859628628,
          0.23298751807848125,
          0.1996855347257156,
          -0.5651891338155755,
          0.3305721754433949,
          -0.46398923220845534,
          0.6559841638588461,
          0.675581841004044,
          -2.9152421718179165,
          0.7074993712386847,
          0.41874443391834054,
          0.37612801233207793,
          -1.2354554102353668,
          1.3181834438146,
          -0.18767369030918887,
          0.7430518879982969,
          -0.7281710532574133,
          -0.7641249360162816,
          1.146366546420054,
          -0.3074832875220709,
          -1.518494547065494,
          1.5331728969981846,
          -0.49865985360576587,
          -2.028951010037112,
          0.25613869109616066,
          0.31131046531423406,
          1.4367177434611031,
          -0.21727986429976084,
          -1.1290213083308243,
          -1.300840207892754,
          -0.073615533894691,
          -0.9662138924923768,
          1.6865084893261557,
          0.3947214641259405,
          0.4149588033506848,
          0.7885038245466549,
          1.1435253347699024,
          1.1891186382261552,
          -1.0359643229670896,
          -1.5814202307029128,
          -1.0238146231717786,
          -0.18577665836800164,
          0.5493747432224384,
          -2.098833394118898,
          -0.3059816140305973,
          0.19904612167811447,
          0.04106242727781146,
          -0.8155890802181568,
          1.158218091987929
         ],
         "yaxis": "y14"
        },
        {
         "line": {
          "color": "rgba(128, 128, 128, 1.0)",
          "dash": "solid",
          "shape": "linear",
          "width": 1.3
         },
         "marker": {
          "size": 2,
          "symbol": "circle"
         },
         "mode": "markers",
         "name": "D",
         "text": "",
         "type": "scatter",
         "x": [
          -0.2687222025616364,
          0.9790459071799593,
          1.3053132248573984,
          0.029031443883402463,
          -0.8249852637997415,
          0.25896585569400143,
          0.09353457487812457,
          -0.6549257433321267,
          0.8404127778943362,
          0.5402301024200056,
          1.10960732874297,
          -0.15274023520581026,
          0.17371388758794312,
          -1.9907588451111633,
          0.12872612357135807,
          2.160670717650376,
          -1.7475624525991886,
          -0.03336558578493379,
          0.5178846669857563,
          0.4897598239617059,
          -0.6920258949102948,
          -0.27176227781509704,
          -0.7207298225338928,
          0.07434744133123929,
          -1.460475960869606,
          0.02683886348236559,
          0.6681882011720379,
          0.019275771183780255,
          -0.9621026561212102,
          0.7600942862700305,
          1.2891750222683158,
          -1.8225236726235388,
          -0.7743725389055496,
          0.5736096926037494,
          0.05519744257474495,
          0.3240068780213534,
          0.07530498457075546,
          -1.9044778427939197,
          0.8875999652545417,
          1.5499274224730382,
          -1.7160455021360528,
          0.1339041395482517,
          -0.7971920167666137,
          -0.28631271493709487,
          -0.783173039285525,
          -0.027747165527620066,
          -1.9988239452168048,
          -0.7409776856907827,
          -0.7201730031465646,
          1.335600407260753,
          -0.4224946886228251,
          0.25490106093374937,
          0.1919704932973419,
          -1.1881153388372703,
          -0.7322584440159531,
          -0.31448638964215764,
          -0.3629770382615635,
          2.1045622546051734,
          -0.8296239124628296,
          0.6414351133613407,
          1.1588872311372636,
          0.3809747603204056,
          -1.2149704700002366,
          -1.820316384248371,
          0.9281350154451435,
          -0.3172650849355808,
          -1.0309860047557216,
          1.7831225907492916,
          1.614081403629405,
          -0.6182197635206698,
          0.47856814709054163,
          -0.10440593786332424,
          -0.342259198652757,
          -0.3458284640226747,
          0.9090775504264496,
          -1.618642867168309,
          1.4991548699135433,
          -0.6702021182528046,
          -2.0339441296931087,
          1.1541083897833497,
          -0.23775648512402525,
          -0.10399097731965196,
          1.4335647751010416,
          -0.2111648691027632,
          -0.8023911517541695,
          0.443578093491491,
          -0.5206511148817367,
          0.6737836652916785,
          0.7619298677284297,
          0.25071896003998256,
          1.0748781215006178,
          -0.41297336169250415,
          -0.9786152392537483,
          0.34504994864114796,
          -1.1101943059275852,
          2.296091238792947,
          2.5342978744249933,
          -1.0933397155502977,
          0.5779415537524153,
          -0.42713821751546005
         ],
         "xaxis": "x15",
         "y": [
          0.8158971675704957,
          -0.9247032764534023,
          -0.311305343922232,
          0.19649202066341478,
          -0.49121075824855936,
          0.19774851548959338,
          -0.2612112627181056,
          -0.17624261758799198,
          1.8635403345354116,
          0.6435155836696956,
          -0.7725614331558435,
          -1.336661850714919,
          0.5911284727411863,
          -0.419448767421804,
          -1.4973983682062675,
          0.7412503782484586,
          -1.2077590309944715,
          1.1582012051017128,
          1.0475339683672564,
          -0.4926229010721131,
          -1.5682667722785322,
          1.3664900998778577,
          0.1511914245836227,
          0.16325805596625265,
          -0.8404698895977619,
          -0.457062429938257,
          -1.063206144385867,
          -0.6118486038553693,
          0.0554840535356453,
          0.26261236795708387,
          -0.2523452151795576,
          0.6242595967870732,
          0.3447776598437408,
          -0.3725526431666693,
          -0.28705101108689346,
          -0.6858519310562384,
          0.16247053594976332,
          2.8765317724460626,
          -2.563049342297222,
          0.15077909567341413,
          0.812686485174692,
          0.4578237688041664,
          -2.156205618193542,
          0.09851306847411394,
          0.8887460255748875,
          1.8320435641715378,
          0.2661270625818316,
          -0.3857699423820425,
          1.3998015252347111,
          -0.849926770135583,
          -0.6678189878614921,
          0.7428684859628628,
          0.23298751807848125,
          0.1996855347257156,
          -0.5651891338155755,
          0.3305721754433949,
          -0.46398923220845534,
          0.6559841638588461,
          0.675581841004044,
          -2.9152421718179165,
          0.7074993712386847,
          0.41874443391834054,
          0.37612801233207793,
          -1.2354554102353668,
          1.3181834438146,
          -0.18767369030918887,
          0.7430518879982969,
          -0.7281710532574133,
          -0.7641249360162816,
          1.146366546420054,
          -0.3074832875220709,
          -1.518494547065494,
          1.5331728969981846,
          -0.49865985360576587,
          -2.028951010037112,
          0.25613869109616066,
          0.31131046531423406,
          1.4367177434611031,
          -0.21727986429976084,
          -1.1290213083308243,
          -1.300840207892754,
          -0.073615533894691,
          -0.9662138924923768,
          1.6865084893261557,
          0.3947214641259405,
          0.4149588033506848,
          0.7885038245466549,
          1.1435253347699024,
          1.1891186382261552,
          -1.0359643229670896,
          -1.5814202307029128,
          -1.0238146231717786,
          -0.18577665836800164,
          0.5493747432224384,
          -2.098833394118898,
          -0.3059816140305973,
          0.19904612167811447,
          0.04106242727781146,
          -0.8155890802181568,
          1.158218091987929
         ],
         "yaxis": "y15"
        },
        {
         "histfunc": "count",
         "histnorm": "",
         "marker": {
          "color": "rgba(128, 0, 128, 1.0)",
          "line": {
           "color": "#4D5663",
           "width": 1.3
          }
         },
         "name": "D",
         "nbinsx": 10,
         "opacity": 0.8,
         "orientation": "v",
         "type": "histogram",
         "x": [
          0.8158971675704957,
          -0.9247032764534023,
          -0.311305343922232,
          0.19649202066341478,
          -0.49121075824855936,
          0.19774851548959338,
          -0.2612112627181056,
          -0.17624261758799198,
          1.8635403345354116,
          0.6435155836696956,
          -0.7725614331558435,
          -1.336661850714919,
          0.5911284727411863,
          -0.419448767421804,
          -1.4973983682062675,
          0.7412503782484586,
          -1.2077590309944715,
          1.1582012051017128,
          1.0475339683672564,
          -0.4926229010721131,
          -1.5682667722785322,
          1.3664900998778577,
          0.1511914245836227,
          0.16325805596625265,
          -0.8404698895977619,
          -0.457062429938257,
          -1.063206144385867,
          -0.6118486038553693,
          0.0554840535356453,
          0.26261236795708387,
          -0.2523452151795576,
          0.6242595967870732,
          0.3447776598437408,
          -0.3725526431666693,
          -0.28705101108689346,
          -0.6858519310562384,
          0.16247053594976332,
          2.8765317724460626,
          -2.563049342297222,
          0.15077909567341413,
          0.812686485174692,
          0.4578237688041664,
          -2.156205618193542,
          0.09851306847411394,
          0.8887460255748875,
          1.8320435641715378,
          0.2661270625818316,
          -0.3857699423820425,
          1.3998015252347111,
          -0.849926770135583,
          -0.6678189878614921,
          0.7428684859628628,
          0.23298751807848125,
          0.1996855347257156,
          -0.5651891338155755,
          0.3305721754433949,
          -0.46398923220845534,
          0.6559841638588461,
          0.675581841004044,
          -2.9152421718179165,
          0.7074993712386847,
          0.41874443391834054,
          0.37612801233207793,
          -1.2354554102353668,
          1.3181834438146,
          -0.18767369030918887,
          0.7430518879982969,
          -0.7281710532574133,
          -0.7641249360162816,
          1.146366546420054,
          -0.3074832875220709,
          -1.518494547065494,
          1.5331728969981846,
          -0.49865985360576587,
          -2.028951010037112,
          0.25613869109616066,
          0.31131046531423406,
          1.4367177434611031,
          -0.21727986429976084,
          -1.1290213083308243,
          -1.300840207892754,
          -0.073615533894691,
          -0.9662138924923768,
          1.6865084893261557,
          0.3947214641259405,
          0.4149588033506848,
          0.7885038245466549,
          1.1435253347699024,
          1.1891186382261552,
          -1.0359643229670896,
          -1.5814202307029128,
          -1.0238146231717786,
          -0.18577665836800164,
          0.5493747432224384,
          -2.098833394118898,
          -0.3059816140305973,
          0.19904612167811447,
          0.04106242727781146,
          -0.8155890802181568,
          1.158218091987929
         ],
         "xaxis": "x16",
         "yaxis": "y16"
        }
       ],
       "layout": {
        "bargap": 0.02,
        "legend": {
         "bgcolor": "#F5F6F9",
         "font": {
          "color": "#4D5663"
         }
        },
        "paper_bgcolor": "#F5F6F9",
        "plot_bgcolor": "#F5F6F9",
        "showlegend": false,
        "template": {
         "data": {
          "bar": [
           {
            "error_x": {
             "color": "#2a3f5f"
            },
            "error_y": {
             "color": "#2a3f5f"
            },
            "marker": {
             "line": {
              "color": "#E5ECF6",
              "width": 0.5
             },
             "pattern": {
              "fillmode": "overlay",
              "size": 10,
              "solidity": 0.2
             }
            },
            "type": "bar"
           }
          ],
          "barpolar": [
           {
            "marker": {
             "line": {
              "color": "#E5ECF6",
              "width": 0.5
             },
             "pattern": {
              "fillmode": "overlay",
              "size": 10,
              "solidity": 0.2
             }
            },
            "type": "barpolar"
           }
          ],
          "carpet": [
           {
            "aaxis": {
             "endlinecolor": "#2a3f5f",
             "gridcolor": "white",
             "linecolor": "white",
             "minorgridcolor": "white",
             "startlinecolor": "#2a3f5f"
            },
            "baxis": {
             "endlinecolor": "#2a3f5f",
             "gridcolor": "white",
             "linecolor": "white",
             "minorgridcolor": "white",
             "startlinecolor": "#2a3f5f"
            },
            "type": "carpet"
           }
          ],
          "choropleth": [
           {
            "colorbar": {
             "outlinewidth": 0,
             "ticks": ""
            },
            "type": "choropleth"
           }
          ],
          "contour": [
           {
            "colorbar": {
             "outlinewidth": 0,
             "ticks": ""
            },
            "colorscale": [
             [
              0,
              "#0d0887"
             ],
             [
              0.1111111111111111,
              "#46039f"
             ],
             [
              0.2222222222222222,
              "#7201a8"
             ],
             [
              0.3333333333333333,
              "#9c179e"
             ],
             [
              0.4444444444444444,
              "#bd3786"
             ],
             [
              0.5555555555555556,
              "#d8576b"
             ],
             [
              0.6666666666666666,
              "#ed7953"
             ],
             [
              0.7777777777777778,
              "#fb9f3a"
             ],
             [
              0.8888888888888888,
              "#fdca26"
             ],
             [
              1,
              "#f0f921"
             ]
            ],
            "type": "contour"
           }
          ],
          "contourcarpet": [
           {
            "colorbar": {
             "outlinewidth": 0,
             "ticks": ""
            },
            "type": "contourcarpet"
           }
          ],
          "heatmap": [
           {
            "colorbar": {
             "outlinewidth": 0,
             "ticks": ""
            },
            "colorscale": [
             [
              0,
              "#0d0887"
             ],
             [
              0.1111111111111111,
              "#46039f"
             ],
             [
              0.2222222222222222,
              "#7201a8"
             ],
             [
              0.3333333333333333,
              "#9c179e"
             ],
             [
              0.4444444444444444,
              "#bd3786"
             ],
             [
              0.5555555555555556,
              "#d8576b"
             ],
             [
              0.6666666666666666,
              "#ed7953"
             ],
             [
              0.7777777777777778,
              "#fb9f3a"
             ],
             [
              0.8888888888888888,
              "#fdca26"
             ],
             [
              1,
              "#f0f921"
             ]
            ],
            "type": "heatmap"
           }
          ],
          "heatmapgl": [
           {
            "colorbar": {
             "outlinewidth": 0,
             "ticks": ""
            },
            "colorscale": [
             [
              0,
              "#0d0887"
             ],
             [
              0.1111111111111111,
              "#46039f"
             ],
             [
              0.2222222222222222,
              "#7201a8"
             ],
             [
              0.3333333333333333,
              "#9c179e"
             ],
             [
              0.4444444444444444,
              "#bd3786"
             ],
             [
              0.5555555555555556,
              "#d8576b"
             ],
             [
              0.6666666666666666,
              "#ed7953"
             ],
             [
              0.7777777777777778,
              "#fb9f3a"
             ],
             [
              0.8888888888888888,
              "#fdca26"
             ],
             [
              1,
              "#f0f921"
             ]
            ],
            "type": "heatmapgl"
           }
          ],
          "histogram": [
           {
            "marker": {
             "pattern": {
              "fillmode": "overlay",
              "size": 10,
              "solidity": 0.2
             }
            },
            "type": "histogram"
           }
          ],
          "histogram2d": [
           {
            "colorbar": {
             "outlinewidth": 0,
             "ticks": ""
            },
            "colorscale": [
             [
              0,
              "#0d0887"
             ],
             [
              0.1111111111111111,
              "#46039f"
             ],
             [
              0.2222222222222222,
              "#7201a8"
             ],
             [
              0.3333333333333333,
              "#9c179e"
             ],
             [
              0.4444444444444444,
              "#bd3786"
             ],
             [
              0.5555555555555556,
              "#d8576b"
             ],
             [
              0.6666666666666666,
              "#ed7953"
             ],
             [
              0.7777777777777778,
              "#fb9f3a"
             ],
             [
              0.8888888888888888,
              "#fdca26"
             ],
             [
              1,
              "#f0f921"
             ]
            ],
            "type": "histogram2d"
           }
          ],
          "histogram2dcontour": [
           {
            "colorbar": {
             "outlinewidth": 0,
             "ticks": ""
            },
            "colorscale": [
             [
              0,
              "#0d0887"
             ],
             [
              0.1111111111111111,
              "#46039f"
             ],
             [
              0.2222222222222222,
              "#7201a8"
             ],
             [
              0.3333333333333333,
              "#9c179e"
             ],
             [
              0.4444444444444444,
              "#bd3786"
             ],
             [
              0.5555555555555556,
              "#d8576b"
             ],
             [
              0.6666666666666666,
              "#ed7953"
             ],
             [
              0.7777777777777778,
              "#fb9f3a"
             ],
             [
              0.8888888888888888,
              "#fdca26"
             ],
             [
              1,
              "#f0f921"
             ]
            ],
            "type": "histogram2dcontour"
           }
          ],
          "mesh3d": [
           {
            "colorbar": {
             "outlinewidth": 0,
             "ticks": ""
            },
            "type": "mesh3d"
           }
          ],
          "parcoords": [
           {
            "line": {
             "colorbar": {
              "outlinewidth": 0,
              "ticks": ""
             }
            },
            "type": "parcoords"
           }
          ],
          "pie": [
           {
            "automargin": true,
            "type": "pie"
           }
          ],
          "scatter": [
           {
            "marker": {
             "colorbar": {
              "outlinewidth": 0,
              "ticks": ""
             }
            },
            "type": "scatter"
           }
          ],
          "scatter3d": [
           {
            "line": {
             "colorbar": {
              "outlinewidth": 0,
              "ticks": ""
             }
            },
            "marker": {
             "colorbar": {
              "outlinewidth": 0,
              "ticks": ""
             }
            },
            "type": "scatter3d"
           }
          ],
          "scattercarpet": [
           {
            "marker": {
             "colorbar": {
              "outlinewidth": 0,
              "ticks": ""
             }
            },
            "type": "scattercarpet"
           }
          ],
          "scattergeo": [
           {
            "marker": {
             "colorbar": {
              "outlinewidth": 0,
              "ticks": ""
             }
            },
            "type": "scattergeo"
           }
          ],
          "scattergl": [
           {
            "marker": {
             "colorbar": {
              "outlinewidth": 0,
              "ticks": ""
             }
            },
            "type": "scattergl"
           }
          ],
          "scattermapbox": [
           {
            "marker": {
             "colorbar": {
              "outlinewidth": 0,
              "ticks": ""
             }
            },
            "type": "scattermapbox"
           }
          ],
          "scatterpolar": [
           {
            "marker": {
             "colorbar": {
              "outlinewidth": 0,
              "ticks": ""
             }
            },
            "type": "scatterpolar"
           }
          ],
          "scatterpolargl": [
           {
            "marker": {
             "colorbar": {
              "outlinewidth": 0,
              "ticks": ""
             }
            },
            "type": "scatterpolargl"
           }
          ],
          "scatterternary": [
           {
            "marker": {
             "colorbar": {
              "outlinewidth": 0,
              "ticks": ""
             }
            },
            "type": "scatterternary"
           }
          ],
          "surface": [
           {
            "colorbar": {
             "outlinewidth": 0,
             "ticks": ""
            },
            "colorscale": [
             [
              0,
              "#0d0887"
             ],
             [
              0.1111111111111111,
              "#46039f"
             ],
             [
              0.2222222222222222,
              "#7201a8"
             ],
             [
              0.3333333333333333,
              "#9c179e"
             ],
             [
              0.4444444444444444,
              "#bd3786"
             ],
             [
              0.5555555555555556,
              "#d8576b"
             ],
             [
              0.6666666666666666,
              "#ed7953"
             ],
             [
              0.7777777777777778,
              "#fb9f3a"
             ],
             [
              0.8888888888888888,
              "#fdca26"
             ],
             [
              1,
              "#f0f921"
             ]
            ],
            "type": "surface"
           }
          ],
          "table": [
           {
            "cells": {
             "fill": {
              "color": "#EBF0F8"
             },
             "line": {
              "color": "white"
             }
            },
            "header": {
             "fill": {
              "color": "#C8D4E3"
             },
             "line": {
              "color": "white"
             }
            },
            "type": "table"
           }
          ]
         },
         "layout": {
          "annotationdefaults": {
           "arrowcolor": "#2a3f5f",
           "arrowhead": 0,
           "arrowwidth": 1
          },
          "autotypenumbers": "strict",
          "coloraxis": {
           "colorbar": {
            "outlinewidth": 0,
            "ticks": ""
           }
          },
          "colorscale": {
           "diverging": [
            [
             0,
             "#8e0152"
            ],
            [
             0.1,
             "#c51b7d"
            ],
            [
             0.2,
             "#de77ae"
            ],
            [
             0.3,
             "#f1b6da"
            ],
            [
             0.4,
             "#fde0ef"
            ],
            [
             0.5,
             "#f7f7f7"
            ],
            [
             0.6,
             "#e6f5d0"
            ],
            [
             0.7,
             "#b8e186"
            ],
            [
             0.8,
             "#7fbc41"
            ],
            [
             0.9,
             "#4d9221"
            ],
            [
             1,
             "#276419"
            ]
           ],
           "sequential": [
            [
             0,
             "#0d0887"
            ],
            [
             0.1111111111111111,
             "#46039f"
            ],
            [
             0.2222222222222222,
             "#7201a8"
            ],
            [
             0.3333333333333333,
             "#9c179e"
            ],
            [
             0.4444444444444444,
             "#bd3786"
            ],
            [
             0.5555555555555556,
             "#d8576b"
            ],
            [
             0.6666666666666666,
             "#ed7953"
            ],
            [
             0.7777777777777778,
             "#fb9f3a"
            ],
            [
             0.8888888888888888,
             "#fdca26"
            ],
            [
             1,
             "#f0f921"
            ]
           ],
           "sequentialminus": [
            [
             0,
             "#0d0887"
            ],
            [
             0.1111111111111111,
             "#46039f"
            ],
            [
             0.2222222222222222,
             "#7201a8"
            ],
            [
             0.3333333333333333,
             "#9c179e"
            ],
            [
             0.4444444444444444,
             "#bd3786"
            ],
            [
             0.5555555555555556,
             "#d8576b"
            ],
            [
             0.6666666666666666,
             "#ed7953"
            ],
            [
             0.7777777777777778,
             "#fb9f3a"
            ],
            [
             0.8888888888888888,
             "#fdca26"
            ],
            [
             1,
             "#f0f921"
            ]
           ]
          },
          "colorway": [
           "#636efa",
           "#EF553B",
           "#00cc96",
           "#ab63fa",
           "#FFA15A",
           "#19d3f3",
           "#FF6692",
           "#B6E880",
           "#FF97FF",
           "#FECB52"
          ],
          "font": {
           "color": "#2a3f5f"
          },
          "geo": {
           "bgcolor": "white",
           "lakecolor": "white",
           "landcolor": "#E5ECF6",
           "showlakes": true,
           "showland": true,
           "subunitcolor": "white"
          },
          "hoverlabel": {
           "align": "left"
          },
          "hovermode": "closest",
          "mapbox": {
           "style": "light"
          },
          "paper_bgcolor": "white",
          "plot_bgcolor": "#E5ECF6",
          "polar": {
           "angularaxis": {
            "gridcolor": "white",
            "linecolor": "white",
            "ticks": ""
           },
           "bgcolor": "#E5ECF6",
           "radialaxis": {
            "gridcolor": "white",
            "linecolor": "white",
            "ticks": ""
           }
          },
          "scene": {
           "xaxis": {
            "backgroundcolor": "#E5ECF6",
            "gridcolor": "white",
            "gridwidth": 2,
            "linecolor": "white",
            "showbackground": true,
            "ticks": "",
            "zerolinecolor": "white"
           },
           "yaxis": {
            "backgroundcolor": "#E5ECF6",
            "gridcolor": "white",
            "gridwidth": 2,
            "linecolor": "white",
            "showbackground": true,
            "ticks": "",
            "zerolinecolor": "white"
           },
           "zaxis": {
            "backgroundcolor": "#E5ECF6",
            "gridcolor": "white",
            "gridwidth": 2,
            "linecolor": "white",
            "showbackground": true,
            "ticks": "",
            "zerolinecolor": "white"
           }
          },
          "shapedefaults": {
           "line": {
            "color": "#2a3f5f"
           }
          },
          "ternary": {
           "aaxis": {
            "gridcolor": "white",
            "linecolor": "white",
            "ticks": ""
           },
           "baxis": {
            "gridcolor": "white",
            "linecolor": "white",
            "ticks": ""
           },
           "bgcolor": "#E5ECF6",
           "caxis": {
            "gridcolor": "white",
            "linecolor": "white",
            "ticks": ""
           }
          },
          "title": {
           "x": 0.05
          },
          "xaxis": {
           "automargin": true,
           "gridcolor": "white",
           "linecolor": "white",
           "ticks": "",
           "title": {
            "standoff": 15
           },
           "zerolinecolor": "white",
           "zerolinewidth": 2
          },
          "yaxis": {
           "automargin": true,
           "gridcolor": "white",
           "linecolor": "white",
           "ticks": "",
           "title": {
            "standoff": 15
           },
           "zerolinecolor": "white",
           "zerolinewidth": 2
          }
         }
        },
        "title": {
         "font": {
          "color": "#4D5663"
         }
        },
        "xaxis": {
         "anchor": "y",
         "domain": [
          0,
          0.2125
         ],
         "gridcolor": "#E1E5ED",
         "showgrid": false,
         "tickfont": {
          "color": "#4D5663"
         },
         "title": {
          "font": {
           "color": "#4D5663"
          },
          "text": ""
         },
         "zerolinecolor": "#E1E5ED"
        },
        "xaxis10": {
         "anchor": "y10",
         "domain": [
          0.2625,
          0.475
         ],
         "gridcolor": "#E1E5ED",
         "showgrid": false,
         "tickfont": {
          "color": "#4D5663"
         },
         "title": {
          "font": {
           "color": "#4D5663"
          },
          "text": ""
         },
         "zerolinecolor": "#E1E5ED"
        },
        "xaxis11": {
         "anchor": "y11",
         "domain": [
          0.525,
          0.7375
         ],
         "gridcolor": "#E1E5ED",
         "showgrid": false,
         "tickfont": {
          "color": "#4D5663"
         },
         "title": {
          "font": {
           "color": "#4D5663"
          },
          "text": ""
         },
         "zerolinecolor": "#E1E5ED"
        },
        "xaxis12": {
         "anchor": "y12",
         "domain": [
          0.7875,
          1
         ],
         "gridcolor": "#E1E5ED",
         "showgrid": false,
         "tickfont": {
          "color": "#4D5663"
         },
         "title": {
          "font": {
           "color": "#4D5663"
          },
          "text": ""
         },
         "zerolinecolor": "#E1E5ED"
        },
        "xaxis13": {
         "anchor": "y13",
         "domain": [
          0,
          0.2125
         ],
         "gridcolor": "#E1E5ED",
         "showgrid": false,
         "tickfont": {
          "color": "#4D5663"
         },
         "title": {
          "font": {
           "color": "#4D5663"
          },
          "text": ""
         },
         "zerolinecolor": "#E1E5ED"
        },
        "xaxis14": {
         "anchor": "y14",
         "domain": [
          0.2625,
          0.475
         ],
         "gridcolor": "#E1E5ED",
         "showgrid": false,
         "tickfont": {
          "color": "#4D5663"
         },
         "title": {
          "font": {
           "color": "#4D5663"
          },
          "text": ""
         },
         "zerolinecolor": "#E1E5ED"
        },
        "xaxis15": {
         "anchor": "y15",
         "domain": [
          0.525,
          0.7375
         ],
         "gridcolor": "#E1E5ED",
         "showgrid": false,
         "tickfont": {
          "color": "#4D5663"
         },
         "title": {
          "font": {
           "color": "#4D5663"
          },
          "text": ""
         },
         "zerolinecolor": "#E1E5ED"
        },
        "xaxis16": {
         "anchor": "y16",
         "domain": [
          0.7875,
          1
         ],
         "gridcolor": "#E1E5ED",
         "showgrid": false,
         "tickfont": {
          "color": "#4D5663"
         },
         "title": {
          "font": {
           "color": "#4D5663"
          },
          "text": ""
         },
         "zerolinecolor": "#E1E5ED"
        },
        "xaxis2": {
         "anchor": "y2",
         "domain": [
          0.2625,
          0.475
         ],
         "gridcolor": "#E1E5ED",
         "showgrid": false,
         "tickfont": {
          "color": "#4D5663"
         },
         "title": {
          "font": {
           "color": "#4D5663"
          },
          "text": ""
         },
         "zerolinecolor": "#E1E5ED"
        },
        "xaxis3": {
         "anchor": "y3",
         "domain": [
          0.525,
          0.7375
         ],
         "gridcolor": "#E1E5ED",
         "showgrid": false,
         "tickfont": {
          "color": "#4D5663"
         },
         "title": {
          "font": {
           "color": "#4D5663"
          },
          "text": ""
         },
         "zerolinecolor": "#E1E5ED"
        },
        "xaxis4": {
         "anchor": "y4",
         "domain": [
          0.7875,
          1
         ],
         "gridcolor": "#E1E5ED",
         "showgrid": false,
         "tickfont": {
          "color": "#4D5663"
         },
         "title": {
          "font": {
           "color": "#4D5663"
          },
          "text": ""
         },
         "zerolinecolor": "#E1E5ED"
        },
        "xaxis5": {
         "anchor": "y5",
         "domain": [
          0,
          0.2125
         ],
         "gridcolor": "#E1E5ED",
         "showgrid": false,
         "tickfont": {
          "color": "#4D5663"
         },
         "title": {
          "font": {
           "color": "#4D5663"
          },
          "text": ""
         },
         "zerolinecolor": "#E1E5ED"
        },
        "xaxis6": {
         "anchor": "y6",
         "domain": [
          0.2625,
          0.475
         ],
         "gridcolor": "#E1E5ED",
         "showgrid": false,
         "tickfont": {
          "color": "#4D5663"
         },
         "title": {
          "font": {
           "color": "#4D5663"
          },
          "text": ""
         },
         "zerolinecolor": "#E1E5ED"
        },
        "xaxis7": {
         "anchor": "y7",
         "domain": [
          0.525,
          0.7375
         ],
         "gridcolor": "#E1E5ED",
         "showgrid": false,
         "tickfont": {
          "color": "#4D5663"
         },
         "title": {
          "font": {
           "color": "#4D5663"
          },
          "text": ""
         },
         "zerolinecolor": "#E1E5ED"
        },
        "xaxis8": {
         "anchor": "y8",
         "domain": [
          0.7875,
          1
         ],
         "gridcolor": "#E1E5ED",
         "showgrid": false,
         "tickfont": {
          "color": "#4D5663"
         },
         "title": {
          "font": {
           "color": "#4D5663"
          },
          "text": ""
         },
         "zerolinecolor": "#E1E5ED"
        },
        "xaxis9": {
         "anchor": "y9",
         "domain": [
          0,
          0.2125
         ],
         "gridcolor": "#E1E5ED",
         "showgrid": false,
         "tickfont": {
          "color": "#4D5663"
         },
         "title": {
          "font": {
           "color": "#4D5663"
          },
          "text": ""
         },
         "zerolinecolor": "#E1E5ED"
        },
        "yaxis": {
         "anchor": "x",
         "domain": [
          0.8025,
          1
         ],
         "gridcolor": "#E1E5ED",
         "showgrid": false,
         "tickfont": {
          "color": "#4D5663"
         },
         "title": {
          "font": {
           "color": "#4D5663"
          },
          "text": ""
         },
         "zerolinecolor": "#E1E5ED"
        },
        "yaxis10": {
         "anchor": "x10",
         "domain": [
          0.2675,
          0.465
         ],
         "gridcolor": "#E1E5ED",
         "showgrid": false,
         "tickfont": {
          "color": "#4D5663"
         },
         "title": {
          "font": {
           "color": "#4D5663"
          },
          "text": ""
         },
         "zerolinecolor": "#E1E5ED"
        },
        "yaxis11": {
         "anchor": "x11",
         "domain": [
          0.2675,
          0.465
         ],
         "gridcolor": "#E1E5ED",
         "showgrid": false,
         "tickfont": {
          "color": "#4D5663"
         },
         "title": {
          "font": {
           "color": "#4D5663"
          },
          "text": ""
         },
         "zerolinecolor": "#E1E5ED"
        },
        "yaxis12": {
         "anchor": "x12",
         "domain": [
          0.2675,
          0.465
         ],
         "gridcolor": "#E1E5ED",
         "showgrid": false,
         "tickfont": {
          "color": "#4D5663"
         },
         "title": {
          "font": {
           "color": "#4D5663"
          },
          "text": ""
         },
         "zerolinecolor": "#E1E5ED"
        },
        "yaxis13": {
         "anchor": "x13",
         "domain": [
          0,
          0.1975
         ],
         "gridcolor": "#E1E5ED",
         "showgrid": false,
         "tickfont": {
          "color": "#4D5663"
         },
         "title": {
          "font": {
           "color": "#4D5663"
          },
          "text": ""
         },
         "zerolinecolor": "#E1E5ED"
        },
        "yaxis14": {
         "anchor": "x14",
         "domain": [
          0,
          0.1975
         ],
         "gridcolor": "#E1E5ED",
         "showgrid": false,
         "tickfont": {
          "color": "#4D5663"
         },
         "title": {
          "font": {
           "color": "#4D5663"
          },
          "text": ""
         },
         "zerolinecolor": "#E1E5ED"
        },
        "yaxis15": {
         "anchor": "x15",
         "domain": [
          0,
          0.1975
         ],
         "gridcolor": "#E1E5ED",
         "showgrid": false,
         "tickfont": {
          "color": "#4D5663"
         },
         "title": {
          "font": {
           "color": "#4D5663"
          },
          "text": ""
         },
         "zerolinecolor": "#E1E5ED"
        },
        "yaxis16": {
         "anchor": "x16",
         "domain": [
          0,
          0.1975
         ],
         "gridcolor": "#E1E5ED",
         "showgrid": false,
         "tickfont": {
          "color": "#4D5663"
         },
         "title": {
          "font": {
           "color": "#4D5663"
          },
          "text": ""
         },
         "zerolinecolor": "#E1E5ED"
        },
        "yaxis2": {
         "anchor": "x2",
         "domain": [
          0.8025,
          1
         ],
         "gridcolor": "#E1E5ED",
         "showgrid": false,
         "tickfont": {
          "color": "#4D5663"
         },
         "title": {
          "font": {
           "color": "#4D5663"
          },
          "text": ""
         },
         "zerolinecolor": "#E1E5ED"
        },
        "yaxis3": {
         "anchor": "x3",
         "domain": [
          0.8025,
          1
         ],
         "gridcolor": "#E1E5ED",
         "showgrid": false,
         "tickfont": {
          "color": "#4D5663"
         },
         "title": {
          "font": {
           "color": "#4D5663"
          },
          "text": ""
         },
         "zerolinecolor": "#E1E5ED"
        },
        "yaxis4": {
         "anchor": "x4",
         "domain": [
          0.8025,
          1
         ],
         "gridcolor": "#E1E5ED",
         "showgrid": false,
         "tickfont": {
          "color": "#4D5663"
         },
         "title": {
          "font": {
           "color": "#4D5663"
          },
          "text": ""
         },
         "zerolinecolor": "#E1E5ED"
        },
        "yaxis5": {
         "anchor": "x5",
         "domain": [
          0.535,
          0.7325
         ],
         "gridcolor": "#E1E5ED",
         "showgrid": false,
         "tickfont": {
          "color": "#4D5663"
         },
         "title": {
          "font": {
           "color": "#4D5663"
          },
          "text": ""
         },
         "zerolinecolor": "#E1E5ED"
        },
        "yaxis6": {
         "anchor": "x6",
         "domain": [
          0.535,
          0.7325
         ],
         "gridcolor": "#E1E5ED",
         "showgrid": false,
         "tickfont": {
          "color": "#4D5663"
         },
         "title": {
          "font": {
           "color": "#4D5663"
          },
          "text": ""
         },
         "zerolinecolor": "#E1E5ED"
        },
        "yaxis7": {
         "anchor": "x7",
         "domain": [
          0.535,
          0.7325
         ],
         "gridcolor": "#E1E5ED",
         "showgrid": false,
         "tickfont": {
          "color": "#4D5663"
         },
         "title": {
          "font": {
           "color": "#4D5663"
          },
          "text": ""
         },
         "zerolinecolor": "#E1E5ED"
        },
        "yaxis8": {
         "anchor": "x8",
         "domain": [
          0.535,
          0.7325
         ],
         "gridcolor": "#E1E5ED",
         "showgrid": false,
         "tickfont": {
          "color": "#4D5663"
         },
         "title": {
          "font": {
           "color": "#4D5663"
          },
          "text": ""
         },
         "zerolinecolor": "#E1E5ED"
        },
        "yaxis9": {
         "anchor": "x9",
         "domain": [
          0.2675,
          0.465
         ],
         "gridcolor": "#E1E5ED",
         "showgrid": false,
         "tickfont": {
          "color": "#4D5663"
         },
         "title": {
          "font": {
           "color": "#4D5663"
          },
          "text": ""
         },
         "zerolinecolor": "#E1E5ED"
        }
       }
      },
      "text/html": [
       "<div>                            <div id=\"268cc314-dbab-4e3a-bd2a-a78de42191d7\" class=\"plotly-graph-div\" style=\"height:525px; width:100%;\"></div>            <script type=\"text/javascript\">                require([\"plotly\"], function(Plotly) {                    window.PLOTLYENV=window.PLOTLYENV || {};\n",
       "                    window.PLOTLYENV.BASE_URL='https://plot.ly';                                    if (document.getElementById(\"268cc314-dbab-4e3a-bd2a-a78de42191d7\")) {                    Plotly.newPlot(                        \"268cc314-dbab-4e3a-bd2a-a78de42191d7\",                        [{\"histfunc\":\"count\",\"histnorm\":\"\",\"marker\":{\"color\":\"rgba(255, 153, 51, 1.0)\",\"line\":{\"color\":\"#4D5663\",\"width\":1.3}},\"name\":\"A\",\"nbinsx\":10,\"opacity\":0.8,\"orientation\":\"v\",\"x\":[-0.08696362399272553,0.11829315027705818,2.342856948597935,-1.503776880344004,0.045725881655566944,-0.12928100391232758,-1.036616358261247,0.10233820019024022,0.7544009950060778,1.119361123299176,-0.12168280829613869,-2.5141385692708162,0.8641734038037336,0.5615068860097867,-0.3618584895915859,-0.457493569108614,-0.7407705698927969,1.1100806879640044,-0.8436326812336624,-0.48194108799061275,-1.4283203300649514,-0.005528020954320215,0.6545934828776457,-0.3764165478866233,-0.7019587962207577,-2.1331489184945993,-1.5599707684625428,0.1755715299771797,0.13351195861619805,1.368573023242335,-0.3277442434772406,2.0071797704419105,1.0348622076293386,1.3772601634896795,-1.3690674657036475,-0.041160364008156404,0.3875459772294022,0.9653394848516135,-0.625061639729154,0.3400475723960751,0.8627064249099288,0.13396042173723252,0.4156667557269354,0.026797539151673128,0.405065409950036,0.7292637466264922,0.21898544855905366,0.2079755266846345,1.7031803281598694,1.0332873337748185,-0.08186366407943726,0.31908800200591075,-0.0831876976123175,-0.6307622500712357,0.11880043187804375,-0.8245533725750579,-0.6781822263791778,-0.17005988571480388,-1.6516093618334853,-0.8238222820076299,0.25641890902102926,-0.3322067616366865,1.4101018248811763,-1.1291979327906585,1.6890614664254615,-2.329076558908018,1.0769218217409133,0.1745963287674994,-0.8317798804560796,-1.1970027388103093,-3.0019528425038247,-0.23762122812809972,-0.4972338749701281,-0.26093263665920746,-1.5160013445449143,-0.9359898977334827,0.28176566515491647,0.25728493779995126,-0.1659249477937885,-0.13895687610656993,-1.997548442478862,1.132732545040066,1.2739327462477517,0.16888236139169427,1.5187040036619632,-0.774538350480497,-0.23137553047304132,-2.5810982422012527,-1.9447360011477897,-0.14078455082043415,0.5776488661887422,-0.882519133144336,0.22691072302708074,-0.7011641433638972,-0.9519428369511796,-0.7660743937480502,-2.211696125505859,-0.7298692001517896,-0.34256034176711875,1.0823363602187954],\"xaxis\":\"x\",\"yaxis\":\"y\",\"type\":\"histogram\"},{\"line\":{\"color\":\"rgba(128, 128, 128, 1.0)\",\"dash\":\"solid\",\"shape\":\"linear\",\"width\":1.3},\"marker\":{\"size\":2,\"symbol\":\"circle\"},\"mode\":\"markers\",\"name\":\"A\",\"text\":\"\",\"x\":[-0.07201300572682906,-1.7813371536318778,-0.8200929720183177,1.6850747024543902,0.14373920902261458,0.9014962704276461,-1.0481652514408317,0.9677142806092884,0.2784556999294692,-0.808096455996858,0.5972504318570593,1.5193397017630752,0.1120776473758537,0.031459404038649844,-0.6419956711923979,1.3661547594810273,-0.19155366489041692,-1.1012658471042815,0.6282171051348472,-0.8716239697489461,-0.5626019647408662,0.6519591742110662,0.052616620786117244,-0.169397506886645,-0.5635490785509196,-0.22762662898988673,-1.2333147800078432,-0.7330246424512903,0.62354927944434,-0.5199034839952482,0.5678912530643067,0.2055567196710461,0.8482662446920417,0.8649241351693712,0.6677232214596046,1.4194969576533518,0.05987451399890696,0.5364829593269563,2.139167152838529,0.840048180328241,1.6044742679372017,0.32314142805402435,-0.1615677497467817,0.47260106016564707,1.0744435776511905,0.04847396319960681,-0.1508712997263981,-0.5759453801733477,-0.293997152323099,-0.44495079449735675,0.10907341855645045,1.057057230197365,-0.6190450725199533,0.17020215249976262,0.6415891478844767,2.1265419568789854,-0.463185134592524,2.1374017556563474,1.9151279933805916,-0.10117463654989918,-0.9176696227617764,0.40766039857072367,1.2898062553730296,0.1545348303988453,0.24644376482344738,1.374650744190713,0.10564871875845407,0.6408997652220568,0.3425626471892363,0.04986405193713072,-0.6646697915034648,-0.09997211172881224,0.23521389993867892,0.5523179868398935,-0.09287699374722193,-0.9999106553888348,-1.1150659445689572,1.737598024647142,0.08558665304809565,0.44566810012783964,0.9790451280395394,-0.6081735571910922,0.2345712090980208,-1.2467094141877713,-0.5195244934509475,0.7759209695129649,-0.955124047948974,0.40746936598386513,0.23668765547290643,-0.02128848593352963,1.8956579840616128,0.6594859840593594,0.4028552358561733,-1.0275742681985736,-1.0331453939669182,-0.28602693038106247,1.437346730839855,0.689133460013907,-1.0303054514876115,0.2488420672892611],\"xaxis\":\"x2\",\"y\":[-0.08696362399272553,0.11829315027705818,2.342856948597935,-1.503776880344004,0.045725881655566944,-0.12928100391232758,-1.036616358261247,0.10233820019024022,0.7544009950060778,1.119361123299176,-0.12168280829613869,-2.5141385692708162,0.8641734038037336,0.5615068860097867,-0.3618584895915859,-0.457493569108614,-0.7407705698927969,1.1100806879640044,-0.8436326812336624,-0.48194108799061275,-1.4283203300649514,-0.005528020954320215,0.6545934828776457,-0.3764165478866233,-0.7019587962207577,-2.1331489184945993,-1.5599707684625428,0.1755715299771797,0.13351195861619805,1.368573023242335,-0.3277442434772406,2.0071797704419105,1.0348622076293386,1.3772601634896795,-1.3690674657036475,-0.041160364008156404,0.3875459772294022,0.9653394848516135,-0.625061639729154,0.3400475723960751,0.8627064249099288,0.13396042173723252,0.4156667557269354,0.026797539151673128,0.405065409950036,0.7292637466264922,0.21898544855905366,0.2079755266846345,1.7031803281598694,1.0332873337748185,-0.08186366407943726,0.31908800200591075,-0.0831876976123175,-0.6307622500712357,0.11880043187804375,-0.8245533725750579,-0.6781822263791778,-0.17005988571480388,-1.6516093618334853,-0.8238222820076299,0.25641890902102926,-0.3322067616366865,1.4101018248811763,-1.1291979327906585,1.6890614664254615,-2.329076558908018,1.0769218217409133,0.1745963287674994,-0.8317798804560796,-1.1970027388103093,-3.0019528425038247,-0.23762122812809972,-0.4972338749701281,-0.26093263665920746,-1.5160013445449143,-0.9359898977334827,0.28176566515491647,0.25728493779995126,-0.1659249477937885,-0.13895687610656993,-1.997548442478862,1.132732545040066,1.2739327462477517,0.16888236139169427,1.5187040036619632,-0.774538350480497,-0.23137553047304132,-2.5810982422012527,-1.9447360011477897,-0.14078455082043415,0.5776488661887422,-0.882519133144336,0.22691072302708074,-0.7011641433638972,-0.9519428369511796,-0.7660743937480502,-2.211696125505859,-0.7298692001517896,-0.34256034176711875,1.0823363602187954],\"yaxis\":\"y2\",\"type\":\"scatter\"},{\"line\":{\"color\":\"rgba(128, 128, 128, 1.0)\",\"dash\":\"solid\",\"shape\":\"linear\",\"width\":1.3},\"marker\":{\"size\":2,\"symbol\":\"circle\"},\"mode\":\"markers\",\"name\":\"A\",\"text\":\"\",\"x\":[-0.2687222025616364,0.9790459071799593,1.3053132248573984,0.029031443883402463,-0.8249852637997415,0.25896585569400143,0.09353457487812457,-0.6549257433321267,0.8404127778943362,0.5402301024200056,1.10960732874297,-0.15274023520581026,0.17371388758794312,-1.9907588451111633,0.12872612357135807,2.160670717650376,-1.7475624525991886,-0.03336558578493379,0.5178846669857563,0.4897598239617059,-0.6920258949102948,-0.27176227781509704,-0.7207298225338928,0.07434744133123929,-1.460475960869606,0.02683886348236559,0.6681882011720379,0.019275771183780255,-0.9621026561212102,0.7600942862700305,1.2891750222683158,-1.8225236726235388,-0.7743725389055496,0.5736096926037494,0.05519744257474495,0.3240068780213534,0.07530498457075546,-1.9044778427939197,0.8875999652545417,1.5499274224730382,-1.7160455021360528,0.1339041395482517,-0.7971920167666137,-0.28631271493709487,-0.783173039285525,-0.027747165527620066,-1.9988239452168048,-0.7409776856907827,-0.7201730031465646,1.335600407260753,-0.4224946886228251,0.25490106093374937,0.1919704932973419,-1.1881153388372703,-0.7322584440159531,-0.31448638964215764,-0.3629770382615635,2.1045622546051734,-0.8296239124628296,0.6414351133613407,1.1588872311372636,0.3809747603204056,-1.2149704700002366,-1.820316384248371,0.9281350154451435,-0.3172650849355808,-1.0309860047557216,1.7831225907492916,1.614081403629405,-0.6182197635206698,0.47856814709054163,-0.10440593786332424,-0.342259198652757,-0.3458284640226747,0.9090775504264496,-1.618642867168309,1.4991548699135433,-0.6702021182528046,-2.0339441296931087,1.1541083897833497,-0.23775648512402525,-0.10399097731965196,1.4335647751010416,-0.2111648691027632,-0.8023911517541695,0.443578093491491,-0.5206511148817367,0.6737836652916785,0.7619298677284297,0.25071896003998256,1.0748781215006178,-0.41297336169250415,-0.9786152392537483,0.34504994864114796,-1.1101943059275852,2.296091238792947,2.5342978744249933,-1.0933397155502977,0.5779415537524153,-0.42713821751546005],\"xaxis\":\"x3\",\"y\":[-0.08696362399272553,0.11829315027705818,2.342856948597935,-1.503776880344004,0.045725881655566944,-0.12928100391232758,-1.036616358261247,0.10233820019024022,0.7544009950060778,1.119361123299176,-0.12168280829613869,-2.5141385692708162,0.8641734038037336,0.5615068860097867,-0.3618584895915859,-0.457493569108614,-0.7407705698927969,1.1100806879640044,-0.8436326812336624,-0.48194108799061275,-1.4283203300649514,-0.005528020954320215,0.6545934828776457,-0.3764165478866233,-0.7019587962207577,-2.1331489184945993,-1.5599707684625428,0.1755715299771797,0.13351195861619805,1.368573023242335,-0.3277442434772406,2.0071797704419105,1.0348622076293386,1.3772601634896795,-1.3690674657036475,-0.041160364008156404,0.3875459772294022,0.9653394848516135,-0.625061639729154,0.3400475723960751,0.8627064249099288,0.13396042173723252,0.4156667557269354,0.026797539151673128,0.405065409950036,0.7292637466264922,0.21898544855905366,0.2079755266846345,1.7031803281598694,1.0332873337748185,-0.08186366407943726,0.31908800200591075,-0.0831876976123175,-0.6307622500712357,0.11880043187804375,-0.8245533725750579,-0.6781822263791778,-0.17005988571480388,-1.6516093618334853,-0.8238222820076299,0.25641890902102926,-0.3322067616366865,1.4101018248811763,-1.1291979327906585,1.6890614664254615,-2.329076558908018,1.0769218217409133,0.1745963287674994,-0.8317798804560796,-1.1970027388103093,-3.0019528425038247,-0.23762122812809972,-0.4972338749701281,-0.26093263665920746,-1.5160013445449143,-0.9359898977334827,0.28176566515491647,0.25728493779995126,-0.1659249477937885,-0.13895687610656993,-1.997548442478862,1.132732545040066,1.2739327462477517,0.16888236139169427,1.5187040036619632,-0.774538350480497,-0.23137553047304132,-2.5810982422012527,-1.9447360011477897,-0.14078455082043415,0.5776488661887422,-0.882519133144336,0.22691072302708074,-0.7011641433638972,-0.9519428369511796,-0.7660743937480502,-2.211696125505859,-0.7298692001517896,-0.34256034176711875,1.0823363602187954],\"yaxis\":\"y3\",\"type\":\"scatter\"},{\"line\":{\"color\":\"rgba(128, 128, 128, 1.0)\",\"dash\":\"solid\",\"shape\":\"linear\",\"width\":1.3},\"marker\":{\"size\":2,\"symbol\":\"circle\"},\"mode\":\"markers\",\"name\":\"A\",\"text\":\"\",\"x\":[0.8158971675704957,-0.9247032764534023,-0.311305343922232,0.19649202066341478,-0.49121075824855936,0.19774851548959338,-0.2612112627181056,-0.17624261758799198,1.8635403345354116,0.6435155836696956,-0.7725614331558435,-1.336661850714919,0.5911284727411863,-0.419448767421804,-1.4973983682062675,0.7412503782484586,-1.2077590309944715,1.1582012051017128,1.0475339683672564,-0.4926229010721131,-1.5682667722785322,1.3664900998778577,0.1511914245836227,0.16325805596625265,-0.8404698895977619,-0.457062429938257,-1.063206144385867,-0.6118486038553693,0.0554840535356453,0.26261236795708387,-0.2523452151795576,0.6242595967870732,0.3447776598437408,-0.3725526431666693,-0.28705101108689346,-0.6858519310562384,0.16247053594976332,2.8765317724460626,-2.563049342297222,0.15077909567341413,0.812686485174692,0.4578237688041664,-2.156205618193542,0.09851306847411394,0.8887460255748875,1.8320435641715378,0.2661270625818316,-0.3857699423820425,1.3998015252347111,-0.849926770135583,-0.6678189878614921,0.7428684859628628,0.23298751807848125,0.1996855347257156,-0.5651891338155755,0.3305721754433949,-0.46398923220845534,0.6559841638588461,0.675581841004044,-2.9152421718179165,0.7074993712386847,0.41874443391834054,0.37612801233207793,-1.2354554102353668,1.3181834438146,-0.18767369030918887,0.7430518879982969,-0.7281710532574133,-0.7641249360162816,1.146366546420054,-0.3074832875220709,-1.518494547065494,1.5331728969981846,-0.49865985360576587,-2.028951010037112,0.25613869109616066,0.31131046531423406,1.4367177434611031,-0.21727986429976084,-1.1290213083308243,-1.300840207892754,-0.073615533894691,-0.9662138924923768,1.6865084893261557,0.3947214641259405,0.4149588033506848,0.7885038245466549,1.1435253347699024,1.1891186382261552,-1.0359643229670896,-1.5814202307029128,-1.0238146231717786,-0.18577665836800164,0.5493747432224384,-2.098833394118898,-0.3059816140305973,0.19904612167811447,0.04106242727781146,-0.8155890802181568,1.158218091987929],\"xaxis\":\"x4\",\"y\":[-0.08696362399272553,0.11829315027705818,2.342856948597935,-1.503776880344004,0.045725881655566944,-0.12928100391232758,-1.036616358261247,0.10233820019024022,0.7544009950060778,1.119361123299176,-0.12168280829613869,-2.5141385692708162,0.8641734038037336,0.5615068860097867,-0.3618584895915859,-0.457493569108614,-0.7407705698927969,1.1100806879640044,-0.8436326812336624,-0.48194108799061275,-1.4283203300649514,-0.005528020954320215,0.6545934828776457,-0.3764165478866233,-0.7019587962207577,-2.1331489184945993,-1.5599707684625428,0.1755715299771797,0.13351195861619805,1.368573023242335,-0.3277442434772406,2.0071797704419105,1.0348622076293386,1.3772601634896795,-1.3690674657036475,-0.041160364008156404,0.3875459772294022,0.9653394848516135,-0.625061639729154,0.3400475723960751,0.8627064249099288,0.13396042173723252,0.4156667557269354,0.026797539151673128,0.405065409950036,0.7292637466264922,0.21898544855905366,0.2079755266846345,1.7031803281598694,1.0332873337748185,-0.08186366407943726,0.31908800200591075,-0.0831876976123175,-0.6307622500712357,0.11880043187804375,-0.8245533725750579,-0.6781822263791778,-0.17005988571480388,-1.6516093618334853,-0.8238222820076299,0.25641890902102926,-0.3322067616366865,1.4101018248811763,-1.1291979327906585,1.6890614664254615,-2.329076558908018,1.0769218217409133,0.1745963287674994,-0.8317798804560796,-1.1970027388103093,-3.0019528425038247,-0.23762122812809972,-0.4972338749701281,-0.26093263665920746,-1.5160013445449143,-0.9359898977334827,0.28176566515491647,0.25728493779995126,-0.1659249477937885,-0.13895687610656993,-1.997548442478862,1.132732545040066,1.2739327462477517,0.16888236139169427,1.5187040036619632,-0.774538350480497,-0.23137553047304132,-2.5810982422012527,-1.9447360011477897,-0.14078455082043415,0.5776488661887422,-0.882519133144336,0.22691072302708074,-0.7011641433638972,-0.9519428369511796,-0.7660743937480502,-2.211696125505859,-0.7298692001517896,-0.34256034176711875,1.0823363602187954],\"yaxis\":\"y4\",\"type\":\"scatter\"},{\"line\":{\"color\":\"rgba(128, 128, 128, 1.0)\",\"dash\":\"solid\",\"shape\":\"linear\",\"width\":1.3},\"marker\":{\"size\":2,\"symbol\":\"circle\"},\"mode\":\"markers\",\"name\":\"B\",\"text\":\"\",\"x\":[-0.08696362399272553,0.11829315027705818,2.342856948597935,-1.503776880344004,0.045725881655566944,-0.12928100391232758,-1.036616358261247,0.10233820019024022,0.7544009950060778,1.119361123299176,-0.12168280829613869,-2.5141385692708162,0.8641734038037336,0.5615068860097867,-0.3618584895915859,-0.457493569108614,-0.7407705698927969,1.1100806879640044,-0.8436326812336624,-0.48194108799061275,-1.4283203300649514,-0.005528020954320215,0.6545934828776457,-0.3764165478866233,-0.7019587962207577,-2.1331489184945993,-1.5599707684625428,0.1755715299771797,0.13351195861619805,1.368573023242335,-0.3277442434772406,2.0071797704419105,1.0348622076293386,1.3772601634896795,-1.3690674657036475,-0.041160364008156404,0.3875459772294022,0.9653394848516135,-0.625061639729154,0.3400475723960751,0.8627064249099288,0.13396042173723252,0.4156667557269354,0.026797539151673128,0.405065409950036,0.7292637466264922,0.21898544855905366,0.2079755266846345,1.7031803281598694,1.0332873337748185,-0.08186366407943726,0.31908800200591075,-0.0831876976123175,-0.6307622500712357,0.11880043187804375,-0.8245533725750579,-0.6781822263791778,-0.17005988571480388,-1.6516093618334853,-0.8238222820076299,0.25641890902102926,-0.3322067616366865,1.4101018248811763,-1.1291979327906585,1.6890614664254615,-2.329076558908018,1.0769218217409133,0.1745963287674994,-0.8317798804560796,-1.1970027388103093,-3.0019528425038247,-0.23762122812809972,-0.4972338749701281,-0.26093263665920746,-1.5160013445449143,-0.9359898977334827,0.28176566515491647,0.25728493779995126,-0.1659249477937885,-0.13895687610656993,-1.997548442478862,1.132732545040066,1.2739327462477517,0.16888236139169427,1.5187040036619632,-0.774538350480497,-0.23137553047304132,-2.5810982422012527,-1.9447360011477897,-0.14078455082043415,0.5776488661887422,-0.882519133144336,0.22691072302708074,-0.7011641433638972,-0.9519428369511796,-0.7660743937480502,-2.211696125505859,-0.7298692001517896,-0.34256034176711875,1.0823363602187954],\"xaxis\":\"x5\",\"y\":[-0.07201300572682906,-1.7813371536318778,-0.8200929720183177,1.6850747024543902,0.14373920902261458,0.9014962704276461,-1.0481652514408317,0.9677142806092884,0.2784556999294692,-0.808096455996858,0.5972504318570593,1.5193397017630752,0.1120776473758537,0.031459404038649844,-0.6419956711923979,1.3661547594810273,-0.19155366489041692,-1.1012658471042815,0.6282171051348472,-0.8716239697489461,-0.5626019647408662,0.6519591742110662,0.052616620786117244,-0.169397506886645,-0.5635490785509196,-0.22762662898988673,-1.2333147800078432,-0.7330246424512903,0.62354927944434,-0.5199034839952482,0.5678912530643067,0.2055567196710461,0.8482662446920417,0.8649241351693712,0.6677232214596046,1.4194969576533518,0.05987451399890696,0.5364829593269563,2.139167152838529,0.840048180328241,1.6044742679372017,0.32314142805402435,-0.1615677497467817,0.47260106016564707,1.0744435776511905,0.04847396319960681,-0.1508712997263981,-0.5759453801733477,-0.293997152323099,-0.44495079449735675,0.10907341855645045,1.057057230197365,-0.6190450725199533,0.17020215249976262,0.6415891478844767,2.1265419568789854,-0.463185134592524,2.1374017556563474,1.9151279933805916,-0.10117463654989918,-0.9176696227617764,0.40766039857072367,1.2898062553730296,0.1545348303988453,0.24644376482344738,1.374650744190713,0.10564871875845407,0.6408997652220568,0.3425626471892363,0.04986405193713072,-0.6646697915034648,-0.09997211172881224,0.23521389993867892,0.5523179868398935,-0.09287699374722193,-0.9999106553888348,-1.1150659445689572,1.737598024647142,0.08558665304809565,0.44566810012783964,0.9790451280395394,-0.6081735571910922,0.2345712090980208,-1.2467094141877713,-0.5195244934509475,0.7759209695129649,-0.955124047948974,0.40746936598386513,0.23668765547290643,-0.02128848593352963,1.8956579840616128,0.6594859840593594,0.4028552358561733,-1.0275742681985736,-1.0331453939669182,-0.28602693038106247,1.437346730839855,0.689133460013907,-1.0303054514876115,0.2488420672892611],\"yaxis\":\"y5\",\"type\":\"scatter\"},{\"histfunc\":\"count\",\"histnorm\":\"\",\"marker\":{\"color\":\"rgba(55, 128, 191, 1.0)\",\"line\":{\"color\":\"#4D5663\",\"width\":1.3}},\"name\":\"B\",\"nbinsx\":10,\"opacity\":0.8,\"orientation\":\"v\",\"x\":[-0.07201300572682906,-1.7813371536318778,-0.8200929720183177,1.6850747024543902,0.14373920902261458,0.9014962704276461,-1.0481652514408317,0.9677142806092884,0.2784556999294692,-0.808096455996858,0.5972504318570593,1.5193397017630752,0.1120776473758537,0.031459404038649844,-0.6419956711923979,1.3661547594810273,-0.19155366489041692,-1.1012658471042815,0.6282171051348472,-0.8716239697489461,-0.5626019647408662,0.6519591742110662,0.052616620786117244,-0.169397506886645,-0.5635490785509196,-0.22762662898988673,-1.2333147800078432,-0.7330246424512903,0.62354927944434,-0.5199034839952482,0.5678912530643067,0.2055567196710461,0.8482662446920417,0.8649241351693712,0.6677232214596046,1.4194969576533518,0.05987451399890696,0.5364829593269563,2.139167152838529,0.840048180328241,1.6044742679372017,0.32314142805402435,-0.1615677497467817,0.47260106016564707,1.0744435776511905,0.04847396319960681,-0.1508712997263981,-0.5759453801733477,-0.293997152323099,-0.44495079449735675,0.10907341855645045,1.057057230197365,-0.6190450725199533,0.17020215249976262,0.6415891478844767,2.1265419568789854,-0.463185134592524,2.1374017556563474,1.9151279933805916,-0.10117463654989918,-0.9176696227617764,0.40766039857072367,1.2898062553730296,0.1545348303988453,0.24644376482344738,1.374650744190713,0.10564871875845407,0.6408997652220568,0.3425626471892363,0.04986405193713072,-0.6646697915034648,-0.09997211172881224,0.23521389993867892,0.5523179868398935,-0.09287699374722193,-0.9999106553888348,-1.1150659445689572,1.737598024647142,0.08558665304809565,0.44566810012783964,0.9790451280395394,-0.6081735571910922,0.2345712090980208,-1.2467094141877713,-0.5195244934509475,0.7759209695129649,-0.955124047948974,0.40746936598386513,0.23668765547290643,-0.02128848593352963,1.8956579840616128,0.6594859840593594,0.4028552358561733,-1.0275742681985736,-1.0331453939669182,-0.28602693038106247,1.437346730839855,0.689133460013907,-1.0303054514876115,0.2488420672892611],\"xaxis\":\"x6\",\"yaxis\":\"y6\",\"type\":\"histogram\"},{\"line\":{\"color\":\"rgba(128, 128, 128, 1.0)\",\"dash\":\"solid\",\"shape\":\"linear\",\"width\":1.3},\"marker\":{\"size\":2,\"symbol\":\"circle\"},\"mode\":\"markers\",\"name\":\"B\",\"text\":\"\",\"x\":[-0.2687222025616364,0.9790459071799593,1.3053132248573984,0.029031443883402463,-0.8249852637997415,0.25896585569400143,0.09353457487812457,-0.6549257433321267,0.8404127778943362,0.5402301024200056,1.10960732874297,-0.15274023520581026,0.17371388758794312,-1.9907588451111633,0.12872612357135807,2.160670717650376,-1.7475624525991886,-0.03336558578493379,0.5178846669857563,0.4897598239617059,-0.6920258949102948,-0.27176227781509704,-0.7207298225338928,0.07434744133123929,-1.460475960869606,0.02683886348236559,0.6681882011720379,0.019275771183780255,-0.9621026561212102,0.7600942862700305,1.2891750222683158,-1.8225236726235388,-0.7743725389055496,0.5736096926037494,0.05519744257474495,0.3240068780213534,0.07530498457075546,-1.9044778427939197,0.8875999652545417,1.5499274224730382,-1.7160455021360528,0.1339041395482517,-0.7971920167666137,-0.28631271493709487,-0.783173039285525,-0.027747165527620066,-1.9988239452168048,-0.7409776856907827,-0.7201730031465646,1.335600407260753,-0.4224946886228251,0.25490106093374937,0.1919704932973419,-1.1881153388372703,-0.7322584440159531,-0.31448638964215764,-0.3629770382615635,2.1045622546051734,-0.8296239124628296,0.6414351133613407,1.1588872311372636,0.3809747603204056,-1.2149704700002366,-1.820316384248371,0.9281350154451435,-0.3172650849355808,-1.0309860047557216,1.7831225907492916,1.614081403629405,-0.6182197635206698,0.47856814709054163,-0.10440593786332424,-0.342259198652757,-0.3458284640226747,0.9090775504264496,-1.618642867168309,1.4991548699135433,-0.6702021182528046,-2.0339441296931087,1.1541083897833497,-0.23775648512402525,-0.10399097731965196,1.4335647751010416,-0.2111648691027632,-0.8023911517541695,0.443578093491491,-0.5206511148817367,0.6737836652916785,0.7619298677284297,0.25071896003998256,1.0748781215006178,-0.41297336169250415,-0.9786152392537483,0.34504994864114796,-1.1101943059275852,2.296091238792947,2.5342978744249933,-1.0933397155502977,0.5779415537524153,-0.42713821751546005],\"xaxis\":\"x7\",\"y\":[-0.07201300572682906,-1.7813371536318778,-0.8200929720183177,1.6850747024543902,0.14373920902261458,0.9014962704276461,-1.0481652514408317,0.9677142806092884,0.2784556999294692,-0.808096455996858,0.5972504318570593,1.5193397017630752,0.1120776473758537,0.031459404038649844,-0.6419956711923979,1.3661547594810273,-0.19155366489041692,-1.1012658471042815,0.6282171051348472,-0.8716239697489461,-0.5626019647408662,0.6519591742110662,0.052616620786117244,-0.169397506886645,-0.5635490785509196,-0.22762662898988673,-1.2333147800078432,-0.7330246424512903,0.62354927944434,-0.5199034839952482,0.5678912530643067,0.2055567196710461,0.8482662446920417,0.8649241351693712,0.6677232214596046,1.4194969576533518,0.05987451399890696,0.5364829593269563,2.139167152838529,0.840048180328241,1.6044742679372017,0.32314142805402435,-0.1615677497467817,0.47260106016564707,1.0744435776511905,0.04847396319960681,-0.1508712997263981,-0.5759453801733477,-0.293997152323099,-0.44495079449735675,0.10907341855645045,1.057057230197365,-0.6190450725199533,0.17020215249976262,0.6415891478844767,2.1265419568789854,-0.463185134592524,2.1374017556563474,1.9151279933805916,-0.10117463654989918,-0.9176696227617764,0.40766039857072367,1.2898062553730296,0.1545348303988453,0.24644376482344738,1.374650744190713,0.10564871875845407,0.6408997652220568,0.3425626471892363,0.04986405193713072,-0.6646697915034648,-0.09997211172881224,0.23521389993867892,0.5523179868398935,-0.09287699374722193,-0.9999106553888348,-1.1150659445689572,1.737598024647142,0.08558665304809565,0.44566810012783964,0.9790451280395394,-0.6081735571910922,0.2345712090980208,-1.2467094141877713,-0.5195244934509475,0.7759209695129649,-0.955124047948974,0.40746936598386513,0.23668765547290643,-0.02128848593352963,1.8956579840616128,0.6594859840593594,0.4028552358561733,-1.0275742681985736,-1.0331453939669182,-0.28602693038106247,1.437346730839855,0.689133460013907,-1.0303054514876115,0.2488420672892611],\"yaxis\":\"y7\",\"type\":\"scatter\"},{\"line\":{\"color\":\"rgba(128, 128, 128, 1.0)\",\"dash\":\"solid\",\"shape\":\"linear\",\"width\":1.3},\"marker\":{\"size\":2,\"symbol\":\"circle\"},\"mode\":\"markers\",\"name\":\"B\",\"text\":\"\",\"x\":[0.8158971675704957,-0.9247032764534023,-0.311305343922232,0.19649202066341478,-0.49121075824855936,0.19774851548959338,-0.2612112627181056,-0.17624261758799198,1.8635403345354116,0.6435155836696956,-0.7725614331558435,-1.336661850714919,0.5911284727411863,-0.419448767421804,-1.4973983682062675,0.7412503782484586,-1.2077590309944715,1.1582012051017128,1.0475339683672564,-0.4926229010721131,-1.5682667722785322,1.3664900998778577,0.1511914245836227,0.16325805596625265,-0.8404698895977619,-0.457062429938257,-1.063206144385867,-0.6118486038553693,0.0554840535356453,0.26261236795708387,-0.2523452151795576,0.6242595967870732,0.3447776598437408,-0.3725526431666693,-0.28705101108689346,-0.6858519310562384,0.16247053594976332,2.8765317724460626,-2.563049342297222,0.15077909567341413,0.812686485174692,0.4578237688041664,-2.156205618193542,0.09851306847411394,0.8887460255748875,1.8320435641715378,0.2661270625818316,-0.3857699423820425,1.3998015252347111,-0.849926770135583,-0.6678189878614921,0.7428684859628628,0.23298751807848125,0.1996855347257156,-0.5651891338155755,0.3305721754433949,-0.46398923220845534,0.6559841638588461,0.675581841004044,-2.9152421718179165,0.7074993712386847,0.41874443391834054,0.37612801233207793,-1.2354554102353668,1.3181834438146,-0.18767369030918887,0.7430518879982969,-0.7281710532574133,-0.7641249360162816,1.146366546420054,-0.3074832875220709,-1.518494547065494,1.5331728969981846,-0.49865985360576587,-2.028951010037112,0.25613869109616066,0.31131046531423406,1.4367177434611031,-0.21727986429976084,-1.1290213083308243,-1.300840207892754,-0.073615533894691,-0.9662138924923768,1.6865084893261557,0.3947214641259405,0.4149588033506848,0.7885038245466549,1.1435253347699024,1.1891186382261552,-1.0359643229670896,-1.5814202307029128,-1.0238146231717786,-0.18577665836800164,0.5493747432224384,-2.098833394118898,-0.3059816140305973,0.19904612167811447,0.04106242727781146,-0.8155890802181568,1.158218091987929],\"xaxis\":\"x8\",\"y\":[-0.07201300572682906,-1.7813371536318778,-0.8200929720183177,1.6850747024543902,0.14373920902261458,0.9014962704276461,-1.0481652514408317,0.9677142806092884,0.2784556999294692,-0.808096455996858,0.5972504318570593,1.5193397017630752,0.1120776473758537,0.031459404038649844,-0.6419956711923979,1.3661547594810273,-0.19155366489041692,-1.1012658471042815,0.6282171051348472,-0.8716239697489461,-0.5626019647408662,0.6519591742110662,0.052616620786117244,-0.169397506886645,-0.5635490785509196,-0.22762662898988673,-1.2333147800078432,-0.7330246424512903,0.62354927944434,-0.5199034839952482,0.5678912530643067,0.2055567196710461,0.8482662446920417,0.8649241351693712,0.6677232214596046,1.4194969576533518,0.05987451399890696,0.5364829593269563,2.139167152838529,0.840048180328241,1.6044742679372017,0.32314142805402435,-0.1615677497467817,0.47260106016564707,1.0744435776511905,0.04847396319960681,-0.1508712997263981,-0.5759453801733477,-0.293997152323099,-0.44495079449735675,0.10907341855645045,1.057057230197365,-0.6190450725199533,0.17020215249976262,0.6415891478844767,2.1265419568789854,-0.463185134592524,2.1374017556563474,1.9151279933805916,-0.10117463654989918,-0.9176696227617764,0.40766039857072367,1.2898062553730296,0.1545348303988453,0.24644376482344738,1.374650744190713,0.10564871875845407,0.6408997652220568,0.3425626471892363,0.04986405193713072,-0.6646697915034648,-0.09997211172881224,0.23521389993867892,0.5523179868398935,-0.09287699374722193,-0.9999106553888348,-1.1150659445689572,1.737598024647142,0.08558665304809565,0.44566810012783964,0.9790451280395394,-0.6081735571910922,0.2345712090980208,-1.2467094141877713,-0.5195244934509475,0.7759209695129649,-0.955124047948974,0.40746936598386513,0.23668765547290643,-0.02128848593352963,1.8956579840616128,0.6594859840593594,0.4028552358561733,-1.0275742681985736,-1.0331453939669182,-0.28602693038106247,1.437346730839855,0.689133460013907,-1.0303054514876115,0.2488420672892611],\"yaxis\":\"y8\",\"type\":\"scatter\"},{\"line\":{\"color\":\"rgba(128, 128, 128, 1.0)\",\"dash\":\"solid\",\"shape\":\"linear\",\"width\":1.3},\"marker\":{\"size\":2,\"symbol\":\"circle\"},\"mode\":\"markers\",\"name\":\"C\",\"text\":\"\",\"x\":[-0.08696362399272553,0.11829315027705818,2.342856948597935,-1.503776880344004,0.045725881655566944,-0.12928100391232758,-1.036616358261247,0.10233820019024022,0.7544009950060778,1.119361123299176,-0.12168280829613869,-2.5141385692708162,0.8641734038037336,0.5615068860097867,-0.3618584895915859,-0.457493569108614,-0.7407705698927969,1.1100806879640044,-0.8436326812336624,-0.48194108799061275,-1.4283203300649514,-0.005528020954320215,0.6545934828776457,-0.3764165478866233,-0.7019587962207577,-2.1331489184945993,-1.5599707684625428,0.1755715299771797,0.13351195861619805,1.368573023242335,-0.3277442434772406,2.0071797704419105,1.0348622076293386,1.3772601634896795,-1.3690674657036475,-0.041160364008156404,0.3875459772294022,0.9653394848516135,-0.625061639729154,0.3400475723960751,0.8627064249099288,0.13396042173723252,0.4156667557269354,0.026797539151673128,0.405065409950036,0.7292637466264922,0.21898544855905366,0.2079755266846345,1.7031803281598694,1.0332873337748185,-0.08186366407943726,0.31908800200591075,-0.0831876976123175,-0.6307622500712357,0.11880043187804375,-0.8245533725750579,-0.6781822263791778,-0.17005988571480388,-1.6516093618334853,-0.8238222820076299,0.25641890902102926,-0.3322067616366865,1.4101018248811763,-1.1291979327906585,1.6890614664254615,-2.329076558908018,1.0769218217409133,0.1745963287674994,-0.8317798804560796,-1.1970027388103093,-3.0019528425038247,-0.23762122812809972,-0.4972338749701281,-0.26093263665920746,-1.5160013445449143,-0.9359898977334827,0.28176566515491647,0.25728493779995126,-0.1659249477937885,-0.13895687610656993,-1.997548442478862,1.132732545040066,1.2739327462477517,0.16888236139169427,1.5187040036619632,-0.774538350480497,-0.23137553047304132,-2.5810982422012527,-1.9447360011477897,-0.14078455082043415,0.5776488661887422,-0.882519133144336,0.22691072302708074,-0.7011641433638972,-0.9519428369511796,-0.7660743937480502,-2.211696125505859,-0.7298692001517896,-0.34256034176711875,1.0823363602187954],\"xaxis\":\"x9\",\"y\":[-0.2687222025616364,0.9790459071799593,1.3053132248573984,0.029031443883402463,-0.8249852637997415,0.25896585569400143,0.09353457487812457,-0.6549257433321267,0.8404127778943362,0.5402301024200056,1.10960732874297,-0.15274023520581026,0.17371388758794312,-1.9907588451111633,0.12872612357135807,2.160670717650376,-1.7475624525991886,-0.03336558578493379,0.5178846669857563,0.4897598239617059,-0.6920258949102948,-0.27176227781509704,-0.7207298225338928,0.07434744133123929,-1.460475960869606,0.02683886348236559,0.6681882011720379,0.019275771183780255,-0.9621026561212102,0.7600942862700305,1.2891750222683158,-1.8225236726235388,-0.7743725389055496,0.5736096926037494,0.05519744257474495,0.3240068780213534,0.07530498457075546,-1.9044778427939197,0.8875999652545417,1.5499274224730382,-1.7160455021360528,0.1339041395482517,-0.7971920167666137,-0.28631271493709487,-0.783173039285525,-0.027747165527620066,-1.9988239452168048,-0.7409776856907827,-0.7201730031465646,1.335600407260753,-0.4224946886228251,0.25490106093374937,0.1919704932973419,-1.1881153388372703,-0.7322584440159531,-0.31448638964215764,-0.3629770382615635,2.1045622546051734,-0.8296239124628296,0.6414351133613407,1.1588872311372636,0.3809747603204056,-1.2149704700002366,-1.820316384248371,0.9281350154451435,-0.3172650849355808,-1.0309860047557216,1.7831225907492916,1.614081403629405,-0.6182197635206698,0.47856814709054163,-0.10440593786332424,-0.342259198652757,-0.3458284640226747,0.9090775504264496,-1.618642867168309,1.4991548699135433,-0.6702021182528046,-2.0339441296931087,1.1541083897833497,-0.23775648512402525,-0.10399097731965196,1.4335647751010416,-0.2111648691027632,-0.8023911517541695,0.443578093491491,-0.5206511148817367,0.6737836652916785,0.7619298677284297,0.25071896003998256,1.0748781215006178,-0.41297336169250415,-0.9786152392537483,0.34504994864114796,-1.1101943059275852,2.296091238792947,2.5342978744249933,-1.0933397155502977,0.5779415537524153,-0.42713821751546005],\"yaxis\":\"y9\",\"type\":\"scatter\"},{\"line\":{\"color\":\"rgba(128, 128, 128, 1.0)\",\"dash\":\"solid\",\"shape\":\"linear\",\"width\":1.3},\"marker\":{\"size\":2,\"symbol\":\"circle\"},\"mode\":\"markers\",\"name\":\"C\",\"text\":\"\",\"x\":[-0.07201300572682906,-1.7813371536318778,-0.8200929720183177,1.6850747024543902,0.14373920902261458,0.9014962704276461,-1.0481652514408317,0.9677142806092884,0.2784556999294692,-0.808096455996858,0.5972504318570593,1.5193397017630752,0.1120776473758537,0.031459404038649844,-0.6419956711923979,1.3661547594810273,-0.19155366489041692,-1.1012658471042815,0.6282171051348472,-0.8716239697489461,-0.5626019647408662,0.6519591742110662,0.052616620786117244,-0.169397506886645,-0.5635490785509196,-0.22762662898988673,-1.2333147800078432,-0.7330246424512903,0.62354927944434,-0.5199034839952482,0.5678912530643067,0.2055567196710461,0.8482662446920417,0.8649241351693712,0.6677232214596046,1.4194969576533518,0.05987451399890696,0.5364829593269563,2.139167152838529,0.840048180328241,1.6044742679372017,0.32314142805402435,-0.1615677497467817,0.47260106016564707,1.0744435776511905,0.04847396319960681,-0.1508712997263981,-0.5759453801733477,-0.293997152323099,-0.44495079449735675,0.10907341855645045,1.057057230197365,-0.6190450725199533,0.17020215249976262,0.6415891478844767,2.1265419568789854,-0.463185134592524,2.1374017556563474,1.9151279933805916,-0.10117463654989918,-0.9176696227617764,0.40766039857072367,1.2898062553730296,0.1545348303988453,0.24644376482344738,1.374650744190713,0.10564871875845407,0.6408997652220568,0.3425626471892363,0.04986405193713072,-0.6646697915034648,-0.09997211172881224,0.23521389993867892,0.5523179868398935,-0.09287699374722193,-0.9999106553888348,-1.1150659445689572,1.737598024647142,0.08558665304809565,0.44566810012783964,0.9790451280395394,-0.6081735571910922,0.2345712090980208,-1.2467094141877713,-0.5195244934509475,0.7759209695129649,-0.955124047948974,0.40746936598386513,0.23668765547290643,-0.02128848593352963,1.8956579840616128,0.6594859840593594,0.4028552358561733,-1.0275742681985736,-1.0331453939669182,-0.28602693038106247,1.437346730839855,0.689133460013907,-1.0303054514876115,0.2488420672892611],\"xaxis\":\"x10\",\"y\":[-0.2687222025616364,0.9790459071799593,1.3053132248573984,0.029031443883402463,-0.8249852637997415,0.25896585569400143,0.09353457487812457,-0.6549257433321267,0.8404127778943362,0.5402301024200056,1.10960732874297,-0.15274023520581026,0.17371388758794312,-1.9907588451111633,0.12872612357135807,2.160670717650376,-1.7475624525991886,-0.03336558578493379,0.5178846669857563,0.4897598239617059,-0.6920258949102948,-0.27176227781509704,-0.7207298225338928,0.07434744133123929,-1.460475960869606,0.02683886348236559,0.6681882011720379,0.019275771183780255,-0.9621026561212102,0.7600942862700305,1.2891750222683158,-1.8225236726235388,-0.7743725389055496,0.5736096926037494,0.05519744257474495,0.3240068780213534,0.07530498457075546,-1.9044778427939197,0.8875999652545417,1.5499274224730382,-1.7160455021360528,0.1339041395482517,-0.7971920167666137,-0.28631271493709487,-0.783173039285525,-0.027747165527620066,-1.9988239452168048,-0.7409776856907827,-0.7201730031465646,1.335600407260753,-0.4224946886228251,0.25490106093374937,0.1919704932973419,-1.1881153388372703,-0.7322584440159531,-0.31448638964215764,-0.3629770382615635,2.1045622546051734,-0.8296239124628296,0.6414351133613407,1.1588872311372636,0.3809747603204056,-1.2149704700002366,-1.820316384248371,0.9281350154451435,-0.3172650849355808,-1.0309860047557216,1.7831225907492916,1.614081403629405,-0.6182197635206698,0.47856814709054163,-0.10440593786332424,-0.342259198652757,-0.3458284640226747,0.9090775504264496,-1.618642867168309,1.4991548699135433,-0.6702021182528046,-2.0339441296931087,1.1541083897833497,-0.23775648512402525,-0.10399097731965196,1.4335647751010416,-0.2111648691027632,-0.8023911517541695,0.443578093491491,-0.5206511148817367,0.6737836652916785,0.7619298677284297,0.25071896003998256,1.0748781215006178,-0.41297336169250415,-0.9786152392537483,0.34504994864114796,-1.1101943059275852,2.296091238792947,2.5342978744249933,-1.0933397155502977,0.5779415537524153,-0.42713821751546005],\"yaxis\":\"y10\",\"type\":\"scatter\"},{\"histfunc\":\"count\",\"histnorm\":\"\",\"marker\":{\"color\":\"rgba(50, 171, 96, 1.0)\",\"line\":{\"color\":\"#4D5663\",\"width\":1.3}},\"name\":\"C\",\"nbinsx\":10,\"opacity\":0.8,\"orientation\":\"v\",\"x\":[-0.2687222025616364,0.9790459071799593,1.3053132248573984,0.029031443883402463,-0.8249852637997415,0.25896585569400143,0.09353457487812457,-0.6549257433321267,0.8404127778943362,0.5402301024200056,1.10960732874297,-0.15274023520581026,0.17371388758794312,-1.9907588451111633,0.12872612357135807,2.160670717650376,-1.7475624525991886,-0.03336558578493379,0.5178846669857563,0.4897598239617059,-0.6920258949102948,-0.27176227781509704,-0.7207298225338928,0.07434744133123929,-1.460475960869606,0.02683886348236559,0.6681882011720379,0.019275771183780255,-0.9621026561212102,0.7600942862700305,1.2891750222683158,-1.8225236726235388,-0.7743725389055496,0.5736096926037494,0.05519744257474495,0.3240068780213534,0.07530498457075546,-1.9044778427939197,0.8875999652545417,1.5499274224730382,-1.7160455021360528,0.1339041395482517,-0.7971920167666137,-0.28631271493709487,-0.783173039285525,-0.027747165527620066,-1.9988239452168048,-0.7409776856907827,-0.7201730031465646,1.335600407260753,-0.4224946886228251,0.25490106093374937,0.1919704932973419,-1.1881153388372703,-0.7322584440159531,-0.31448638964215764,-0.3629770382615635,2.1045622546051734,-0.8296239124628296,0.6414351133613407,1.1588872311372636,0.3809747603204056,-1.2149704700002366,-1.820316384248371,0.9281350154451435,-0.3172650849355808,-1.0309860047557216,1.7831225907492916,1.614081403629405,-0.6182197635206698,0.47856814709054163,-0.10440593786332424,-0.342259198652757,-0.3458284640226747,0.9090775504264496,-1.618642867168309,1.4991548699135433,-0.6702021182528046,-2.0339441296931087,1.1541083897833497,-0.23775648512402525,-0.10399097731965196,1.4335647751010416,-0.2111648691027632,-0.8023911517541695,0.443578093491491,-0.5206511148817367,0.6737836652916785,0.7619298677284297,0.25071896003998256,1.0748781215006178,-0.41297336169250415,-0.9786152392537483,0.34504994864114796,-1.1101943059275852,2.296091238792947,2.5342978744249933,-1.0933397155502977,0.5779415537524153,-0.42713821751546005],\"xaxis\":\"x11\",\"yaxis\":\"y11\",\"type\":\"histogram\"},{\"line\":{\"color\":\"rgba(128, 128, 128, 1.0)\",\"dash\":\"solid\",\"shape\":\"linear\",\"width\":1.3},\"marker\":{\"size\":2,\"symbol\":\"circle\"},\"mode\":\"markers\",\"name\":\"C\",\"text\":\"\",\"x\":[0.8158971675704957,-0.9247032764534023,-0.311305343922232,0.19649202066341478,-0.49121075824855936,0.19774851548959338,-0.2612112627181056,-0.17624261758799198,1.8635403345354116,0.6435155836696956,-0.7725614331558435,-1.336661850714919,0.5911284727411863,-0.419448767421804,-1.4973983682062675,0.7412503782484586,-1.2077590309944715,1.1582012051017128,1.0475339683672564,-0.4926229010721131,-1.5682667722785322,1.3664900998778577,0.1511914245836227,0.16325805596625265,-0.8404698895977619,-0.457062429938257,-1.063206144385867,-0.6118486038553693,0.0554840535356453,0.26261236795708387,-0.2523452151795576,0.6242595967870732,0.3447776598437408,-0.3725526431666693,-0.28705101108689346,-0.6858519310562384,0.16247053594976332,2.8765317724460626,-2.563049342297222,0.15077909567341413,0.812686485174692,0.4578237688041664,-2.156205618193542,0.09851306847411394,0.8887460255748875,1.8320435641715378,0.2661270625818316,-0.3857699423820425,1.3998015252347111,-0.849926770135583,-0.6678189878614921,0.7428684859628628,0.23298751807848125,0.1996855347257156,-0.5651891338155755,0.3305721754433949,-0.46398923220845534,0.6559841638588461,0.675581841004044,-2.9152421718179165,0.7074993712386847,0.41874443391834054,0.37612801233207793,-1.2354554102353668,1.3181834438146,-0.18767369030918887,0.7430518879982969,-0.7281710532574133,-0.7641249360162816,1.146366546420054,-0.3074832875220709,-1.518494547065494,1.5331728969981846,-0.49865985360576587,-2.028951010037112,0.25613869109616066,0.31131046531423406,1.4367177434611031,-0.21727986429976084,-1.1290213083308243,-1.300840207892754,-0.073615533894691,-0.9662138924923768,1.6865084893261557,0.3947214641259405,0.4149588033506848,0.7885038245466549,1.1435253347699024,1.1891186382261552,-1.0359643229670896,-1.5814202307029128,-1.0238146231717786,-0.18577665836800164,0.5493747432224384,-2.098833394118898,-0.3059816140305973,0.19904612167811447,0.04106242727781146,-0.8155890802181568,1.158218091987929],\"xaxis\":\"x12\",\"y\":[-0.2687222025616364,0.9790459071799593,1.3053132248573984,0.029031443883402463,-0.8249852637997415,0.25896585569400143,0.09353457487812457,-0.6549257433321267,0.8404127778943362,0.5402301024200056,1.10960732874297,-0.15274023520581026,0.17371388758794312,-1.9907588451111633,0.12872612357135807,2.160670717650376,-1.7475624525991886,-0.03336558578493379,0.5178846669857563,0.4897598239617059,-0.6920258949102948,-0.27176227781509704,-0.7207298225338928,0.07434744133123929,-1.460475960869606,0.02683886348236559,0.6681882011720379,0.019275771183780255,-0.9621026561212102,0.7600942862700305,1.2891750222683158,-1.8225236726235388,-0.7743725389055496,0.5736096926037494,0.05519744257474495,0.3240068780213534,0.07530498457075546,-1.9044778427939197,0.8875999652545417,1.5499274224730382,-1.7160455021360528,0.1339041395482517,-0.7971920167666137,-0.28631271493709487,-0.783173039285525,-0.027747165527620066,-1.9988239452168048,-0.7409776856907827,-0.7201730031465646,1.335600407260753,-0.4224946886228251,0.25490106093374937,0.1919704932973419,-1.1881153388372703,-0.7322584440159531,-0.31448638964215764,-0.3629770382615635,2.1045622546051734,-0.8296239124628296,0.6414351133613407,1.1588872311372636,0.3809747603204056,-1.2149704700002366,-1.820316384248371,0.9281350154451435,-0.3172650849355808,-1.0309860047557216,1.7831225907492916,1.614081403629405,-0.6182197635206698,0.47856814709054163,-0.10440593786332424,-0.342259198652757,-0.3458284640226747,0.9090775504264496,-1.618642867168309,1.4991548699135433,-0.6702021182528046,-2.0339441296931087,1.1541083897833497,-0.23775648512402525,-0.10399097731965196,1.4335647751010416,-0.2111648691027632,-0.8023911517541695,0.443578093491491,-0.5206511148817367,0.6737836652916785,0.7619298677284297,0.25071896003998256,1.0748781215006178,-0.41297336169250415,-0.9786152392537483,0.34504994864114796,-1.1101943059275852,2.296091238792947,2.5342978744249933,-1.0933397155502977,0.5779415537524153,-0.42713821751546005],\"yaxis\":\"y12\",\"type\":\"scatter\"},{\"line\":{\"color\":\"rgba(128, 128, 128, 1.0)\",\"dash\":\"solid\",\"shape\":\"linear\",\"width\":1.3},\"marker\":{\"size\":2,\"symbol\":\"circle\"},\"mode\":\"markers\",\"name\":\"D\",\"text\":\"\",\"x\":[-0.08696362399272553,0.11829315027705818,2.342856948597935,-1.503776880344004,0.045725881655566944,-0.12928100391232758,-1.036616358261247,0.10233820019024022,0.7544009950060778,1.119361123299176,-0.12168280829613869,-2.5141385692708162,0.8641734038037336,0.5615068860097867,-0.3618584895915859,-0.457493569108614,-0.7407705698927969,1.1100806879640044,-0.8436326812336624,-0.48194108799061275,-1.4283203300649514,-0.005528020954320215,0.6545934828776457,-0.3764165478866233,-0.7019587962207577,-2.1331489184945993,-1.5599707684625428,0.1755715299771797,0.13351195861619805,1.368573023242335,-0.3277442434772406,2.0071797704419105,1.0348622076293386,1.3772601634896795,-1.3690674657036475,-0.041160364008156404,0.3875459772294022,0.9653394848516135,-0.625061639729154,0.3400475723960751,0.8627064249099288,0.13396042173723252,0.4156667557269354,0.026797539151673128,0.405065409950036,0.7292637466264922,0.21898544855905366,0.2079755266846345,1.7031803281598694,1.0332873337748185,-0.08186366407943726,0.31908800200591075,-0.0831876976123175,-0.6307622500712357,0.11880043187804375,-0.8245533725750579,-0.6781822263791778,-0.17005988571480388,-1.6516093618334853,-0.8238222820076299,0.25641890902102926,-0.3322067616366865,1.4101018248811763,-1.1291979327906585,1.6890614664254615,-2.329076558908018,1.0769218217409133,0.1745963287674994,-0.8317798804560796,-1.1970027388103093,-3.0019528425038247,-0.23762122812809972,-0.4972338749701281,-0.26093263665920746,-1.5160013445449143,-0.9359898977334827,0.28176566515491647,0.25728493779995126,-0.1659249477937885,-0.13895687610656993,-1.997548442478862,1.132732545040066,1.2739327462477517,0.16888236139169427,1.5187040036619632,-0.774538350480497,-0.23137553047304132,-2.5810982422012527,-1.9447360011477897,-0.14078455082043415,0.5776488661887422,-0.882519133144336,0.22691072302708074,-0.7011641433638972,-0.9519428369511796,-0.7660743937480502,-2.211696125505859,-0.7298692001517896,-0.34256034176711875,1.0823363602187954],\"xaxis\":\"x13\",\"y\":[0.8158971675704957,-0.9247032764534023,-0.311305343922232,0.19649202066341478,-0.49121075824855936,0.19774851548959338,-0.2612112627181056,-0.17624261758799198,1.8635403345354116,0.6435155836696956,-0.7725614331558435,-1.336661850714919,0.5911284727411863,-0.419448767421804,-1.4973983682062675,0.7412503782484586,-1.2077590309944715,1.1582012051017128,1.0475339683672564,-0.4926229010721131,-1.5682667722785322,1.3664900998778577,0.1511914245836227,0.16325805596625265,-0.8404698895977619,-0.457062429938257,-1.063206144385867,-0.6118486038553693,0.0554840535356453,0.26261236795708387,-0.2523452151795576,0.6242595967870732,0.3447776598437408,-0.3725526431666693,-0.28705101108689346,-0.6858519310562384,0.16247053594976332,2.8765317724460626,-2.563049342297222,0.15077909567341413,0.812686485174692,0.4578237688041664,-2.156205618193542,0.09851306847411394,0.8887460255748875,1.8320435641715378,0.2661270625818316,-0.3857699423820425,1.3998015252347111,-0.849926770135583,-0.6678189878614921,0.7428684859628628,0.23298751807848125,0.1996855347257156,-0.5651891338155755,0.3305721754433949,-0.46398923220845534,0.6559841638588461,0.675581841004044,-2.9152421718179165,0.7074993712386847,0.41874443391834054,0.37612801233207793,-1.2354554102353668,1.3181834438146,-0.18767369030918887,0.7430518879982969,-0.7281710532574133,-0.7641249360162816,1.146366546420054,-0.3074832875220709,-1.518494547065494,1.5331728969981846,-0.49865985360576587,-2.028951010037112,0.25613869109616066,0.31131046531423406,1.4367177434611031,-0.21727986429976084,-1.1290213083308243,-1.300840207892754,-0.073615533894691,-0.9662138924923768,1.6865084893261557,0.3947214641259405,0.4149588033506848,0.7885038245466549,1.1435253347699024,1.1891186382261552,-1.0359643229670896,-1.5814202307029128,-1.0238146231717786,-0.18577665836800164,0.5493747432224384,-2.098833394118898,-0.3059816140305973,0.19904612167811447,0.04106242727781146,-0.8155890802181568,1.158218091987929],\"yaxis\":\"y13\",\"type\":\"scatter\"},{\"line\":{\"color\":\"rgba(128, 128, 128, 1.0)\",\"dash\":\"solid\",\"shape\":\"linear\",\"width\":1.3},\"marker\":{\"size\":2,\"symbol\":\"circle\"},\"mode\":\"markers\",\"name\":\"D\",\"text\":\"\",\"x\":[-0.07201300572682906,-1.7813371536318778,-0.8200929720183177,1.6850747024543902,0.14373920902261458,0.9014962704276461,-1.0481652514408317,0.9677142806092884,0.2784556999294692,-0.808096455996858,0.5972504318570593,1.5193397017630752,0.1120776473758537,0.031459404038649844,-0.6419956711923979,1.3661547594810273,-0.19155366489041692,-1.1012658471042815,0.6282171051348472,-0.8716239697489461,-0.5626019647408662,0.6519591742110662,0.052616620786117244,-0.169397506886645,-0.5635490785509196,-0.22762662898988673,-1.2333147800078432,-0.7330246424512903,0.62354927944434,-0.5199034839952482,0.5678912530643067,0.2055567196710461,0.8482662446920417,0.8649241351693712,0.6677232214596046,1.4194969576533518,0.05987451399890696,0.5364829593269563,2.139167152838529,0.840048180328241,1.6044742679372017,0.32314142805402435,-0.1615677497467817,0.47260106016564707,1.0744435776511905,0.04847396319960681,-0.1508712997263981,-0.5759453801733477,-0.293997152323099,-0.44495079449735675,0.10907341855645045,1.057057230197365,-0.6190450725199533,0.17020215249976262,0.6415891478844767,2.1265419568789854,-0.463185134592524,2.1374017556563474,1.9151279933805916,-0.10117463654989918,-0.9176696227617764,0.40766039857072367,1.2898062553730296,0.1545348303988453,0.24644376482344738,1.374650744190713,0.10564871875845407,0.6408997652220568,0.3425626471892363,0.04986405193713072,-0.6646697915034648,-0.09997211172881224,0.23521389993867892,0.5523179868398935,-0.09287699374722193,-0.9999106553888348,-1.1150659445689572,1.737598024647142,0.08558665304809565,0.44566810012783964,0.9790451280395394,-0.6081735571910922,0.2345712090980208,-1.2467094141877713,-0.5195244934509475,0.7759209695129649,-0.955124047948974,0.40746936598386513,0.23668765547290643,-0.02128848593352963,1.8956579840616128,0.6594859840593594,0.4028552358561733,-1.0275742681985736,-1.0331453939669182,-0.28602693038106247,1.437346730839855,0.689133460013907,-1.0303054514876115,0.2488420672892611],\"xaxis\":\"x14\",\"y\":[0.8158971675704957,-0.9247032764534023,-0.311305343922232,0.19649202066341478,-0.49121075824855936,0.19774851548959338,-0.2612112627181056,-0.17624261758799198,1.8635403345354116,0.6435155836696956,-0.7725614331558435,-1.336661850714919,0.5911284727411863,-0.419448767421804,-1.4973983682062675,0.7412503782484586,-1.2077590309944715,1.1582012051017128,1.0475339683672564,-0.4926229010721131,-1.5682667722785322,1.3664900998778577,0.1511914245836227,0.16325805596625265,-0.8404698895977619,-0.457062429938257,-1.063206144385867,-0.6118486038553693,0.0554840535356453,0.26261236795708387,-0.2523452151795576,0.6242595967870732,0.3447776598437408,-0.3725526431666693,-0.28705101108689346,-0.6858519310562384,0.16247053594976332,2.8765317724460626,-2.563049342297222,0.15077909567341413,0.812686485174692,0.4578237688041664,-2.156205618193542,0.09851306847411394,0.8887460255748875,1.8320435641715378,0.2661270625818316,-0.3857699423820425,1.3998015252347111,-0.849926770135583,-0.6678189878614921,0.7428684859628628,0.23298751807848125,0.1996855347257156,-0.5651891338155755,0.3305721754433949,-0.46398923220845534,0.6559841638588461,0.675581841004044,-2.9152421718179165,0.7074993712386847,0.41874443391834054,0.37612801233207793,-1.2354554102353668,1.3181834438146,-0.18767369030918887,0.7430518879982969,-0.7281710532574133,-0.7641249360162816,1.146366546420054,-0.3074832875220709,-1.518494547065494,1.5331728969981846,-0.49865985360576587,-2.028951010037112,0.25613869109616066,0.31131046531423406,1.4367177434611031,-0.21727986429976084,-1.1290213083308243,-1.300840207892754,-0.073615533894691,-0.9662138924923768,1.6865084893261557,0.3947214641259405,0.4149588033506848,0.7885038245466549,1.1435253347699024,1.1891186382261552,-1.0359643229670896,-1.5814202307029128,-1.0238146231717786,-0.18577665836800164,0.5493747432224384,-2.098833394118898,-0.3059816140305973,0.19904612167811447,0.04106242727781146,-0.8155890802181568,1.158218091987929],\"yaxis\":\"y14\",\"type\":\"scatter\"},{\"line\":{\"color\":\"rgba(128, 128, 128, 1.0)\",\"dash\":\"solid\",\"shape\":\"linear\",\"width\":1.3},\"marker\":{\"size\":2,\"symbol\":\"circle\"},\"mode\":\"markers\",\"name\":\"D\",\"text\":\"\",\"x\":[-0.2687222025616364,0.9790459071799593,1.3053132248573984,0.029031443883402463,-0.8249852637997415,0.25896585569400143,0.09353457487812457,-0.6549257433321267,0.8404127778943362,0.5402301024200056,1.10960732874297,-0.15274023520581026,0.17371388758794312,-1.9907588451111633,0.12872612357135807,2.160670717650376,-1.7475624525991886,-0.03336558578493379,0.5178846669857563,0.4897598239617059,-0.6920258949102948,-0.27176227781509704,-0.7207298225338928,0.07434744133123929,-1.460475960869606,0.02683886348236559,0.6681882011720379,0.019275771183780255,-0.9621026561212102,0.7600942862700305,1.2891750222683158,-1.8225236726235388,-0.7743725389055496,0.5736096926037494,0.05519744257474495,0.3240068780213534,0.07530498457075546,-1.9044778427939197,0.8875999652545417,1.5499274224730382,-1.7160455021360528,0.1339041395482517,-0.7971920167666137,-0.28631271493709487,-0.783173039285525,-0.027747165527620066,-1.9988239452168048,-0.7409776856907827,-0.7201730031465646,1.335600407260753,-0.4224946886228251,0.25490106093374937,0.1919704932973419,-1.1881153388372703,-0.7322584440159531,-0.31448638964215764,-0.3629770382615635,2.1045622546051734,-0.8296239124628296,0.6414351133613407,1.1588872311372636,0.3809747603204056,-1.2149704700002366,-1.820316384248371,0.9281350154451435,-0.3172650849355808,-1.0309860047557216,1.7831225907492916,1.614081403629405,-0.6182197635206698,0.47856814709054163,-0.10440593786332424,-0.342259198652757,-0.3458284640226747,0.9090775504264496,-1.618642867168309,1.4991548699135433,-0.6702021182528046,-2.0339441296931087,1.1541083897833497,-0.23775648512402525,-0.10399097731965196,1.4335647751010416,-0.2111648691027632,-0.8023911517541695,0.443578093491491,-0.5206511148817367,0.6737836652916785,0.7619298677284297,0.25071896003998256,1.0748781215006178,-0.41297336169250415,-0.9786152392537483,0.34504994864114796,-1.1101943059275852,2.296091238792947,2.5342978744249933,-1.0933397155502977,0.5779415537524153,-0.42713821751546005],\"xaxis\":\"x15\",\"y\":[0.8158971675704957,-0.9247032764534023,-0.311305343922232,0.19649202066341478,-0.49121075824855936,0.19774851548959338,-0.2612112627181056,-0.17624261758799198,1.8635403345354116,0.6435155836696956,-0.7725614331558435,-1.336661850714919,0.5911284727411863,-0.419448767421804,-1.4973983682062675,0.7412503782484586,-1.2077590309944715,1.1582012051017128,1.0475339683672564,-0.4926229010721131,-1.5682667722785322,1.3664900998778577,0.1511914245836227,0.16325805596625265,-0.8404698895977619,-0.457062429938257,-1.063206144385867,-0.6118486038553693,0.0554840535356453,0.26261236795708387,-0.2523452151795576,0.6242595967870732,0.3447776598437408,-0.3725526431666693,-0.28705101108689346,-0.6858519310562384,0.16247053594976332,2.8765317724460626,-2.563049342297222,0.15077909567341413,0.812686485174692,0.4578237688041664,-2.156205618193542,0.09851306847411394,0.8887460255748875,1.8320435641715378,0.2661270625818316,-0.3857699423820425,1.3998015252347111,-0.849926770135583,-0.6678189878614921,0.7428684859628628,0.23298751807848125,0.1996855347257156,-0.5651891338155755,0.3305721754433949,-0.46398923220845534,0.6559841638588461,0.675581841004044,-2.9152421718179165,0.7074993712386847,0.41874443391834054,0.37612801233207793,-1.2354554102353668,1.3181834438146,-0.18767369030918887,0.7430518879982969,-0.7281710532574133,-0.7641249360162816,1.146366546420054,-0.3074832875220709,-1.518494547065494,1.5331728969981846,-0.49865985360576587,-2.028951010037112,0.25613869109616066,0.31131046531423406,1.4367177434611031,-0.21727986429976084,-1.1290213083308243,-1.300840207892754,-0.073615533894691,-0.9662138924923768,1.6865084893261557,0.3947214641259405,0.4149588033506848,0.7885038245466549,1.1435253347699024,1.1891186382261552,-1.0359643229670896,-1.5814202307029128,-1.0238146231717786,-0.18577665836800164,0.5493747432224384,-2.098833394118898,-0.3059816140305973,0.19904612167811447,0.04106242727781146,-0.8155890802181568,1.158218091987929],\"yaxis\":\"y15\",\"type\":\"scatter\"},{\"histfunc\":\"count\",\"histnorm\":\"\",\"marker\":{\"color\":\"rgba(128, 0, 128, 1.0)\",\"line\":{\"color\":\"#4D5663\",\"width\":1.3}},\"name\":\"D\",\"nbinsx\":10,\"opacity\":0.8,\"orientation\":\"v\",\"x\":[0.8158971675704957,-0.9247032764534023,-0.311305343922232,0.19649202066341478,-0.49121075824855936,0.19774851548959338,-0.2612112627181056,-0.17624261758799198,1.8635403345354116,0.6435155836696956,-0.7725614331558435,-1.336661850714919,0.5911284727411863,-0.419448767421804,-1.4973983682062675,0.7412503782484586,-1.2077590309944715,1.1582012051017128,1.0475339683672564,-0.4926229010721131,-1.5682667722785322,1.3664900998778577,0.1511914245836227,0.16325805596625265,-0.8404698895977619,-0.457062429938257,-1.063206144385867,-0.6118486038553693,0.0554840535356453,0.26261236795708387,-0.2523452151795576,0.6242595967870732,0.3447776598437408,-0.3725526431666693,-0.28705101108689346,-0.6858519310562384,0.16247053594976332,2.8765317724460626,-2.563049342297222,0.15077909567341413,0.812686485174692,0.4578237688041664,-2.156205618193542,0.09851306847411394,0.8887460255748875,1.8320435641715378,0.2661270625818316,-0.3857699423820425,1.3998015252347111,-0.849926770135583,-0.6678189878614921,0.7428684859628628,0.23298751807848125,0.1996855347257156,-0.5651891338155755,0.3305721754433949,-0.46398923220845534,0.6559841638588461,0.675581841004044,-2.9152421718179165,0.7074993712386847,0.41874443391834054,0.37612801233207793,-1.2354554102353668,1.3181834438146,-0.18767369030918887,0.7430518879982969,-0.7281710532574133,-0.7641249360162816,1.146366546420054,-0.3074832875220709,-1.518494547065494,1.5331728969981846,-0.49865985360576587,-2.028951010037112,0.25613869109616066,0.31131046531423406,1.4367177434611031,-0.21727986429976084,-1.1290213083308243,-1.300840207892754,-0.073615533894691,-0.9662138924923768,1.6865084893261557,0.3947214641259405,0.4149588033506848,0.7885038245466549,1.1435253347699024,1.1891186382261552,-1.0359643229670896,-1.5814202307029128,-1.0238146231717786,-0.18577665836800164,0.5493747432224384,-2.098833394118898,-0.3059816140305973,0.19904612167811447,0.04106242727781146,-0.8155890802181568,1.158218091987929],\"xaxis\":\"x16\",\"yaxis\":\"y16\",\"type\":\"histogram\"}],                        {\"bargap\":0.02,\"legend\":{\"bgcolor\":\"#F5F6F9\",\"font\":{\"color\":\"#4D5663\"}},\"paper_bgcolor\":\"#F5F6F9\",\"plot_bgcolor\":\"#F5F6F9\",\"showlegend\":false,\"template\":{\"data\":{\"barpolar\":[{\"marker\":{\"line\":{\"color\":\"#E5ECF6\",\"width\":0.5},\"pattern\":{\"fillmode\":\"overlay\",\"size\":10,\"solidity\":0.2}},\"type\":\"barpolar\"}],\"bar\":[{\"error_x\":{\"color\":\"#2a3f5f\"},\"error_y\":{\"color\":\"#2a3f5f\"},\"marker\":{\"line\":{\"color\":\"#E5ECF6\",\"width\":0.5},\"pattern\":{\"fillmode\":\"overlay\",\"size\":10,\"solidity\":0.2}},\"type\":\"bar\"}],\"carpet\":[{\"aaxis\":{\"endlinecolor\":\"#2a3f5f\",\"gridcolor\":\"white\",\"linecolor\":\"white\",\"minorgridcolor\":\"white\",\"startlinecolor\":\"#2a3f5f\"},\"baxis\":{\"endlinecolor\":\"#2a3f5f\",\"gridcolor\":\"white\",\"linecolor\":\"white\",\"minorgridcolor\":\"white\",\"startlinecolor\":\"#2a3f5f\"},\"type\":\"carpet\"}],\"choropleth\":[{\"colorbar\":{\"outlinewidth\":0,\"ticks\":\"\"},\"type\":\"choropleth\"}],\"contourcarpet\":[{\"colorbar\":{\"outlinewidth\":0,\"ticks\":\"\"},\"type\":\"contourcarpet\"}],\"contour\":[{\"colorbar\":{\"outlinewidth\":0,\"ticks\":\"\"},\"colorscale\":[[0.0,\"#0d0887\"],[0.1111111111111111,\"#46039f\"],[0.2222222222222222,\"#7201a8\"],[0.3333333333333333,\"#9c179e\"],[0.4444444444444444,\"#bd3786\"],[0.5555555555555556,\"#d8576b\"],[0.6666666666666666,\"#ed7953\"],[0.7777777777777778,\"#fb9f3a\"],[0.8888888888888888,\"#fdca26\"],[1.0,\"#f0f921\"]],\"type\":\"contour\"}],\"heatmapgl\":[{\"colorbar\":{\"outlinewidth\":0,\"ticks\":\"\"},\"colorscale\":[[0.0,\"#0d0887\"],[0.1111111111111111,\"#46039f\"],[0.2222222222222222,\"#7201a8\"],[0.3333333333333333,\"#9c179e\"],[0.4444444444444444,\"#bd3786\"],[0.5555555555555556,\"#d8576b\"],[0.6666666666666666,\"#ed7953\"],[0.7777777777777778,\"#fb9f3a\"],[0.8888888888888888,\"#fdca26\"],[1.0,\"#f0f921\"]],\"type\":\"heatmapgl\"}],\"heatmap\":[{\"colorbar\":{\"outlinewidth\":0,\"ticks\":\"\"},\"colorscale\":[[0.0,\"#0d0887\"],[0.1111111111111111,\"#46039f\"],[0.2222222222222222,\"#7201a8\"],[0.3333333333333333,\"#9c179e\"],[0.4444444444444444,\"#bd3786\"],[0.5555555555555556,\"#d8576b\"],[0.6666666666666666,\"#ed7953\"],[0.7777777777777778,\"#fb9f3a\"],[0.8888888888888888,\"#fdca26\"],[1.0,\"#f0f921\"]],\"type\":\"heatmap\"}],\"histogram2dcontour\":[{\"colorbar\":{\"outlinewidth\":0,\"ticks\":\"\"},\"colorscale\":[[0.0,\"#0d0887\"],[0.1111111111111111,\"#46039f\"],[0.2222222222222222,\"#7201a8\"],[0.3333333333333333,\"#9c179e\"],[0.4444444444444444,\"#bd3786\"],[0.5555555555555556,\"#d8576b\"],[0.6666666666666666,\"#ed7953\"],[0.7777777777777778,\"#fb9f3a\"],[0.8888888888888888,\"#fdca26\"],[1.0,\"#f0f921\"]],\"type\":\"histogram2dcontour\"}],\"histogram2d\":[{\"colorbar\":{\"outlinewidth\":0,\"ticks\":\"\"},\"colorscale\":[[0.0,\"#0d0887\"],[0.1111111111111111,\"#46039f\"],[0.2222222222222222,\"#7201a8\"],[0.3333333333333333,\"#9c179e\"],[0.4444444444444444,\"#bd3786\"],[0.5555555555555556,\"#d8576b\"],[0.6666666666666666,\"#ed7953\"],[0.7777777777777778,\"#fb9f3a\"],[0.8888888888888888,\"#fdca26\"],[1.0,\"#f0f921\"]],\"type\":\"histogram2d\"}],\"histogram\":[{\"marker\":{\"pattern\":{\"fillmode\":\"overlay\",\"size\":10,\"solidity\":0.2}},\"type\":\"histogram\"}],\"mesh3d\":[{\"colorbar\":{\"outlinewidth\":0,\"ticks\":\"\"},\"type\":\"mesh3d\"}],\"parcoords\":[{\"line\":{\"colorbar\":{\"outlinewidth\":0,\"ticks\":\"\"}},\"type\":\"parcoords\"}],\"pie\":[{\"automargin\":true,\"type\":\"pie\"}],\"scatter3d\":[{\"line\":{\"colorbar\":{\"outlinewidth\":0,\"ticks\":\"\"}},\"marker\":{\"colorbar\":{\"outlinewidth\":0,\"ticks\":\"\"}},\"type\":\"scatter3d\"}],\"scattercarpet\":[{\"marker\":{\"colorbar\":{\"outlinewidth\":0,\"ticks\":\"\"}},\"type\":\"scattercarpet\"}],\"scattergeo\":[{\"marker\":{\"colorbar\":{\"outlinewidth\":0,\"ticks\":\"\"}},\"type\":\"scattergeo\"}],\"scattergl\":[{\"marker\":{\"colorbar\":{\"outlinewidth\":0,\"ticks\":\"\"}},\"type\":\"scattergl\"}],\"scattermapbox\":[{\"marker\":{\"colorbar\":{\"outlinewidth\":0,\"ticks\":\"\"}},\"type\":\"scattermapbox\"}],\"scatterpolargl\":[{\"marker\":{\"colorbar\":{\"outlinewidth\":0,\"ticks\":\"\"}},\"type\":\"scatterpolargl\"}],\"scatterpolar\":[{\"marker\":{\"colorbar\":{\"outlinewidth\":0,\"ticks\":\"\"}},\"type\":\"scatterpolar\"}],\"scatter\":[{\"marker\":{\"colorbar\":{\"outlinewidth\":0,\"ticks\":\"\"}},\"type\":\"scatter\"}],\"scatterternary\":[{\"marker\":{\"colorbar\":{\"outlinewidth\":0,\"ticks\":\"\"}},\"type\":\"scatterternary\"}],\"surface\":[{\"colorbar\":{\"outlinewidth\":0,\"ticks\":\"\"},\"colorscale\":[[0.0,\"#0d0887\"],[0.1111111111111111,\"#46039f\"],[0.2222222222222222,\"#7201a8\"],[0.3333333333333333,\"#9c179e\"],[0.4444444444444444,\"#bd3786\"],[0.5555555555555556,\"#d8576b\"],[0.6666666666666666,\"#ed7953\"],[0.7777777777777778,\"#fb9f3a\"],[0.8888888888888888,\"#fdca26\"],[1.0,\"#f0f921\"]],\"type\":\"surface\"}],\"table\":[{\"cells\":{\"fill\":{\"color\":\"#EBF0F8\"},\"line\":{\"color\":\"white\"}},\"header\":{\"fill\":{\"color\":\"#C8D4E3\"},\"line\":{\"color\":\"white\"}},\"type\":\"table\"}]},\"layout\":{\"annotationdefaults\":{\"arrowcolor\":\"#2a3f5f\",\"arrowhead\":0,\"arrowwidth\":1},\"autotypenumbers\":\"strict\",\"coloraxis\":{\"colorbar\":{\"outlinewidth\":0,\"ticks\":\"\"}},\"colorscale\":{\"diverging\":[[0,\"#8e0152\"],[0.1,\"#c51b7d\"],[0.2,\"#de77ae\"],[0.3,\"#f1b6da\"],[0.4,\"#fde0ef\"],[0.5,\"#f7f7f7\"],[0.6,\"#e6f5d0\"],[0.7,\"#b8e186\"],[0.8,\"#7fbc41\"],[0.9,\"#4d9221\"],[1,\"#276419\"]],\"sequential\":[[0.0,\"#0d0887\"],[0.1111111111111111,\"#46039f\"],[0.2222222222222222,\"#7201a8\"],[0.3333333333333333,\"#9c179e\"],[0.4444444444444444,\"#bd3786\"],[0.5555555555555556,\"#d8576b\"],[0.6666666666666666,\"#ed7953\"],[0.7777777777777778,\"#fb9f3a\"],[0.8888888888888888,\"#fdca26\"],[1.0,\"#f0f921\"]],\"sequentialminus\":[[0.0,\"#0d0887\"],[0.1111111111111111,\"#46039f\"],[0.2222222222222222,\"#7201a8\"],[0.3333333333333333,\"#9c179e\"],[0.4444444444444444,\"#bd3786\"],[0.5555555555555556,\"#d8576b\"],[0.6666666666666666,\"#ed7953\"],[0.7777777777777778,\"#fb9f3a\"],[0.8888888888888888,\"#fdca26\"],[1.0,\"#f0f921\"]]},\"colorway\":[\"#636efa\",\"#EF553B\",\"#00cc96\",\"#ab63fa\",\"#FFA15A\",\"#19d3f3\",\"#FF6692\",\"#B6E880\",\"#FF97FF\",\"#FECB52\"],\"font\":{\"color\":\"#2a3f5f\"},\"geo\":{\"bgcolor\":\"white\",\"lakecolor\":\"white\",\"landcolor\":\"#E5ECF6\",\"showlakes\":true,\"showland\":true,\"subunitcolor\":\"white\"},\"hoverlabel\":{\"align\":\"left\"},\"hovermode\":\"closest\",\"mapbox\":{\"style\":\"light\"},\"paper_bgcolor\":\"white\",\"plot_bgcolor\":\"#E5ECF6\",\"polar\":{\"angularaxis\":{\"gridcolor\":\"white\",\"linecolor\":\"white\",\"ticks\":\"\"},\"bgcolor\":\"#E5ECF6\",\"radialaxis\":{\"gridcolor\":\"white\",\"linecolor\":\"white\",\"ticks\":\"\"}},\"scene\":{\"xaxis\":{\"backgroundcolor\":\"#E5ECF6\",\"gridcolor\":\"white\",\"gridwidth\":2,\"linecolor\":\"white\",\"showbackground\":true,\"ticks\":\"\",\"zerolinecolor\":\"white\"},\"yaxis\":{\"backgroundcolor\":\"#E5ECF6\",\"gridcolor\":\"white\",\"gridwidth\":2,\"linecolor\":\"white\",\"showbackground\":true,\"ticks\":\"\",\"zerolinecolor\":\"white\"},\"zaxis\":{\"backgroundcolor\":\"#E5ECF6\",\"gridcolor\":\"white\",\"gridwidth\":2,\"linecolor\":\"white\",\"showbackground\":true,\"ticks\":\"\",\"zerolinecolor\":\"white\"}},\"shapedefaults\":{\"line\":{\"color\":\"#2a3f5f\"}},\"ternary\":{\"aaxis\":{\"gridcolor\":\"white\",\"linecolor\":\"white\",\"ticks\":\"\"},\"baxis\":{\"gridcolor\":\"white\",\"linecolor\":\"white\",\"ticks\":\"\"},\"bgcolor\":\"#E5ECF6\",\"caxis\":{\"gridcolor\":\"white\",\"linecolor\":\"white\",\"ticks\":\"\"}},\"title\":{\"x\":0.05},\"xaxis\":{\"automargin\":true,\"gridcolor\":\"white\",\"linecolor\":\"white\",\"ticks\":\"\",\"title\":{\"standoff\":15},\"zerolinecolor\":\"white\",\"zerolinewidth\":2},\"yaxis\":{\"automargin\":true,\"gridcolor\":\"white\",\"linecolor\":\"white\",\"ticks\":\"\",\"title\":{\"standoff\":15},\"zerolinecolor\":\"white\",\"zerolinewidth\":2}}},\"title\":{\"font\":{\"color\":\"#4D5663\"}},\"xaxis\":{\"anchor\":\"y\",\"domain\":[0.0,0.2125],\"gridcolor\":\"#E1E5ED\",\"showgrid\":false,\"tickfont\":{\"color\":\"#4D5663\"},\"title\":{\"font\":{\"color\":\"#4D5663\"},\"text\":\"\"},\"zerolinecolor\":\"#E1E5ED\"},\"yaxis\":{\"anchor\":\"x\",\"domain\":[0.8025,1.0],\"gridcolor\":\"#E1E5ED\",\"showgrid\":false,\"tickfont\":{\"color\":\"#4D5663\"},\"title\":{\"font\":{\"color\":\"#4D5663\"},\"text\":\"\"},\"zerolinecolor\":\"#E1E5ED\"},\"xaxis2\":{\"anchor\":\"y2\",\"domain\":[0.2625,0.475],\"gridcolor\":\"#E1E5ED\",\"showgrid\":false,\"tickfont\":{\"color\":\"#4D5663\"},\"title\":{\"font\":{\"color\":\"#4D5663\"},\"text\":\"\"},\"zerolinecolor\":\"#E1E5ED\"},\"yaxis2\":{\"anchor\":\"x2\",\"domain\":[0.8025,1.0],\"gridcolor\":\"#E1E5ED\",\"showgrid\":false,\"tickfont\":{\"color\":\"#4D5663\"},\"title\":{\"font\":{\"color\":\"#4D5663\"},\"text\":\"\"},\"zerolinecolor\":\"#E1E5ED\"},\"xaxis3\":{\"anchor\":\"y3\",\"domain\":[0.525,0.7375],\"gridcolor\":\"#E1E5ED\",\"showgrid\":false,\"tickfont\":{\"color\":\"#4D5663\"},\"title\":{\"font\":{\"color\":\"#4D5663\"},\"text\":\"\"},\"zerolinecolor\":\"#E1E5ED\"},\"yaxis3\":{\"anchor\":\"x3\",\"domain\":[0.8025,1.0],\"gridcolor\":\"#E1E5ED\",\"showgrid\":false,\"tickfont\":{\"color\":\"#4D5663\"},\"title\":{\"font\":{\"color\":\"#4D5663\"},\"text\":\"\"},\"zerolinecolor\":\"#E1E5ED\"},\"xaxis4\":{\"anchor\":\"y4\",\"domain\":[0.7875,1.0],\"gridcolor\":\"#E1E5ED\",\"showgrid\":false,\"tickfont\":{\"color\":\"#4D5663\"},\"title\":{\"font\":{\"color\":\"#4D5663\"},\"text\":\"\"},\"zerolinecolor\":\"#E1E5ED\"},\"yaxis4\":{\"anchor\":\"x4\",\"domain\":[0.8025,1.0],\"gridcolor\":\"#E1E5ED\",\"showgrid\":false,\"tickfont\":{\"color\":\"#4D5663\"},\"title\":{\"font\":{\"color\":\"#4D5663\"},\"text\":\"\"},\"zerolinecolor\":\"#E1E5ED\"},\"xaxis5\":{\"anchor\":\"y5\",\"domain\":[0.0,0.2125],\"gridcolor\":\"#E1E5ED\",\"showgrid\":false,\"tickfont\":{\"color\":\"#4D5663\"},\"title\":{\"font\":{\"color\":\"#4D5663\"},\"text\":\"\"},\"zerolinecolor\":\"#E1E5ED\"},\"yaxis5\":{\"anchor\":\"x5\",\"domain\":[0.535,0.7325],\"gridcolor\":\"#E1E5ED\",\"showgrid\":false,\"tickfont\":{\"color\":\"#4D5663\"},\"title\":{\"font\":{\"color\":\"#4D5663\"},\"text\":\"\"},\"zerolinecolor\":\"#E1E5ED\"},\"xaxis6\":{\"anchor\":\"y6\",\"domain\":[0.2625,0.475],\"gridcolor\":\"#E1E5ED\",\"showgrid\":false,\"tickfont\":{\"color\":\"#4D5663\"},\"title\":{\"font\":{\"color\":\"#4D5663\"},\"text\":\"\"},\"zerolinecolor\":\"#E1E5ED\"},\"yaxis6\":{\"anchor\":\"x6\",\"domain\":[0.535,0.7325],\"gridcolor\":\"#E1E5ED\",\"showgrid\":false,\"tickfont\":{\"color\":\"#4D5663\"},\"title\":{\"font\":{\"color\":\"#4D5663\"},\"text\":\"\"},\"zerolinecolor\":\"#E1E5ED\"},\"xaxis7\":{\"anchor\":\"y7\",\"domain\":[0.525,0.7375],\"gridcolor\":\"#E1E5ED\",\"showgrid\":false,\"tickfont\":{\"color\":\"#4D5663\"},\"title\":{\"font\":{\"color\":\"#4D5663\"},\"text\":\"\"},\"zerolinecolor\":\"#E1E5ED\"},\"yaxis7\":{\"anchor\":\"x7\",\"domain\":[0.535,0.7325],\"gridcolor\":\"#E1E5ED\",\"showgrid\":false,\"tickfont\":{\"color\":\"#4D5663\"},\"title\":{\"font\":{\"color\":\"#4D5663\"},\"text\":\"\"},\"zerolinecolor\":\"#E1E5ED\"},\"xaxis8\":{\"anchor\":\"y8\",\"domain\":[0.7875,1.0],\"gridcolor\":\"#E1E5ED\",\"showgrid\":false,\"tickfont\":{\"color\":\"#4D5663\"},\"title\":{\"font\":{\"color\":\"#4D5663\"},\"text\":\"\"},\"zerolinecolor\":\"#E1E5ED\"},\"yaxis8\":{\"anchor\":\"x8\",\"domain\":[0.535,0.7325],\"gridcolor\":\"#E1E5ED\",\"showgrid\":false,\"tickfont\":{\"color\":\"#4D5663\"},\"title\":{\"font\":{\"color\":\"#4D5663\"},\"text\":\"\"},\"zerolinecolor\":\"#E1E5ED\"},\"xaxis9\":{\"anchor\":\"y9\",\"domain\":[0.0,0.2125],\"gridcolor\":\"#E1E5ED\",\"showgrid\":false,\"tickfont\":{\"color\":\"#4D5663\"},\"title\":{\"font\":{\"color\":\"#4D5663\"},\"text\":\"\"},\"zerolinecolor\":\"#E1E5ED\"},\"yaxis9\":{\"anchor\":\"x9\",\"domain\":[0.2675,0.465],\"gridcolor\":\"#E1E5ED\",\"showgrid\":false,\"tickfont\":{\"color\":\"#4D5663\"},\"title\":{\"font\":{\"color\":\"#4D5663\"},\"text\":\"\"},\"zerolinecolor\":\"#E1E5ED\"},\"xaxis10\":{\"anchor\":\"y10\",\"domain\":[0.2625,0.475],\"gridcolor\":\"#E1E5ED\",\"showgrid\":false,\"tickfont\":{\"color\":\"#4D5663\"},\"title\":{\"font\":{\"color\":\"#4D5663\"},\"text\":\"\"},\"zerolinecolor\":\"#E1E5ED\"},\"yaxis10\":{\"anchor\":\"x10\",\"domain\":[0.2675,0.465],\"gridcolor\":\"#E1E5ED\",\"showgrid\":false,\"tickfont\":{\"color\":\"#4D5663\"},\"title\":{\"font\":{\"color\":\"#4D5663\"},\"text\":\"\"},\"zerolinecolor\":\"#E1E5ED\"},\"xaxis11\":{\"anchor\":\"y11\",\"domain\":[0.525,0.7375],\"gridcolor\":\"#E1E5ED\",\"showgrid\":false,\"tickfont\":{\"color\":\"#4D5663\"},\"title\":{\"font\":{\"color\":\"#4D5663\"},\"text\":\"\"},\"zerolinecolor\":\"#E1E5ED\"},\"yaxis11\":{\"anchor\":\"x11\",\"domain\":[0.2675,0.465],\"gridcolor\":\"#E1E5ED\",\"showgrid\":false,\"tickfont\":{\"color\":\"#4D5663\"},\"title\":{\"font\":{\"color\":\"#4D5663\"},\"text\":\"\"},\"zerolinecolor\":\"#E1E5ED\"},\"xaxis12\":{\"anchor\":\"y12\",\"domain\":[0.7875,1.0],\"gridcolor\":\"#E1E5ED\",\"showgrid\":false,\"tickfont\":{\"color\":\"#4D5663\"},\"title\":{\"font\":{\"color\":\"#4D5663\"},\"text\":\"\"},\"zerolinecolor\":\"#E1E5ED\"},\"yaxis12\":{\"anchor\":\"x12\",\"domain\":[0.2675,0.465],\"gridcolor\":\"#E1E5ED\",\"showgrid\":false,\"tickfont\":{\"color\":\"#4D5663\"},\"title\":{\"font\":{\"color\":\"#4D5663\"},\"text\":\"\"},\"zerolinecolor\":\"#E1E5ED\"},\"xaxis13\":{\"anchor\":\"y13\",\"domain\":[0.0,0.2125],\"gridcolor\":\"#E1E5ED\",\"showgrid\":false,\"tickfont\":{\"color\":\"#4D5663\"},\"title\":{\"font\":{\"color\":\"#4D5663\"},\"text\":\"\"},\"zerolinecolor\":\"#E1E5ED\"},\"yaxis13\":{\"anchor\":\"x13\",\"domain\":[0.0,0.1975],\"gridcolor\":\"#E1E5ED\",\"showgrid\":false,\"tickfont\":{\"color\":\"#4D5663\"},\"title\":{\"font\":{\"color\":\"#4D5663\"},\"text\":\"\"},\"zerolinecolor\":\"#E1E5ED\"},\"xaxis14\":{\"anchor\":\"y14\",\"domain\":[0.2625,0.475],\"gridcolor\":\"#E1E5ED\",\"showgrid\":false,\"tickfont\":{\"color\":\"#4D5663\"},\"title\":{\"font\":{\"color\":\"#4D5663\"},\"text\":\"\"},\"zerolinecolor\":\"#E1E5ED\"},\"yaxis14\":{\"anchor\":\"x14\",\"domain\":[0.0,0.1975],\"gridcolor\":\"#E1E5ED\",\"showgrid\":false,\"tickfont\":{\"color\":\"#4D5663\"},\"title\":{\"font\":{\"color\":\"#4D5663\"},\"text\":\"\"},\"zerolinecolor\":\"#E1E5ED\"},\"xaxis15\":{\"anchor\":\"y15\",\"domain\":[0.525,0.7375],\"gridcolor\":\"#E1E5ED\",\"showgrid\":false,\"tickfont\":{\"color\":\"#4D5663\"},\"title\":{\"font\":{\"color\":\"#4D5663\"},\"text\":\"\"},\"zerolinecolor\":\"#E1E5ED\"},\"yaxis15\":{\"anchor\":\"x15\",\"domain\":[0.0,0.1975],\"gridcolor\":\"#E1E5ED\",\"showgrid\":false,\"tickfont\":{\"color\":\"#4D5663\"},\"title\":{\"font\":{\"color\":\"#4D5663\"},\"text\":\"\"},\"zerolinecolor\":\"#E1E5ED\"},\"xaxis16\":{\"anchor\":\"y16\",\"domain\":[0.7875,1.0],\"gridcolor\":\"#E1E5ED\",\"showgrid\":false,\"tickfont\":{\"color\":\"#4D5663\"},\"title\":{\"font\":{\"color\":\"#4D5663\"},\"text\":\"\"},\"zerolinecolor\":\"#E1E5ED\"},\"yaxis16\":{\"anchor\":\"x16\",\"domain\":[0.0,0.1975],\"gridcolor\":\"#E1E5ED\",\"showgrid\":false,\"tickfont\":{\"color\":\"#4D5663\"},\"title\":{\"font\":{\"color\":\"#4D5663\"},\"text\":\"\"},\"zerolinecolor\":\"#E1E5ED\"}},                        {\"showLink\": true, \"linkText\": \"Export to plot.ly\", \"plotlyServerURL\": \"https://plot.ly\", \"responsive\": true}                    ).then(function(){\n",
       "                            \n",
       "var gd = document.getElementById('268cc314-dbab-4e3a-bd2a-a78de42191d7');\n",
       "var x = new MutationObserver(function (mutations, observer) {{\n",
       "        var display = window.getComputedStyle(gd).display;\n",
       "        if (!display || display === 'none') {{\n",
       "            console.log([gd, 'removed!']);\n",
       "            Plotly.purge(gd);\n",
       "            observer.disconnect();\n",
       "        }}\n",
       "}});\n",
       "\n",
       "// Listen for the removal of the full notebook cells\n",
       "var notebookContainer = gd.closest('#notebook-container');\n",
       "if (notebookContainer) {{\n",
       "    x.observe(notebookContainer, {childList: true});\n",
       "}}\n",
       "\n",
       "// Listen for the clearing of the current output cell\n",
       "var outputEl = gd.closest('.output');\n",
       "if (outputEl) {{\n",
       "    x.observe(outputEl, {childList: true});\n",
       "}}\n",
       "\n",
       "                        })                };                });            </script>        </div>"
      ]
     },
     "metadata": {},
     "output_type": "display_data"
    }
   ],
   "source": [
    "df.scatter_matrix()"
   ]
  },
  {
   "cell_type": "markdown",
   "metadata": {
    "collapsed": true
   },
   "source": [
    "# Great Job!"
   ]
  }
 ],
 "metadata": {
  "kernelspec": {
   "display_name": "Python 3",
   "language": "python",
   "name": "python3"
  },
  "language_info": {
   "codemirror_mode": {
    "name": "ipython",
    "version": 3
   },
   "file_extension": ".py",
   "mimetype": "text/x-python",
   "name": "python",
   "nbconvert_exporter": "python",
   "pygments_lexer": "ipython3",
   "version": "3.8.8"
  }
 },
 "nbformat": 4,
 "nbformat_minor": 1
}
