{
 "cells": [
  {
   "cell_type": "code",
   "execution_count": 1,
   "id": "b6bcfe67",
   "metadata": {},
   "outputs": [],
   "source": [
    "x = 'a string'"
   ]
  },
  {
   "cell_type": "code",
   "execution_count": 2,
   "id": "f94dd85e",
   "metadata": {},
   "outputs": [
    {
     "name": "stdout",
     "output_type": "stream",
     "text": [
      "a string\n"
     ]
    }
   ],
   "source": [
    "print(x)"
   ]
  },
  {
   "cell_type": "code",
   "execution_count": 3,
   "id": "2aba3688",
   "metadata": {},
   "outputs": [
    {
     "data": {
      "text/plain": [
       "'a string'"
      ]
     },
     "execution_count": 3,
     "metadata": {},
     "output_type": "execute_result"
    }
   ],
   "source": [
    "x"
   ]
  },
  {
   "cell_type": "code",
   "execution_count": 2,
   "id": "3afb2941",
   "metadata": {},
   "outputs": [
    {
     "name": "stdout",
     "output_type": "stream",
     "text": [
      "This is number 1 and name is Sukumar. Again putting the number 1\n"
     ]
    }
   ],
   "source": [
    "a = 1\n",
    "b = 'Sukumar'\n",
    "print('This is number {one} and name is {name}. Again putting the number {one}'.format(one=a,name=b))"
   ]
  },
  {
   "cell_type": "code",
   "execution_count": 3,
   "id": "62586dea",
   "metadata": {},
   "outputs": [],
   "source": [
    "nest = [1,3,5,[4,6,['target']]]"
   ]
  },
  {
   "cell_type": "code",
   "execution_count": 6,
   "id": "2cddb0b5",
   "metadata": {},
   "outputs": [
    {
     "name": "stdout",
     "output_type": "stream",
     "text": [
      "target\n"
     ]
    }
   ],
   "source": [
    "print(nest[3][2][0])"
   ]
  },
  {
   "cell_type": "code",
   "execution_count": 2,
   "id": "4ad8cbdb",
   "metadata": {},
   "outputs": [],
   "source": [
    "a = [1,2,3,5]"
   ]
  },
  {
   "cell_type": "code",
   "execution_count": 4,
   "id": "783c5d5f",
   "metadata": {},
   "outputs": [
    {
     "name": "stdout",
     "output_type": "stream",
     "text": [
      "[1, 4, 9, 25]\n"
     ]
    }
   ],
   "source": [
    "b = [] ##Declaring an empty list\n",
    "for item in a:\n",
    "    b.append(item**2)\n",
    "print(b)"
   ]
  },
  {
   "cell_type": "code",
   "execution_count": 5,
   "id": "7fa0bcd8",
   "metadata": {},
   "outputs": [
    {
     "name": "stdout",
     "output_type": "stream",
     "text": [
      "[1, 4, 9, 25]\n"
     ]
    }
   ],
   "source": [
    "#Using the same operation as above using list comprehension method\n",
    "c = [item**2 for item in a]\n",
    "print(c)"
   ]
  },
  {
   "cell_type": "code",
   "execution_count": 6,
   "id": "60985d81",
   "metadata": {},
   "outputs": [],
   "source": [
    "seq = [1,2,3,4,5]"
   ]
  },
  {
   "cell_type": "code",
   "execution_count": 7,
   "id": "2883c0e2",
   "metadata": {},
   "outputs": [],
   "source": [
    "def times2(var):\n",
    "    return var*2"
   ]
  },
  {
   "cell_type": "code",
   "execution_count": 8,
   "id": "c5879868",
   "metadata": {},
   "outputs": [
    {
     "data": {
      "text/plain": [
       "6"
      ]
     },
     "execution_count": 8,
     "metadata": {},
     "output_type": "execute_result"
    }
   ],
   "source": [
    "times2(3)"
   ]
  },
  {
   "cell_type": "code",
   "execution_count": 9,
   "id": "ab694eee",
   "metadata": {},
   "outputs": [
    {
     "data": {
      "text/plain": [
       "[2, 4, 6, 8, 10]"
      ]
     },
     "execution_count": 9,
     "metadata": {},
     "output_type": "execute_result"
    }
   ],
   "source": [
    "list(map(times2,seq))"
   ]
  },
  {
   "cell_type": "code",
   "execution_count": 10,
   "id": "270d8ad5",
   "metadata": {},
   "outputs": [
    {
     "data": {
      "text/plain": [
       "[2, 4, 6, 8, 10]"
      ]
     },
     "execution_count": 10,
     "metadata": {},
     "output_type": "execute_result"
    }
   ],
   "source": [
    "#Using lambda function to achieve same objective as earlier\n",
    "list(map(lambda var : var*2, seq))"
   ]
  },
  {
   "cell_type": "code",
   "execution_count": 11,
   "id": "ab63429b",
   "metadata": {},
   "outputs": [
    {
     "data": {
      "text/plain": [
       "[2, 4]"
      ]
     },
     "execution_count": 11,
     "metadata": {},
     "output_type": "execute_result"
    }
   ],
   "source": [
    "#Filter function\n",
    "list(filter(lambda num : num%2 == 0, seq))"
   ]
  },
  {
   "cell_type": "code",
   "execution_count": 12,
   "id": "c70de5ea",
   "metadata": {},
   "outputs": [],
   "source": [
    "#Methods\n",
    "string = 'My name is Sukumar'"
   ]
  },
  {
   "cell_type": "code",
   "execution_count": 13,
   "id": "b6a14f8f",
   "metadata": {},
   "outputs": [
    {
     "name": "stdout",
     "output_type": "stream",
     "text": [
      "MY NAME IS SUKUMAR\n"
     ]
    }
   ],
   "source": [
    "print(string.upper())"
   ]
  },
  {
   "cell_type": "code",
   "execution_count": 14,
   "id": "b9802add",
   "metadata": {},
   "outputs": [
    {
     "data": {
      "text/plain": [
       "'my name is sukumar'"
      ]
     },
     "execution_count": 14,
     "metadata": {},
     "output_type": "execute_result"
    }
   ],
   "source": [
    "string.lower()"
   ]
  },
  {
   "cell_type": "code",
   "execution_count": 17,
   "id": "285652e9",
   "metadata": {},
   "outputs": [
    {
     "data": {
      "text/plain": [
       "True"
      ]
     },
     "execution_count": 17,
     "metadata": {},
     "output_type": "execute_result"
    }
   ],
   "source": [
    "string.startswith('M')"
   ]
  },
  {
   "cell_type": "code",
   "execution_count": 18,
   "id": "38f0f5b7",
   "metadata": {},
   "outputs": [
    {
     "data": {
      "text/plain": [
       "3"
      ]
     },
     "execution_count": 18,
     "metadata": {},
     "output_type": "execute_result"
    }
   ],
   "source": [
    "list = [1,2,3]\n",
    "list.pop()"
   ]
  },
  {
   "cell_type": "code",
   "execution_count": 19,
   "id": "f7435a7b",
   "metadata": {},
   "outputs": [
    {
     "name": "stdout",
     "output_type": "stream",
     "text": [
      "[1, 2]\n"
     ]
    }
   ],
   "source": [
    "print(list)"
   ]
  },
  {
   "cell_type": "code",
   "execution_count": 21,
   "id": "66132fe8",
   "metadata": {},
   "outputs": [
    {
     "name": "stdout",
     "output_type": "stream",
     "text": [
      "{'key1': 'a', 'key2': 'b'}\n"
     ]
    }
   ],
   "source": [
    "my_dict = {'key1':'a', 'key2':'b'}\n",
    "print(my_dict)"
   ]
  },
  {
   "cell_type": "code",
   "execution_count": 22,
   "id": "0ee86e45",
   "metadata": {},
   "outputs": [
    {
     "name": "stdout",
     "output_type": "stream",
     "text": [
      "dict_items([('key1', 'a'), ('key2', 'b')])\n",
      "dict_values(['a', 'b'])\n"
     ]
    }
   ],
   "source": [
    "print(my_dict.items())\n",
    "print(my_dict.values())"
   ]
  },
  {
   "cell_type": "code",
   "execution_count": 24,
   "id": "6d6ed30d",
   "metadata": {},
   "outputs": [
    {
     "name": "stdout",
     "output_type": "stream",
     "text": [
      "1\n",
      "3\n",
      "5\n"
     ]
    }
   ],
   "source": [
    "#Tuple unpacking\n",
    "x = [(1,2), (3,4), (5,6)]\n",
    "for (a,b) in x:\n",
    "    print(a)\n",
    "#    print(b)"
   ]
  }
 ],
 "metadata": {
  "kernelspec": {
   "display_name": "Python 3",
   "language": "python",
   "name": "python3"
  },
  "language_info": {
   "codemirror_mode": {
    "name": "ipython",
    "version": 3
   },
   "file_extension": ".py",
   "mimetype": "text/x-python",
   "name": "python",
   "nbconvert_exporter": "python",
   "pygments_lexer": "ipython3",
   "version": "3.8.8"
  }
 },
 "nbformat": 4,
 "nbformat_minor": 5
}
